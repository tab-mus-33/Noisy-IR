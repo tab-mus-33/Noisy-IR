{
  "nbformat": 4,
  "nbformat_minor": 0,
  "metadata": {
    "colab": {
      "provenance": [],
      "collapsed_sections": []
    },
    "kernelspec": {
      "name": "python3",
      "display_name": "Python 3"
    },
    "language_info": {
      "name": "python"
    }
  },
  "cells": [
    {
      "cell_type": "code",
      "source": [
        "pip install python-terrier\n"
      ],
      "metadata": {
        "colab": {
          "base_uri": "https://localhost:8080/"
        },
        "id": "yFDdq8w88UMw",
        "outputId": "f31a98f4-b64b-4e20-ffba-756b5d21499f"
      },
      "execution_count": null,
      "outputs": [
        {
          "output_type": "stream",
          "name": "stdout",
          "text": [
            "Looking in indexes: https://pypi.org/simple, https://us-python.pkg.dev/colab-wheels/public/simple/\n",
            "Collecting python-terrier\n",
            "  Downloading python-terrier-0.8.1.tar.gz (97 kB)\n",
            "\u001b[K     |████████████████████████████████| 97 kB 2.8 MB/s \n",
            "\u001b[?25hRequirement already satisfied: numpy in /usr/local/lib/python3.7/dist-packages (from python-terrier) (1.21.6)\n",
            "Requirement already satisfied: pandas in /usr/local/lib/python3.7/dist-packages (from python-terrier) (1.3.5)\n",
            "Collecting wget\n",
            "  Downloading wget-3.2.zip (10 kB)\n",
            "Requirement already satisfied: tqdm in /usr/local/lib/python3.7/dist-packages (from python-terrier) (4.64.1)\n",
            "Collecting pyjnius~=1.3.0\n",
            "  Downloading pyjnius-1.3.0-cp37-cp37m-manylinux2010_x86_64.whl (1.1 MB)\n",
            "\u001b[K     |████████████████████████████████| 1.1 MB 22.7 MB/s \n",
            "\u001b[?25hCollecting matchpy\n",
            "  Downloading matchpy-0.5.5-py3-none-any.whl (69 kB)\n",
            "\u001b[K     |████████████████████████████████| 69 kB 8.2 MB/s \n",
            "\u001b[?25hCollecting sklearn\n",
            "  Downloading sklearn-0.0.tar.gz (1.1 kB)\n",
            "Collecting deprecation\n",
            "  Downloading deprecation-2.1.0-py2.py3-none-any.whl (11 kB)\n",
            "Collecting chest\n",
            "  Downloading chest-0.2.3.tar.gz (9.6 kB)\n",
            "Requirement already satisfied: scipy in /usr/local/lib/python3.7/dist-packages (from python-terrier) (1.7.3)\n",
            "Requirement already satisfied: requests in /usr/local/lib/python3.7/dist-packages (from python-terrier) (2.23.0)\n",
            "Requirement already satisfied: joblib in /usr/local/lib/python3.7/dist-packages (from python-terrier) (1.1.0)\n",
            "Collecting nptyping==1.4.4\n",
            "  Downloading nptyping-1.4.4-py3-none-any.whl (31 kB)\n",
            "Requirement already satisfied: more_itertools in /usr/local/lib/python3.7/dist-packages (from python-terrier) (8.14.0)\n",
            "Collecting ir_datasets>=0.3.2\n",
            "  Downloading ir_datasets-0.5.3-py3-none-any.whl (303 kB)\n",
            "\u001b[K     |████████████████████████████████| 303 kB 36.5 MB/s \n",
            "\u001b[?25hRequirement already satisfied: jinja2 in /usr/local/lib/python3.7/dist-packages (from python-terrier) (2.11.3)\n",
            "Requirement already satisfied: statsmodels in /usr/local/lib/python3.7/dist-packages (from python-terrier) (0.12.2)\n",
            "Collecting ir_measures>=0.2.0\n",
            "  Downloading ir_measures-0.3.1.tar.gz (46 kB)\n",
            "\u001b[K     |████████████████████████████████| 46 kB 3.9 MB/s \n",
            "\u001b[?25hRequirement already satisfied: dill in /usr/local/lib/python3.7/dist-packages (from python-terrier) (0.3.5.1)\n",
            "Collecting typish>=1.7.0\n",
            "  Downloading typish-1.9.3-py3-none-any.whl (45 kB)\n",
            "\u001b[K     |████████████████████████████████| 45 kB 2.1 MB/s \n",
            "\u001b[?25hCollecting ijson>=3.1.3\n",
            "  Downloading ijson-3.1.4-cp37-cp37m-manylinux2010_x86_64.whl (126 kB)\n",
            "\u001b[K     |████████████████████████████████| 126 kB 41.9 MB/s \n",
            "\u001b[?25hCollecting lz4>=3.1.1\n",
            "  Downloading lz4-4.0.2-cp37-cp37m-manylinux_2_17_x86_64.manylinux2014_x86_64.whl (1.2 MB)\n",
            "\u001b[K     |████████████████████████████████| 1.2 MB 43.8 MB/s \n",
            "\u001b[?25hRequirement already satisfied: pyyaml>=5.3.1 in /usr/local/lib/python3.7/dist-packages (from ir_datasets>=0.3.2->python-terrier) (6.0)\n",
            "Requirement already satisfied: beautifulsoup4>=4.4.1 in /usr/local/lib/python3.7/dist-packages (from ir_datasets>=0.3.2->python-terrier) (4.6.3)\n",
            "Collecting trec-car-tools>=2.5.4\n",
            "  Downloading trec_car_tools-2.6-py3-none-any.whl (8.4 kB)\n",
            "Collecting unlzw3>=0.2.1\n",
            "  Downloading unlzw3-0.2.1.tar.gz (5.8 kB)\n",
            "  Installing build dependencies ... \u001b[?25l\u001b[?25hdone\n",
            "  Getting requirements to build wheel ... \u001b[?25l\u001b[?25hdone\n",
            "    Preparing wheel metadata ... \u001b[?25l\u001b[?25hdone\n",
            "Collecting zlib-state>=0.1.3\n",
            "  Downloading zlib_state-0.1.5-cp37-cp37m-manylinux2010_x86_64.whl (72 kB)\n",
            "\u001b[K     |████████████████████████████████| 72 kB 1.6 MB/s \n",
            "\u001b[?25hCollecting warc3-wet>=0.2.3\n",
            "  Downloading warc3_wet-0.2.3-py3-none-any.whl (13 kB)\n",
            "Collecting pyautocorpus>=0.1.1\n",
            "  Downloading pyautocorpus-0.1.8-cp37-cp37m-manylinux_2_12_x86_64.manylinux2010_x86_64.whl (294 kB)\n",
            "\u001b[K     |████████████████████████████████| 294 kB 47.3 MB/s \n",
            "\u001b[?25hCollecting warc3-wet-clueweb09>=0.2.5\n",
            "  Downloading warc3-wet-clueweb09-0.2.5.tar.gz (17 kB)\n",
            "Requirement already satisfied: lxml>=4.5.2 in /usr/local/lib/python3.7/dist-packages (from ir_datasets>=0.3.2->python-terrier) (4.9.1)\n",
            "Collecting pytrec-eval-terrier>=0.5.2\n",
            "  Downloading pytrec_eval_terrier-0.5.4-cp37-cp37m-manylinux_2_17_x86_64.manylinux2014_x86_64.whl (285 kB)\n",
            "\u001b[K     |████████████████████████████████| 285 kB 53.9 MB/s \n",
            "\u001b[?25hCollecting cwl-eval>=1.0.10\n",
            "  Downloading cwl-eval-1.0.10.tar.gz (31 kB)\n",
            "Requirement already satisfied: cython in /usr/local/lib/python3.7/dist-packages (from pyjnius~=1.3.0->python-terrier) (0.29.32)\n",
            "Requirement already satisfied: six>=1.7.0 in /usr/local/lib/python3.7/dist-packages (from pyjnius~=1.3.0->python-terrier) (1.15.0)\n",
            "Requirement already satisfied: certifi>=2017.4.17 in /usr/local/lib/python3.7/dist-packages (from requests->python-terrier) (2022.6.15)\n",
            "Requirement already satisfied: idna<3,>=2.5 in /usr/local/lib/python3.7/dist-packages (from requests->python-terrier) (2.10)\n",
            "Requirement already satisfied: urllib3!=1.25.0,!=1.25.1,<1.26,>=1.21.1 in /usr/local/lib/python3.7/dist-packages (from requests->python-terrier) (1.24.3)\n",
            "Requirement already satisfied: chardet<4,>=3.0.2 in /usr/local/lib/python3.7/dist-packages (from requests->python-terrier) (3.0.4)\n",
            "Collecting cbor>=1.0.0\n",
            "  Downloading cbor-1.0.0.tar.gz (20 kB)\n",
            "Requirement already satisfied: heapdict in /usr/local/lib/python3.7/dist-packages (from chest->python-terrier) (1.0.1)\n",
            "Requirement already satisfied: packaging in /usr/local/lib/python3.7/dist-packages (from deprecation->python-terrier) (21.3)\n",
            "Requirement already satisfied: MarkupSafe>=0.23 in /usr/local/lib/python3.7/dist-packages (from jinja2->python-terrier) (2.0.1)\n",
            "Collecting multiset<3.0,>=2.0\n",
            "  Downloading multiset-2.1.1-py2.py3-none-any.whl (8.8 kB)\n",
            "Requirement already satisfied: pyparsing!=3.0.5,>=2.0.2 in /usr/local/lib/python3.7/dist-packages (from packaging->deprecation->python-terrier) (3.0.9)\n",
            "Requirement already satisfied: pytz>=2017.3 in /usr/local/lib/python3.7/dist-packages (from pandas->python-terrier) (2022.2.1)\n",
            "Requirement already satisfied: python-dateutil>=2.7.3 in /usr/local/lib/python3.7/dist-packages (from pandas->python-terrier) (2.8.2)\n",
            "Requirement already satisfied: scikit-learn in /usr/local/lib/python3.7/dist-packages (from sklearn->python-terrier) (1.0.2)\n",
            "Requirement already satisfied: threadpoolctl>=2.0.0 in /usr/local/lib/python3.7/dist-packages (from scikit-learn->sklearn->python-terrier) (3.1.0)\n",
            "Requirement already satisfied: patsy>=0.5 in /usr/local/lib/python3.7/dist-packages (from statsmodels->python-terrier) (0.5.2)\n",
            "Building wheels for collected packages: python-terrier, ir-measures, cwl-eval, cbor, unlzw3, warc3-wet-clueweb09, chest, sklearn, wget\n",
            "  Building wheel for python-terrier (setup.py) ... \u001b[?25l\u001b[?25hdone\n",
            "  Created wheel for python-terrier: filename=python_terrier-0.8.1-py3-none-any.whl size=104091 sha256=00e91599023a9243a49944af5830bf13fdd31015c57dbdee06e5ff74d9d574fd\n",
            "  Stored in directory: /root/.cache/pip/wheels/09/e5/f5/2f28a11314bac89a683eb2a12aed802a7da27e4318ffbff4a8\n",
            "  Building wheel for ir-measures (setup.py) ... \u001b[?25l\u001b[?25hdone\n",
            "  Created wheel for ir-measures: filename=ir_measures-0.3.1-py3-none-any.whl size=60193 sha256=1d92058372733968739024055aae35ee7e0fb3febcbf5d62162e01a037438432\n",
            "  Stored in directory: /root/.cache/pip/wheels/17/86/a6/8b9c92080cdc19346721307878315c19430fb4705716a5676a\n",
            "  Building wheel for cwl-eval (setup.py) ... \u001b[?25l\u001b[?25hdone\n",
            "  Created wheel for cwl-eval: filename=cwl_eval-1.0.10-py3-none-any.whl size=37797 sha256=20db78844a9e32a78010a946afe96a1841126b4bed2cb90cf0b5cc9abd3edc56\n",
            "  Stored in directory: /root/.cache/pip/wheels/ff/e9/ff/d2b6d72d9feb0d0b1b11aacfaf5cd866717034615c2d194093\n",
            "  Building wheel for cbor (setup.py) ... \u001b[?25l\u001b[?25hdone\n",
            "  Created wheel for cbor: filename=cbor-1.0.0-cp37-cp37m-linux_x86_64.whl size=51293 sha256=bad9a3038393b19f335eb1ace5031b0d5eec6fd019a8bb74d26f22199f79b720\n",
            "  Stored in directory: /root/.cache/pip/wheels/19/77/49/c9c2c8dc5848502e606e8579d0bbda18b850fb056a6c62239d\n",
            "  Building wheel for unlzw3 (PEP 517) ... \u001b[?25l\u001b[?25hdone\n",
            "  Created wheel for unlzw3: filename=unlzw3-0.2.1-py3-none-any.whl size=6082 sha256=00bd93aa0b439b795348a3a681e9b6811ce71726bbfac97f908bd6e103c14837\n",
            "  Stored in directory: /root/.cache/pip/wheels/e1/3c/d9/e33962c8aad8999dc5560b6e71baafa2335c269f532f5e176a\n",
            "  Building wheel for warc3-wet-clueweb09 (setup.py) ... \u001b[?25l\u001b[?25hdone\n",
            "  Created wheel for warc3-wet-clueweb09: filename=warc3_wet_clueweb09-0.2.5-py3-none-any.whl size=18922 sha256=58bf71036d4bf3cffa6453073edcdec6a4afd0ae25658a16aaa4196ced46d9d0\n",
            "  Stored in directory: /root/.cache/pip/wheels/42/d4/3c/7c2b0c3d400ad744e4db69f2fde166655da2ed2198bfc02db6\n",
            "  Building wheel for chest (setup.py) ... \u001b[?25l\u001b[?25hdone\n",
            "  Created wheel for chest: filename=chest-0.2.3-py3-none-any.whl size=7634 sha256=b4b6b1fcdc5d970bd11dc7e0616ecd5c3fd792c801562aa0d36d348b3fc167a7\n",
            "  Stored in directory: /root/.cache/pip/wheels/fc/f5/b9/c436e11300809e6b40d46a5d2592fb0bff89e0712f2e878dc7\n",
            "  Building wheel for sklearn (setup.py) ... \u001b[?25l\u001b[?25hdone\n",
            "  Created wheel for sklearn: filename=sklearn-0.0-py2.py3-none-any.whl size=1310 sha256=6020620c842ac6b497bbae5628adf0113e4359d3283a9d26714eb25515c1018f\n",
            "  Stored in directory: /root/.cache/pip/wheels/46/ef/c3/157e41f5ee1372d1be90b09f74f82b10e391eaacca8f22d33e\n",
            "  Building wheel for wget (setup.py) ... \u001b[?25l\u001b[?25hdone\n",
            "  Created wheel for wget: filename=wget-3.2-py3-none-any.whl size=9675 sha256=0c43dd95e8c463c8e745f892b53db1bc0601f4db7f8c7510253102a09e5640aa\n",
            "  Stored in directory: /root/.cache/pip/wheels/a1/b6/7c/0e63e34eb06634181c63adacca38b79ff8f35c37e3c13e3c02\n",
            "Successfully built python-terrier ir-measures cwl-eval cbor unlzw3 warc3-wet-clueweb09 chest sklearn wget\n",
            "Installing collected packages: cbor, zlib-state, warc3-wet-clueweb09, warc3-wet, unlzw3, typish, trec-car-tools, pytrec-eval-terrier, pyautocorpus, multiset, lz4, ijson, cwl-eval, wget, sklearn, pyjnius, nptyping, matchpy, ir-measures, ir-datasets, deprecation, chest, python-terrier\n",
            "Successfully installed cbor-1.0.0 chest-0.2.3 cwl-eval-1.0.10 deprecation-2.1.0 ijson-3.1.4 ir-datasets-0.5.3 ir-measures-0.3.1 lz4-4.0.2 matchpy-0.5.5 multiset-2.1.1 nptyping-1.4.4 pyautocorpus-0.1.8 pyjnius-1.3.0 python-terrier-0.8.1 pytrec-eval-terrier-0.5.4 sklearn-0.0 trec-car-tools-2.6 typish-1.9.3 unlzw3-0.2.1 warc3-wet-0.2.3 warc3-wet-clueweb09-0.2.5 wget-3.2 zlib-state-0.1.5\n"
          ]
        }
      ]
    },
    {
      "cell_type": "code",
      "source": [
        "import pyterrier as pt\n",
        "pt.init()\n"
      ],
      "metadata": {
        "colab": {
          "base_uri": "https://localhost:8080/"
        },
        "id": "9a5zSCPJ8XDh",
        "outputId": "6f61ce89-dea5-4d6b-ef0d-39723928d8f7"
      },
      "execution_count": null,
      "outputs": [
        {
          "output_type": "stream",
          "name": "stdout",
          "text": [
            "terrier-assemblies 5.6 jar-with-dependencies not found, downloading to /root/.pyterrier...\n",
            "Done\n",
            "terrier-python-helper 0.0.6 jar not found, downloading to /root/.pyterrier...\n",
            "Done\n"
          ]
        },
        {
          "output_type": "stream",
          "name": "stderr",
          "text": [
            "PyTerrier 0.8.1 has loaded Terrier 5.6 (built by craigmacdonald on 2021-09-17 13:27)\n",
            "\n"
          ]
        }
      ]
    },
    {
      "cell_type": "code",
      "execution_count": null,
      "metadata": {
        "colab": {
          "base_uri": "https://localhost:8080/"
        },
        "id": "q1ZsoNKh02wj",
        "outputId": "4348503b-c029-4b60-94a7-e9613bb8bfd7"
      },
      "outputs": [
        {
          "output_type": "stream",
          "name": "stdout",
          "text": [
            "Mounted at /content/drive\n"
          ]
        }
      ],
      "source": [
        "from google.colab import drive\n",
        "drive.mount('/content/drive')"
      ]
    },
    {
      "cell_type": "code",
      "source": [
        "import numpy as np \n",
        "mod_queries = np.load('/content/drive/MyDrive/IRDM/queries_doc_test3.npy',allow_pickle='TRUE').item()"
      ],
      "metadata": {
        "id": "Q04_dKP26M9U"
      },
      "execution_count": null,
      "outputs": []
    },
    {
      "cell_type": "code",
      "source": [
        "query_master= np.load('/content/drive/MyDrive/IRDM/master_set_docs.npy',allow_pickle='TRUE').item()"
      ],
      "metadata": {
        "id": "drwc9WRZ6y4z"
      },
      "execution_count": null,
      "outputs": []
    },
    {
      "cell_type": "code",
      "source": [],
      "metadata": {
        "id": "PIU9ti1iG0pe"
      },
      "execution_count": null,
      "outputs": []
    },
    {
      "cell_type": "code",
      "source": [
        "def make_experiment_file(dict_input):\n",
        "  output_file={}\n",
        "  for keys in dict_input.keys():\n",
        "    for k in range(len(dict_input[keys])):\n",
        "      if keys not in output_file.keys():\n",
        "        output_file.update({keys:[dict_input[keys][k][0]]})\n",
        "      else:\n",
        "        output_file[keys].append(dict_input[keys][k][0])\n",
        "  return output_file"
      ],
      "metadata": {
        "id": "jLAjmW3m7HBr"
      },
      "execution_count": null,
      "outputs": []
    },
    {
      "cell_type": "code",
      "source": [
        "master_doc_file=make_experiment_file(query_master)"
      ],
      "metadata": {
        "id": "pRMytvaY7K_Z"
      },
      "execution_count": null,
      "outputs": []
    },
    {
      "cell_type": "code",
      "source": [
        "query_master_file=make_experiment_file(mod_queries)"
      ],
      "metadata": {
        "id": "zq3vb9Kl7Sqx"
      },
      "execution_count": null,
      "outputs": []
    },
    {
      "cell_type": "code",
      "source": [
        "def jaccard_similarity_score(document_1,document_2): \n",
        "    document_1=set(document_1)\n",
        "    document_2=set(document_2)\n",
        "    inter=document_1.intersection(document_2)\n",
        "    union = document_1.union(document_2)\n",
        "    return float(len(inter)) / len(union)\n",
        "\n",
        "def calculate_similarity(query_file,doc_file):\n",
        "  calc_score={}\n",
        "  for keys in query_file.keys():\n",
        "    for docs in doc_file.keys():\n",
        "      if keys not in calc_score.keys():\n",
        "        calc_score.update({keys:[[docs,jaccard_similarity_score(query_file[keys],doc_file[docs])]]})\n",
        "      else:\n",
        "        calc_score[keys].append([docs,jaccard_similarity_score(query_file[keys],doc_file[docs])])\n",
        "  return calc_score\n",
        "\n",
        "def get_x(input_file):\n",
        "  send_x={}\n",
        "  for keys in input_file.keys():\n",
        "    for i in range(len(input_file[keys])):\n",
        "      if keys not in send_x.keys():\n",
        "        send_x.update({keys:[input_file[keys][i][1]]})\n",
        "      else:\n",
        "        send_x[keys].append(input_file[keys][i][1])\n",
        "  return send_x\n",
        "\n",
        "def return_relevant(mapping_file,score_file):\n",
        "  just_rel={}\n",
        "  for keys in score_file.keys():\n",
        "    for i in range(len(score_file[keys])):\n",
        "        if score_file[keys][i][0] in mapping_file[keys]:\n",
        "          if keys not in just_rel.keys():\n",
        "            just_rel.update({keys:[score_file[keys][i]]})\n",
        "          else:\n",
        "            just_rel[keys].append(score_file[keys][i])\n",
        "  return just_rel\n",
        "\n",
        "def get_non_relevant_no_rank(mapper,doc):\n",
        "  non_rel={}\n",
        "  for keys in doc.keys():\n",
        "    for i in range(len(doc[keys])):\n",
        "        if doc[keys][i][0] not in mapper[keys]:\n",
        "          if keys not in non_rel.keys():\n",
        "            non_rel.update({keys:[doc[keys][i]]})\n",
        "          else:\n",
        "            non_rel[keys].append(doc[keys][i])\n",
        "  return non_rel"
      ],
      "metadata": {
        "id": "-hw2YVfK7aMS"
      },
      "execution_count": null,
      "outputs": []
    },
    {
      "cell_type": "code",
      "source": [],
      "metadata": {
        "id": "c2YTO4oZ7nNW"
      },
      "execution_count": null,
      "outputs": []
    },
    {
      "cell_type": "code",
      "source": [],
      "metadata": {
        "id": "yxwnw50EJemK"
      },
      "execution_count": null,
      "outputs": []
    },
    {
      "cell_type": "code",
      "source": [
        "total_score=calculate_similarity(query_master_file,master_doc_file)"
      ],
      "metadata": {
        "id": "dUQeMFK_Kyew"
      },
      "execution_count": null,
      "outputs": []
    },
    {
      "cell_type": "code",
      "source": [
        "total_score.keys()"
      ],
      "metadata": {
        "colab": {
          "base_uri": "https://localhost:8080/"
        },
        "id": "5S_usK9lKuE5",
        "outputId": "cd4555bb-72b1-4371-f103-2637f997b285"
      },
      "execution_count": null,
      "outputs": [
        {
          "output_type": "execute_result",
          "data": {
            "text/plain": [
              "dict_keys(['9', '10', '11', '12', '13', '14', '15', '16', '17', '18', '19', '20', '21', '22', '23', '24', '25', '26', '27', '28', '29', '30', '31', '32', '33', '34', '35', '36', '37', '38', '39', '40', '41', '42', '43', '44', '45', '46', '47', '48', '49', '50', '51', '52', '53', '54', '55', '56', '58', '57'])"
            ]
          },
          "metadata": {},
          "execution_count": 38
        }
      ]
    },
    {
      "cell_type": "code",
      "source": [
        "qrels_path=(\"/content/drive/MyDrive/IRDM/podcasts_2020_test.qrels\")\n",
        "qrels = pt.io.read_qrels(qrels_path)\n",
        "qrels[\"qid\"]=qrels[\"qid\"].astype(int)\n",
        "qrels[\"qid_int\"]=qrels[\"qid\"].astype(int)\n",
        "qrels[\"qid\"]=qrels[\"qid\"]-1\n",
        "qrels[\"qid_int\"]=qrels[\"qid\"].astype(int)\n",
        "qrels[\"qid\"]=qrels[\"qid\"].astype(\"str\")\n",
        "qrels['rel_files']=list(qrels[\"docno\"].apply(lambda x: x.split(\":\")[-1].split('.')[0]))\n",
        "query_mapper={}\n",
        "for i in range(qrels[\"qid_int\"].min(),qrels[\"qid_int\"].max()+1):\n",
        "  query_mapper.update({str(i+1):list(qrels[qrels[\"qid\"]==str(i)][\"rel_files\"])})\n"
      ],
      "metadata": {
        "id": "hD6sL4mE7x8u"
      },
      "execution_count": null,
      "outputs": []
    },
    {
      "cell_type": "code",
      "source": [],
      "metadata": {
        "id": "fL59052iDTo3"
      },
      "execution_count": null,
      "outputs": []
    },
    {
      "cell_type": "code",
      "source": [
        "total_non_rel=get_non_relevant_no_rank(query_mapper,total_score)"
      ],
      "metadata": {
        "id": "wT1lrxOf9Gry"
      },
      "execution_count": null,
      "outputs": []
    },
    {
      "cell_type": "code",
      "source": [
        "total_rel = return_relevant(query_mapper,total_score)"
      ],
      "metadata": {
        "id": "nmlU1oB-8118"
      },
      "execution_count": null,
      "outputs": []
    },
    {
      "cell_type": "code",
      "source": [
        "X_rel=get_x(total_rel)"
      ],
      "metadata": {
        "id": "nHXs5cp8_Dat"
      },
      "execution_count": null,
      "outputs": []
    },
    {
      "cell_type": "code",
      "source": [
        "X_non_rel=get_x(total_non_rel)"
      ],
      "metadata": {
        "id": "6w8-T4U8_Ghn"
      },
      "execution_count": null,
      "outputs": []
    },
    {
      "cell_type": "code",
      "source": [],
      "metadata": {
        "id": "-kSzEHndHeRv"
      },
      "execution_count": null,
      "outputs": []
    },
    {
      "cell_type": "code",
      "source": [
        "X_rel['47']=[]\n",
        "X_rel['50']=[]\n"
      ],
      "metadata": {
        "id": "F9mrv0FI_lFI"
      },
      "execution_count": null,
      "outputs": []
    },
    {
      "cell_type": "code",
      "source": [
        "import pandas as pd\n",
        "import seaborn as sns \n",
        "import matplotlib.pyplot as plt \n",
        "\n",
        "def create_plot_master(relevant_doc,non_relevant_doc):\n",
        "  top_num=list(range(9,59))\n",
        "  data_record=pd.DataFrame([])\n",
        "  for t in top_num:\n",
        "    muster = {'Jaccard_Similarity':relevant_doc[str(t)],'Topic' : [str(t)]*len(relevant_doc[str(t)]),'Relevant':['Yes']*len(relevant_doc[str(t)])}\n",
        "    df=pd.DataFrame.from_dict(muster)\n",
        "    data_record=pd.concat([data_record,df])\n",
        "  for t in top_num:\n",
        "    muster = {'Jaccard_Similarity':non_relevant_doc[str(t)],'Topic' : [str(t)]*len(non_relevant_doc[str(t)]),'Relevant':['No']*len(non_relevant_doc[str(t)])}\n",
        "    df=pd.DataFrame.from_dict(muster)\n",
        "    data_record=pd.concat([data_record,df])\n",
        "  return data_record"
      ],
      "metadata": {
        "id": "bAz7U-kK--jk"
      },
      "execution_count": null,
      "outputs": []
    },
    {
      "cell_type": "code",
      "source": [
        "plot_data=create_plot_master(X_rel,X_non_rel)"
      ],
      "metadata": {
        "id": "gnqM8AKZ-uoQ"
      },
      "execution_count": null,
      "outputs": []
    },
    {
      "cell_type": "code",
      "source": [
        "fig, axes = plt.subplots(nrows=1, ncols=1, figsize=(12,12))\n",
        "ax = sns.boxplot(x=\"Topic\", y=\"Jaccard_Similarity\", hue=\"Relevant\",\n",
        "                 data=plot_data, palette=\"Set3\")\n",
        "plt.title('Relevant Vs Non-Relevant (No TopX in non-relevant pool or Cosine Pagerank Ranking) Test',fontsize=20)\n",
        "plt.savefig('/content/drive/MyDrive/IRDM/jaccard_scores_overall_test.png')"
      ],
      "metadata": {
        "colab": {
          "base_uri": "https://localhost:8080/",
          "height": 735
        },
        "id": "AsndO1Et9wVv",
        "outputId": "47659ebb-8267-4ca2-aa02-9a4ea7352b64"
      },
      "execution_count": null,
      "outputs": [
        {
          "output_type": "display_data",
          "data": {
            "text/plain": [
              "<Figure size 864x864 with 1 Axes>"
            ],
            "image/png": "[encoded data removed]"
          },
          "metadata": {
            "needs_background": "light"
          }
        }
      ]
    },
    {
      "cell_type": "code",
      "source": [
        "import scipy\n",
        "def save_table(non_rel,rel,file_loc_name):\n",
        "  empty_table=pd.DataFrame([])\n",
        "  for topics in list(range(9,59)):\n",
        "    gather = {'Topic': str(topics) ,'Relevant_docs' : len(rel[str(topics)]),'Non_Relevant_docs':len(non_rel[str(topics)])}\n",
        "    hold=pd.DataFrame(gather,index=[topics-1])\n",
        "    empty_table=pd.concat([empty_table,hold])\n",
        "  empty_table.to_csv(file_loc_name)"
      ],
      "metadata": {
        "id": "bEn_j54kA89d"
      },
      "execution_count": null,
      "outputs": []
    },
    {
      "cell_type": "code",
      "source": [
        "save_table(X_non_rel,X_rel,'/content/drive/MyDrive/IRDM/Overall_Table_with_statistics_test.csv')"
      ],
      "metadata": {
        "id": "MsyBC5mYBAgB"
      },
      "execution_count": null,
      "outputs": []
    }
  ]
}