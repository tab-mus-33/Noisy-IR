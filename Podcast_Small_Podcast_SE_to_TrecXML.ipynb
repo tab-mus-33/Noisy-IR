{
  "cells": [
    {
      "cell_type": "code",
      "execution_count": null,
      "metadata": {
        "colab": {
          "base_uri": "https://localhost:8080/"
        },
        "id": "GkxgnAfPPDED",
        "outputId": "35550508-cc88-4021-ed06-f65018bfad1d"
      },
      "outputs": [
        {
          "output_type": "stream",
          "name": "stdout",
          "text": [
            "Looking in indexes: https://pypi.org/simple, https://us-python.pkg.dev/colab-wheels/public/simple/\n",
            "Collecting python-terrier\n",
            "  Downloading python-terrier-0.8.1.tar.gz (97 kB)\n",
            "\u001b[K     |████████████████████████████████| 97 kB 5.7 MB/s \n",
            "\u001b[?25hRequirement already satisfied: numpy in /usr/local/lib/python3.7/dist-packages (from python-terrier) (1.21.6)\n",
            "Requirement already satisfied: pandas in /usr/local/lib/python3.7/dist-packages (from python-terrier) (1.3.5)\n",
            "Collecting wget\n",
            "  Downloading wget-3.2.zip (10 kB)\n",
            "Requirement already satisfied: tqdm in /usr/local/lib/python3.7/dist-packages (from python-terrier) (4.64.1)\n",
            "Collecting pyjnius~=1.3.0\n",
            "  Downloading pyjnius-1.3.0-cp37-cp37m-manylinux2010_x86_64.whl (1.1 MB)\n",
            "\u001b[K     |████████████████████████████████| 1.1 MB 73.2 MB/s \n",
            "\u001b[?25hCollecting matchpy\n",
            "  Downloading matchpy-0.5.5-py3-none-any.whl (69 kB)\n",
            "\u001b[K     |████████████████████████████████| 69 kB 8.4 MB/s \n",
            "\u001b[?25hCollecting sklearn\n",
            "  Downloading sklearn-0.0.tar.gz (1.1 kB)\n",
            "Collecting deprecation\n",
            "  Downloading deprecation-2.1.0-py2.py3-none-any.whl (11 kB)\n",
            "Collecting chest\n",
            "  Downloading chest-0.2.3.tar.gz (9.6 kB)\n",
            "Requirement already satisfied: scipy in /usr/local/lib/python3.7/dist-packages (from python-terrier) (1.7.3)\n",
            "Requirement already satisfied: requests in /usr/local/lib/python3.7/dist-packages (from python-terrier) (2.23.0)\n",
            "Requirement already satisfied: joblib in /usr/local/lib/python3.7/dist-packages (from python-terrier) (1.1.0)\n",
            "Collecting nptyping==1.4.4\n",
            "  Downloading nptyping-1.4.4-py3-none-any.whl (31 kB)\n",
            "Requirement already satisfied: more_itertools in /usr/local/lib/python3.7/dist-packages (from python-terrier) (8.14.0)\n",
            "Collecting ir_datasets>=0.3.2\n",
            "  Downloading ir_datasets-0.5.3-py3-none-any.whl (303 kB)\n",
            "\u001b[K     |████████████████████████████████| 303 kB 66.0 MB/s \n",
            "\u001b[?25hRequirement already satisfied: jinja2 in /usr/local/lib/python3.7/dist-packages (from python-terrier) (2.11.3)\n",
            "Requirement already satisfied: statsmodels in /usr/local/lib/python3.7/dist-packages (from python-terrier) (0.12.2)\n",
            "Collecting ir_measures>=0.2.0\n",
            "  Downloading ir_measures-0.3.1.tar.gz (46 kB)\n",
            "\u001b[K     |████████████████████████████████| 46 kB 5.0 MB/s \n",
            "\u001b[?25hRequirement already satisfied: dill in /usr/local/lib/python3.7/dist-packages (from python-terrier) (0.3.5.1)\n",
            "Collecting typish>=1.7.0\n",
            "  Downloading typish-1.9.3-py3-none-any.whl (45 kB)\n",
            "\u001b[K     |████████████████████████████████| 45 kB 2.5 MB/s \n",
            "\u001b[?25hCollecting ijson>=3.1.3\n",
            "  Downloading ijson-3.1.4-cp37-cp37m-manylinux2010_x86_64.whl (126 kB)\n",
            "\u001b[K     |████████████████████████████████| 126 kB 69.8 MB/s \n",
            "\u001b[?25hCollecting warc3-wet-clueweb09>=0.2.5\n",
            "  Downloading warc3-wet-clueweb09-0.2.5.tar.gz (17 kB)\n",
            "Collecting lz4>=3.1.1\n",
            "  Downloading lz4-4.0.2-cp37-cp37m-manylinux_2_17_x86_64.manylinux2014_x86_64.whl (1.2 MB)\n",
            "\u001b[K     |████████████████████████████████| 1.2 MB 85.1 MB/s \n",
            "\u001b[?25hCollecting trec-car-tools>=2.5.4\n",
            "  Downloading trec_car_tools-2.6-py3-none-any.whl (8.4 kB)\n",
            "Requirement already satisfied: beautifulsoup4>=4.4.1 in /usr/local/lib/python3.7/dist-packages (from ir_datasets>=0.3.2->python-terrier) (4.6.3)\n",
            "Requirement already satisfied: pyyaml>=5.3.1 in /usr/local/lib/python3.7/dist-packages (from ir_datasets>=0.3.2->python-terrier) (6.0)\n",
            "Collecting warc3-wet>=0.2.3\n",
            "  Downloading warc3_wet-0.2.3-py3-none-any.whl (13 kB)\n",
            "Collecting zlib-state>=0.1.3\n",
            "  Downloading zlib_state-0.1.5-cp37-cp37m-manylinux2010_x86_64.whl (72 kB)\n",
            "\u001b[K     |████████████████████████████████| 72 kB 1.9 MB/s \n",
            "\u001b[?25hCollecting pyautocorpus>=0.1.1\n",
            "  Downloading pyautocorpus-0.1.8-cp37-cp37m-manylinux_2_12_x86_64.manylinux2010_x86_64.whl (294 kB)\n",
            "\u001b[K     |████████████████████████████████| 294 kB 99.3 MB/s \n",
            "\u001b[?25hCollecting unlzw3>=0.2.1\n",
            "  Downloading unlzw3-0.2.1.tar.gz (5.8 kB)\n",
            "  Installing build dependencies ... \u001b[?25l\u001b[?25hdone\n",
            "  Getting requirements to build wheel ... \u001b[?25l\u001b[?25hdone\n",
            "    Preparing wheel metadata ... \u001b[?25l\u001b[?25hdone\n",
            "Requirement already satisfied: lxml>=4.5.2 in /usr/local/lib/python3.7/dist-packages (from ir_datasets>=0.3.2->python-terrier) (4.9.1)\n",
            "Collecting pytrec-eval-terrier>=0.5.2\n",
            "  Downloading pytrec_eval_terrier-0.5.4-cp37-cp37m-manylinux_2_17_x86_64.manylinux2014_x86_64.whl (285 kB)\n",
            "\u001b[K     |████████████████████████████████| 285 kB 69.2 MB/s \n",
            "\u001b[?25hCollecting cwl-eval>=1.0.10\n",
            "  Downloading cwl-eval-1.0.10.tar.gz (31 kB)\n",
            "Requirement already satisfied: six>=1.7.0 in /usr/local/lib/python3.7/dist-packages (from pyjnius~=1.3.0->python-terrier) (1.15.0)\n",
            "Requirement already satisfied: cython in /usr/local/lib/python3.7/dist-packages (from pyjnius~=1.3.0->python-terrier) (0.29.32)\n",
            "Requirement already satisfied: urllib3!=1.25.0,!=1.25.1,<1.26,>=1.21.1 in /usr/local/lib/python3.7/dist-packages (from requests->python-terrier) (1.24.3)\n",
            "Requirement already satisfied: certifi>=2017.4.17 in /usr/local/lib/python3.7/dist-packages (from requests->python-terrier) (2022.6.15)\n",
            "Requirement already satisfied: chardet<4,>=3.0.2 in /usr/local/lib/python3.7/dist-packages (from requests->python-terrier) (3.0.4)\n",
            "Requirement already satisfied: idna<3,>=2.5 in /usr/local/lib/python3.7/dist-packages (from requests->python-terrier) (2.10)\n",
            "Collecting cbor>=1.0.0\n",
            "  Downloading cbor-1.0.0.tar.gz (20 kB)\n",
            "Requirement already satisfied: heapdict in /usr/local/lib/python3.7/dist-packages (from chest->python-terrier) (1.0.1)\n",
            "Requirement already satisfied: packaging in /usr/local/lib/python3.7/dist-packages (from deprecation->python-terrier) (21.3)\n",
            "Requirement already satisfied: MarkupSafe>=0.23 in /usr/local/lib/python3.7/dist-packages (from jinja2->python-terrier) (2.0.1)\n",
            "Collecting multiset<3.0,>=2.0\n",
            "  Downloading multiset-2.1.1-py2.py3-none-any.whl (8.8 kB)\n",
            "Requirement already satisfied: pyparsing!=3.0.5,>=2.0.2 in /usr/local/lib/python3.7/dist-packages (from packaging->deprecation->python-terrier) (3.0.9)\n",
            "Requirement already satisfied: python-dateutil>=2.7.3 in /usr/local/lib/python3.7/dist-packages (from pandas->python-terrier) (2.8.2)\n",
            "Requirement already satisfied: pytz>=2017.3 in /usr/local/lib/python3.7/dist-packages (from pandas->python-terrier) (2022.2.1)\n",
            "Requirement already satisfied: scikit-learn in /usr/local/lib/python3.7/dist-packages (from sklearn->python-terrier) (1.0.2)\n",
            "Requirement already satisfied: threadpoolctl>=2.0.0 in /usr/local/lib/python3.7/dist-packages (from scikit-learn->sklearn->python-terrier) (3.1.0)\n",
            "Requirement already satisfied: patsy>=0.5 in /usr/local/lib/python3.7/dist-packages (from statsmodels->python-terrier) (0.5.2)\n",
            "Building wheels for collected packages: python-terrier, ir-measures, cwl-eval, cbor, unlzw3, warc3-wet-clueweb09, chest, sklearn, wget\n",
            "  Building wheel for python-terrier (setup.py) ... \u001b[?25l\u001b[?25hdone\n",
            "  Created wheel for python-terrier: filename=python_terrier-0.8.1-py3-none-any.whl size=104091 sha256=7ff09fca25020155bb3dd39a2bf0282c6a5e04085e562aba8460407a030afbb3\n",
            "  Stored in directory: /root/.cache/pip/wheels/09/e5/f5/2f28a11314bac89a683eb2a12aed802a7da27e4318ffbff4a8\n",
            "  Building wheel for ir-measures (setup.py) ... \u001b[?25l\u001b[?25hdone\n",
            "  Created wheel for ir-measures: filename=ir_measures-0.3.1-py3-none-any.whl size=60193 sha256=59ae37be8759c9bcfd49f210203b7d07b65b29469b0d186ea761ccbcd457fab3\n",
            "  Stored in directory: /root/.cache/pip/wheels/17/86/a6/8b9c92080cdc19346721307878315c19430fb4705716a5676a\n",
            "  Building wheel for cwl-eval (setup.py) ... \u001b[?25l\u001b[?25hdone\n",
            "  Created wheel for cwl-eval: filename=cwl_eval-1.0.10-py3-none-any.whl size=37797 sha256=6cc11e7d9b828c1106b396ee01678d0dd0b9f11250ee2bfbe5719a5d54b40ada\n",
            "  Stored in directory: /root/.cache/pip/wheels/ff/e9/ff/d2b6d72d9feb0d0b1b11aacfaf5cd866717034615c2d194093\n",
            "  Building wheel for cbor (setup.py) ... \u001b[?25l\u001b[?25hdone\n",
            "  Created wheel for cbor: filename=cbor-1.0.0-cp37-cp37m-linux_x86_64.whl size=51306 sha256=8a8028cdc66fd4123193cf1f757bab4bbb75d02c06f881354635db127f191a36\n",
            "  Stored in directory: /root/.cache/pip/wheels/19/77/49/c9c2c8dc5848502e606e8579d0bbda18b850fb056a6c62239d\n",
            "  Building wheel for unlzw3 (PEP 517) ... \u001b[?25l\u001b[?25hdone\n",
            "  Created wheel for unlzw3: filename=unlzw3-0.2.1-py3-none-any.whl size=6082 sha256=41831756cad149ca16ce41c61d6ce2f5ea109ff0a63a692916d84e16a5a027ac\n",
            "  Stored in directory: /root/.cache/pip/wheels/e1/3c/d9/e33962c8aad8999dc5560b6e71baafa2335c269f532f5e176a\n",
            "  Building wheel for warc3-wet-clueweb09 (setup.py) ... \u001b[?25l\u001b[?25hdone\n",
            "  Created wheel for warc3-wet-clueweb09: filename=warc3_wet_clueweb09-0.2.5-py3-none-any.whl size=18922 sha256=8e6668c3664ed65f7b126c3793dbee7acb47edc648cfa0b2b2c1a48028b6f786\n",
            "  Stored in directory: /root/.cache/pip/wheels/42/d4/3c/7c2b0c3d400ad744e4db69f2fde166655da2ed2198bfc02db6\n",
            "  Building wheel for chest (setup.py) ... \u001b[?25l\u001b[?25hdone\n",
            "  Created wheel for chest: filename=chest-0.2.3-py3-none-any.whl size=7634 sha256=358f45409cde1811aea489421450fb531c38b85d2457292a30d5fc8990961e3c\n",
            "  Stored in directory: /root/.cache/pip/wheels/fc/f5/b9/c436e11300809e6b40d46a5d2592fb0bff89e0712f2e878dc7\n",
            "  Building wheel for sklearn (setup.py) ... \u001b[?25l\u001b[?25hdone\n",
            "  Created wheel for sklearn: filename=sklearn-0.0-py2.py3-none-any.whl size=1310 sha256=4493fcdcedd5b34bbea09fb0dffc7c232afc9c423f52d9965da3a816f68a1adf\n",
            "  Stored in directory: /root/.cache/pip/wheels/46/ef/c3/157e41f5ee1372d1be90b09f74f82b10e391eaacca8f22d33e\n",
            "  Building wheel for wget (setup.py) ... \u001b[?25l\u001b[?25hdone\n",
            "  Created wheel for wget: filename=wget-3.2-py3-none-any.whl size=9675 sha256=92c14bb22f65e8390cab92f333a42aa5a7466d7ebbd9b7da0a72ea4eee620637\n",
            "  Stored in directory: /root/.cache/pip/wheels/a1/b6/7c/0e63e34eb06634181c63adacca38b79ff8f35c37e3c13e3c02\n",
            "Successfully built python-terrier ir-measures cwl-eval cbor unlzw3 warc3-wet-clueweb09 chest sklearn wget\n",
            "Installing collected packages: cbor, zlib-state, warc3-wet-clueweb09, warc3-wet, unlzw3, typish, trec-car-tools, pytrec-eval-terrier, pyautocorpus, multiset, lz4, ijson, cwl-eval, wget, sklearn, pyjnius, nptyping, matchpy, ir-measures, ir-datasets, deprecation, chest, python-terrier\n",
            "Successfully installed cbor-1.0.0 chest-0.2.3 cwl-eval-1.0.10 deprecation-2.1.0 ijson-3.1.4 ir-datasets-0.5.3 ir-measures-0.3.1 lz4-4.0.2 matchpy-0.5.5 multiset-2.1.1 nptyping-1.4.4 pyautocorpus-0.1.8 pyjnius-1.3.0 python-terrier-0.8.1 pytrec-eval-terrier-0.5.4 sklearn-0.0 trec-car-tools-2.6 typish-1.9.3 unlzw3-0.2.1 warc3-wet-0.2.3 warc3-wet-clueweb09-0.2.5 wget-3.2 zlib-state-0.1.5\n"
          ]
        }
      ],
      "source": [
        "!pip install python-terrier\n",
        "\n"
      ]
    },
    {
      "cell_type": "code",
      "execution_count": null,
      "metadata": {
        "colab": {
          "base_uri": "https://localhost:8080/"
        },
        "id": "u3G2cPhqXWef",
        "outputId": "d0b4b6b4-515f-4668-980e-e86f140828e6"
      },
      "outputs": [
        {
          "output_type": "stream",
          "name": "stdout",
          "text": [
            "terrier-assemblies 5.6 jar-with-dependencies not found, downloading to /root/.pyterrier...\n",
            "Done\n",
            "terrier-python-helper 0.0.6 jar not found, downloading to /root/.pyterrier...\n",
            "Done\n"
          ]
        },
        {
          "output_type": "stream",
          "name": "stderr",
          "text": [
            "PyTerrier 0.8.1 has loaded Terrier 5.6 (built by craigmacdonald on 2021-09-17 13:27)\n",
            "\n"
          ]
        }
      ],
      "source": [
        "import pyterrier as pt\n",
        "pt.init()\n"
      ]
    },
    {
      "cell_type": "code",
      "execution_count": null,
      "metadata": {
        "colab": {
          "base_uri": "https://localhost:8080/"
        },
        "id": "0jaEvwrtX8vf",
        "outputId": "7a2cbc04-7311-4aeb-86a6-b8b133e2854b"
      },
      "outputs": [
        {
          "output_type": "stream",
          "name": "stdout",
          "text": [
            "Mounted at /content/drive\n"
          ]
        }
      ],
      "source": [
        "from google.colab import drive\n",
        "drive.mount('/content/drive')"
      ]
    },
    {
      "cell_type": "code",
      "execution_count": null,
      "metadata": {
        "id": "odb5BQUAXW8p"
      },
      "outputs": [],
      "source": [
        "import numpy as np \n",
        "mod_queries = np.load('/content/drive/MyDrive/IRDM/queries_doc_test3.npy',allow_pickle='TRUE').item()"
      ]
    },
    {
      "cell_type": "code",
      "source": [
        "\n",
        "def mergmast(list_of_dicts):\n",
        "    master={}\n",
        "    for i in range(len(list_of_dicts)):\n",
        "      open = np.load(list_of_dicts[i],allow_pickle='TRUE').item()\n",
        "      master.update(open)\n",
        "    return master"
      ],
      "metadata": {
        "id": "5GCheZld4nDN"
      },
      "execution_count": null,
      "outputs": []
    },
    {
      "cell_type": "code",
      "execution_count": null,
      "metadata": {
        "id": "DCb4FPbQX3V2"
      },
      "outputs": [],
      "source": [
        "import numpy as np \n",
        "mod_docs = np.load('/content/drive/MyDrive/IRDM/master_set_docs.npy',allow_pickle='TRUE').item()"
      ]
    },
    {
      "cell_type": "code",
      "execution_count": null,
      "metadata": {
        "id": "Id4QeZv3YiMQ"
      },
      "outputs": [],
      "source": [
        "def make_experiment_file(dict_input):\n",
        "  output_file={}\n",
        "  for keys in dict_input.keys():\n",
        "    for k in range(len(dict_input[keys])):\n",
        "      if keys not in output_file.keys():\n",
        "        output_file.update({keys:[dict_input[keys][k][0]]})\n",
        "      else:\n",
        "        output_file[keys].append(dict_input[keys][k][0])\n",
        "  return output_file"
      ]
    },
    {
      "cell_type": "code",
      "execution_count": null,
      "metadata": {
        "id": "Tcs6vL0ZY00n"
      },
      "outputs": [],
      "source": [
        "queries_info= make_experiment_file(mod_queries)"
      ]
    },
    {
      "cell_type": "code",
      "execution_count": null,
      "metadata": {
        "id": "Nwo5xqAcY4xd"
      },
      "outputs": [],
      "source": [
        "documents = make_experiment_file(mod_docs)"
      ]
    },
    {
      "cell_type": "code",
      "execution_count": null,
      "metadata": {
        "id": "Q9er6HQ4Y-Jg"
      },
      "outputs": [],
      "source": [
        "docs = list(documents.keys())"
      ]
    },
    {
      "cell_type": "code",
      "execution_count": null,
      "metadata": {
        "id": "RbgnO535GeUG",
        "colab": {
          "base_uri": "https://localhost:8080/"
        },
        "outputId": "a7a59231-178e-4f23-ee1a-54a2a18d0a67"
      },
      "outputs": [
        {
          "output_type": "execute_result",
          "data": {
            "text/plain": [
              "149802"
            ]
          },
          "metadata": {},
          "execution_count": 66
        }
      ],
      "source": [
        "len(docs)"
      ]
    },
    {
      "cell_type": "code",
      "execution_count": null,
      "metadata": {
        "id": "azMzpFatD88n"
      },
      "outputs": [],
      "source": [
        "\n",
        "\n",
        "def fill_tokens(small_chunks):\n",
        "  return'wiki_'+('_').join(small_chunks.split(' '))\n",
        "\n",
        "def wiki_tokens_to_wikified_text(input_list):\n",
        "  output_list=[]\n",
        "  for i in input_list:\n",
        "    output_list.append(fill_tokens(i))\n",
        "  return output_list\n",
        "\n",
        "def transform_dict(input_dict):\n",
        "  new_dict={}\n",
        "  for keys in input_dict.keys():\n",
        "    new_dict.update({keys: wiki_tokens_to_wikified_text(input_dict[keys])})\n",
        "  return new_dict\n"
      ]
    },
    {
      "cell_type": "code",
      "execution_count": null,
      "metadata": {
        "id": "uMHp-xy0j1t5"
      },
      "outputs": [],
      "source": [
        "transformed_doc=transform_dict(documents)"
      ]
    },
    {
      "cell_type": "code",
      "execution_count": null,
      "metadata": {
        "id": "bC7GH8CfdxTc"
      },
      "outputs": [],
      "source": [
        "transformed_query=transform_dict(queries_info)"
      ]
    },
    {
      "cell_type": "code",
      "execution_count": null,
      "metadata": {
        "id": "BRyx2owMKZaD"
      },
      "outputs": [],
      "source": [
        "np.save('/content/drive/MyDrive/IRDM/wiki_retrieval_ready_docs_test.npy',transformed_doc) \n"
      ]
    },
    {
      "cell_type": "code",
      "execution_count": null,
      "metadata": {
        "id": "JHkMtaJ2agNk"
      },
      "outputs": [],
      "source": [
        "def return_only_files(segment_list):\n",
        "  just_docs=[]\n",
        "  for seg in range(len(segment_list)):\n",
        "    just_docs.append(segment_list[seg].split('_')[0]+'.xml')\n",
        "  \n",
        "  #just_docs=list(set(just_docs))\n",
        "  return just_docs"
      ]
    },
    {
      "cell_type": "code",
      "execution_count": null,
      "metadata": {
        "id": "A3kbTEk-l2p5"
      },
      "outputs": [],
      "source": [
        "def return_dict(segment_list):\n",
        "  segment={}\n",
        "  for seg in range(len(segment_list)):\n",
        "    if segment_list[seg].split('_')[0] not in segment.keys():\n",
        "      segment.update({segment_list[seg].split('_')[0]:1})\n",
        "    else:\n",
        "      segment[segment_list[seg].split('_')[0]]+=1\n",
        "  return segment"
      ]
    },
    {
      "cell_type": "code",
      "execution_count": null,
      "metadata": {
        "id": "Z1txZNIKmduP"
      },
      "outputs": [],
      "source": [
        "check=return_dict(docs)"
      ]
    },
    {
      "cell_type": "code",
      "execution_count": null,
      "metadata": {
        "id": "_MiHDnsrbIFh"
      },
      "outputs": [],
      "source": [
        "files= return_only_files(docs)"
      ]
    },
    {
      "cell_type": "code",
      "execution_count": null,
      "metadata": {
        "id": "hDeVbhlgbOCY"
      },
      "outputs": [],
      "source": [
        "import os\n",
        "to_be_read=[]\n",
        "for i in range(8):\n",
        "  name_dir=\"/content/drive/MyDrive/IRDM/exp_data/xml_dir/\"+str(i)\n",
        "  for root, folder, data in os.walk(name_dir):\n",
        "    for a in data:\n",
        "      if \".xml\" in a:\n",
        "        if a in files:\n",
        "          to_be_read.append((os.path.join(root,a)))"
      ]
    },
    {
      "cell_type": "code",
      "execution_count": null,
      "metadata": {
        "id": "iuMocnDAggki"
      },
      "outputs": [],
      "source": [
        "qrels_path=(\"/content/drive/MyDrive/IRDM/podcasts_2020_test.qrels\")\n",
        "qrels = pt.io.read_qrels(qrels_path)\n",
        "qrels[\"qid\"]=qrels[\"qid\"].astype(int)\n",
        "qrels[\"qid\"]=qrels[\"qid\"]-1\n",
        "qrels[\"qid\"]=qrels[\"qid\"].astype(\"str\")\n",
        "qrels[\"file_name\"]=qrels[\"docno\"].apply(lambda x: x.split(\":\")[-1].split(\"_\")[0]+\".xml\")\n",
        "relevance_files=list(set(list(qrels[\"file_name\"])))"
      ]
    },
    {
      "cell_type": "code",
      "execution_count": null,
      "metadata": {
        "id": "1oPa55KXghSn"
      },
      "outputs": [],
      "source": [
        "relevant=[]\n",
        "for i in range(8):\n",
        "  name_dir=\"/content/drive/MyDrive/IRDM/exp_data/xml_dir/\"+str(i)\n",
        "  for root, folder, data in os.walk(name_dir):\n",
        "    for a in data:\n",
        "        if a in relevance_files:\n",
        "          relevant.append((os.path.join(root,a)))"
      ]
    },
    {
      "cell_type": "code",
      "execution_count": null,
      "metadata": {
        "colab": {
          "base_uri": "https://localhost:8080/"
        },
        "id": "vWBmxmH5gj0y",
        "outputId": "8ca3fc5d-1d0b-4092-8222-08e4aecc00b5"
      },
      "outputs": [
        {
          "data": {
            "text/plain": [
              "3421"
            ]
          },
          "execution_count": 45,
          "metadata": {},
          "output_type": "execute_result"
        }
      ],
      "source": [
        "np.save('/content/drive/MyDrive/IRDM/files_rel.npy', master_dict) "
      ]
    },
    {
      "cell_type": "code",
      "execution_count": null,
      "metadata": {
        "id": "S_zP8QNobXnp"
      },
      "outputs": [],
      "source": [
        "testing= np.load('/content/drive/MyDrive/IRDM/files_rel_train.npy',allow_pickle='TRUE').item()"
      ]
    },
    {
      "cell_type": "code",
      "source": [
        "testing_2=np.load('/content/drive/MyDrive/IRDM/files_rel.npy',allow_pickle='TRUE').item()"
      ],
      "metadata": {
        "id": "Cq76FfqwyzMP"
      },
      "execution_count": null,
      "outputs": []
    },
    {
      "cell_type": "code",
      "source": [
        "\n",
        "def mergmast(list_of_dicts):\n",
        "    master={}\n",
        "    for i in range(len(list_of_dicts)):\n",
        "      open = np.load(list_of_dicts[i],allow_pickle='TRUE').item()\n",
        "      master.update(open)\n",
        "    return master"
      ],
      "metadata": {
        "id": "V3dT8Haby4H0"
      },
      "execution_count": null,
      "outputs": []
    },
    {
      "cell_type": "code",
      "source": [
        "total_stack=mergmast([\"/content/drive/MyDrive/IRDM/files_rel_train.npy\",\"/content/drive/MyDrive/IRDM/files_rel.npy\"])"
      ],
      "metadata": {
        "id": "uOt6L-qQy-s9"
      },
      "execution_count": null,
      "outputs": []
    },
    {
      "cell_type": "code",
      "execution_count": null,
      "metadata": {
        "colab": {
          "base_uri": "https://localhost:8080/"
        },
        "id": "huoWBslJ8sP0",
        "outputId": "71f5eaf6-2957-4a89-a127-e57e0a08f07a"
      },
      "outputs": [
        {
          "output_type": "execute_result",
          "data": {
            "text/plain": [
              "149802"
            ]
          },
          "metadata": {},
          "execution_count": 21
        }
      ],
      "source": [
        "len(transformed_doc.keys())"
      ]
    },
    {
      "cell_type": "code",
      "execution_count": null,
      "metadata": {
        "id": "5UdBfTqPQk-I"
      },
      "outputs": [],
      "source": [
        "def reduce_d(master_list,append):\n",
        "  new={}\n",
        "  for k in append.keys():\n",
        "    if k in master_list:\n",
        "      new.update({k:append[k]})\n",
        "  return new"
      ]
    },
    {
      "cell_type": "markdown",
      "source": [
        "Generate TREC XML files for Podcast SE (Can be used for Podcast Small as well)"
      ],
      "metadata": {
        "id": "fH-QrW2GKynk"
      }
    },
    {
      "cell_type": "code",
      "execution_count": null,
      "metadata": {
        "id": "uHvEbdQhRzlh"
      },
      "outputs": [],
      "source": [
        "training=reduce_d(list(transformed_doc.keys()),total_stack)"
      ]
    },
    {
      "cell_type": "code",
      "execution_count": null,
      "metadata": {
        "id": "Ia-UX2TC-Yqs"
      },
      "outputs": [],
      "source": [
        "TEMPLATE = \"\"\"<DOC>\n",
        "<DOCNO>{}</DOCNO>\n",
        "{}\n",
        "</DOC>\"\"\""
      ]
    },
    {
      "cell_type": "code",
      "execution_count": null,
      "metadata": {
        "id": "Ggh9Hn2wpm8_"
      },
      "outputs": [],
      "source": [
        "with open(\"/content/drive/MyDrive/IRDM/just_doc_file_test.xml\", 'w') as ofile:\n",
        "        for j in training.keys():\n",
        "          show=j.split('_')[0]\n",
        "          seg=j.split('_')[1]\n",
        "          doc_id='{}_{}'.format(show,seg)\n",
        "          doc_text=training[j].split('\\n')[0]\n",
        "\n",
        "          to_write = TEMPLATE.format(doc_id,doc_text)\n",
        "          print(to_write, file=ofile)\n"
      ]
    },
    {
      "cell_type": "code",
      "execution_count": null,
      "metadata": {
        "id": "7tIb7IAyMgSE"
      },
      "outputs": [],
      "source": [
        "with open(\"/content/drive/MyDrive/IRDM/wikified_file_for_wiki_test.xml\", 'w') as ofile:\n",
        "        for j in training.keys():\n",
        "          show=j.split('_')[0]\n",
        "          seg=j.split('_')[1]\n",
        "          doc_id='{}_{}'.format(show,seg)\n",
        "          doc_text=training[j].split('\\n')[0]+' '.join(transformed_doc[j])\n",
        "\n",
        "          to_write = TEMPLATE.format(doc_id,doc_text)\n",
        "          print(to_write, file=ofile)\n"
      ]
    },
    {
      "cell_type": "code",
      "execution_count": null,
      "metadata": {
        "id": "3bQvv4VsjEIP"
      },
      "outputs": [],
      "source": [
        "with open(\"/content/drive/MyDrive/IRDM/wikified_file_for_wiki_freq_2_test.xml\", 'w') as ofile:\n",
        "        for j in training.keys():\n",
        "          show=j.split('_')[0]\n",
        "          seg=j.split('_')[1]\n",
        "          doc_id='{}_{}'.format(show,seg)\n",
        "          doc_text=training[j].split('\\n')[0]+' '.join(transformed_doc[j])+' '.join(transformed_doc[j])\n",
        "\n",
        "          to_write = TEMPLATE.format(doc_id,doc_text)\n",
        "          print(to_write, file=ofile)"
      ]
    },
    {
      "cell_type": "code",
      "execution_count": null,
      "metadata": {
        "id": "75rB4zqXD90P"
      },
      "outputs": [],
      "source": [
        "with open(\"/content/drive/MyDrive/IRDM/wikified_file_for_wiki_freq_5_test.xml\", 'w') as ofile:\n",
        "        for j in training.keys():\n",
        "          show=j.split('_')[0]\n",
        "          seg=j.split('_')[1]\n",
        "          doc_id='{}_{}'.format(show,seg)\n",
        "          doc_text=training[j].split('\\n')[0]+' '.join(transformed_doc[j])*5\n",
        "\n",
        "          to_write = TEMPLATE.format(doc_id,doc_text)\n",
        "          print(to_write, file=ofile)"
      ]
    },
    {
      "cell_type": "code",
      "execution_count": null,
      "metadata": {
        "id": "fdbv2V-GjjDB"
      },
      "outputs": [],
      "source": []
    },
    {
      "cell_type": "code",
      "execution_count": null,
      "metadata": {
        "id": "s-VNenSzZ5aP"
      },
      "outputs": [],
      "source": [
        "import requests\n",
        "import spacy\n",
        "from collections import Counter\n",
        "import matplotlib.pyplot as plt\n",
        "import spacy\n",
        "\n",
        "import argparse\n",
        "import sys\n",
        "import string\n",
        "import spacy\n",
        "import xml.etree.ElementTree as ET\n"
      ]
    },
    {
      "cell_type": "markdown",
      "source": [
        "Generate Wikified XML files "
      ],
      "metadata": {
        "id": "rOfTaxizKs5M"
      }
    },
    {
      "cell_type": "code",
      "execution_count": null,
      "metadata": {
        "colab": {
          "base_uri": "https://localhost:8080/"
        },
        "id": "MTgF_vc4hxzw",
        "outputId": "19b61815-9b5b-41d4-806b-3661f2fb81f3"
      },
      "outputs": [
        {
          "output_type": "stream",
          "name": "stdout",
          "text": [
            "trump call ukrainian president\n",
            "trump call ukrainian president wiki_White_House wiki_Telecommunications wiki_2019_J2_League wiki_Trump_card_games wiki_President_of_the_United_States wiki_Ball_culture wiki_White_people wiki_Ukraine\n",
            "boeing 737 crash causes\n",
            "boeing 737 crash causes wiki_Hundred_county_division wiki_Boeing_737 wiki_Maxima_and_minima wiki_Activism wiki_Stock_market_crash wiki_2019_J2_League\n",
            "how to cook turkey\n",
            "how to cook turkey wiki_Guatemalan_Civil_War wiki_Indian_cuisine wiki_Turkey_bird\n",
            "imran khan career\n",
            "imran khan career wiki_Pakistan wiki_Pennsylvania27s_22nd_congressional_district wiki_Career wiki_Khan_title\n",
            "drug addiction recovery\n",
            "drug addiction recovery wiki_Addiction wiki_Drug_rehabilitation\n",
            "near death experiences\n",
            "near death experiences wiki_Experience wiki_Middle_East wiki_Death\n",
            "podcast about podcasts\n",
            "podcast about podcasts wiki_Podcast wiki_Aboutness\n",
            "causes and prevention of wildfires\n",
            "causes and prevention of wildfires wiki_Wildfire wiki_Attribution_of_recent_climate_change wiki_Cancer wiki_Amazon_rainforest wiki_California\n",
            "time between meetings\n",
            "time between meetings wiki_Hour wiki_Semitone wiki_Meeting wiki_Time wiki_Interfaith_dialogue\n",
            "women in stem\n",
            "women in stem wiki_Woman wiki_Plant_stem\n",
            "ai in healthcare\n",
            "ai in healthcare wiki_Health_care wiki_Ai_Indic\n",
            "cost of childcare\n",
            "cost of childcare wiki_Child_care wiki_Cost_of_raising_a_child\n",
            "juneteenth\n",
            "juneteenth wiki_Human\n",
            "chernobyl hbo\n",
            "chernobyl hbo wiki_Vocational_university wiki_2019_United_Kingdom_general_election\n",
            "notre dame fire\n",
            "notre dame fire wiki_2019 wiki_Ordre_de_l27Empire_britannique wiki_Systc3a8me_solaire wiki_Pari_mutuel_urbain\n",
            "france yellow vest protests\n",
            "france yellow vest protests wiki_France wiki_Waistcoat wiki_2019_United_Kingdom_general_election wiki_2019e280932020_Hong_Kong_protests wiki_George_Floyd_protests wiki_Gold wiki_Paris wiki_Yellow_vests_protests\n",
            "black lives matter\n",
            "black lives matter wiki_Life wiki_Black_people wiki_Matter\n",
            "bob woodward\n",
            "bob woodward wiki_Watergate_architecture wiki_Bob_physics\n",
            "civil rights protest stories\n",
            "civil rights protest stories wiki_Civil_and_political_rights wiki_Literature wiki_Counterculture_of_the_1960s wiki_Selma_to_Montgomery_marches wiki_Protest wiki_Human\n",
            "yo-yo dieting\n",
            "yo-yo dieting wiki_Yoyo wiki_Dieting\n",
            "racism in canada\n",
            "racism in canada wiki_Racism wiki_United_States\n",
            "motherhood\n",
            "motherhood wiki_Literature wiki_Mother\n",
            "horoscope reading cancer\n",
            "horoscope reading cancer wiki_Cancer wiki_Divination wiki_Horoscope\n",
            "giants game december 22\n",
            "giants game december 22 wiki_Video_game wiki_Ny_digraph wiki_Giant wiki_22_Taylor_Swift_song wiki_2019_J2_League\n",
            "hvac industry environmentalism\n",
            "hvac industry environmentalism wiki_Manufacturing wiki_Heating_ventilation_and_air_conditioning wiki_Environmentalism\n",
            "halloween stories and chat\n",
            "halloween stories and chat wiki_Folklore wiki_Instant_messaging wiki_Chat_fiction wiki_Halloween\n",
            "living debt free\n",
            "living debt free wiki_Free_software wiki_Life wiki_Debt\n",
            "cryptocurrency risks\n",
            "cryptocurrency risks wiki_Risk_management wiki_Cryptocurrency\n",
            "slow travel\n",
            "slow travel wiki_Travel wiki_Slow_movement_culture\n",
            "workplace diversity\n",
            "workplace diversity wiki_Diversity_business wiki_Workplace\n",
            "social media marketing\n",
            "social media marketing wiki_Social_media wiki_Mass_media wiki_Marketing wiki_Social_marketing\n",
            "bees dying\n",
            "bees dying wiki_Bee wiki_Necrosis\n",
            "gmo food labeling\n",
            "gmo food labeling wiki_Human wiki_Europe wiki_Food wiki_Packaging_and_labeling wiki_Genetically_modified_organism\n",
            "fyre festival\n",
            "fyre festival wiki_2017_United_Kingdom_general_election wiki_2019_United_Kingdom_general_election wiki_Fire wiki_Festival\n",
            "hong kong protests\n",
            "hong kong protests wiki_Chinese_people wiki_2018e280932020_Serbian_protests wiki_Kong_von_thom wiki_2019e280932020_Hong_Kong_protests wiki_Classical_antiquity wiki_Hong_business wiki_2019_J2_League\n",
            "thanksgiving comedy special\n",
            "thanksgiving comedy special wiki_Television_special wiki_Thanksgiving wiki_Comedy wiki_Jack_device\n",
            "drafting tight ends\n",
            "drafting tight ends wiki_Tight_end wiki_Technical_drawing wiki_Wide_receiver\n",
            "missouri quilt mom\n",
            "missouri quilt mom wiki_Quilt wiki_Mother\n",
            "sci-fi author interview mars\n",
            "sci-fi author interview mars wiki_Mars wiki_Interview wiki_Science_fiction wiki_Author\n",
            "spike lee movie score\n",
            "spike lee movie score wiki_Film_score wiki_Action_potential wiki_Film wiki_Windward_and_leeward\n",
            "thrift store smell\n",
            "thrift store smell wiki_Armeria_maritima wiki_Sense_of_smell wiki_Retail\n",
            "coast guard coxswain\n",
            "coast guard coxswain wiki_English_Channel wiki_Guard_gridiron_football wiki_Coxswain\n",
            "queer eye veteran\n",
            "queer eye veteran wiki_Visual_perception wiki_Queer wiki_Human wiki_Veteran\n",
            "fauci interview\n",
            "fauci interview wiki_Interview wiki_Human\n",
            "recommended books for entrepreneurs\n",
            "recommended books for entrepreneurs wiki_Entrepreneurship wiki_Book wiki_World_Wide_Web_Consortium\n",
            "bias in college admissions\n",
            "bias in college admissions wiki_College wiki_Bias wiki_University_and_college_admission\n",
            "malcolm x biography\n",
            "malcolm x biography wiki_X wiki_Biography\n",
            "gaslighting\n",
            "gaslighting wiki_Twitter wiki_Gaslighting\n",
            "nefertiti\n",
            "nefertiti \n",
            "sam bush interview\n",
            "sam bush interview wiki_Sam_text_editor wiki_Interview wiki_The_bush\n"
          ]
        }
      ],
      "source": [
        "def update_xml(xml, nouns, f_name):\n",
        "    n_queries = 0\n",
        "\n",
        "    tree = ET.parse(xml)\n",
        "    for node in tree.iter(): \n",
        "        if node.tag == 'query':\n",
        "            n_queries += 1\n",
        "            print(node.text)  \n",
        "            gather = ' '.join(list(set(nouns[n_queries-1])))\n",
        "            tmp = node.text + ' ' + gather\n",
        "            print(tmp)\n",
        "            tmp = tmp.lower()\n",
        "            node.text = tmp\n",
        "    if n_queries != len(nouns):\n",
        "        print('Warning: n_queries do not match with number '\n",
        "                'of descriptions parsed', file=sys.stderr)\n",
        "\n",
        "    tree.write(f_name)\n",
        "\n",
        "\n",
        "top=\"/content/drive/MyDrive/IRDM/podcasts_2020_topics_test.xml\"\n",
        "nlp = spacy.load(\"en_core_web_sm\")\n",
        "tree = ET.parse(top)\n",
        "\n",
        "wiki=[]\n",
        "for node in tree.iter():\n",
        "    if node.tag=='num':\n",
        "        key=node.text\n",
        "    if node.tag == 'query':\n",
        "      if key in transformed_query.keys():\n",
        "        wiki.append(transformed_query[key])\n",
        "      else:\n",
        "        wiki.append([])\n",
        "update_xml(top, wiki, \"/content/drive/MyDrive/IRDM/wikified_query_tests.xml\")"
      ]
    },
    {
      "cell_type": "code",
      "execution_count": null,
      "metadata": {
        "colab": {
          "base_uri": "https://localhost:8080/",
          "height": 339
        },
        "id": "cM4mV36oiRCq",
        "outputId": "8f06d2a5-4a15-462c-b81a-bfb974ba1255"
      },
      "outputs": [
        {
          "output_type": "error",
          "ename": "ParseError",
          "evalue": "ignored",
          "traceback": [
            "Traceback \u001b[0;36m(most recent call last)\u001b[0m:\n",
            "  File \u001b[1;32m\"/usr/local/lib/python3.7/dist-packages/IPython/core/interactiveshell.py\"\u001b[0m, line \u001b[1;32m3326\u001b[0m, in \u001b[1;35mrun_code\u001b[0m\n    exec(code_obj, self.user_global_ns, self.user_ns)\n",
            "  File \u001b[1;32m\"<ipython-input-23-f280111f2313>\"\u001b[0m, line \u001b[1;32m23\u001b[0m, in \u001b[1;35m<module>\u001b[0m\n    tree = ET.parse(top)\n",
            "  File \u001b[1;32m\"/usr/lib/python3.7/xml/etree/ElementTree.py\"\u001b[0m, line \u001b[1;32m1197\u001b[0m, in \u001b[1;35mparse\u001b[0m\n    tree.parse(source, parser)\n",
            "\u001b[0;36m  File \u001b[0;32m\"/usr/lib/python3.7/xml/etree/ElementTree.py\"\u001b[0;36m, line \u001b[0;32m598\u001b[0;36m, in \u001b[0;35mparse\u001b[0;36m\u001b[0m\n\u001b[0;31m    self._root = parser._parse_whole(source)\u001b[0m\n",
            "\u001b[0;36m  File \u001b[0;32m\"<string>\"\u001b[0;36m, line \u001b[0;32munknown\u001b[0m\n\u001b[0;31mParseError\u001b[0m\u001b[0;31m:\u001b[0m syntax error: line 1, column 0\n"
          ]
        }
      ],
      "source": [
        "def update_xml(xml, nouns, f_name):\n",
        "    n_queries = 0\n",
        "\n",
        "    tree = ET.parse(xml)\n",
        "    for node in tree.iter(): \n",
        "        if node.tag == 'query':\n",
        "            n_queries += 1\n",
        "            print(node.text)  \n",
        "            gather = ' '.join(list(set(nouns[n_queries-1])))\n",
        "            tmp = node.text + ' ' + gather\n",
        "            print(tmp)\n",
        "            tmp = tmp.lower()\n",
        "            node.text = tmp\n",
        "    if n_queries != len(nouns):\n",
        "        print('Warning: n_queries do not match with number '\n",
        "                'of descriptions parsed', file=sys.stderr)\n",
        "\n",
        "    tree.write(f_name)\n",
        "\n",
        "\n",
        "top=\"/content/drive/MyDrive/IRDM/podcasts_2020_test.qrels\"\n",
        "nlp = spacy.load(\"en_core_web_sm\")\n",
        "tree = ET.parse(top)\n",
        "\n",
        "wiki=[]\n",
        "for node in tree.iter():\n",
        "    if node.tag=='num':\n",
        "        key=node.text\n",
        "    if node.tag == 'query':\n",
        "        wiki.append(transformed_query[key])\n",
        "update_xml(top, wiki, \"/content/drive/MyDrive/IRDM/wikified_query_test.xml\")"
      ]
    },
    {
      "cell_type": "code",
      "execution_count": null,
      "metadata": {
        "id": "DeZnnGCWXhm4"
      },
      "outputs": [],
      "source": []
    },
    {
      "cell_type": "code",
      "execution_count": null,
      "metadata": {
        "id": "YrZPxNZm-_LT"
      },
      "outputs": [],
      "source": []
    },
    {
      "cell_type": "markdown",
      "metadata": {
        "id": "5XEyLgtcYZt9"
      },
      "source": [
        "\n",
        "#This section converts files into indexes for Podcast Small Extended  "
      ]
    },
    {
      "cell_type": "code",
      "execution_count": null,
      "metadata": {
        "id": "MwjfH_UcBIkt"
      },
      "outputs": [],
      "source": [
        "indexer = pt.TRECCollectionIndexer(\"/content/drive/MyDrive/IRDM/xml_dir/sample_without_test\",blocks=True,meta={'docno':50,'text': 2048,})"
      ]
    },
    {
      "cell_type": "code",
      "execution_count": null,
      "metadata": {
        "colab": {
          "base_uri": "https://localhost:8080/"
        },
        "id": "SjSitpXnZjtP",
        "outputId": "f250145f-c78d-406a-b81e-6b1edf4ca7d7"
      },
      "outputs": [
        {
          "output_type": "stream",
          "name": "stdout",
          "text": [
            "23:43:06.520 [main] WARN org.terrier.structures.indexing.Indexer - Adding an empty document to the index (5SiVsFevoaSwa9kx9EA5x6_2520) - further warnings are suppressed\n",
            "23:43:49.151 [main] WARN org.terrier.structures.indexing.Indexer - Indexed 5 empty documents\n"
          ]
        }
      ],
      "source": [
        "indexref = indexer.index(['/content/drive/MyDrive/IRDM/just_doc_file_test.xml'])"
      ]
    },
    {
      "cell_type": "code",
      "execution_count": null,
      "metadata": {
        "id": "OA9P_cfhkVYx"
      },
      "outputs": [],
      "source": [
        "wikified= pt.TRECCollectionIndexer(\"/content/drive/MyDrive/IRDM/xml_dir/wikified_index_raws_test\",blocks=True,meta={'docno':50,'text': 2048,})\n",
        "wikied= wikified.index(['/content/drive/MyDrive/IRDM/wikified_file_for_wiki_test.xml'])"
      ]
    },
    {
      "cell_type": "code",
      "execution_count": null,
      "metadata": {
        "id": "9LH7ZQmkkuV0"
      },
      "outputs": [],
      "source": [
        "wiki2= pt.TRECCollectionIndexer(\"/content/drive/MyDrive/IRDM/xml_dir/wikified_index_raw_freq_2_test\",blocks=True,meta={'docno':50,'text': 2048,})\n",
        "wikied= wiki2.index(['/content/drive/MyDrive/IRDM/wikified_file_for_wiki_freq_2_test.xml'])"
      ]
    },
    {
      "cell_type": "code",
      "execution_count": null,
      "metadata": {
        "id": "sXACY20GEIBj"
      },
      "outputs": [],
      "source": [
        "wiki5= pt.TRECCollectionIndexer(\"/content/drive/MyDrive/IRDM/xml_dir/wikified_index_raw_freq_5_test\",blocks=True,meta={'docno':50,'text': 2048,})\n",
        "wikied= wiki5.index(['/content/drive/MyDrive/IRDM/wikified_file_for_wiki_freq_5_test.xml'])"
      ]
    },
    {
      "cell_type": "code",
      "execution_count": null,
      "metadata": {
        "id": "Wc8EAm2WEL2_"
      },
      "outputs": [],
      "source": []
    },
    {
      "cell_type": "code",
      "execution_count": null,
      "metadata": {
        "id": "W3Lw0F6macEF"
      },
      "outputs": [],
      "source": [
        "sample_set_we = pt.IndexRef.of(\"/content/drive/MyDrive/IRDM/xml_dir/sample_without_test/data.properties\")\n",
        "raw= pt.IndexFactory.of(sample_set_we)"
      ]
    },
    {
      "cell_type": "code",
      "execution_count": null,
      "metadata": {
        "id": "oex1jRPga7U0"
      },
      "outputs": [],
      "source": [
        "wiki_instance = pt.IndexRef.of(\"/content/drive/MyDrive/IRDM/xml_dir/wikified_index_raws_test/data.properties\")\n",
        "wiki_no_difference= pt.IndexFactory.of(wiki_instance)"
      ]
    },
    {
      "cell_type": "code",
      "execution_count": null,
      "metadata": {
        "id": "4IHFKPmMmacI"
      },
      "outputs": [],
      "source": [
        "wiki_instance_2 = pt.IndexRef.of(\"/content/drive/MyDrive/IRDM/xml_dir/wikified_index_raw_freq_2_test/data.properties\")\n",
        "wiki_no_difference_2= pt.IndexFactory.of(wiki_instance_2)"
      ]
    },
    {
      "cell_type": "code",
      "execution_count": null,
      "metadata": {
        "id": "pLgIdDvoETa6"
      },
      "outputs": [],
      "source": [
        "wiki_instance_5 = pt.IndexRef.of(\"/content/drive/MyDrive/IRDM/xml_dir/wikified_index_raw_freq_5/data.properties\")\n",
        "wiki_no_difference_5= pt.IndexFactory.of(wiki_instance_5)"
      ]
    },
    {
      "cell_type": "code",
      "execution_count": null,
      "metadata": {
        "id": "ULXcLVYgbJsj"
      },
      "outputs": [],
      "source": [
        "topics = pt.io.read_topics(\"/content/drive/MyDrive/IRDM/wikified_query_test_ent.xml\",format=\"trecxml\")\n",
        "\n",
        "def get_retr(index, param_b, param_k1):\n",
        "    retr = pt.BatchRetrieve(index, controls={'wmodel': \"BM25\", \"c\": param_b},\n",
        "        properties={'bm25.k_1': param_k1})\n",
        "    return retr\n",
        "\n",
        "def get_dph(index):\n",
        "    return pt.BatchRetrieve(index, controls={\"wmodel\": \"DPH\"})\n",
        "\n",
        "\n",
        "bm25 = get_retr(raw, 0.75, 1.2) >> \\\n",
        "            pt.pipelines.PerQueryMaxMinScoreTransformer()\n",
        "dph = get_dph(raw) >> \\\n",
        "            pt.pipelines.PerQueryMaxMinScoreTransformer()\n",
        "\n",
        "\n",
        "def write_trec(df, args):\n",
        "    import sys\n",
        "    print('query-id Q0 document-id rank score STANDARD')\n",
        "    from contextlib import redirect_stdout\n",
        "\n",
        "    with open('/content/drive/MyDrive/IRDM/output.txt', 'w') as f:\n",
        "      with redirect_stdout(f):\n",
        "        for t in df.itertuples():\n",
        "          qid, rank, docno, score = t[1], t[2], t[3], t[4]\n",
        "\n",
        "          episode, timestamp = docno.split('_')\n",
        "          start_time = str(float(timestamp.split('-')[0]))\n",
        "          episode_id = id_template.format(episode, start_time)\n",
        "          orig_stdout = sys.stdout\n",
        "        \n",
        "          print('{} {} {} {} {}'.format(\n",
        "              qid, '0', episode_id, rank, score,))\n",
        "\n",
        "\n",
        "\n",
        "\n",
        "import pandas as pd\n",
        "id_template = 'spotify:episode:{}_{}'\n",
        "combined= bm25 + dph\n",
        "res=combined.transform(topics)\n",
        "\n",
        "def get_ep(a,b):\n",
        "  return id_template.format(a,b)\n",
        "\n",
        "df = pd.DataFrame(res, columns=['qid', 'rank', 'docno', 'score'])\n",
        "df[\"ep_id\"]=df[\"docno\"].apply(lambda x: x.split(\"_\")[1].split(\"-\")[0])\n",
        "df[\"episode\"]=df[\"docno\"].apply(lambda x: x.split(\"_\")[0])\n",
        "df[\"docno\"]=df.apply(lambda x: get_ep(x[\"episode\"],x[\"ep_id\"]),axis=1)\n",
        "df[\"docno\"]=df[\"docno\"]+\".0\"\n",
        "rsl=df[[\"qid\",\"docno\",\"rank\",\"score\"]]"
      ]
    },
    {
      "cell_type": "code",
      "execution_count": null,
      "metadata": {
        "colab": {
          "base_uri": "https://localhost:8080/"
        },
        "id": "VMAiNEzRf126",
        "outputId": "04ad84b1-518a-4b7b-dd86-df05acd9e6d4"
      },
      "outputs": [
        {
          "output_type": "execute_result",
          "data": {
            "text/plain": [
              "{'map': 0.326443935878028,\n",
              " 'ndcg': 0.570547109064818,\n",
              " 'ndcg_cut_30': 0.3725153266746206,\n",
              " 'P_10': 0.40833333333333327}"
            ]
          },
          "metadata": {},
          "execution_count": 31
        }
      ],
      "source": [
        "qrels_path=(\"/content/drive/MyDrive/IRDM/podcasts_2020_test.qrels\")\n",
        "qrels = pt.io.read_qrels(qrels_path)\n",
        "pt.Utils.evaluate(rsl,qrels,metrics=['map',\"ndcg\",\"ndcg_cut_30\",\"P_10\"])"
      ]
    },
    {
      "cell_type": "code",
      "source": [
        "\n",
        "topics = pt.io.read_topics(\"/content/drive/MyDrive/IRDM/podcasts_2020_topics_test.xml\",format=\"trecxml\")\n",
        "\n",
        "qe = pt.BatchRetrieve(wiki_no_difference, controls={'wmodel': \"BM25\"}) >> \\\n",
        "            pt.rewrite.QueryExpansion(wiki_no_difference, fb_terms=15, fb_docs=6) >> \\\n",
        "            pt.BatchRetrieve(wiki_no_difference, controls={'wmodel': \"PL2\",\"c\":20})\n",
        "\n",
        "\n",
        "\n",
        "\n",
        "import pandas as pd\n",
        "\n",
        "res=qe.transform(topics)\n",
        "\n",
        "df = pd.DataFrame(res, columns=['qid', 'rank', 'docno', 'score'])\n",
        "\n",
        "df[\"ep_id\"]=df[\"docno\"].apply(lambda x: x.split(\"_\")[1].split(\"-\")[0])\n",
        "df[\"episode\"]=df[\"docno\"].apply(lambda x: x.split(\"_\")[0])\n",
        "df[\"docno\"]=df.apply(lambda x: get_ep(x[\"episode\"],x[\"ep_id\"]),axis=1)\n",
        "df[\"docno\"]=df[\"docno\"]+\".0\"\n",
        "rsl=df[[\"qid\",\"docno\",\"rank\",\"score\"]]\n",
        "\n",
        "rsl=df[[\"qid\",\"docno\",\"rank\",\"score\"]]\n",
        "\n",
        "\n",
        "\n",
        "qrels_path=(\"/content/drive/MyDrive/IRDM/podcasts_2020_test.qrels\")\n",
        "qrels = pt.io.read_qrels(qrels_path)\n",
        "\n",
        "\n",
        "print(\"Qe \")\n",
        "print(pt.Utils.evaluate(rsl,qrels,metrics=['map',\"ndcg\",\"ndcg_cut_30\",\"P_10\"]))"
      ],
      "metadata": {
        "colab": {
          "base_uri": "https://localhost:8080/"
        },
        "id": "0fNgrweCQIQs",
        "outputId": "e6594b6b-5a44-47ee-cb4d-14aec2e7431d"
      },
      "execution_count": null,
      "outputs": [
        {
          "output_type": "stream",
          "name": "stdout",
          "text": [
            "14:26:49.228 [main] WARN org.terrier.querying.QueryExpansion - qemodel control not set for QueryExpansion post process. Using default model Bo1\n",
            "Qe \n",
            "{'map': 0.3594896727893227, 'ndcg': 0.5818676337919272, 'ndcg_cut_30': 0.40024616726520473, 'P_10': 0.4729166666666667}\n"
          ]
        }
      ]
    },
    {
      "cell_type": "code",
      "source": [
        "\n",
        "topics = pt.io.read_topics(\"/content/drive/MyDrive/IRDM/podcasts_2020_topics_test.xml\",format=\"trecxml\")\n",
        "\n",
        "qe = pt.BatchRetrieve(raw, controls={'wmodel': \"BM25\"}) >> \\\n",
        "            pt.rewrite.QueryExpansion(raw, fb_terms=15, fb_docs=6) >> \\\n",
        "            pt.BatchRetrieve(raw, controls={'wmodel': \"PL2\",\"c\":20})\n",
        "\n",
        "\n",
        "\n",
        "\n",
        "import pandas as pd\n",
        "\n",
        "res=qe.transform(topics)\n",
        "\n",
        "df = pd.DataFrame(res, columns=['qid', 'rank', 'docno', 'score'])\n",
        "\n",
        "df[\"ep_id\"]=df[\"docno\"].apply(lambda x: x.split(\"_\")[1].split(\"-\")[0])\n",
        "df[\"episode\"]=df[\"docno\"].apply(lambda x: x.split(\"_\")[0])\n",
        "df[\"docno\"]=df.apply(lambda x: get_ep(x[\"episode\"],x[\"ep_id\"]),axis=1)\n",
        "df[\"docno\"]=df[\"docno\"]+\".0\"\n",
        "rsl=df[[\"qid\",\"docno\",\"rank\",\"score\"]]\n",
        "\n",
        "rsl=df[[\"qid\",\"docno\",\"rank\",\"score\"]]\n",
        "\n",
        "\n",
        "\n",
        "qrels_path=(\"/content/drive/MyDrive/IRDM/podcasts_2020_test.qrels\")\n",
        "qrels = pt.io.read_qrels(qrels_path)\n",
        "\n",
        "\n",
        "print(\"Qe \")\n",
        "print(pt.Utils.evaluate(rsl,qrels,metrics=['map',\"ndcg\",\"ndcg_cut_30\",\"P_10\"]))"
      ],
      "metadata": {
        "colab": {
          "base_uri": "https://localhost:8080/"
        },
        "id": "U_gVounXZDrl",
        "outputId": "f66d97bd-ac5f-4788-a549-1fc05996cf8a"
      },
      "execution_count": null,
      "outputs": [
        {
          "output_type": "stream",
          "name": "stdout",
          "text": [
            "14:54:18.469 [main] WARN org.terrier.querying.QueryExpansion - qemodel control not set for QueryExpansion post process. Using default model Bo1\n",
            "Qe \n",
            "{'map': 0.37359149332068187, 'ndcg': 0.5755390063437716, 'ndcg_cut_30': 0.3979215958035478, 'P_10': 0.47708333333333347}\n"
          ]
        }
      ]
    },
    {
      "cell_type": "code",
      "source": [],
      "metadata": {
        "id": "W6bJF7fXQhWs"
      },
      "execution_count": null,
      "outputs": []
    },
    {
      "cell_type": "code",
      "execution_count": null,
      "metadata": {
        "id": "8n_wd3oQltwA"
      },
      "outputs": [],
      "source": [
        "topics = pt.io.read_topics(\"/content/drive/MyDrive/IRDM/ent_test.xml\",format=\"trecxml\")\n",
        "\n",
        "def get_retr(index, param_b, param_k1):\n",
        "    retr = pt.BatchRetrieve(index, controls={'wmodel': \"BM25\", \"c\": param_b},\n",
        "        properties={'bm25.k_1': param_k1})\n",
        "    return retr\n",
        "\n",
        "def get_dph(index):\n",
        "    return pt.BatchRetrieve(index, controls={\"wmodel\": \"DPH\"})\n",
        "\n",
        "\n",
        "bm25 = get_retr(raw, 0.75, 1.2) >> \\\n",
        "            pt.pipelines.PerQueryMaxMinScoreTransformer()\n",
        "dph = get_dph(raw) >> \\\n",
        "            pt.pipelines.PerQueryMaxMinScoreTransformer()\n",
        "\n",
        "\n",
        "def write_trec(df, args):\n",
        "    import sys\n",
        "    print('query-id Q0 document-id rank score STANDARD')\n",
        "    from contextlib import redirect_stdout\n",
        "\n",
        "    with open('/content/drive/MyDrive/IRDM/output.txt', 'w') as f:\n",
        "      with redirect_stdout(f):\n",
        "        for t in df.itertuples():\n",
        "          qid, rank, docno, score = t[1], t[2], t[3], t[4]\n",
        "\n",
        "          episode, timestamp = docno.split('_')\n",
        "          start_time = str(float(timestamp.split('-')[0]))\n",
        "          episode_id = id_template.format(episode, start_time)\n",
        "          orig_stdout = sys.stdout\n",
        "        \n",
        "          print('{} {} {} {} {}'.format(\n",
        "              qid, '0', episode_id, rank, score,))\n",
        "\n",
        "\n",
        "\n",
        "\n",
        "import pandas as pd\n",
        "id_template = 'spotify:episode:{}_{}'\n",
        "combined= bm25 + dph\n",
        "res=combined.transform(topics)\n",
        "\n",
        "def get_ep(a,b):\n",
        "  return id_template.format(a,b)\n",
        "\n",
        "df = pd.DataFrame(res, columns=['qid', 'rank', 'docno', 'score'])\n",
        "df[\"ep_id\"]=df[\"docno\"].apply(lambda x: x.split(\"_\")[1].split(\"-\")[0])\n",
        "df[\"episode\"]=df[\"docno\"].apply(lambda x: x.split(\"_\")[0])\n",
        "df[\"docno\"]=df.apply(lambda x: get_ep(x[\"episode\"],x[\"ep_id\"]),axis=1)\n",
        "df[\"docno\"]=df[\"docno\"]+\".0\"\n",
        "rsl=df[[\"qid\",\"docno\",\"rank\",\"score\"]]"
      ]
    },
    {
      "cell_type": "code",
      "execution_count": null,
      "metadata": {
        "id": "QeyryL34aL4e",
        "colab": {
          "base_uri": "https://localhost:8080/"
        },
        "outputId": "52661c95-7642-46f2-d8e8-505209919957"
      },
      "outputs": [
        {
          "output_type": "execute_result",
          "data": {
            "text/plain": [
              "{'map': 0.0, 'ndcg': 0.0, 'ndcg_cut_30': 0.0, 'P_10': 0.0}"
            ]
          },
          "metadata": {},
          "execution_count": 29
        }
      ],
      "source": [
        "qrels_path=(\"/content/drive/MyDrive/IRDM/podcasts_2020_test.qrels\")\n",
        "qrels = pt.io.read_qrels(qrels_path)\n",
        "pt.Utils.evaluate(rsl,qrels,metrics=['map',\"ndcg\",\"ndcg_cut_30\",\"P_10\"])"
      ]
    },
    {
      "cell_type": "code",
      "source": [],
      "metadata": {
        "id": "n0NApd64cJ0C"
      },
      "execution_count": null,
      "outputs": []
    },
    {
      "cell_type": "code",
      "execution_count": null,
      "metadata": {
        "id": "40zyzpmvgA_S"
      },
      "outputs": [],
      "source": []
    },
    {
      "cell_type": "code",
      "execution_count": null,
      "metadata": {
        "id": "JkjRL3yUgUld"
      },
      "outputs": [],
      "source": []
    },
    {
      "cell_type": "code",
      "execution_count": null,
      "metadata": {
        "id": "iptZaOUwgU__"
      },
      "outputs": [],
      "source": []
    },
    {
      "cell_type": "code",
      "execution_count": null,
      "metadata": {
        "id": "aUEgqU3mgkr9"
      },
      "outputs": [],
      "source": []
    },
    {
      "cell_type": "code",
      "execution_count": null,
      "metadata": {
        "colab": {
          "base_uri": "https://localhost:8080/"
        },
        "id": "8akbURW_g4ov",
        "outputId": "2f6d6854-55f3-4382-ee01-4e107eb988cd"
      },
      "outputs": [
        {
          "data": {
            "text/plain": [
              "{'map': 0.25422411493243313,\n",
              " 'ndcg': 0.5108938918540078,\n",
              " 'P_10': 0.30000000000000004}"
            ]
          },
          "execution_count": 202,
          "metadata": {},
          "output_type": "execute_result"
        }
      ],
      "source": []
    },
    {
      "cell_type": "code",
      "execution_count": null,
      "metadata": {
        "id": "JmPk_AWLle2p"
      },
      "outputs": [],
      "source": []
    },
    {
      "cell_type": "code",
      "execution_count": null,
      "metadata": {
        "id": "Du1XmOT3hGtX"
      },
      "outputs": [],
      "source": [
        "topics = pt.io.read_topics(\"/content/drive/MyDrive/IRDM/wikified_query.xml\",format=\"trecxml\")\n",
        "\n",
        "def get_retr(index, param_b, param_k1):\n",
        "    retr = pt.BatchRetrieve(index, controls={'wmodel': \"BM25\", \"c\": param_b},\n",
        "        properties={'bm25.k_1': param_k1})\n",
        "    return retr\n",
        "\n",
        "def get_dph(index):\n",
        "    return pt.BatchRetrieve(index, controls={\"wmodel\": \"DPH\"})\n",
        "\n",
        "\n",
        "bm25 = get_retr(wiki_no_difference, 0.75, 1.2) >> \\\n",
        "            pt.pipelines.PerQueryMaxMinScoreTransformer()\n",
        "dph = get_dph(wiki_no_difference) >> \\\n",
        "            pt.pipelines.PerQueryMaxMinScoreTransformer()\n",
        "\n",
        "\n",
        "import pandas as pd\n",
        "id_template = 'spotify:episode:{}_{}'\n",
        "combined= bm25 + dph\n",
        "res=combined.transform(topics)\n",
        "\n",
        "def get_ep(a,b):\n",
        "  return id_template.format(a,b)\n",
        "\n",
        "df = pd.DataFrame(res, columns=['qid', 'rank', 'docno', 'score'])\n",
        "df[\"ep_id\"]=df[\"docno\"].apply(lambda x: x.split(\"_\")[1].split(\"-\")[0])\n",
        "df[\"episode\"]=df[\"docno\"].apply(lambda x: x.split(\"_\")[0])\n",
        "df[\"docno\"]=df.apply(lambda x: get_ep(x[\"episode\"],x[\"ep_id\"]),axis=1)\n",
        "df[\"docno\"]=df[\"docno\"]+\".0\"\n",
        "rsl=df[[\"qid\",\"docno\",\"rank\",\"score\"]]"
      ]
    },
    {
      "cell_type": "code",
      "execution_count": null,
      "metadata": {
        "colab": {
          "base_uri": "https://localhost:8080/"
        },
        "id": "9K34GiiYhxHj",
        "outputId": "d30c3a81-2880-4526-8f47-4a915cce68a7"
      },
      "outputs": [
        {
          "data": {
            "text/plain": [
              "{'map': 0.20256940525228698,\n",
              " 'ndcg': 0.48670058356898993,\n",
              " 'ndcg_cut_30': 0.2874713617454185,\n",
              " 'P_10': 0.3125}"
            ]
          },
          "execution_count": 215,
          "metadata": {},
          "output_type": "execute_result"
        }
      ],
      "source": [
        "qrels_path=(\"/content/drive/MyDrive/IRDM/podcasts_2020_train.1-8.qrels\")\n",
        "qrels = pt.io.read_qrels(qrels_path)\n",
        "pt.Utils.evaluate(rsl,qrels,metrics=['map',\"ndcg\",\"ndcg_cut_30\",\"P_10\"])"
      ]
    },
    {
      "cell_type": "code",
      "execution_count": null,
      "metadata": {
        "colab": {
          "base_uri": "https://localhost:8080/"
        },
        "id": "sTc3qX9_hzgw",
        "outputId": "6635e9f1-fb78-4516-d12b-7e853cb1906e"
      },
      "outputs": [
        {
          "data": {
            "text/plain": [
              "{'map': 0.22052363593952226,\n",
              " 'ndcg': 0.5069845630459082,\n",
              " 'ndcg_cut_30': 0.3045576680805741,\n",
              " 'P_10': 0.36250000000000004}"
            ]
          },
          "execution_count": 216,
          "metadata": {},
          "output_type": "execute_result"
        }
      ],
      "source": [
        "topics = pt.io.read_topics(\"/content/drive/MyDrive/IRDM/wikified_query_test_ent.xml\",format=\"trecxml\")\n",
        "\n",
        "def get_retr(index, param_b, param_k1):\n",
        "    retr = pt.BatchRetrieve(index, controls={'wmodel': \"BM25\", \"c\": param_b},\n",
        "        properties={'bm25.k_1': param_k1})\n",
        "    return retr\n",
        "\n",
        "def get_dph(index):\n",
        "    return pt.BatchRetrieve(index, controls={\"wmodel\": \"DPH\"})\n",
        "\n",
        "\n",
        "def get_pl(index):\n",
        "    return pt.BatchRetrieve(index, controls={\"wmodel\": \"PL2\"},metadata=[\"docno\",'text'])\n",
        "\n",
        "bm25 = get_retr(wiki_no_difference, 0.75, 1.2) >> \\\n",
        "            pt.pipelines.PerQueryMaxMinScoreTransformer()\n",
        "dph = get_dph(wiki_no_difference) >> \\\n",
        "            pt.pipelines.PerQueryMaxMinScoreTransformer()\n",
        "\n",
        "\n",
        "pl2 = get_pl(wiki_no_difference) >> \\\n",
        "            pt.pipelines.PerQueryMaxMinScoreTransformer()\n",
        "\n",
        "\n",
        "\n",
        "import pandas as pd\n",
        "id_template = 'spotify:episode:{}_{}'\n",
        "combined= bm25 + dph\n",
        "res=combined.transform(topics)\n",
        "\n",
        "def get_ep(a,b):\n",
        "  return id_template.format(a,b)\n",
        "\n",
        "df = pd.DataFrame(res, columns=['qid', 'rank', 'docno', 'score'])\n",
        "df[\"ep_id\"]=df[\"docno\"].apply(lambda x: x.split(\"_\")[1].split(\"-\")[0])\n",
        "df[\"episode\"]=df[\"docno\"].apply(lambda x: x.split(\"_\")[0])\n",
        "df[\"docno\"]=df.apply(lambda x: get_ep(x[\"episode\"],x[\"ep_id\"]),axis=1)\n",
        "df[\"docno\"]=df[\"docno\"]+\".0\"\n",
        "rsl=df[[\"qid\",\"docno\",\"rank\",\"score\"]]\n",
        "\n",
        "qrels_path=(\"/content/drive/MyDrive/IRDM/podcasts_2020_train.1-8.qrels\")\n",
        "qrels = pt.io.read_qrels(qrels_path)\n",
        "pt.Utils.evaluate(rsl,qrels,metrics=['map',\"ndcg\",\"ndcg_cut_30\",\"P_10\"])"
      ]
    },
    {
      "cell_type": "code",
      "execution_count": null,
      "metadata": {
        "colab": {
          "base_uri": "https://localhost:8080/"
        },
        "id": "wSwNL4EFg7al",
        "outputId": "cf2fc673-cd66-478e-cb12-9cdaf34ccc5e"
      },
      "outputs": [
        {
          "data": {
            "text/plain": [
              "{'map': 0.20256940525228698,\n",
              " 'ndcg': 0.48670058356898993,\n",
              " 'ndcg_cut_30': 0.2874713617454185,\n",
              " 'P_10': 0.3125}"
            ]
          },
          "execution_count": 217,
          "metadata": {},
          "output_type": "execute_result"
        }
      ],
      "source": [
        "topics = pt.io.read_topics(\"/content/drive/MyDrive/IRDM/wikified_query_ent.xml\",format=\"trecxml\")\n",
        "\n",
        "def get_retr(index, param_b, param_k1):\n",
        "    retr = pt.BatchRetrieve(index, controls={'wmodel': \"BM25\", \"c\": param_b},\n",
        "        properties={'bm25.k_1': param_k1})\n",
        "    return retr\n",
        "\n",
        "def get_dph(index):\n",
        "    return pt.BatchRetrieve(index, controls={\"wmodel\": \"DPH\"})\n",
        "\n",
        "bm25 = get_retr(wiki_no_difference_2, 0.75, 1.2) >> \\\n",
        "            pt.pipelines.PerQueryMaxMinScoreTransformer()\n",
        "dph = get_dph(wiki_no_difference_2) >> \\\n",
        "            pt.pipelines.PerQueryMaxMinScoreTransformer()\n",
        "\n",
        "\n",
        "\n",
        "\n",
        "import pandas as pd\n",
        "id_template = 'spotify:episode:{}_{}'\n",
        "combined= bm25 + dph\n",
        "res=combined.transform(topics)\n",
        "\n",
        "def get_ep(a,b):\n",
        "  return id_template.format(a,b)\n",
        "\n",
        "df = pd.DataFrame(res, columns=['qid', 'rank', 'docno', 'score'])\n",
        "df[\"ep_id\"]=df[\"docno\"].apply(lambda x: x.split(\"_\")[1].split(\"-\")[0])\n",
        "df[\"episode\"]=df[\"docno\"].apply(lambda x: x.split(\"_\")[0])\n",
        "df[\"docno\"]=df.apply(lambda x: get_ep(x[\"episode\"],x[\"ep_id\"]),axis=1)\n",
        "df[\"docno\"]=df[\"docno\"]+\".0\"\n",
        "rsl=df[[\"qid\",\"docno\",\"rank\",\"score\"]]\n",
        "\n",
        "qrels_path=(\"/content/drive/MyDrive/IRDM/podcasts_2020_train.1-8.qrels\")\n",
        "qrels = pt.io.read_qrels(qrels_path)\n",
        "pt.Utils.evaluate(rsl,qrels,metrics=['map',\"ndcg\",\"ndcg_cut_30\",\"P_10\"])"
      ]
    },
    {
      "cell_type": "code",
      "execution_count": null,
      "metadata": {
        "colab": {
          "base_uri": "https://localhost:8080/",
          "height": 235
        },
        "id": "Y2a7BQTRg5GT",
        "outputId": "f8253af2-2aa1-40d0-e5ec-c888f7b69ac0"
      },
      "outputs": [
        {
          "output_type": "error",
          "ename": "NameError",
          "evalue": "ignored",
          "traceback": [
            "\u001b[0;31m---------------------------------------------------------------------------\u001b[0m",
            "\u001b[0;31mNameError\u001b[0m                                 Traceback (most recent call last)",
            "\u001b[0;32m<ipython-input-44-5d798fe3e24b>\u001b[0m in \u001b[0;36m<module>\u001b[0;34m\u001b[0m\n\u001b[1;32m     21\u001b[0m \u001b[0;34m\u001b[0m\u001b[0m\n\u001b[1;32m     22\u001b[0m \u001b[0;34m\u001b[0m\u001b[0m\n\u001b[0;32m---> 23\u001b[0;31m \u001b[0mbm25\u001b[0m \u001b[0;34m=\u001b[0m \u001b[0mget_retr\u001b[0m\u001b[0;34m(\u001b[0m\u001b[0mwiki_no_difference\u001b[0m\u001b[0;34m,\u001b[0m \u001b[0;36m0.75\u001b[0m\u001b[0;34m,\u001b[0m \u001b[0;36m1.2\u001b[0m\u001b[0;34m)\u001b[0m \u001b[0;34m>>\u001b[0m\u001b[0;31m \u001b[0m\u001b[0;31m\\\u001b[0m\u001b[0;34m\u001b[0m\u001b[0;34m\u001b[0m\u001b[0m\n\u001b[0m\u001b[1;32m     24\u001b[0m             \u001b[0mpt\u001b[0m\u001b[0;34m.\u001b[0m\u001b[0mpipelines\u001b[0m\u001b[0;34m.\u001b[0m\u001b[0mPerQueryMaxMinScoreTransformer\u001b[0m\u001b[0;34m(\u001b[0m\u001b[0;34m)\u001b[0m\u001b[0;34m\u001b[0m\u001b[0;34m\u001b[0m\u001b[0m\n\u001b[1;32m     25\u001b[0m \u001b[0mdph\u001b[0m \u001b[0;34m=\u001b[0m \u001b[0mget_dph\u001b[0m\u001b[0;34m(\u001b[0m\u001b[0mwiki_no_difference\u001b[0m\u001b[0;34m)\u001b[0m \u001b[0;34m>>\u001b[0m\u001b[0;31m \u001b[0m\u001b[0;31m\\\u001b[0m\u001b[0;34m\u001b[0m\u001b[0;34m\u001b[0m\u001b[0m\n",
            "\u001b[0;31mNameError\u001b[0m: name 'wiki_no_difference' is not defined"
          ]
        }
      ],
      "source": [
        "topics = pt.io.read_topics(\"/content/drive/MyDrive/IRDM/wikified_query_test_ent.xml\",format=\"trecxml\")\n",
        "\n",
        "def get_retr(index, param_b, param_k1):\n",
        "    retr = pt.BatchRetrieve(index, controls={'wmodel': \"BM25\", \"c\": param_b},\n",
        "        properties={'bm25.k_1': param_k1})\n",
        "    return retr\n",
        "\n",
        "def get_dph(index):\n",
        "    return pt.BatchRetrieve(index, controls={\"wmodel\": \"DPH\"})\n",
        "\n",
        "\n",
        "def get_pl(index):\n",
        "    return pt.BatchRetrieve(index, controls={\"wmodel\": \"PL2\"},metadata=[\"docno\",'text'])\n",
        "\n",
        "def get_qe(index):\n",
        "    return pt.BatchRetrieve(index, controls={'wmodel': \"DPH\"}) >> \\\n",
        "            pt.rewrite.QueryExpansion(index, fb_terms=20, fb_docs=20) >> \\\n",
        "            pt.BatchRetrieve(index, controls={'wmodel': \"DPH\"})\n",
        "\n",
        "\n",
        "\n",
        "\n",
        "bm25 = get_retr(wiki_no_difference, 0.75, 1.2) >> \\\n",
        "            pt.pipelines.PerQueryMaxMinScoreTransformer()\n",
        "dph = get_dph(wiki_no_difference) >> \\\n",
        "            pt.pipelines.PerQueryMaxMinScoreTransformer()\n",
        "\n",
        "\n",
        "pl2 = get_pl(wiki_no_difference_5) >> \\\n",
        "            pt.pipelines.PerQueryMaxMinScoreTransformer()\n",
        "\n",
        "\n",
        "qe = get_qe(raw) >> \\\n",
        "            pt.pipelines.PerQueryMaxMinScoreTransformer()    \n",
        "\n",
        "\n",
        "\n",
        "\n",
        "import pandas as pd\n",
        "id_template = 'spotify:episode:{}_{}'\n",
        "combined= 0.20*qe+0.20*bm25+0.50*dph\n",
        "res=combined.transform(topics)\n",
        "\n",
        "def get_ep(a,b):\n",
        "  return id_template.format(a,b)\n",
        "\n",
        "df = pd.DataFrame(res, columns=['qid', 'rank', 'docno', 'score'])\n",
        "df[\"ep_id\"]=df[\"docno\"].apply(lambda x: x.split(\"_\")[1].split(\"-\")[0])\n",
        "df[\"episode\"]=df[\"docno\"].apply(lambda x: x.split(\"_\")[0])\n",
        "df[\"docno\"]=df.apply(lambda x: get_ep(x[\"episode\"],x[\"ep_id\"]),axis=1)\n",
        "df[\"docno\"]=df[\"docno\"]+\".0\"\n",
        "rsl=df[[\"qid\",\"docno\",\"rank\",\"score\"]]\n",
        "\n",
        "qrels_path=(\"/content/drive/MyDrive/IRDM/podcasts_2020_test.qrels\")\n",
        "qrels = pt.io.read_qrels(qrels_path)\n",
        "pt.Utils.evaluate(rsl,qrels,metrics=['map',\"ndcg\",\"ndcg_cut_30\",\"P_10\"])"
      ]
    },
    {
      "cell_type": "code",
      "execution_count": null,
      "metadata": {
        "colab": {
          "base_uri": "https://localhost:8080/",
          "height": 1000,
          "referenced_widgets": [
            "cf42938f1a8040978e7d61b567bb7fc2",
            "172a3554070f4671bbb1d34a6e6d5c42",
            "7adce8e7f96d4a1ea47d6a42f20fee87",
            "1b332ae0dccb43f28dd11ee8dec67147",
            "a7893523dbe44c949f822b13c549124d",
            "a62e2fa37297423093af938981b0de84",
            "dc97449d87a5466699387c0a4e1db6bd",
            "8875272b8bd146b5840f10cdc466b337",
            "945ea840dc8b42eaa065485344eedb0e",
            "77183abf5651462ca79eeb1653a25056",
            "fe10fac6005a4517a8372ffd5b13e577",
            "b45bf11ceb1e4a44bdab21ab1d693b6e",
            "7c43c982d4534d14920f3ce2bbe9b120",
            "7a061298ebb446b288fe8bd068eaf6f2",
            "39b8e52a53b44b529b28e9d43415c2a8",
            "30313a32c33a48c0bfe1c0ae37e826f2",
            "69ab6a427062461d8ce92b164eba32f6",
            "15483ef34dee4f1fbf1e1cd0f8dba23d",
            "ce0031a7844a4baa9407a98ccc78abec",
            "d3d2e5bf81c14b2ea59e3b32f8a1b4b9",
            "3ba52dc9095240da9cb052e184732c7a",
            "ca71fb94d4d449c8980f5c390c80d4b0",
            "3dca2bcf93004b37a44983568d9284d9",
            "a3bd489657b24624bd142cbd66f97303",
            "7917bcef0dd04f37b9d88aa6611a3b2c",
            "cf8369cd9e024e9a948d371e7a1e7683",
            "8a8320597417453cadce0a1dcec0b46f",
            "d3c939c6624244078db3d5abdf544c49",
            "986d0729b39b46ffafe4a102b4fa6301",
            "e2cbc0462bec42dab29ec73220610777",
            "330f5106617d4d0a98ff5960276af410",
            "1607b38001a247daa004c588b8ed59e6",
            "173e522e765146fabe2fe9e7a917e73b",
            "30ecb3af7f7d4ae5bc0cbef7f125b4e3",
            "0fc7a6cf8f954237a1139b442a7337be",
            "1cef13ac0ef34dfca56c7cf087475662",
            "9d359d3b29a04ddcaaf94d64c157107f",
            "00896d37afb8460f8f9b707ce024d725",
            "a39ef276b04147e88827a7b8a28d63e3",
            "a22c664e49fb48bc930f0e790c83219e",
            "432ad3d68b074389974bbf6fbfbf1cda",
            "78e322e845e94cb6a0de29cfbfea1b4f",
            "d59d9c7a1c824a8498e3e8f813eb197c",
            "c0a229f6ea9048559659d5e42fa5e80e",
            "0ebffabc7ff7499f802a46823a31f857",
            "187cc22a6b7a468fa9d04da17a3d5172",
            "b107c76fcf994617b7e58d4581d74e58",
            "d8f51a15184343ae9dcd827d5b97ffa5",
            "35238ce1cef94b899635de913922cf44",
            "8f2e0c5a9b97474aa36e1358590df6d7",
            "fcf246cfb37145fab196c1b3308e4b24",
            "83f695ae2bdf491896d202bac36017f8",
            "c5da04d226c34a4b8d7cba54078d1ae7",
            "18ca02f0bfeb4cb1bc839d5d74cf8352",
            "fe0e46efaf9d44a99fe50b1e9fb3bbc3",
            "ee58b39ca81b49208e365c2b5a2a85a1",
            "def08a9f6e79492fb521139bf119e327",
            "1d13e32cf24548f4b890f3e0e0922eb8",
            "3c334d94fafa43dd88a2813720e2446d",
            "b63d1328d6db4dc98d2d484e0402e843",
            "33327227b67f4af5adb4607207e5e8db",
            "11e8c7ef8d134fa2aad8d6f2d98a7326",
            "5cba67f583e64340a0c5907afed32dce",
            "b5435cb50dd34342b65f85545b124449",
            "ef51c84faa3d4ae5893a0ecafa57fa3f",
            "4804c3cbc4544be3818c2a6d40f05af2"
          ]
        },
        "id": "9lK28muCg021",
        "outputId": "5795d293-bca1-4855-e3a7-4b7b93961b90"
      },
      "outputs": [
        {
          "name": "stdout",
          "output_type": "stream",
          "text": [
            "Looking in indexes: https://pypi.org/simple, https://us-python.pkg.dev/colab-wheels/public/simple/\n",
            "Collecting python-terrier\n",
            "  Cloning https://github.com/terrier-org/pyterrier.git to /tmp/pip-install-kmseezio/python-terrier_72517e5100df461d8608c86a99a0cf34\n",
            "  Running command git clone -q https://github.com/terrier-org/pyterrier.git /tmp/pip-install-kmseezio/python-terrier_72517e5100df461d8608c86a99a0cf34\n",
            "Requirement already satisfied: numpy in /usr/local/lib/python3.7/dist-packages (from python-terrier) (1.21.6)\n",
            "Requirement already satisfied: pandas in /usr/local/lib/python3.7/dist-packages (from python-terrier) (1.3.5)\n",
            "Requirement already satisfied: wget in /usr/local/lib/python3.7/dist-packages (from python-terrier) (3.2)\n",
            "Requirement already satisfied: tqdm in /usr/local/lib/python3.7/dist-packages (from python-terrier) (4.64.0)\n",
            "Collecting pyjnius>=1.4.2\n",
            "  Downloading pyjnius-1.4.2-cp37-cp37m-manylinux_2_17_x86_64.manylinux2014_x86_64.whl (1.3 MB)\n",
            "\u001b[K     |████████████████████████████████| 1.3 MB 5.1 MB/s \n",
            "\u001b[?25hRequirement already satisfied: matchpy in /usr/local/lib/python3.7/dist-packages (from python-terrier) (0.5.5)\n",
            "Requirement already satisfied: sklearn in /usr/local/lib/python3.7/dist-packages (from python-terrier) (0.0)\n",
            "Requirement already satisfied: deprecation in /usr/local/lib/python3.7/dist-packages (from python-terrier) (2.1.0)\n",
            "Requirement already satisfied: chest in /usr/local/lib/python3.7/dist-packages (from python-terrier) (0.2.3)\n",
            "Requirement already satisfied: scipy in /usr/local/lib/python3.7/dist-packages (from python-terrier) (1.7.3)\n",
            "Requirement already satisfied: requests in /usr/local/lib/python3.7/dist-packages (from python-terrier) (2.23.0)\n",
            "Requirement already satisfied: joblib in /usr/local/lib/python3.7/dist-packages (from python-terrier) (1.1.0)\n",
            "Requirement already satisfied: nptyping==1.4.4 in /usr/local/lib/python3.7/dist-packages (from python-terrier) (1.4.4)\n",
            "Requirement already satisfied: more_itertools in /usr/local/lib/python3.7/dist-packages (from python-terrier) (8.14.0)\n",
            "Requirement already satisfied: ir_datasets>=0.3.2 in /usr/local/lib/python3.7/dist-packages (from python-terrier) (0.5.3)\n",
            "Requirement already satisfied: jinja2 in /usr/local/lib/python3.7/dist-packages (from python-terrier) (2.11.3)\n",
            "Requirement already satisfied: statsmodels in /usr/local/lib/python3.7/dist-packages (from python-terrier) (0.12.2)\n",
            "Requirement already satisfied: ir_measures>=0.3.1 in /usr/local/lib/python3.7/dist-packages (from python-terrier) (0.3.1)\n",
            "Requirement already satisfied: dill in /usr/local/lib/python3.7/dist-packages (from python-terrier) (0.3.5.1)\n",
            "Requirement already satisfied: pytrec_eval_terrier>=0.5.3 in /usr/local/lib/python3.7/dist-packages (from python-terrier) (0.5.3)\n",
            "Requirement already satisfied: typish>=1.7.0 in /usr/local/lib/python3.7/dist-packages (from nptyping==1.4.4->python-terrier) (1.9.3)\n",
            "Requirement already satisfied: pyyaml>=5.3.1 in /usr/local/lib/python3.7/dist-packages (from ir_datasets>=0.3.2->python-terrier) (6.0)\n",
            "Requirement already satisfied: lz4>=3.1.1 in /usr/local/lib/python3.7/dist-packages (from ir_datasets>=0.3.2->python-terrier) (4.0.2)\n",
            "Requirement already satisfied: pyautocorpus>=0.1.1 in /usr/local/lib/python3.7/dist-packages (from ir_datasets>=0.3.2->python-terrier) (0.1.8)\n",
            "Requirement already satisfied: lxml>=4.5.2 in /usr/local/lib/python3.7/dist-packages (from ir_datasets>=0.3.2->python-terrier) (4.9.1)\n",
            "Requirement already satisfied: trec-car-tools>=2.5.4 in /usr/local/lib/python3.7/dist-packages (from ir_datasets>=0.3.2->python-terrier) (2.6)\n",
            "Requirement already satisfied: warc3-wet>=0.2.3 in /usr/local/lib/python3.7/dist-packages (from ir_datasets>=0.3.2->python-terrier) (0.2.3)\n",
            "Requirement already satisfied: warc3-wet-clueweb09>=0.2.5 in /usr/local/lib/python3.7/dist-packages (from ir_datasets>=0.3.2->python-terrier) (0.2.5)\n",
            "Requirement already satisfied: unlzw3>=0.2.1 in /usr/local/lib/python3.7/dist-packages (from ir_datasets>=0.3.2->python-terrier) (0.2.1)\n",
            "Requirement already satisfied: beautifulsoup4>=4.4.1 in /usr/local/lib/python3.7/dist-packages (from ir_datasets>=0.3.2->python-terrier) (4.6.3)\n",
            "Requirement already satisfied: zlib-state>=0.1.3 in /usr/local/lib/python3.7/dist-packages (from ir_datasets>=0.3.2->python-terrier) (0.1.5)\n",
            "Requirement already satisfied: ijson>=3.1.3 in /usr/local/lib/python3.7/dist-packages (from ir_datasets>=0.3.2->python-terrier) (3.1.4)\n",
            "Requirement already satisfied: cwl-eval>=1.0.10 in /usr/local/lib/python3.7/dist-packages (from ir_measures>=0.3.1->python-terrier) (1.0.10)\n",
            "Requirement already satisfied: six>=1.7.0 in /usr/local/lib/python3.7/dist-packages (from pyjnius>=1.4.2->python-terrier) (1.15.0)\n",
            "Requirement already satisfied: chardet<4,>=3.0.2 in /usr/local/lib/python3.7/dist-packages (from requests->python-terrier) (3.0.4)\n",
            "Requirement already satisfied: urllib3!=1.25.0,!=1.25.1,<1.26,>=1.21.1 in /usr/local/lib/python3.7/dist-packages (from requests->python-terrier) (1.24.3)\n",
            "Requirement already satisfied: idna<3,>=2.5 in /usr/local/lib/python3.7/dist-packages (from requests->python-terrier) (2.10)\n",
            "Requirement already satisfied: certifi>=2017.4.17 in /usr/local/lib/python3.7/dist-packages (from requests->python-terrier) (2022.6.15)\n",
            "Requirement already satisfied: cbor>=1.0.0 in /usr/local/lib/python3.7/dist-packages (from trec-car-tools>=2.5.4->ir_datasets>=0.3.2->python-terrier) (1.0.0)\n",
            "Requirement already satisfied: heapdict in /usr/local/lib/python3.7/dist-packages (from chest->python-terrier) (1.0.1)\n",
            "Requirement already satisfied: packaging in /usr/local/lib/python3.7/dist-packages (from deprecation->python-terrier) (21.3)\n",
            "Requirement already satisfied: MarkupSafe>=0.23 in /usr/local/lib/python3.7/dist-packages (from jinja2->python-terrier) (2.0.1)\n",
            "Requirement already satisfied: multiset<3.0,>=2.0 in /usr/local/lib/python3.7/dist-packages (from matchpy->python-terrier) (2.1.1)\n",
            "Requirement already satisfied: pyparsing!=3.0.5,>=2.0.2 in /usr/local/lib/python3.7/dist-packages (from packaging->deprecation->python-terrier) (3.0.9)\n",
            "Requirement already satisfied: pytz>=2017.3 in /usr/local/lib/python3.7/dist-packages (from pandas->python-terrier) (2022.2.1)\n",
            "Requirement already satisfied: python-dateutil>=2.7.3 in /usr/local/lib/python3.7/dist-packages (from pandas->python-terrier) (2.8.2)\n",
            "Requirement already satisfied: scikit-learn in /usr/local/lib/python3.7/dist-packages (from sklearn->python-terrier) (1.0.2)\n",
            "Requirement already satisfied: threadpoolctl>=2.0.0 in /usr/local/lib/python3.7/dist-packages (from scikit-learn->sklearn->python-terrier) (3.1.0)\n",
            "Requirement already satisfied: patsy>=0.5 in /usr/local/lib/python3.7/dist-packages (from statsmodels->python-terrier) (0.5.2)\n",
            "Installing collected packages: pyjnius\n",
            "  Attempting uninstall: pyjnius\n",
            "    Found existing installation: pyjnius 1.3.0\n",
            "    Uninstalling pyjnius-1.3.0:\n",
            "      Successfully uninstalled pyjnius-1.3.0\n",
            "\u001b[31mERROR: pip's dependency resolver does not currently take into account all the packages that are installed. This behaviour is the source of the following dependency conflicts.\n",
            "python-terrier 0.8.1 requires pyjnius~=1.3.0, but you have pyjnius 1.4.2 which is incompatible.\u001b[0m\n",
            "Successfully installed pyjnius-1.4.2\n"
          ]
        },
        {
          "data": {
            "application/vnd.colab-display-data+json": {
              "pip_warning": {
                "packages": [
                  "jnius",
                  "jnius_config"
                ]
              }
            }
          },
          "metadata": {},
          "output_type": "display_data"
        },
        {
          "name": "stdout",
          "output_type": "stream",
          "text": [
            "Looking in indexes: https://pypi.org/simple, https://us-python.pkg.dev/colab-wheels/public/simple/\n",
            "Collecting git+https://github.com/terrierteam/pyterrier_t5.git\n",
            "  Cloning https://github.com/terrierteam/pyterrier_t5.git to /tmp/pip-req-build-6i23iiro\n",
            "  Running command git clone -q https://github.com/terrierteam/pyterrier_t5.git /tmp/pip-req-build-6i23iiro\n",
            "Requirement already satisfied: python-terrier>=0.5.0 in /usr/local/lib/python3.7/dist-packages (from pyterrier-t5==0.0.1) (0.8.1)\n",
            "Requirement already satisfied: pandas in /usr/local/lib/python3.7/dist-packages (from pyterrier-t5==0.0.1) (1.3.5)\n",
            "Collecting transformers>=4.0.0\n",
            "  Downloading transformers-4.21.2-py3-none-any.whl (4.7 MB)\n",
            "\u001b[K     |████████████████████████████████| 4.7 MB 5.0 MB/s \n",
            "\u001b[?25hRequirement already satisfied: torch in /usr/local/lib/python3.7/dist-packages (from pyterrier-t5==0.0.1) (1.12.1+cu113)\n",
            "Collecting sentencepiece>=0.1.95\n",
            "  Downloading sentencepiece-0.1.97-cp37-cp37m-manylinux_2_17_x86_64.manylinux2014_x86_64.whl (1.3 MB)\n",
            "\u001b[K     |████████████████████████████████| 1.3 MB 41.3 MB/s \n",
            "\u001b[?25hRequirement already satisfied: numpy in /usr/local/lib/python3.7/dist-packages (from python-terrier>=0.5.0->pyterrier-t5==0.0.1) (1.21.6)\n",
            "Requirement already satisfied: matchpy in /usr/local/lib/python3.7/dist-packages (from python-terrier>=0.5.0->pyterrier-t5==0.0.1) (0.5.5)\n",
            "Requirement already satisfied: statsmodels in /usr/local/lib/python3.7/dist-packages (from python-terrier>=0.5.0->pyterrier-t5==0.0.1) (0.12.2)\n",
            "Requirement already satisfied: joblib in /usr/local/lib/python3.7/dist-packages (from python-terrier>=0.5.0->pyterrier-t5==0.0.1) (1.1.0)\n",
            "Requirement already satisfied: tqdm in /usr/local/lib/python3.7/dist-packages (from python-terrier>=0.5.0->pyterrier-t5==0.0.1) (4.64.0)\n",
            "Requirement already satisfied: nptyping==1.4.4 in /usr/local/lib/python3.7/dist-packages (from python-terrier>=0.5.0->pyterrier-t5==0.0.1) (1.4.4)\n",
            "Requirement already satisfied: requests in /usr/local/lib/python3.7/dist-packages (from python-terrier>=0.5.0->pyterrier-t5==0.0.1) (2.23.0)\n",
            "Requirement already satisfied: more-itertools in /usr/local/lib/python3.7/dist-packages (from python-terrier>=0.5.0->pyterrier-t5==0.0.1) (8.14.0)\n",
            "Requirement already satisfied: deprecation in /usr/local/lib/python3.7/dist-packages (from python-terrier>=0.5.0->pyterrier-t5==0.0.1) (2.1.0)\n",
            "Requirement already satisfied: sklearn in /usr/local/lib/python3.7/dist-packages (from python-terrier>=0.5.0->pyterrier-t5==0.0.1) (0.0)\n",
            "Requirement already satisfied: dill in /usr/local/lib/python3.7/dist-packages (from python-terrier>=0.5.0->pyterrier-t5==0.0.1) (0.3.5.1)\n",
            "Requirement already satisfied: jinja2 in /usr/local/lib/python3.7/dist-packages (from python-terrier>=0.5.0->pyterrier-t5==0.0.1) (2.11.3)\n",
            "Requirement already satisfied: chest in /usr/local/lib/python3.7/dist-packages (from python-terrier>=0.5.0->pyterrier-t5==0.0.1) (0.2.3)\n",
            "Requirement already satisfied: ir-measures>=0.2.0 in /usr/local/lib/python3.7/dist-packages (from python-terrier>=0.5.0->pyterrier-t5==0.0.1) (0.3.1)\n",
            "Requirement already satisfied: wget in /usr/local/lib/python3.7/dist-packages (from python-terrier>=0.5.0->pyterrier-t5==0.0.1) (3.2)\n",
            "Collecting pyjnius~=1.3.0\n",
            "  Using cached pyjnius-1.3.0-cp37-cp37m-manylinux2010_x86_64.whl (1.1 MB)\n",
            "Requirement already satisfied: ir-datasets>=0.3.2 in /usr/local/lib/python3.7/dist-packages (from python-terrier>=0.5.0->pyterrier-t5==0.0.1) (0.5.3)\n",
            "Requirement already satisfied: scipy in /usr/local/lib/python3.7/dist-packages (from python-terrier>=0.5.0->pyterrier-t5==0.0.1) (1.7.3)\n",
            "Requirement already satisfied: typish>=1.7.0 in /usr/local/lib/python3.7/dist-packages (from nptyping==1.4.4->python-terrier>=0.5.0->pyterrier-t5==0.0.1) (1.9.3)\n",
            "Requirement already satisfied: pyautocorpus>=0.1.1 in /usr/local/lib/python3.7/dist-packages (from ir-datasets>=0.3.2->python-terrier>=0.5.0->pyterrier-t5==0.0.1) (0.1.8)\n",
            "Requirement already satisfied: pyyaml>=5.3.1 in /usr/local/lib/python3.7/dist-packages (from ir-datasets>=0.3.2->python-terrier>=0.5.0->pyterrier-t5==0.0.1) (6.0)\n",
            "Requirement already satisfied: zlib-state>=0.1.3 in /usr/local/lib/python3.7/dist-packages (from ir-datasets>=0.3.2->python-terrier>=0.5.0->pyterrier-t5==0.0.1) (0.1.5)\n",
            "Requirement already satisfied: warc3-wet>=0.2.3 in /usr/local/lib/python3.7/dist-packages (from ir-datasets>=0.3.2->python-terrier>=0.5.0->pyterrier-t5==0.0.1) (0.2.3)\n",
            "Requirement already satisfied: lxml>=4.5.2 in /usr/local/lib/python3.7/dist-packages (from ir-datasets>=0.3.2->python-terrier>=0.5.0->pyterrier-t5==0.0.1) (4.9.1)\n",
            "Requirement already satisfied: unlzw3>=0.2.1 in /usr/local/lib/python3.7/dist-packages (from ir-datasets>=0.3.2->python-terrier>=0.5.0->pyterrier-t5==0.0.1) (0.2.1)\n",
            "Requirement already satisfied: lz4>=3.1.1 in /usr/local/lib/python3.7/dist-packages (from ir-datasets>=0.3.2->python-terrier>=0.5.0->pyterrier-t5==0.0.1) (4.0.2)\n",
            "Requirement already satisfied: warc3-wet-clueweb09>=0.2.5 in /usr/local/lib/python3.7/dist-packages (from ir-datasets>=0.3.2->python-terrier>=0.5.0->pyterrier-t5==0.0.1) (0.2.5)\n",
            "Requirement already satisfied: trec-car-tools>=2.5.4 in /usr/local/lib/python3.7/dist-packages (from ir-datasets>=0.3.2->python-terrier>=0.5.0->pyterrier-t5==0.0.1) (2.6)\n",
            "Requirement already satisfied: beautifulsoup4>=4.4.1 in /usr/local/lib/python3.7/dist-packages (from ir-datasets>=0.3.2->python-terrier>=0.5.0->pyterrier-t5==0.0.1) (4.6.3)\n",
            "Requirement already satisfied: ijson>=3.1.3 in /usr/local/lib/python3.7/dist-packages (from ir-datasets>=0.3.2->python-terrier>=0.5.0->pyterrier-t5==0.0.1) (3.1.4)\n",
            "Requirement already satisfied: pytrec-eval-terrier>=0.5.2 in /usr/local/lib/python3.7/dist-packages (from ir-measures>=0.2.0->python-terrier>=0.5.0->pyterrier-t5==0.0.1) (0.5.3)\n",
            "Requirement already satisfied: cwl-eval>=1.0.10 in /usr/local/lib/python3.7/dist-packages (from ir-measures>=0.2.0->python-terrier>=0.5.0->pyterrier-t5==0.0.1) (1.0.10)\n",
            "Requirement already satisfied: six>=1.7.0 in /usr/local/lib/python3.7/dist-packages (from pyjnius~=1.3.0->python-terrier>=0.5.0->pyterrier-t5==0.0.1) (1.15.0)\n",
            "Requirement already satisfied: cython in /usr/local/lib/python3.7/dist-packages (from pyjnius~=1.3.0->python-terrier>=0.5.0->pyterrier-t5==0.0.1) (0.29.32)\n",
            "Requirement already satisfied: certifi>=2017.4.17 in /usr/local/lib/python3.7/dist-packages (from requests->python-terrier>=0.5.0->pyterrier-t5==0.0.1) (2022.6.15)\n",
            "Requirement already satisfied: chardet<4,>=3.0.2 in /usr/local/lib/python3.7/dist-packages (from requests->python-terrier>=0.5.0->pyterrier-t5==0.0.1) (3.0.4)\n",
            "Requirement already satisfied: urllib3!=1.25.0,!=1.25.1,<1.26,>=1.21.1 in /usr/local/lib/python3.7/dist-packages (from requests->python-terrier>=0.5.0->pyterrier-t5==0.0.1) (1.24.3)\n",
            "Requirement already satisfied: idna<3,>=2.5 in /usr/local/lib/python3.7/dist-packages (from requests->python-terrier>=0.5.0->pyterrier-t5==0.0.1) (2.10)\n",
            "Requirement already satisfied: importlib-metadata in /usr/local/lib/python3.7/dist-packages (from transformers>=4.0.0->pyterrier-t5==0.0.1) (4.12.0)\n",
            "Collecting tokenizers!=0.11.3,<0.13,>=0.11.1\n",
            "  Downloading tokenizers-0.12.1-cp37-cp37m-manylinux_2_12_x86_64.manylinux2010_x86_64.whl (6.6 MB)\n",
            "\u001b[K     |████████████████████████████████| 6.6 MB 52.0 MB/s \n",
            "\u001b[?25hRequirement already satisfied: filelock in /usr/local/lib/python3.7/dist-packages (from transformers>=4.0.0->pyterrier-t5==0.0.1) (3.8.0)\n",
            "Requirement already satisfied: regex!=2019.12.17 in /usr/local/lib/python3.7/dist-packages (from transformers>=4.0.0->pyterrier-t5==0.0.1) (2022.6.2)\n",
            "Requirement already satisfied: packaging>=20.0 in /usr/local/lib/python3.7/dist-packages (from transformers>=4.0.0->pyterrier-t5==0.0.1) (21.3)\n",
            "Collecting huggingface-hub<1.0,>=0.1.0\n",
            "  Downloading huggingface_hub-0.9.1-py3-none-any.whl (120 kB)\n",
            "\u001b[K     |████████████████████████████████| 120 kB 58.9 MB/s \n",
            "\u001b[?25hRequirement already satisfied: typing-extensions>=3.7.4.3 in /usr/local/lib/python3.7/dist-packages (from huggingface-hub<1.0,>=0.1.0->transformers>=4.0.0->pyterrier-t5==0.0.1) (4.1.1)\n",
            "Requirement already satisfied: pyparsing!=3.0.5,>=2.0.2 in /usr/local/lib/python3.7/dist-packages (from packaging>=20.0->transformers>=4.0.0->pyterrier-t5==0.0.1) (3.0.9)\n",
            "Requirement already satisfied: cbor>=1.0.0 in /usr/local/lib/python3.7/dist-packages (from trec-car-tools>=2.5.4->ir-datasets>=0.3.2->python-terrier>=0.5.0->pyterrier-t5==0.0.1) (1.0.0)\n",
            "Requirement already satisfied: heapdict in /usr/local/lib/python3.7/dist-packages (from chest->python-terrier>=0.5.0->pyterrier-t5==0.0.1) (1.0.1)\n",
            "Requirement already satisfied: zipp>=0.5 in /usr/local/lib/python3.7/dist-packages (from importlib-metadata->transformers>=4.0.0->pyterrier-t5==0.0.1) (3.8.1)\n",
            "Requirement already satisfied: MarkupSafe>=0.23 in /usr/local/lib/python3.7/dist-packages (from jinja2->python-terrier>=0.5.0->pyterrier-t5==0.0.1) (2.0.1)\n",
            "Requirement already satisfied: multiset<3.0,>=2.0 in /usr/local/lib/python3.7/dist-packages (from matchpy->python-terrier>=0.5.0->pyterrier-t5==0.0.1) (2.1.1)\n",
            "Requirement already satisfied: python-dateutil>=2.7.3 in /usr/local/lib/python3.7/dist-packages (from pandas->pyterrier-t5==0.0.1) (2.8.2)\n",
            "Requirement already satisfied: pytz>=2017.3 in /usr/local/lib/python3.7/dist-packages (from pandas->pyterrier-t5==0.0.1) (2022.2.1)\n",
            "Requirement already satisfied: scikit-learn in /usr/local/lib/python3.7/dist-packages (from sklearn->python-terrier>=0.5.0->pyterrier-t5==0.0.1) (1.0.2)\n",
            "Requirement already satisfied: threadpoolctl>=2.0.0 in /usr/local/lib/python3.7/dist-packages (from scikit-learn->sklearn->python-terrier>=0.5.0->pyterrier-t5==0.0.1) (3.1.0)\n",
            "Requirement already satisfied: patsy>=0.5 in /usr/local/lib/python3.7/dist-packages (from statsmodels->python-terrier>=0.5.0->pyterrier-t5==0.0.1) (0.5.2)\n",
            "Building wheels for collected packages: pyterrier-t5\n",
            "  Building wheel for pyterrier-t5 (setup.py) ... \u001b[?25l\u001b[?25hdone\n",
            "  Created wheel for pyterrier-t5: filename=pyterrier_t5-0.0.1-py3-none-any.whl size=4880 sha256=ef5714020a20d588e5faf57a1ec54cec8049f4ae434bcd2be6cbf1ce9217db88\n",
            "  Stored in directory: /tmp/pip-ephem-wheel-cache-bt2yvpe8/wheels/f7/03/ca/cf7d91992877b77796d943cfe581f27398f9fa6be41236f7f6\n",
            "Successfully built pyterrier-t5\n",
            "Installing collected packages: tokenizers, pyjnius, huggingface-hub, transformers, sentencepiece, pyterrier-t5\n",
            "  Attempting uninstall: pyjnius\n",
            "    Found existing installation: pyjnius 1.4.2\n",
            "    Uninstalling pyjnius-1.4.2:\n",
            "      Successfully uninstalled pyjnius-1.4.2\n",
            "Successfully installed huggingface-hub-0.9.1 pyjnius-1.3.0 pyterrier-t5-0.0.1 sentencepiece-0.1.97 tokenizers-0.12.1 transformers-4.21.2\n"
          ]
        },
        {
          "data": {
            "application/vnd.colab-display-data+json": {
              "pip_warning": {
                "packages": [
                  "jnius",
                  "jnius_config"
                ]
              }
            }
          },
          "metadata": {},
          "output_type": "display_data"
        },
        {
          "data": {
            "application/vnd.jupyter.widget-view+json": {
              "model_id": "cf42938f1a8040978e7d61b567bb7fc2",
              "version_major": 2,
              "version_minor": 0
            },
            "text/plain": [
              "Downloading spiece.model:   0%|          | 0.00/773k [00:00<?, ?B/s]"
            ]
          },
          "metadata": {},
          "output_type": "display_data"
        },
        {
          "data": {
            "application/vnd.jupyter.widget-view+json": {
              "model_id": "b45bf11ceb1e4a44bdab21ab1d693b6e",
              "version_major": 2,
              "version_minor": 0
            },
            "text/plain": [
              "Downloading config.json:   0%|          | 0.00/1.17k [00:00<?, ?B/s]"
            ]
          },
          "metadata": {},
          "output_type": "display_data"
        },
        {
          "name": "stderr",
          "output_type": "stream",
          "text": [
            "/usr/local/lib/python3.7/dist-packages/transformers/models/t5/tokenization_t5.py:174: FutureWarning: This tokenizer was incorrectly instantiated with a model max length of 512 which will be corrected in Transformers v5.\n",
            "For now, this behavior is kept to avoid breaking backwards compatibility when padding/encoding with `truncation is True`.\n",
            "- Be aware that you SHOULD NOT rely on t5-base automatically truncating your input to 512 when padding/encoding.\n",
            "- If you want to encode/pad to sequences longer than 512 you can either instantiate this tokenizer with `model_max_length` or pass `max_length` when encoding/padding.\n",
            "- To avoid this warning, please instantiate this tokenizer with `model_max_length` set to your preferred value.\n",
            "  FutureWarning,\n"
          ]
        },
        {
          "data": {
            "application/vnd.jupyter.widget-view+json": {
              "model_id": "3dca2bcf93004b37a44983568d9284d9",
              "version_major": 2,
              "version_minor": 0
            },
            "text/plain": [
              "Downloading config.json:   0%|          | 0.00/1.80k [00:00<?, ?B/s]"
            ]
          },
          "metadata": {},
          "output_type": "display_data"
        },
        {
          "data": {
            "application/vnd.jupyter.widget-view+json": {
              "model_id": "30ecb3af7f7d4ae5bc0cbef7f125b4e3",
              "version_major": 2,
              "version_minor": 0
            },
            "text/plain": [
              "Downloading pytorch_model.bin:   0%|          | 0.00/850M [00:00<?, ?B/s]"
            ]
          },
          "metadata": {},
          "output_type": "display_data"
        },
        {
          "data": {
            "application/vnd.jupyter.widget-view+json": {
              "model_id": "0ebffabc7ff7499f802a46823a31f857",
              "version_major": 2,
              "version_minor": 0
            },
            "text/plain": [
              "Downloading config.json:   0%|          | 0.00/1.31k [00:00<?, ?B/s]"
            ]
          },
          "metadata": {},
          "output_type": "display_data"
        },
        {
          "data": {
            "application/vnd.jupyter.widget-view+json": {
              "model_id": "ee58b39ca81b49208e365c2b5a2a85a1",
              "version_major": 2,
              "version_minor": 0
            },
            "text/plain": [
              "Downloading pytorch_model.bin:   0%|          | 0.00/850M [00:00<?, ?B/s]"
            ]
          },
          "metadata": {},
          "output_type": "display_data"
        }
      ],
      "source": [
        "!pip install --upgrade git+https://github.com/terrier-org/pyterrier.git#egg=python-terrier\n",
        "!pip install --upgrade git+https://github.com/terrierteam/pyterrier_t5.git\n",
        "from pyterrier_t5 import MonoT5ReRanker, DuoT5ReRanker\n",
        "monoT5 = MonoT5ReRanker()\n",
        "duoT5 = DuoT5ReRanker()"
      ]
    },
    {
      "cell_type": "code",
      "execution_count": null,
      "metadata": {
        "id": "4Bz0Hgd2GV9B"
      },
      "outputs": [],
      "source": [
        "bm25 = pt.BatchRetrieve(wiki_no_difference, wmodel=\"BM25\")\n",
        "mono_pipeline = bm25 >> pt.text.get_text(wiki_no_difference,metadata=[\"docno\",\"text\"]) >> monoT5\n",
        "duo_pipeline = mono_pipeline % 50 >> duoT5"
      ]
    },
    {
      "cell_type": "code",
      "execution_count": null,
      "metadata": {
        "colab": {
          "background_save": true,
          "base_uri": "https://localhost:8080/",
          "height": 66,
          "referenced_widgets": [
            "6ad71311351b4fd895a0c501647fdcba",
            "a86bc30a71014e238275a226b74685cc",
            "34ee967142dc446997905a1dd091a5a0",
            "d7997999789b40a9b7fe1cfae828070a",
            "1c1af97d3da241dea5f601c82cd68c85",
            "1dce9bd61aa24612bbcb24251703c509",
            "89af5b8259fa4cb6b8f1f253f01b0b20",
            "4870b1b034724ea2961af9f44c233b9b",
            "a93b95b932864bd9874ccdcb843b781d",
            "d0d25298db9749508fcf6ddcfac89a5b",
            "803b1c3dd26240e8b00faca8b7dc1305",
            "b98f327e6bdc4552afb5eb8a20474226"
          ]
        },
        "id": "AXeRy3gVaHAS",
        "outputId": "52fc776c-00e5-48bf-b972-1e6bc64e2873"
      },
      "outputs": [
        {
          "name": "stdout",
          "output_type": "stream",
          "text": [
            "01:08:15.255 [main] WARN org.terrier.querying.QueryExpansion - qemodel control not set for QueryExpansion post process. Using default model Bo1\n"
          ]
        },
        {
          "data": {
            "application/vnd.jupyter.widget-view+json": {
              "model_id": "6ad71311351b4fd895a0c501647fdcba",
              "version_major": 2,
              "version_minor": 0
            },
            "text/plain": [
              "monoT5:   0%|          | 0/2000 [00:00<?, ?batches/s]"
            ]
          },
          "metadata": {},
          "output_type": "display_data"
        },
        {
          "data": {
            "application/vnd.jupyter.widget-view+json": {
              "model_id": "b98f327e6bdc4552afb5eb8a20474226",
              "version_major": 2,
              "version_minor": 0
            },
            "text/plain": [
              "duoT5:   0%|          | 0/8 [00:00<?, ?queries/s]"
            ]
          },
          "metadata": {},
          "output_type": "display_data"
        },
        {
          "data": {
            "text/plain": [
              "{'map': 0.22172364202402955,\n",
              " 'ndcg': 0.5094609680367183,\n",
              " 'ndcg_cut_30': 0.32367161580473314,\n",
              " 'P_10': 0.3625}"
            ]
          },
          "execution_count": 273,
          "metadata": {},
          "output_type": "execute_result"
        }
      ],
      "source": [
        "topics = pt.io.read_topics(\"/content/drive/MyDrive/IRDM/wikified_query_ent.xml\",format=\"trecxml\")\n",
        "\n",
        "def get_retr(index, param_b, param_k1):\n",
        "    retr = pt.BatchRetrieve(index, controls={'wmodel': \"BM25\", \"c\": param_b},\n",
        "        properties={'bm25.k_1': param_k1})\n",
        "    return retr\n",
        "\n",
        "def get_dph(index):\n",
        "    return pt.BatchRetrieve(index, controls={\"wmodel\": \"DPH\"})\n",
        "\n",
        "\n",
        "def get_pl(index):\n",
        "    return pt.BatchRetrieve(index, controls={\"wmodel\": \"PL2\"},metadata=[\"docno\",'text'])\n",
        "\n",
        "def get_qe(index):\n",
        "    return pt.BatchRetrieve(index, controls={'wmodel': \"DPH\"}) >> \\\n",
        "            pt.rewrite.QueryExpansion(index, fb_terms=20, fb_docs=20) >> \\\n",
        "            pt.BatchRetrieve(index, controls={'wmodel': \"DPH\"})\n",
        "\n",
        "\n",
        "\n",
        "\n",
        "bm25 = get_retr(wiki_no_difference, 0.75, 1.2) >> \\\n",
        "            pt.pipelines.PerQueryMaxMinScoreTransformer()\n",
        "dph = get_dph(wiki_no_difference) >> \\\n",
        "            pt.pipelines.PerQueryMaxMinScoreTransformer()\n",
        "\n",
        "\n",
        "pl2 = get_pl(wiki_no_difference_5) >> \\\n",
        "            pt.pipelines.PerQueryMaxMinScoreTransformer()\n",
        "\n",
        "\n",
        "qe = get_qe(raw) >> \\\n",
        "            pt.pipelines.PerQueryMaxMinScoreTransformer()    \n",
        "\n",
        "\n",
        "\n",
        "\n",
        "import pandas as pd\n",
        "id_template = 'spotify:episode:{}_{}'\n",
        "combined= qe+bm25+dph+ duo_pipeline\n",
        "res=combined.transform(topics)\n",
        "\n",
        "def get_ep(a,b):\n",
        "  return id_template.format(a,b)\n",
        "\n",
        "df = pd.DataFrame(res, columns=['qid', 'rank', 'docno', 'score'])\n",
        "df[\"ep_id\"]=df[\"docno\"].apply(lambda x: x.split(\"_\")[1].split(\"-\")[0])\n",
        "df[\"episode\"]=df[\"docno\"].apply(lambda x: x.split(\"_\")[0])\n",
        "df[\"docno\"]=df.apply(lambda x: get_ep(x[\"episode\"],x[\"ep_id\"]),axis=1)\n",
        "df[\"docno\"]=df[\"docno\"]+\".0\"\n",
        "rsl=df[[\"qid\",\"docno\",\"rank\",\"score\"]]\n",
        "\n",
        "qrels_path=(\"/content/drive/MyDrive/IRDM/podcasts_2020_train.1-8.qrels\")\n",
        "qrels = pt.io.read_qrels(qrels_path)\n",
        "pt.Utils.evaluate(rsl,qrels,metrics=['map',\"ndcg\",\"ndcg_cut_30\",\"P_10\"])"
      ]
    },
    {
      "cell_type": "code",
      "execution_count": null,
      "metadata": {
        "id": "Z3L_6QOgpnk9"
      },
      "outputs": [],
      "source": []
    }
  ],
  "metadata": {
    "colab": {
      "collapsed_sections": [],
      "provenance": [],
      "machine_shape": "hm",
      "background_execution": "on"
    },
    "kernelspec": {
      "display_name": "Python 3",
      "name": "python3"
    },
    "language_info": {
      "name": "python"
    },
    "widgets": {
      "application/vnd.jupyter.widget-state+json": {
        "00896d37afb8460f8f9b707ce024d725": {
          "model_module": "@jupyter-widgets/base",
          "model_module_version": "1.2.0",
          "model_name": "LayoutModel",
          "state": {
            "_model_module": "@jupyter-widgets/base",
            "_model_module_version": "1.2.0",
            "_model_name": "LayoutModel",
            "_view_count": null,
            "_view_module": "@jupyter-widgets/base",
            "_view_module_version": "1.2.0",
            "_view_name": "LayoutView",
            "align_content": null,
            "align_items": null,
            "align_self": null,
            "border": null,
            "bottom": null,
            "display": null,
            "flex": null,
            "flex_flow": null,
            "grid_area": null,
            "grid_auto_columns": null,
            "grid_auto_flow": null,
            "grid_auto_rows": null,
            "grid_column": null,
            "grid_gap": null,
            "grid_row": null,
            "grid_template_areas": null,
            "grid_template_columns": null,
            "grid_template_rows": null,
            "height": null,
            "justify_content": null,
            "justify_items": null,
            "left": null,
            "margin": null,
            "max_height": null,
            "max_width": null,
            "min_height": null,
            "min_width": null,
            "object_fit": null,
            "object_position": null,
            "order": null,
            "overflow": null,
            "overflow_x": null,
            "overflow_y": null,
            "padding": null,
            "right": null,
            "top": null,
            "visibility": null,
            "width": null
          }
        },
        "0ebffabc7ff7499f802a46823a31f857": {
          "model_module": "@jupyter-widgets/controls",
          "model_module_version": "1.5.0",
          "model_name": "HBoxModel",
          "state": {
            "_dom_classes": [],
            "_model_module": "@jupyter-widgets/controls",
            "_model_module_version": "1.5.0",
            "_model_name": "HBoxModel",
            "_view_count": null,
            "_view_module": "@jupyter-widgets/controls",
            "_view_module_version": "1.5.0",
            "_view_name": "HBoxView",
            "box_style": "",
            "children": [
              "IPY_MODEL_187cc22a6b7a468fa9d04da17a3d5172",
              "IPY_MODEL_b107c76fcf994617b7e58d4581d74e58",
              "IPY_MODEL_d8f51a15184343ae9dcd827d5b97ffa5"
            ],
            "layout": "IPY_MODEL_35238ce1cef94b899635de913922cf44"
          }
        },
        "0fc7a6cf8f954237a1139b442a7337be": {
          "model_module": "@jupyter-widgets/controls",
          "model_module_version": "1.5.0",
          "model_name": "HTMLModel",
          "state": {
            "_dom_classes": [],
            "_model_module": "@jupyter-widgets/controls",
            "_model_module_version": "1.5.0",
            "_model_name": "HTMLModel",
            "_view_count": null,
            "_view_module": "@jupyter-widgets/controls",
            "_view_module_version": "1.5.0",
            "_view_name": "HTMLView",
            "description": "",
            "description_tooltip": null,
            "layout": "IPY_MODEL_a39ef276b04147e88827a7b8a28d63e3",
            "placeholder": "​",
            "style": "IPY_MODEL_a22c664e49fb48bc930f0e790c83219e",
            "value": "Downloading pytorch_model.bin: 100%"
          }
        },
        "11e8c7ef8d134fa2aad8d6f2d98a7326": {
          "model_module": "@jupyter-widgets/controls",
          "model_module_version": "1.5.0",
          "model_name": "DescriptionStyleModel",
          "state": {
            "_model_module": "@jupyter-widgets/controls",
            "_model_module_version": "1.5.0",
            "_model_name": "DescriptionStyleModel",
            "_view_count": null,
            "_view_module": "@jupyter-widgets/base",
            "_view_module_version": "1.2.0",
            "_view_name": "StyleView",
            "description_width": ""
          }
        },
        "15483ef34dee4f1fbf1e1cd0f8dba23d": {
          "model_module": "@jupyter-widgets/controls",
          "model_module_version": "1.5.0",
          "model_name": "DescriptionStyleModel",
          "state": {
            "_model_module": "@jupyter-widgets/controls",
            "_model_module_version": "1.5.0",
            "_model_name": "DescriptionStyleModel",
            "_view_count": null,
            "_view_module": "@jupyter-widgets/base",
            "_view_module_version": "1.2.0",
            "_view_name": "StyleView",
            "description_width": ""
          }
        },
        "1607b38001a247daa004c588b8ed59e6": {
          "model_module": "@jupyter-widgets/base",
          "model_module_version": "1.2.0",
          "model_name": "LayoutModel",
          "state": {
            "_model_module": "@jupyter-widgets/base",
            "_model_module_version": "1.2.0",
            "_model_name": "LayoutModel",
            "_view_count": null,
            "_view_module": "@jupyter-widgets/base",
            "_view_module_version": "1.2.0",
            "_view_name": "LayoutView",
            "align_content": null,
            "align_items": null,
            "align_self": null,
            "border": null,
            "bottom": null,
            "display": null,
            "flex": null,
            "flex_flow": null,
            "grid_area": null,
            "grid_auto_columns": null,
            "grid_auto_flow": null,
            "grid_auto_rows": null,
            "grid_column": null,
            "grid_gap": null,
            "grid_row": null,
            "grid_template_areas": null,
            "grid_template_columns": null,
            "grid_template_rows": null,
            "height": null,
            "justify_content": null,
            "justify_items": null,
            "left": null,
            "margin": null,
            "max_height": null,
            "max_width": null,
            "min_height": null,
            "min_width": null,
            "object_fit": null,
            "object_position": null,
            "order": null,
            "overflow": null,
            "overflow_x": null,
            "overflow_y": null,
            "padding": null,
            "right": null,
            "top": null,
            "visibility": null,
            "width": null
          }
        },
        "172a3554070f4671bbb1d34a6e6d5c42": {
          "model_module": "@jupyter-widgets/controls",
          "model_module_version": "1.5.0",
          "model_name": "HTMLModel",
          "state": {
            "_dom_classes": [],
            "_model_module": "@jupyter-widgets/controls",
            "_model_module_version": "1.5.0",
            "_model_name": "HTMLModel",
            "_view_count": null,
            "_view_module": "@jupyter-widgets/controls",
            "_view_module_version": "1.5.0",
            "_view_name": "HTMLView",
            "description": "",
            "description_tooltip": null,
            "layout": "IPY_MODEL_a62e2fa37297423093af938981b0de84",
            "placeholder": "​",
            "style": "IPY_MODEL_dc97449d87a5466699387c0a4e1db6bd",
            "value": "Downloading spiece.model: 100%"
          }
        },
        "173e522e765146fabe2fe9e7a917e73b": {
          "model_module": "@jupyter-widgets/controls",
          "model_module_version": "1.5.0",
          "model_name": "DescriptionStyleModel",
          "state": {
            "_model_module": "@jupyter-widgets/controls",
            "_model_module_version": "1.5.0",
            "_model_name": "DescriptionStyleModel",
            "_view_count": null,
            "_view_module": "@jupyter-widgets/base",
            "_view_module_version": "1.2.0",
            "_view_name": "StyleView",
            "description_width": ""
          }
        },
        "187cc22a6b7a468fa9d04da17a3d5172": {
          "model_module": "@jupyter-widgets/controls",
          "model_module_version": "1.5.0",
          "model_name": "HTMLModel",
          "state": {
            "_dom_classes": [],
            "_model_module": "@jupyter-widgets/controls",
            "_model_module_version": "1.5.0",
            "_model_name": "HTMLModel",
            "_view_count": null,
            "_view_module": "@jupyter-widgets/controls",
            "_view_module_version": "1.5.0",
            "_view_name": "HTMLView",
            "description": "",
            "description_tooltip": null,
            "layout": "IPY_MODEL_8f2e0c5a9b97474aa36e1358590df6d7",
            "placeholder": "​",
            "style": "IPY_MODEL_fcf246cfb37145fab196c1b3308e4b24",
            "value": "Downloading config.json: 100%"
          }
        },
        "18ca02f0bfeb4cb1bc839d5d74cf8352": {
          "model_module": "@jupyter-widgets/base",
          "model_module_version": "1.2.0",
          "model_name": "LayoutModel",
          "state": {
            "_model_module": "@jupyter-widgets/base",
            "_model_module_version": "1.2.0",
            "_model_name": "LayoutModel",
            "_view_count": null,
            "_view_module": "@jupyter-widgets/base",
            "_view_module_version": "1.2.0",
            "_view_name": "LayoutView",
            "align_content": null,
            "align_items": null,
            "align_self": null,
            "border": null,
            "bottom": null,
            "display": null,
            "flex": null,
            "flex_flow": null,
            "grid_area": null,
            "grid_auto_columns": null,
            "grid_auto_flow": null,
            "grid_auto_rows": null,
            "grid_column": null,
            "grid_gap": null,
            "grid_row": null,
            "grid_template_areas": null,
            "grid_template_columns": null,
            "grid_template_rows": null,
            "height": null,
            "justify_content": null,
            "justify_items": null,
            "left": null,
            "margin": null,
            "max_height": null,
            "max_width": null,
            "min_height": null,
            "min_width": null,
            "object_fit": null,
            "object_position": null,
            "order": null,
            "overflow": null,
            "overflow_x": null,
            "overflow_y": null,
            "padding": null,
            "right": null,
            "top": null,
            "visibility": null,
            "width": null
          }
        },
        "1b332ae0dccb43f28dd11ee8dec67147": {
          "model_module": "@jupyter-widgets/controls",
          "model_module_version": "1.5.0",
          "model_name": "HTMLModel",
          "state": {
            "_dom_classes": [],
            "_model_module": "@jupyter-widgets/controls",
            "_model_module_version": "1.5.0",
            "_model_name": "HTMLModel",
            "_view_count": null,
            "_view_module": "@jupyter-widgets/controls",
            "_view_module_version": "1.5.0",
            "_view_name": "HTMLView",
            "description": "",
            "description_tooltip": null,
            "layout": "IPY_MODEL_77183abf5651462ca79eeb1653a25056",
            "placeholder": "​",
            "style": "IPY_MODEL_fe10fac6005a4517a8372ffd5b13e577",
            "value": " 773k/773k [00:00&lt;00:00, 2.17MB/s]"
          }
        },
        "1c1af97d3da241dea5f601c82cd68c85": {
          "model_module": "@jupyter-widgets/base",
          "model_module_version": "1.2.0",
          "model_name": "LayoutModel",
          "state": {
            "_model_module": "@jupyter-widgets/base",
            "_model_module_version": "1.2.0",
            "_model_name": "LayoutModel",
            "_view_count": null,
            "_view_module": "@jupyter-widgets/base",
            "_view_module_version": "1.2.0",
            "_view_name": "LayoutView",
            "align_content": null,
            "align_items": null,
            "align_self": null,
            "border": null,
            "bottom": null,
            "display": null,
            "flex": null,
            "flex_flow": null,
            "grid_area": null,
            "grid_auto_columns": null,
            "grid_auto_flow": null,
            "grid_auto_rows": null,
            "grid_column": null,
            "grid_gap": null,
            "grid_row": null,
            "grid_template_areas": null,
            "grid_template_columns": null,
            "grid_template_rows": null,
            "height": null,
            "justify_content": null,
            "justify_items": null,
            "left": null,
            "margin": null,
            "max_height": null,
            "max_width": null,
            "min_height": null,
            "min_width": null,
            "object_fit": null,
            "object_position": null,
            "order": null,
            "overflow": null,
            "overflow_x": null,
            "overflow_y": null,
            "padding": null,
            "right": null,
            "top": null,
            "visibility": null,
            "width": null
          }
        },
        "1cef13ac0ef34dfca56c7cf087475662": {
          "model_module": "@jupyter-widgets/controls",
          "model_module_version": "1.5.0",
          "model_name": "FloatProgressModel",
          "state": {
            "_dom_classes": [],
            "_model_module": "@jupyter-widgets/controls",
            "_model_module_version": "1.5.0",
            "_model_name": "FloatProgressModel",
            "_view_count": null,
            "_view_module": "@jupyter-widgets/controls",
            "_view_module_version": "1.5.0",
            "_view_name": "ProgressView",
            "bar_style": "success",
            "description": "",
            "description_tooltip": null,
            "layout": "IPY_MODEL_432ad3d68b074389974bbf6fbfbf1cda",
            "max": 891691413,
            "min": 0,
            "orientation": "horizontal",
            "style": "IPY_MODEL_78e322e845e94cb6a0de29cfbfea1b4f",
            "value": 891691413
          }
        },
        "1d13e32cf24548f4b890f3e0e0922eb8": {
          "model_module": "@jupyter-widgets/controls",
          "model_module_version": "1.5.0",
          "model_name": "FloatProgressModel",
          "state": {
            "_dom_classes": [],
            "_model_module": "@jupyter-widgets/controls",
            "_model_module_version": "1.5.0",
            "_model_name": "FloatProgressModel",
            "_view_count": null,
            "_view_module": "@jupyter-widgets/controls",
            "_view_module_version": "1.5.0",
            "_view_name": "ProgressView",
            "bar_style": "success",
            "description": "",
            "description_tooltip": null,
            "layout": "IPY_MODEL_5cba67f583e64340a0c5907afed32dce",
            "max": 891733303,
            "min": 0,
            "orientation": "horizontal",
            "style": "IPY_MODEL_b5435cb50dd34342b65f85545b124449",
            "value": 891733303
          }
        },
        "1dce9bd61aa24612bbcb24251703c509": {
          "model_module": "@jupyter-widgets/base",
          "model_module_version": "1.2.0",
          "model_name": "LayoutModel",
          "state": {
            "_model_module": "@jupyter-widgets/base",
            "_model_module_version": "1.2.0",
            "_model_name": "LayoutModel",
            "_view_count": null,
            "_view_module": "@jupyter-widgets/base",
            "_view_module_version": "1.2.0",
            "_view_name": "LayoutView",
            "align_content": null,
            "align_items": null,
            "align_self": null,
            "border": null,
            "bottom": null,
            "display": null,
            "flex": null,
            "flex_flow": null,
            "grid_area": null,
            "grid_auto_columns": null,
            "grid_auto_flow": null,
            "grid_auto_rows": null,
            "grid_column": null,
            "grid_gap": null,
            "grid_row": null,
            "grid_template_areas": null,
            "grid_template_columns": null,
            "grid_template_rows": null,
            "height": null,
            "justify_content": null,
            "justify_items": null,
            "left": null,
            "margin": null,
            "max_height": null,
            "max_width": null,
            "min_height": null,
            "min_width": null,
            "object_fit": null,
            "object_position": null,
            "order": null,
            "overflow": null,
            "overflow_x": null,
            "overflow_y": null,
            "padding": null,
            "right": null,
            "top": null,
            "visibility": null,
            "width": null
          }
        },
        "30313a32c33a48c0bfe1c0ae37e826f2": {
          "model_module": "@jupyter-widgets/base",
          "model_module_version": "1.2.0",
          "model_name": "LayoutModel",
          "state": {
            "_model_module": "@jupyter-widgets/base",
            "_model_module_version": "1.2.0",
            "_model_name": "LayoutModel",
            "_view_count": null,
            "_view_module": "@jupyter-widgets/base",
            "_view_module_version": "1.2.0",
            "_view_name": "LayoutView",
            "align_content": null,
            "align_items": null,
            "align_self": null,
            "border": null,
            "bottom": null,
            "display": null,
            "flex": null,
            "flex_flow": null,
            "grid_area": null,
            "grid_auto_columns": null,
            "grid_auto_flow": null,
            "grid_auto_rows": null,
            "grid_column": null,
            "grid_gap": null,
            "grid_row": null,
            "grid_template_areas": null,
            "grid_template_columns": null,
            "grid_template_rows": null,
            "height": null,
            "justify_content": null,
            "justify_items": null,
            "left": null,
            "margin": null,
            "max_height": null,
            "max_width": null,
            "min_height": null,
            "min_width": null,
            "object_fit": null,
            "object_position": null,
            "order": null,
            "overflow": null,
            "overflow_x": null,
            "overflow_y": null,
            "padding": null,
            "right": null,
            "top": null,
            "visibility": null,
            "width": null
          }
        },
        "30ecb3af7f7d4ae5bc0cbef7f125b4e3": {
          "model_module": "@jupyter-widgets/controls",
          "model_module_version": "1.5.0",
          "model_name": "HBoxModel",
          "state": {
            "_dom_classes": [],
            "_model_module": "@jupyter-widgets/controls",
            "_model_module_version": "1.5.0",
            "_model_name": "HBoxModel",
            "_view_count": null,
            "_view_module": "@jupyter-widgets/controls",
            "_view_module_version": "1.5.0",
            "_view_name": "HBoxView",
            "box_style": "",
            "children": [
              "IPY_MODEL_0fc7a6cf8f954237a1139b442a7337be",
              "IPY_MODEL_1cef13ac0ef34dfca56c7cf087475662",
              "IPY_MODEL_9d359d3b29a04ddcaaf94d64c157107f"
            ],
            "layout": "IPY_MODEL_00896d37afb8460f8f9b707ce024d725"
          }
        },
        "330f5106617d4d0a98ff5960276af410": {
          "model_module": "@jupyter-widgets/controls",
          "model_module_version": "1.5.0",
          "model_name": "ProgressStyleModel",
          "state": {
            "_model_module": "@jupyter-widgets/controls",
            "_model_module_version": "1.5.0",
            "_model_name": "ProgressStyleModel",
            "_view_count": null,
            "_view_module": "@jupyter-widgets/base",
            "_view_module_version": "1.2.0",
            "_view_name": "StyleView",
            "bar_color": null,
            "description_width": ""
          }
        },
        "33327227b67f4af5adb4607207e5e8db": {
          "model_module": "@jupyter-widgets/base",
          "model_module_version": "1.2.0",
          "model_name": "LayoutModel",
          "state": {
            "_model_module": "@jupyter-widgets/base",
            "_model_module_version": "1.2.0",
            "_model_name": "LayoutModel",
            "_view_count": null,
            "_view_module": "@jupyter-widgets/base",
            "_view_module_version": "1.2.0",
            "_view_name": "LayoutView",
            "align_content": null,
            "align_items": null,
            "align_self": null,
            "border": null,
            "bottom": null,
            "display": null,
            "flex": null,
            "flex_flow": null,
            "grid_area": null,
            "grid_auto_columns": null,
            "grid_auto_flow": null,
            "grid_auto_rows": null,
            "grid_column": null,
            "grid_gap": null,
            "grid_row": null,
            "grid_template_areas": null,
            "grid_template_columns": null,
            "grid_template_rows": null,
            "height": null,
            "justify_content": null,
            "justify_items": null,
            "left": null,
            "margin": null,
            "max_height": null,
            "max_width": null,
            "min_height": null,
            "min_width": null,
            "object_fit": null,
            "object_position": null,
            "order": null,
            "overflow": null,
            "overflow_x": null,
            "overflow_y": null,
            "padding": null,
            "right": null,
            "top": null,
            "visibility": null,
            "width": null
          }
        },
        "34ee967142dc446997905a1dd091a5a0": {
          "model_module": "@jupyter-widgets/controls",
          "model_module_version": "1.5.0",
          "model_name": "FloatProgressModel",
          "state": {
            "_dom_classes": [],
            "_model_module": "@jupyter-widgets/controls",
            "_model_module_version": "1.5.0",
            "_model_name": "FloatProgressModel",
            "_view_count": null,
            "_view_module": "@jupyter-widgets/controls",
            "_view_module_version": "1.5.0",
            "_view_name": "ProgressView",
            "bar_style": "",
            "description": "",
            "description_tooltip": null,
            "layout": "IPY_MODEL_4870b1b034724ea2961af9f44c233b9b",
            "max": 2000,
            "min": 0,
            "orientation": "horizontal",
            "style": "IPY_MODEL_a93b95b932864bd9874ccdcb843b781d",
            "value": 2
          }
        },
        "35238ce1cef94b899635de913922cf44": {
          "model_module": "@jupyter-widgets/base",
          "model_module_version": "1.2.0",
          "model_name": "LayoutModel",
          "state": {
            "_model_module": "@jupyter-widgets/base",
            "_model_module_version": "1.2.0",
            "_model_name": "LayoutModel",
            "_view_count": null,
            "_view_module": "@jupyter-widgets/base",
            "_view_module_version": "1.2.0",
            "_view_name": "LayoutView",
            "align_content": null,
            "align_items": null,
            "align_self": null,
            "border": null,
            "bottom": null,
            "display": null,
            "flex": null,
            "flex_flow": null,
            "grid_area": null,
            "grid_auto_columns": null,
            "grid_auto_flow": null,
            "grid_auto_rows": null,
            "grid_column": null,
            "grid_gap": null,
            "grid_row": null,
            "grid_template_areas": null,
            "grid_template_columns": null,
            "grid_template_rows": null,
            "height": null,
            "justify_content": null,
            "justify_items": null,
            "left": null,
            "margin": null,
            "max_height": null,
            "max_width": null,
            "min_height": null,
            "min_width": null,
            "object_fit": null,
            "object_position": null,
            "order": null,
            "overflow": null,
            "overflow_x": null,
            "overflow_y": null,
            "padding": null,
            "right": null,
            "top": null,
            "visibility": null,
            "width": null
          }
        },
        "39b8e52a53b44b529b28e9d43415c2a8": {
          "model_module": "@jupyter-widgets/controls",
          "model_module_version": "1.5.0",
          "model_name": "HTMLModel",
          "state": {
            "_dom_classes": [],
            "_model_module": "@jupyter-widgets/controls",
            "_model_module_version": "1.5.0",
            "_model_name": "HTMLModel",
            "_view_count": null,
            "_view_module": "@jupyter-widgets/controls",
            "_view_module_version": "1.5.0",
            "_view_name": "HTMLView",
            "description": "",
            "description_tooltip": null,
            "layout": "IPY_MODEL_3ba52dc9095240da9cb052e184732c7a",
            "placeholder": "​",
            "style": "IPY_MODEL_ca71fb94d4d449c8980f5c390c80d4b0",
            "value": " 1.17k/1.17k [00:00&lt;00:00, 24.5kB/s]"
          }
        },
        "3ba52dc9095240da9cb052e184732c7a": {
          "model_module": "@jupyter-widgets/base",
          "model_module_version": "1.2.0",
          "model_name": "LayoutModel",
          "state": {
            "_model_module": "@jupyter-widgets/base",
            "_model_module_version": "1.2.0",
            "_model_name": "LayoutModel",
            "_view_count": null,
            "_view_module": "@jupyter-widgets/base",
            "_view_module_version": "1.2.0",
            "_view_name": "LayoutView",
            "align_content": null,
            "align_items": null,
            "align_self": null,
            "border": null,
            "bottom": null,
            "display": null,
            "flex": null,
            "flex_flow": null,
            "grid_area": null,
            "grid_auto_columns": null,
            "grid_auto_flow": null,
            "grid_auto_rows": null,
            "grid_column": null,
            "grid_gap": null,
            "grid_row": null,
            "grid_template_areas": null,
            "grid_template_columns": null,
            "grid_template_rows": null,
            "height": null,
            "justify_content": null,
            "justify_items": null,
            "left": null,
            "margin": null,
            "max_height": null,
            "max_width": null,
            "min_height": null,
            "min_width": null,
            "object_fit": null,
            "object_position": null,
            "order": null,
            "overflow": null,
            "overflow_x": null,
            "overflow_y": null,
            "padding": null,
            "right": null,
            "top": null,
            "visibility": null,
            "width": null
          }
        },
        "3c334d94fafa43dd88a2813720e2446d": {
          "model_module": "@jupyter-widgets/controls",
          "model_module_version": "1.5.0",
          "model_name": "HTMLModel",
          "state": {
            "_dom_classes": [],
            "_model_module": "@jupyter-widgets/controls",
            "_model_module_version": "1.5.0",
            "_model_name": "HTMLModel",
            "_view_count": null,
            "_view_module": "@jupyter-widgets/controls",
            "_view_module_version": "1.5.0",
            "_view_name": "HTMLView",
            "description": "",
            "description_tooltip": null,
            "layout": "IPY_MODEL_ef51c84faa3d4ae5893a0ecafa57fa3f",
            "placeholder": "​",
            "style": "IPY_MODEL_4804c3cbc4544be3818c2a6d40f05af2",
            "value": " 850M/850M [00:19&lt;00:00, 47.0MB/s]"
          }
        },
        "3dca2bcf93004b37a44983568d9284d9": {
          "model_module": "@jupyter-widgets/controls",
          "model_module_version": "1.5.0",
          "model_name": "HBoxModel",
          "state": {
            "_dom_classes": [],
            "_model_module": "@jupyter-widgets/controls",
            "_model_module_version": "1.5.0",
            "_model_name": "HBoxModel",
            "_view_count": null,
            "_view_module": "@jupyter-widgets/controls",
            "_view_module_version": "1.5.0",
            "_view_name": "HBoxView",
            "box_style": "",
            "children": [
              "IPY_MODEL_a3bd489657b24624bd142cbd66f97303",
              "IPY_MODEL_7917bcef0dd04f37b9d88aa6611a3b2c",
              "IPY_MODEL_cf8369cd9e024e9a948d371e7a1e7683"
            ],
            "layout": "IPY_MODEL_8a8320597417453cadce0a1dcec0b46f"
          }
        },
        "432ad3d68b074389974bbf6fbfbf1cda": {
          "model_module": "@jupyter-widgets/base",
          "model_module_version": "1.2.0",
          "model_name": "LayoutModel",
          "state": {
            "_model_module": "@jupyter-widgets/base",
            "_model_module_version": "1.2.0",
            "_model_name": "LayoutModel",
            "_view_count": null,
            "_view_module": "@jupyter-widgets/base",
            "_view_module_version": "1.2.0",
            "_view_name": "LayoutView",
            "align_content": null,
            "align_items": null,
            "align_self": null,
            "border": null,
            "bottom": null,
            "display": null,
            "flex": null,
            "flex_flow": null,
            "grid_area": null,
            "grid_auto_columns": null,
            "grid_auto_flow": null,
            "grid_auto_rows": null,
            "grid_column": null,
            "grid_gap": null,
            "grid_row": null,
            "grid_template_areas": null,
            "grid_template_columns": null,
            "grid_template_rows": null,
            "height": null,
            "justify_content": null,
            "justify_items": null,
            "left": null,
            "margin": null,
            "max_height": null,
            "max_width": null,
            "min_height": null,
            "min_width": null,
            "object_fit": null,
            "object_position": null,
            "order": null,
            "overflow": null,
            "overflow_x": null,
            "overflow_y": null,
            "padding": null,
            "right": null,
            "top": null,
            "visibility": null,
            "width": null
          }
        },
        "4804c3cbc4544be3818c2a6d40f05af2": {
          "model_module": "@jupyter-widgets/controls",
          "model_module_version": "1.5.0",
          "model_name": "DescriptionStyleModel",
          "state": {
            "_model_module": "@jupyter-widgets/controls",
            "_model_module_version": "1.5.0",
            "_model_name": "DescriptionStyleModel",
            "_view_count": null,
            "_view_module": "@jupyter-widgets/base",
            "_view_module_version": "1.2.0",
            "_view_name": "StyleView",
            "description_width": ""
          }
        },
        "4870b1b034724ea2961af9f44c233b9b": {
          "model_module": "@jupyter-widgets/base",
          "model_module_version": "1.2.0",
          "model_name": "LayoutModel",
          "state": {
            "_model_module": "@jupyter-widgets/base",
            "_model_module_version": "1.2.0",
            "_model_name": "LayoutModel",
            "_view_count": null,
            "_view_module": "@jupyter-widgets/base",
            "_view_module_version": "1.2.0",
            "_view_name": "LayoutView",
            "align_content": null,
            "align_items": null,
            "align_self": null,
            "border": null,
            "bottom": null,
            "display": null,
            "flex": null,
            "flex_flow": null,
            "grid_area": null,
            "grid_auto_columns": null,
            "grid_auto_flow": null,
            "grid_auto_rows": null,
            "grid_column": null,
            "grid_gap": null,
            "grid_row": null,
            "grid_template_areas": null,
            "grid_template_columns": null,
            "grid_template_rows": null,
            "height": null,
            "justify_content": null,
            "justify_items": null,
            "left": null,
            "margin": null,
            "max_height": null,
            "max_width": null,
            "min_height": null,
            "min_width": null,
            "object_fit": null,
            "object_position": null,
            "order": null,
            "overflow": null,
            "overflow_x": null,
            "overflow_y": null,
            "padding": null,
            "right": null,
            "top": null,
            "visibility": null,
            "width": null
          }
        },
        "5cba67f583e64340a0c5907afed32dce": {
          "model_module": "@jupyter-widgets/base",
          "model_module_version": "1.2.0",
          "model_name": "LayoutModel",
          "state": {
            "_model_module": "@jupyter-widgets/base",
            "_model_module_version": "1.2.0",
            "_model_name": "LayoutModel",
            "_view_count": null,
            "_view_module": "@jupyter-widgets/base",
            "_view_module_version": "1.2.0",
            "_view_name": "LayoutView",
            "align_content": null,
            "align_items": null,
            "align_self": null,
            "border": null,
            "bottom": null,
            "display": null,
            "flex": null,
            "flex_flow": null,
            "grid_area": null,
            "grid_auto_columns": null,
            "grid_auto_flow": null,
            "grid_auto_rows": null,
            "grid_column": null,
            "grid_gap": null,
            "grid_row": null,
            "grid_template_areas": null,
            "grid_template_columns": null,
            "grid_template_rows": null,
            "height": null,
            "justify_content": null,
            "justify_items": null,
            "left": null,
            "margin": null,
            "max_height": null,
            "max_width": null,
            "min_height": null,
            "min_width": null,
            "object_fit": null,
            "object_position": null,
            "order": null,
            "overflow": null,
            "overflow_x": null,
            "overflow_y": null,
            "padding": null,
            "right": null,
            "top": null,
            "visibility": null,
            "width": null
          }
        },
        "69ab6a427062461d8ce92b164eba32f6": {
          "model_module": "@jupyter-widgets/base",
          "model_module_version": "1.2.0",
          "model_name": "LayoutModel",
          "state": {
            "_model_module": "@jupyter-widgets/base",
            "_model_module_version": "1.2.0",
            "_model_name": "LayoutModel",
            "_view_count": null,
            "_view_module": "@jupyter-widgets/base",
            "_view_module_version": "1.2.0",
            "_view_name": "LayoutView",
            "align_content": null,
            "align_items": null,
            "align_self": null,
            "border": null,
            "bottom": null,
            "display": null,
            "flex": null,
            "flex_flow": null,
            "grid_area": null,
            "grid_auto_columns": null,
            "grid_auto_flow": null,
            "grid_auto_rows": null,
            "grid_column": null,
            "grid_gap": null,
            "grid_row": null,
            "grid_template_areas": null,
            "grid_template_columns": null,
            "grid_template_rows": null,
            "height": null,
            "justify_content": null,
            "justify_items": null,
            "left": null,
            "margin": null,
            "max_height": null,
            "max_width": null,
            "min_height": null,
            "min_width": null,
            "object_fit": null,
            "object_position": null,
            "order": null,
            "overflow": null,
            "overflow_x": null,
            "overflow_y": null,
            "padding": null,
            "right": null,
            "top": null,
            "visibility": null,
            "width": null
          }
        },
        "6ad71311351b4fd895a0c501647fdcba": {
          "model_module": "@jupyter-widgets/controls",
          "model_module_version": "1.5.0",
          "model_name": "HBoxModel",
          "state": {
            "_dom_classes": [],
            "_model_module": "@jupyter-widgets/controls",
            "_model_module_version": "1.5.0",
            "_model_name": "HBoxModel",
            "_view_count": null,
            "_view_module": "@jupyter-widgets/controls",
            "_view_module_version": "1.5.0",
            "_view_name": "HBoxView",
            "box_style": "",
            "children": [
              "IPY_MODEL_a86bc30a71014e238275a226b74685cc",
              "IPY_MODEL_34ee967142dc446997905a1dd091a5a0",
              "IPY_MODEL_d7997999789b40a9b7fe1cfae828070a"
            ],
            "layout": "IPY_MODEL_1c1af97d3da241dea5f601c82cd68c85"
          }
        },
        "77183abf5651462ca79eeb1653a25056": {
          "model_module": "@jupyter-widgets/base",
          "model_module_version": "1.2.0",
          "model_name": "LayoutModel",
          "state": {
            "_model_module": "@jupyter-widgets/base",
            "_model_module_version": "1.2.0",
            "_model_name": "LayoutModel",
            "_view_count": null,
            "_view_module": "@jupyter-widgets/base",
            "_view_module_version": "1.2.0",
            "_view_name": "LayoutView",
            "align_content": null,
            "align_items": null,
            "align_self": null,
            "border": null,
            "bottom": null,
            "display": null,
            "flex": null,
            "flex_flow": null,
            "grid_area": null,
            "grid_auto_columns": null,
            "grid_auto_flow": null,
            "grid_auto_rows": null,
            "grid_column": null,
            "grid_gap": null,
            "grid_row": null,
            "grid_template_areas": null,
            "grid_template_columns": null,
            "grid_template_rows": null,
            "height": null,
            "justify_content": null,
            "justify_items": null,
            "left": null,
            "margin": null,
            "max_height": null,
            "max_width": null,
            "min_height": null,
            "min_width": null,
            "object_fit": null,
            "object_position": null,
            "order": null,
            "overflow": null,
            "overflow_x": null,
            "overflow_y": null,
            "padding": null,
            "right": null,
            "top": null,
            "visibility": null,
            "width": null
          }
        },
        "78e322e845e94cb6a0de29cfbfea1b4f": {
          "model_module": "@jupyter-widgets/controls",
          "model_module_version": "1.5.0",
          "model_name": "ProgressStyleModel",
          "state": {
            "_model_module": "@jupyter-widgets/controls",
            "_model_module_version": "1.5.0",
            "_model_name": "ProgressStyleModel",
            "_view_count": null,
            "_view_module": "@jupyter-widgets/base",
            "_view_module_version": "1.2.0",
            "_view_name": "StyleView",
            "bar_color": null,
            "description_width": ""
          }
        },
        "7917bcef0dd04f37b9d88aa6611a3b2c": {
          "model_module": "@jupyter-widgets/controls",
          "model_module_version": "1.5.0",
          "model_name": "FloatProgressModel",
          "state": {
            "_dom_classes": [],
            "_model_module": "@jupyter-widgets/controls",
            "_model_module_version": "1.5.0",
            "_model_name": "FloatProgressModel",
            "_view_count": null,
            "_view_module": "@jupyter-widgets/controls",
            "_view_module_version": "1.5.0",
            "_view_name": "ProgressView",
            "bar_style": "success",
            "description": "",
            "description_tooltip": null,
            "layout": "IPY_MODEL_e2cbc0462bec42dab29ec73220610777",
            "max": 1841,
            "min": 0,
            "orientation": "horizontal",
            "style": "IPY_MODEL_330f5106617d4d0a98ff5960276af410",
            "value": 1841
          }
        },
        "7a061298ebb446b288fe8bd068eaf6f2": {
          "model_module": "@jupyter-widgets/controls",
          "model_module_version": "1.5.0",
          "model_name": "FloatProgressModel",
          "state": {
            "_dom_classes": [],
            "_model_module": "@jupyter-widgets/controls",
            "_model_module_version": "1.5.0",
            "_model_name": "FloatProgressModel",
            "_view_count": null,
            "_view_module": "@jupyter-widgets/controls",
            "_view_module_version": "1.5.0",
            "_view_name": "ProgressView",
            "bar_style": "success",
            "description": "",
            "description_tooltip": null,
            "layout": "IPY_MODEL_ce0031a7844a4baa9407a98ccc78abec",
            "max": 1199,
            "min": 0,
            "orientation": "horizontal",
            "style": "IPY_MODEL_d3d2e5bf81c14b2ea59e3b32f8a1b4b9",
            "value": 1199
          }
        },
        "7adce8e7f96d4a1ea47d6a42f20fee87": {
          "model_module": "@jupyter-widgets/controls",
          "model_module_version": "1.5.0",
          "model_name": "FloatProgressModel",
          "state": {
            "_dom_classes": [],
            "_model_module": "@jupyter-widgets/controls",
            "_model_module_version": "1.5.0",
            "_model_name": "FloatProgressModel",
            "_view_count": null,
            "_view_module": "@jupyter-widgets/controls",
            "_view_module_version": "1.5.0",
            "_view_name": "ProgressView",
            "bar_style": "success",
            "description": "",
            "description_tooltip": null,
            "layout": "IPY_MODEL_8875272b8bd146b5840f10cdc466b337",
            "max": 791656,
            "min": 0,
            "orientation": "horizontal",
            "style": "IPY_MODEL_945ea840dc8b42eaa065485344eedb0e",
            "value": 791656
          }
        },
        "7c43c982d4534d14920f3ce2bbe9b120": {
          "model_module": "@jupyter-widgets/controls",
          "model_module_version": "1.5.0",
          "model_name": "HTMLModel",
          "state": {
            "_dom_classes": [],
            "_model_module": "@jupyter-widgets/controls",
            "_model_module_version": "1.5.0",
            "_model_name": "HTMLModel",
            "_view_count": null,
            "_view_module": "@jupyter-widgets/controls",
            "_view_module_version": "1.5.0",
            "_view_name": "HTMLView",
            "description": "",
            "description_tooltip": null,
            "layout": "IPY_MODEL_69ab6a427062461d8ce92b164eba32f6",
            "placeholder": "​",
            "style": "IPY_MODEL_15483ef34dee4f1fbf1e1cd0f8dba23d",
            "value": "Downloading config.json: 100%"
          }
        },
        "803b1c3dd26240e8b00faca8b7dc1305": {
          "model_module": "@jupyter-widgets/controls",
          "model_module_version": "1.5.0",
          "model_name": "DescriptionStyleModel",
          "state": {
            "_model_module": "@jupyter-widgets/controls",
            "_model_module_version": "1.5.0",
            "_model_name": "DescriptionStyleModel",
            "_view_count": null,
            "_view_module": "@jupyter-widgets/base",
            "_view_module_version": "1.2.0",
            "_view_name": "StyleView",
            "description_width": ""
          }
        },
        "83f695ae2bdf491896d202bac36017f8": {
          "model_module": "@jupyter-widgets/base",
          "model_module_version": "1.2.0",
          "model_name": "LayoutModel",
          "state": {
            "_model_module": "@jupyter-widgets/base",
            "_model_module_version": "1.2.0",
            "_model_name": "LayoutModel",
            "_view_count": null,
            "_view_module": "@jupyter-widgets/base",
            "_view_module_version": "1.2.0",
            "_view_name": "LayoutView",
            "align_content": null,
            "align_items": null,
            "align_self": null,
            "border": null,
            "bottom": null,
            "display": null,
            "flex": null,
            "flex_flow": null,
            "grid_area": null,
            "grid_auto_columns": null,
            "grid_auto_flow": null,
            "grid_auto_rows": null,
            "grid_column": null,
            "grid_gap": null,
            "grid_row": null,
            "grid_template_areas": null,
            "grid_template_columns": null,
            "grid_template_rows": null,
            "height": null,
            "justify_content": null,
            "justify_items": null,
            "left": null,
            "margin": null,
            "max_height": null,
            "max_width": null,
            "min_height": null,
            "min_width": null,
            "object_fit": null,
            "object_position": null,
            "order": null,
            "overflow": null,
            "overflow_x": null,
            "overflow_y": null,
            "padding": null,
            "right": null,
            "top": null,
            "visibility": null,
            "width": null
          }
        },
        "8875272b8bd146b5840f10cdc466b337": {
          "model_module": "@jupyter-widgets/base",
          "model_module_version": "1.2.0",
          "model_name": "LayoutModel",
          "state": {
            "_model_module": "@jupyter-widgets/base",
            "_model_module_version": "1.2.0",
            "_model_name": "LayoutModel",
            "_view_count": null,
            "_view_module": "@jupyter-widgets/base",
            "_view_module_version": "1.2.0",
            "_view_name": "LayoutView",
            "align_content": null,
            "align_items": null,
            "align_self": null,
            "border": null,
            "bottom": null,
            "display": null,
            "flex": null,
            "flex_flow": null,
            "grid_area": null,
            "grid_auto_columns": null,
            "grid_auto_flow": null,
            "grid_auto_rows": null,
            "grid_column": null,
            "grid_gap": null,
            "grid_row": null,
            "grid_template_areas": null,
            "grid_template_columns": null,
            "grid_template_rows": null,
            "height": null,
            "justify_content": null,
            "justify_items": null,
            "left": null,
            "margin": null,
            "max_height": null,
            "max_width": null,
            "min_height": null,
            "min_width": null,
            "object_fit": null,
            "object_position": null,
            "order": null,
            "overflow": null,
            "overflow_x": null,
            "overflow_y": null,
            "padding": null,
            "right": null,
            "top": null,
            "visibility": null,
            "width": null
          }
        },
        "89af5b8259fa4cb6b8f1f253f01b0b20": {
          "model_module": "@jupyter-widgets/controls",
          "model_module_version": "1.5.0",
          "model_name": "DescriptionStyleModel",
          "state": {
            "_model_module": "@jupyter-widgets/controls",
            "_model_module_version": "1.5.0",
            "_model_name": "DescriptionStyleModel",
            "_view_count": null,
            "_view_module": "@jupyter-widgets/base",
            "_view_module_version": "1.2.0",
            "_view_name": "StyleView",
            "description_width": ""
          }
        },
        "8a8320597417453cadce0a1dcec0b46f": {
          "model_module": "@jupyter-widgets/base",
          "model_module_version": "1.2.0",
          "model_name": "LayoutModel",
          "state": {
            "_model_module": "@jupyter-widgets/base",
            "_model_module_version": "1.2.0",
            "_model_name": "LayoutModel",
            "_view_count": null,
            "_view_module": "@jupyter-widgets/base",
            "_view_module_version": "1.2.0",
            "_view_name": "LayoutView",
            "align_content": null,
            "align_items": null,
            "align_self": null,
            "border": null,
            "bottom": null,
            "display": null,
            "flex": null,
            "flex_flow": null,
            "grid_area": null,
            "grid_auto_columns": null,
            "grid_auto_flow": null,
            "grid_auto_rows": null,
            "grid_column": null,
            "grid_gap": null,
            "grid_row": null,
            "grid_template_areas": null,
            "grid_template_columns": null,
            "grid_template_rows": null,
            "height": null,
            "justify_content": null,
            "justify_items": null,
            "left": null,
            "margin": null,
            "max_height": null,
            "max_width": null,
            "min_height": null,
            "min_width": null,
            "object_fit": null,
            "object_position": null,
            "order": null,
            "overflow": null,
            "overflow_x": null,
            "overflow_y": null,
            "padding": null,
            "right": null,
            "top": null,
            "visibility": null,
            "width": null
          }
        },
        "8f2e0c5a9b97474aa36e1358590df6d7": {
          "model_module": "@jupyter-widgets/base",
          "model_module_version": "1.2.0",
          "model_name": "LayoutModel",
          "state": {
            "_model_module": "@jupyter-widgets/base",
            "_model_module_version": "1.2.0",
            "_model_name": "LayoutModel",
            "_view_count": null,
            "_view_module": "@jupyter-widgets/base",
            "_view_module_version": "1.2.0",
            "_view_name": "LayoutView",
            "align_content": null,
            "align_items": null,
            "align_self": null,
            "border": null,
            "bottom": null,
            "display": null,
            "flex": null,
            "flex_flow": null,
            "grid_area": null,
            "grid_auto_columns": null,
            "grid_auto_flow": null,
            "grid_auto_rows": null,
            "grid_column": null,
            "grid_gap": null,
            "grid_row": null,
            "grid_template_areas": null,
            "grid_template_columns": null,
            "grid_template_rows": null,
            "height": null,
            "justify_content": null,
            "justify_items": null,
            "left": null,
            "margin": null,
            "max_height": null,
            "max_width": null,
            "min_height": null,
            "min_width": null,
            "object_fit": null,
            "object_position": null,
            "order": null,
            "overflow": null,
            "overflow_x": null,
            "overflow_y": null,
            "padding": null,
            "right": null,
            "top": null,
            "visibility": null,
            "width": null
          }
        },
        "945ea840dc8b42eaa065485344eedb0e": {
          "model_module": "@jupyter-widgets/controls",
          "model_module_version": "1.5.0",
          "model_name": "ProgressStyleModel",
          "state": {
            "_model_module": "@jupyter-widgets/controls",
            "_model_module_version": "1.5.0",
            "_model_name": "ProgressStyleModel",
            "_view_count": null,
            "_view_module": "@jupyter-widgets/base",
            "_view_module_version": "1.2.0",
            "_view_name": "StyleView",
            "bar_color": null,
            "description_width": ""
          }
        },
        "986d0729b39b46ffafe4a102b4fa6301": {
          "model_module": "@jupyter-widgets/controls",
          "model_module_version": "1.5.0",
          "model_name": "DescriptionStyleModel",
          "state": {
            "_model_module": "@jupyter-widgets/controls",
            "_model_module_version": "1.5.0",
            "_model_name": "DescriptionStyleModel",
            "_view_count": null,
            "_view_module": "@jupyter-widgets/base",
            "_view_module_version": "1.2.0",
            "_view_name": "StyleView",
            "description_width": ""
          }
        },
        "9d359d3b29a04ddcaaf94d64c157107f": {
          "model_module": "@jupyter-widgets/controls",
          "model_module_version": "1.5.0",
          "model_name": "HTMLModel",
          "state": {
            "_dom_classes": [],
            "_model_module": "@jupyter-widgets/controls",
            "_model_module_version": "1.5.0",
            "_model_name": "HTMLModel",
            "_view_count": null,
            "_view_module": "@jupyter-widgets/controls",
            "_view_module_version": "1.5.0",
            "_view_name": "HTMLView",
            "description": "",
            "description_tooltip": null,
            "layout": "IPY_MODEL_d59d9c7a1c824a8498e3e8f813eb197c",
            "placeholder": "​",
            "style": "IPY_MODEL_c0a229f6ea9048559659d5e42fa5e80e",
            "value": " 850M/850M [00:32&lt;00:00, 52.6MB/s]"
          }
        },
        "a22c664e49fb48bc930f0e790c83219e": {
          "model_module": "@jupyter-widgets/controls",
          "model_module_version": "1.5.0",
          "model_name": "DescriptionStyleModel",
          "state": {
            "_model_module": "@jupyter-widgets/controls",
            "_model_module_version": "1.5.0",
            "_model_name": "DescriptionStyleModel",
            "_view_count": null,
            "_view_module": "@jupyter-widgets/base",
            "_view_module_version": "1.2.0",
            "_view_name": "StyleView",
            "description_width": ""
          }
        },
        "a39ef276b04147e88827a7b8a28d63e3": {
          "model_module": "@jupyter-widgets/base",
          "model_module_version": "1.2.0",
          "model_name": "LayoutModel",
          "state": {
            "_model_module": "@jupyter-widgets/base",
            "_model_module_version": "1.2.0",
            "_model_name": "LayoutModel",
            "_view_count": null,
            "_view_module": "@jupyter-widgets/base",
            "_view_module_version": "1.2.0",
            "_view_name": "LayoutView",
            "align_content": null,
            "align_items": null,
            "align_self": null,
            "border": null,
            "bottom": null,
            "display": null,
            "flex": null,
            "flex_flow": null,
            "grid_area": null,
            "grid_auto_columns": null,
            "grid_auto_flow": null,
            "grid_auto_rows": null,
            "grid_column": null,
            "grid_gap": null,
            "grid_row": null,
            "grid_template_areas": null,
            "grid_template_columns": null,
            "grid_template_rows": null,
            "height": null,
            "justify_content": null,
            "justify_items": null,
            "left": null,
            "margin": null,
            "max_height": null,
            "max_width": null,
            "min_height": null,
            "min_width": null,
            "object_fit": null,
            "object_position": null,
            "order": null,
            "overflow": null,
            "overflow_x": null,
            "overflow_y": null,
            "padding": null,
            "right": null,
            "top": null,
            "visibility": null,
            "width": null
          }
        },
        "a3bd489657b24624bd142cbd66f97303": {
          "model_module": "@jupyter-widgets/controls",
          "model_module_version": "1.5.0",
          "model_name": "HTMLModel",
          "state": {
            "_dom_classes": [],
            "_model_module": "@jupyter-widgets/controls",
            "_model_module_version": "1.5.0",
            "_model_name": "HTMLModel",
            "_view_count": null,
            "_view_module": "@jupyter-widgets/controls",
            "_view_module_version": "1.5.0",
            "_view_name": "HTMLView",
            "description": "",
            "description_tooltip": null,
            "layout": "IPY_MODEL_d3c939c6624244078db3d5abdf544c49",
            "placeholder": "​",
            "style": "IPY_MODEL_986d0729b39b46ffafe4a102b4fa6301",
            "value": "Downloading config.json: 100%"
          }
        },
        "a62e2fa37297423093af938981b0de84": {
          "model_module": "@jupyter-widgets/base",
          "model_module_version": "1.2.0",
          "model_name": "LayoutModel",
          "state": {
            "_model_module": "@jupyter-widgets/base",
            "_model_module_version": "1.2.0",
            "_model_name": "LayoutModel",
            "_view_count": null,
            "_view_module": "@jupyter-widgets/base",
            "_view_module_version": "1.2.0",
            "_view_name": "LayoutView",
            "align_content": null,
            "align_items": null,
            "align_self": null,
            "border": null,
            "bottom": null,
            "display": null,
            "flex": null,
            "flex_flow": null,
            "grid_area": null,
            "grid_auto_columns": null,
            "grid_auto_flow": null,
            "grid_auto_rows": null,
            "grid_column": null,
            "grid_gap": null,
            "grid_row": null,
            "grid_template_areas": null,
            "grid_template_columns": null,
            "grid_template_rows": null,
            "height": null,
            "justify_content": null,
            "justify_items": null,
            "left": null,
            "margin": null,
            "max_height": null,
            "max_width": null,
            "min_height": null,
            "min_width": null,
            "object_fit": null,
            "object_position": null,
            "order": null,
            "overflow": null,
            "overflow_x": null,
            "overflow_y": null,
            "padding": null,
            "right": null,
            "top": null,
            "visibility": null,
            "width": null
          }
        },
        "a7893523dbe44c949f822b13c549124d": {
          "model_module": "@jupyter-widgets/base",
          "model_module_version": "1.2.0",
          "model_name": "LayoutModel",
          "state": {
            "_model_module": "@jupyter-widgets/base",
            "_model_module_version": "1.2.0",
            "_model_name": "LayoutModel",
            "_view_count": null,
            "_view_module": "@jupyter-widgets/base",
            "_view_module_version": "1.2.0",
            "_view_name": "LayoutView",
            "align_content": null,
            "align_items": null,
            "align_self": null,
            "border": null,
            "bottom": null,
            "display": null,
            "flex": null,
            "flex_flow": null,
            "grid_area": null,
            "grid_auto_columns": null,
            "grid_auto_flow": null,
            "grid_auto_rows": null,
            "grid_column": null,
            "grid_gap": null,
            "grid_row": null,
            "grid_template_areas": null,
            "grid_template_columns": null,
            "grid_template_rows": null,
            "height": null,
            "justify_content": null,
            "justify_items": null,
            "left": null,
            "margin": null,
            "max_height": null,
            "max_width": null,
            "min_height": null,
            "min_width": null,
            "object_fit": null,
            "object_position": null,
            "order": null,
            "overflow": null,
            "overflow_x": null,
            "overflow_y": null,
            "padding": null,
            "right": null,
            "top": null,
            "visibility": null,
            "width": null
          }
        },
        "a86bc30a71014e238275a226b74685cc": {
          "model_module": "@jupyter-widgets/controls",
          "model_module_version": "1.5.0",
          "model_name": "HTMLModel",
          "state": {
            "_dom_classes": [],
            "_model_module": "@jupyter-widgets/controls",
            "_model_module_version": "1.5.0",
            "_model_name": "HTMLModel",
            "_view_count": null,
            "_view_module": "@jupyter-widgets/controls",
            "_view_module_version": "1.5.0",
            "_view_name": "HTMLView",
            "description": "",
            "description_tooltip": null,
            "layout": "IPY_MODEL_1dce9bd61aa24612bbcb24251703c509",
            "placeholder": "​",
            "style": "IPY_MODEL_89af5b8259fa4cb6b8f1f253f01b0b20",
            "value": "monoT5:   0%"
          }
        },
        "a93b95b932864bd9874ccdcb843b781d": {
          "model_module": "@jupyter-widgets/controls",
          "model_module_version": "1.5.0",
          "model_name": "ProgressStyleModel",
          "state": {
            "_model_module": "@jupyter-widgets/controls",
            "_model_module_version": "1.5.0",
            "_model_name": "ProgressStyleModel",
            "_view_count": null,
            "_view_module": "@jupyter-widgets/base",
            "_view_module_version": "1.2.0",
            "_view_name": "StyleView",
            "bar_color": null,
            "description_width": ""
          }
        },
        "b107c76fcf994617b7e58d4581d74e58": {
          "model_module": "@jupyter-widgets/controls",
          "model_module_version": "1.5.0",
          "model_name": "FloatProgressModel",
          "state": {
            "_dom_classes": [],
            "_model_module": "@jupyter-widgets/controls",
            "_model_module_version": "1.5.0",
            "_model_name": "FloatProgressModel",
            "_view_count": null,
            "_view_module": "@jupyter-widgets/controls",
            "_view_module_version": "1.5.0",
            "_view_name": "ProgressView",
            "bar_style": "success",
            "description": "",
            "description_tooltip": null,
            "layout": "IPY_MODEL_83f695ae2bdf491896d202bac36017f8",
            "max": 1337,
            "min": 0,
            "orientation": "horizontal",
            "style": "IPY_MODEL_c5da04d226c34a4b8d7cba54078d1ae7",
            "value": 1337
          }
        },
        "b45bf11ceb1e4a44bdab21ab1d693b6e": {
          "model_module": "@jupyter-widgets/controls",
          "model_module_version": "1.5.0",
          "model_name": "HBoxModel",
          "state": {
            "_dom_classes": [],
            "_model_module": "@jupyter-widgets/controls",
            "_model_module_version": "1.5.0",
            "_model_name": "HBoxModel",
            "_view_count": null,
            "_view_module": "@jupyter-widgets/controls",
            "_view_module_version": "1.5.0",
            "_view_name": "HBoxView",
            "box_style": "",
            "children": [
              "IPY_MODEL_7c43c982d4534d14920f3ce2bbe9b120",
              "IPY_MODEL_7a061298ebb446b288fe8bd068eaf6f2",
              "IPY_MODEL_39b8e52a53b44b529b28e9d43415c2a8"
            ],
            "layout": "IPY_MODEL_30313a32c33a48c0bfe1c0ae37e826f2"
          }
        },
        "b5435cb50dd34342b65f85545b124449": {
          "model_module": "@jupyter-widgets/controls",
          "model_module_version": "1.5.0",
          "model_name": "ProgressStyleModel",
          "state": {
            "_model_module": "@jupyter-widgets/controls",
            "_model_module_version": "1.5.0",
            "_model_name": "ProgressStyleModel",
            "_view_count": null,
            "_view_module": "@jupyter-widgets/base",
            "_view_module_version": "1.2.0",
            "_view_name": "StyleView",
            "bar_color": null,
            "description_width": ""
          }
        },
        "b63d1328d6db4dc98d2d484e0402e843": {
          "model_module": "@jupyter-widgets/base",
          "model_module_version": "1.2.0",
          "model_name": "LayoutModel",
          "state": {
            "_model_module": "@jupyter-widgets/base",
            "_model_module_version": "1.2.0",
            "_model_name": "LayoutModel",
            "_view_count": null,
            "_view_module": "@jupyter-widgets/base",
            "_view_module_version": "1.2.0",
            "_view_name": "LayoutView",
            "align_content": null,
            "align_items": null,
            "align_self": null,
            "border": null,
            "bottom": null,
            "display": null,
            "flex": null,
            "flex_flow": null,
            "grid_area": null,
            "grid_auto_columns": null,
            "grid_auto_flow": null,
            "grid_auto_rows": null,
            "grid_column": null,
            "grid_gap": null,
            "grid_row": null,
            "grid_template_areas": null,
            "grid_template_columns": null,
            "grid_template_rows": null,
            "height": null,
            "justify_content": null,
            "justify_items": null,
            "left": null,
            "margin": null,
            "max_height": null,
            "max_width": null,
            "min_height": null,
            "min_width": null,
            "object_fit": null,
            "object_position": null,
            "order": null,
            "overflow": null,
            "overflow_x": null,
            "overflow_y": null,
            "padding": null,
            "right": null,
            "top": null,
            "visibility": null,
            "width": null
          }
        },
        "c0a229f6ea9048559659d5e42fa5e80e": {
          "model_module": "@jupyter-widgets/controls",
          "model_module_version": "1.5.0",
          "model_name": "DescriptionStyleModel",
          "state": {
            "_model_module": "@jupyter-widgets/controls",
            "_model_module_version": "1.5.0",
            "_model_name": "DescriptionStyleModel",
            "_view_count": null,
            "_view_module": "@jupyter-widgets/base",
            "_view_module_version": "1.2.0",
            "_view_name": "StyleView",
            "description_width": ""
          }
        },
        "c5da04d226c34a4b8d7cba54078d1ae7": {
          "model_module": "@jupyter-widgets/controls",
          "model_module_version": "1.5.0",
          "model_name": "ProgressStyleModel",
          "state": {
            "_model_module": "@jupyter-widgets/controls",
            "_model_module_version": "1.5.0",
            "_model_name": "ProgressStyleModel",
            "_view_count": null,
            "_view_module": "@jupyter-widgets/base",
            "_view_module_version": "1.2.0",
            "_view_name": "StyleView",
            "bar_color": null,
            "description_width": ""
          }
        },
        "ca71fb94d4d449c8980f5c390c80d4b0": {
          "model_module": "@jupyter-widgets/controls",
          "model_module_version": "1.5.0",
          "model_name": "DescriptionStyleModel",
          "state": {
            "_model_module": "@jupyter-widgets/controls",
            "_model_module_version": "1.5.0",
            "_model_name": "DescriptionStyleModel",
            "_view_count": null,
            "_view_module": "@jupyter-widgets/base",
            "_view_module_version": "1.2.0",
            "_view_name": "StyleView",
            "description_width": ""
          }
        },
        "ce0031a7844a4baa9407a98ccc78abec": {
          "model_module": "@jupyter-widgets/base",
          "model_module_version": "1.2.0",
          "model_name": "LayoutModel",
          "state": {
            "_model_module": "@jupyter-widgets/base",
            "_model_module_version": "1.2.0",
            "_model_name": "LayoutModel",
            "_view_count": null,
            "_view_module": "@jupyter-widgets/base",
            "_view_module_version": "1.2.0",
            "_view_name": "LayoutView",
            "align_content": null,
            "align_items": null,
            "align_self": null,
            "border": null,
            "bottom": null,
            "display": null,
            "flex": null,
            "flex_flow": null,
            "grid_area": null,
            "grid_auto_columns": null,
            "grid_auto_flow": null,
            "grid_auto_rows": null,
            "grid_column": null,
            "grid_gap": null,
            "grid_row": null,
            "grid_template_areas": null,
            "grid_template_columns": null,
            "grid_template_rows": null,
            "height": null,
            "justify_content": null,
            "justify_items": null,
            "left": null,
            "margin": null,
            "max_height": null,
            "max_width": null,
            "min_height": null,
            "min_width": null,
            "object_fit": null,
            "object_position": null,
            "order": null,
            "overflow": null,
            "overflow_x": null,
            "overflow_y": null,
            "padding": null,
            "right": null,
            "top": null,
            "visibility": null,
            "width": null
          }
        },
        "cf42938f1a8040978e7d61b567bb7fc2": {
          "model_module": "@jupyter-widgets/controls",
          "model_module_version": "1.5.0",
          "model_name": "HBoxModel",
          "state": {
            "_dom_classes": [],
            "_model_module": "@jupyter-widgets/controls",
            "_model_module_version": "1.5.0",
            "_model_name": "HBoxModel",
            "_view_count": null,
            "_view_module": "@jupyter-widgets/controls",
            "_view_module_version": "1.5.0",
            "_view_name": "HBoxView",
            "box_style": "",
            "children": [
              "IPY_MODEL_172a3554070f4671bbb1d34a6e6d5c42",
              "IPY_MODEL_7adce8e7f96d4a1ea47d6a42f20fee87",
              "IPY_MODEL_1b332ae0dccb43f28dd11ee8dec67147"
            ],
            "layout": "IPY_MODEL_a7893523dbe44c949f822b13c549124d"
          }
        },
        "cf8369cd9e024e9a948d371e7a1e7683": {
          "model_module": "@jupyter-widgets/controls",
          "model_module_version": "1.5.0",
          "model_name": "HTMLModel",
          "state": {
            "_dom_classes": [],
            "_model_module": "@jupyter-widgets/controls",
            "_model_module_version": "1.5.0",
            "_model_name": "HTMLModel",
            "_view_count": null,
            "_view_module": "@jupyter-widgets/controls",
            "_view_module_version": "1.5.0",
            "_view_name": "HTMLView",
            "description": "",
            "description_tooltip": null,
            "layout": "IPY_MODEL_1607b38001a247daa004c588b8ed59e6",
            "placeholder": "​",
            "style": "IPY_MODEL_173e522e765146fabe2fe9e7a917e73b",
            "value": " 1.80k/1.80k [00:00&lt;00:00, 39.1kB/s]"
          }
        },
        "d0d25298db9749508fcf6ddcfac89a5b": {
          "model_module": "@jupyter-widgets/base",
          "model_module_version": "1.2.0",
          "model_name": "LayoutModel",
          "state": {
            "_model_module": "@jupyter-widgets/base",
            "_model_module_version": "1.2.0",
            "_model_name": "LayoutModel",
            "_view_count": null,
            "_view_module": "@jupyter-widgets/base",
            "_view_module_version": "1.2.0",
            "_view_name": "LayoutView",
            "align_content": null,
            "align_items": null,
            "align_self": null,
            "border": null,
            "bottom": null,
            "display": null,
            "flex": null,
            "flex_flow": null,
            "grid_area": null,
            "grid_auto_columns": null,
            "grid_auto_flow": null,
            "grid_auto_rows": null,
            "grid_column": null,
            "grid_gap": null,
            "grid_row": null,
            "grid_template_areas": null,
            "grid_template_columns": null,
            "grid_template_rows": null,
            "height": null,
            "justify_content": null,
            "justify_items": null,
            "left": null,
            "margin": null,
            "max_height": null,
            "max_width": null,
            "min_height": null,
            "min_width": null,
            "object_fit": null,
            "object_position": null,
            "order": null,
            "overflow": null,
            "overflow_x": null,
            "overflow_y": null,
            "padding": null,
            "right": null,
            "top": null,
            "visibility": null,
            "width": null
          }
        },
        "d3c939c6624244078db3d5abdf544c49": {
          "model_module": "@jupyter-widgets/base",
          "model_module_version": "1.2.0",
          "model_name": "LayoutModel",
          "state": {
            "_model_module": "@jupyter-widgets/base",
            "_model_module_version": "1.2.0",
            "_model_name": "LayoutModel",
            "_view_count": null,
            "_view_module": "@jupyter-widgets/base",
            "_view_module_version": "1.2.0",
            "_view_name": "LayoutView",
            "align_content": null,
            "align_items": null,
            "align_self": null,
            "border": null,
            "bottom": null,
            "display": null,
            "flex": null,
            "flex_flow": null,
            "grid_area": null,
            "grid_auto_columns": null,
            "grid_auto_flow": null,
            "grid_auto_rows": null,
            "grid_column": null,
            "grid_gap": null,
            "grid_row": null,
            "grid_template_areas": null,
            "grid_template_columns": null,
            "grid_template_rows": null,
            "height": null,
            "justify_content": null,
            "justify_items": null,
            "left": null,
            "margin": null,
            "max_height": null,
            "max_width": null,
            "min_height": null,
            "min_width": null,
            "object_fit": null,
            "object_position": null,
            "order": null,
            "overflow": null,
            "overflow_x": null,
            "overflow_y": null,
            "padding": null,
            "right": null,
            "top": null,
            "visibility": null,
            "width": null
          }
        },
        "d3d2e5bf81c14b2ea59e3b32f8a1b4b9": {
          "model_module": "@jupyter-widgets/controls",
          "model_module_version": "1.5.0",
          "model_name": "ProgressStyleModel",
          "state": {
            "_model_module": "@jupyter-widgets/controls",
            "_model_module_version": "1.5.0",
            "_model_name": "ProgressStyleModel",
            "_view_count": null,
            "_view_module": "@jupyter-widgets/base",
            "_view_module_version": "1.2.0",
            "_view_name": "StyleView",
            "bar_color": null,
            "description_width": ""
          }
        },
        "d59d9c7a1c824a8498e3e8f813eb197c": {
          "model_module": "@jupyter-widgets/base",
          "model_module_version": "1.2.0",
          "model_name": "LayoutModel",
          "state": {
            "_model_module": "@jupyter-widgets/base",
            "_model_module_version": "1.2.0",
            "_model_name": "LayoutModel",
            "_view_count": null,
            "_view_module": "@jupyter-widgets/base",
            "_view_module_version": "1.2.0",
            "_view_name": "LayoutView",
            "align_content": null,
            "align_items": null,
            "align_self": null,
            "border": null,
            "bottom": null,
            "display": null,
            "flex": null,
            "flex_flow": null,
            "grid_area": null,
            "grid_auto_columns": null,
            "grid_auto_flow": null,
            "grid_auto_rows": null,
            "grid_column": null,
            "grid_gap": null,
            "grid_row": null,
            "grid_template_areas": null,
            "grid_template_columns": null,
            "grid_template_rows": null,
            "height": null,
            "justify_content": null,
            "justify_items": null,
            "left": null,
            "margin": null,
            "max_height": null,
            "max_width": null,
            "min_height": null,
            "min_width": null,
            "object_fit": null,
            "object_position": null,
            "order": null,
            "overflow": null,
            "overflow_x": null,
            "overflow_y": null,
            "padding": null,
            "right": null,
            "top": null,
            "visibility": null,
            "width": null
          }
        },
        "d7997999789b40a9b7fe1cfae828070a": {
          "model_module": "@jupyter-widgets/controls",
          "model_module_version": "1.5.0",
          "model_name": "HTMLModel",
          "state": {
            "_dom_classes": [],
            "_model_module": "@jupyter-widgets/controls",
            "_model_module_version": "1.5.0",
            "_model_name": "HTMLModel",
            "_view_count": null,
            "_view_module": "@jupyter-widgets/controls",
            "_view_module_version": "1.5.0",
            "_view_name": "HTMLView",
            "description": "",
            "description_tooltip": null,
            "layout": "IPY_MODEL_d0d25298db9749508fcf6ddcfac89a5b",
            "placeholder": "​",
            "style": "IPY_MODEL_803b1c3dd26240e8b00faca8b7dc1305",
            "value": " 2/2000 [00:04&lt;1:18:21,  2.35s/batches]"
          }
        },
        "d8f51a15184343ae9dcd827d5b97ffa5": {
          "model_module": "@jupyter-widgets/controls",
          "model_module_version": "1.5.0",
          "model_name": "HTMLModel",
          "state": {
            "_dom_classes": [],
            "_model_module": "@jupyter-widgets/controls",
            "_model_module_version": "1.5.0",
            "_model_name": "HTMLModel",
            "_view_count": null,
            "_view_module": "@jupyter-widgets/controls",
            "_view_module_version": "1.5.0",
            "_view_name": "HTMLView",
            "description": "",
            "description_tooltip": null,
            "layout": "IPY_MODEL_18ca02f0bfeb4cb1bc839d5d74cf8352",
            "placeholder": "​",
            "style": "IPY_MODEL_fe0e46efaf9d44a99fe50b1e9fb3bbc3",
            "value": " 1.31k/1.31k [00:00&lt;00:00, 1.97kB/s]"
          }
        },
        "dc97449d87a5466699387c0a4e1db6bd": {
          "model_module": "@jupyter-widgets/controls",
          "model_module_version": "1.5.0",
          "model_name": "DescriptionStyleModel",
          "state": {
            "_model_module": "@jupyter-widgets/controls",
            "_model_module_version": "1.5.0",
            "_model_name": "DescriptionStyleModel",
            "_view_count": null,
            "_view_module": "@jupyter-widgets/base",
            "_view_module_version": "1.2.0",
            "_view_name": "StyleView",
            "description_width": ""
          }
        },
        "def08a9f6e79492fb521139bf119e327": {
          "model_module": "@jupyter-widgets/controls",
          "model_module_version": "1.5.0",
          "model_name": "HTMLModel",
          "state": {
            "_dom_classes": [],
            "_model_module": "@jupyter-widgets/controls",
            "_model_module_version": "1.5.0",
            "_model_name": "HTMLModel",
            "_view_count": null,
            "_view_module": "@jupyter-widgets/controls",
            "_view_module_version": "1.5.0",
            "_view_name": "HTMLView",
            "description": "",
            "description_tooltip": null,
            "layout": "IPY_MODEL_33327227b67f4af5adb4607207e5e8db",
            "placeholder": "​",
            "style": "IPY_MODEL_11e8c7ef8d134fa2aad8d6f2d98a7326",
            "value": "Downloading pytorch_model.bin: 100%"
          }
        },
        "e2cbc0462bec42dab29ec73220610777": {
          "model_module": "@jupyter-widgets/base",
          "model_module_version": "1.2.0",
          "model_name": "LayoutModel",
          "state": {
            "_model_module": "@jupyter-widgets/base",
            "_model_module_version": "1.2.0",
            "_model_name": "LayoutModel",
            "_view_count": null,
            "_view_module": "@jupyter-widgets/base",
            "_view_module_version": "1.2.0",
            "_view_name": "LayoutView",
            "align_content": null,
            "align_items": null,
            "align_self": null,
            "border": null,
            "bottom": null,
            "display": null,
            "flex": null,
            "flex_flow": null,
            "grid_area": null,
            "grid_auto_columns": null,
            "grid_auto_flow": null,
            "grid_auto_rows": null,
            "grid_column": null,
            "grid_gap": null,
            "grid_row": null,
            "grid_template_areas": null,
            "grid_template_columns": null,
            "grid_template_rows": null,
            "height": null,
            "justify_content": null,
            "justify_items": null,
            "left": null,
            "margin": null,
            "max_height": null,
            "max_width": null,
            "min_height": null,
            "min_width": null,
            "object_fit": null,
            "object_position": null,
            "order": null,
            "overflow": null,
            "overflow_x": null,
            "overflow_y": null,
            "padding": null,
            "right": null,
            "top": null,
            "visibility": null,
            "width": null
          }
        },
        "ee58b39ca81b49208e365c2b5a2a85a1": {
          "model_module": "@jupyter-widgets/controls",
          "model_module_version": "1.5.0",
          "model_name": "HBoxModel",
          "state": {
            "_dom_classes": [],
            "_model_module": "@jupyter-widgets/controls",
            "_model_module_version": "1.5.0",
            "_model_name": "HBoxModel",
            "_view_count": null,
            "_view_module": "@jupyter-widgets/controls",
            "_view_module_version": "1.5.0",
            "_view_name": "HBoxView",
            "box_style": "",
            "children": [
              "IPY_MODEL_def08a9f6e79492fb521139bf119e327",
              "IPY_MODEL_1d13e32cf24548f4b890f3e0e0922eb8",
              "IPY_MODEL_3c334d94fafa43dd88a2813720e2446d"
            ],
            "layout": "IPY_MODEL_b63d1328d6db4dc98d2d484e0402e843"
          }
        },
        "ef51c84faa3d4ae5893a0ecafa57fa3f": {
          "model_module": "@jupyter-widgets/base",
          "model_module_version": "1.2.0",
          "model_name": "LayoutModel",
          "state": {
            "_model_module": "@jupyter-widgets/base",
            "_model_module_version": "1.2.0",
            "_model_name": "LayoutModel",
            "_view_count": null,
            "_view_module": "@jupyter-widgets/base",
            "_view_module_version": "1.2.0",
            "_view_name": "LayoutView",
            "align_content": null,
            "align_items": null,
            "align_self": null,
            "border": null,
            "bottom": null,
            "display": null,
            "flex": null,
            "flex_flow": null,
            "grid_area": null,
            "grid_auto_columns": null,
            "grid_auto_flow": null,
            "grid_auto_rows": null,
            "grid_column": null,
            "grid_gap": null,
            "grid_row": null,
            "grid_template_areas": null,
            "grid_template_columns": null,
            "grid_template_rows": null,
            "height": null,
            "justify_content": null,
            "justify_items": null,
            "left": null,
            "margin": null,
            "max_height": null,
            "max_width": null,
            "min_height": null,
            "min_width": null,
            "object_fit": null,
            "object_position": null,
            "order": null,
            "overflow": null,
            "overflow_x": null,
            "overflow_y": null,
            "padding": null,
            "right": null,
            "top": null,
            "visibility": null,
            "width": null
          }
        },
        "fcf246cfb37145fab196c1b3308e4b24": {
          "model_module": "@jupyter-widgets/controls",
          "model_module_version": "1.5.0",
          "model_name": "DescriptionStyleModel",
          "state": {
            "_model_module": "@jupyter-widgets/controls",
            "_model_module_version": "1.5.0",
            "_model_name": "DescriptionStyleModel",
            "_view_count": null,
            "_view_module": "@jupyter-widgets/base",
            "_view_module_version": "1.2.0",
            "_view_name": "StyleView",
            "description_width": ""
          }
        },
        "fe0e46efaf9d44a99fe50b1e9fb3bbc3": {
          "model_module": "@jupyter-widgets/controls",
          "model_module_version": "1.5.0",
          "model_name": "DescriptionStyleModel",
          "state": {
            "_model_module": "@jupyter-widgets/controls",
            "_model_module_version": "1.5.0",
            "_model_name": "DescriptionStyleModel",
            "_view_count": null,
            "_view_module": "@jupyter-widgets/base",
            "_view_module_version": "1.2.0",
            "_view_name": "StyleView",
            "description_width": ""
          }
        },
        "fe10fac6005a4517a8372ffd5b13e577": {
          "model_module": "@jupyter-widgets/controls",
          "model_module_version": "1.5.0",
          "model_name": "DescriptionStyleModel",
          "state": {
            "_model_module": "@jupyter-widgets/controls",
            "_model_module_version": "1.5.0",
            "_model_name": "DescriptionStyleModel",
            "_view_count": null,
            "_view_module": "@jupyter-widgets/base",
            "_view_module_version": "1.2.0",
            "_view_name": "StyleView",
            "description_width": ""
          }
        }
      }
    }
  },
  "nbformat": 4,
  "nbformat_minor": 0
}