{
  "nbformat": 4,
  "nbformat_minor": 0,
  "metadata": {
    "colab": {
      "provenance": [],
      "collapsed_sections": []
    },
    "kernelspec": {
      "name": "python3",
      "display_name": "Python 3"
    },
    "language_info": {
      "name": "python"
    }
  },
  "cells": [
    {
      "cell_type": "code",
      "execution_count": null,
      "metadata": {
        "colab": {
          "base_uri": "https://localhost:8080/"
        },
        "id": "NHXQr-I0soFU",
        "outputId": "76c0444e-bf9b-453a-dffc-1d5082b2e9d4"
      },
      "outputs": [
        {
          "output_type": "stream",
          "name": "stdout",
          "text": [
            "Looking in indexes: https://pypi.org/simple, https://us-python.pkg.dev/colab-wheels/public/simple/\n",
            "Collecting python-terrier\n",
            "  Downloading python-terrier-0.8.1.tar.gz (97 kB)\n",
            "\u001b[K     |████████████████████████████████| 97 kB 2.8 MB/s \n",
            "\u001b[?25hRequirement already satisfied: numpy in /usr/local/lib/python3.7/dist-packages (from python-terrier) (1.21.6)\n",
            "Requirement already satisfied: pandas in /usr/local/lib/python3.7/dist-packages (from python-terrier) (1.3.5)\n",
            "Collecting wget\n",
            "  Downloading wget-3.2.zip (10 kB)\n",
            "Requirement already satisfied: tqdm in /usr/local/lib/python3.7/dist-packages (from python-terrier) (4.64.1)\n",
            "Collecting pyjnius~=1.3.0\n",
            "  Downloading pyjnius-1.3.0-cp37-cp37m-manylinux2010_x86_64.whl (1.1 MB)\n",
            "\u001b[K     |████████████████████████████████| 1.1 MB 23.3 MB/s \n",
            "\u001b[?25hCollecting matchpy\n",
            "  Downloading matchpy-0.5.5-py3-none-any.whl (69 kB)\n",
            "\u001b[K     |████████████████████████████████| 69 kB 7.0 MB/s \n",
            "\u001b[?25hCollecting sklearn\n",
            "  Downloading sklearn-0.0.tar.gz (1.1 kB)\n",
            "Collecting deprecation\n",
            "  Downloading deprecation-2.1.0-py2.py3-none-any.whl (11 kB)\n",
            "Collecting chest\n",
            "  Downloading chest-0.2.3.tar.gz (9.6 kB)\n",
            "Requirement already satisfied: scipy in /usr/local/lib/python3.7/dist-packages (from python-terrier) (1.7.3)\n",
            "Requirement already satisfied: requests in /usr/local/lib/python3.7/dist-packages (from python-terrier) (2.23.0)\n",
            "Requirement already satisfied: joblib in /usr/local/lib/python3.7/dist-packages (from python-terrier) (1.1.0)\n",
            "Collecting nptyping==1.4.4\n",
            "  Downloading nptyping-1.4.4-py3-none-any.whl (31 kB)\n",
            "Requirement already satisfied: more_itertools in /usr/local/lib/python3.7/dist-packages (from python-terrier) (8.14.0)\n",
            "Collecting ir_datasets>=0.3.2\n",
            "  Downloading ir_datasets-0.5.3-py3-none-any.whl (303 kB)\n",
            "\u001b[K     |████████████████████████████████| 303 kB 58.8 MB/s \n",
            "\u001b[?25hRequirement already satisfied: jinja2 in /usr/local/lib/python3.7/dist-packages (from python-terrier) (2.11.3)\n",
            "Requirement already satisfied: statsmodels in /usr/local/lib/python3.7/dist-packages (from python-terrier) (0.12.2)\n",
            "Collecting ir_measures>=0.2.0\n",
            "  Downloading ir_measures-0.3.1.tar.gz (46 kB)\n",
            "\u001b[K     |████████████████████████████████| 46 kB 3.6 MB/s \n",
            "\u001b[?25hRequirement already satisfied: dill in /usr/local/lib/python3.7/dist-packages (from python-terrier) (0.3.5.1)\n",
            "Collecting typish>=1.7.0\n",
            "  Downloading typish-1.9.3-py3-none-any.whl (45 kB)\n",
            "\u001b[K     |████████████████████████████████| 45 kB 1.8 MB/s \n",
            "\u001b[?25hCollecting ijson>=3.1.3\n",
            "  Downloading ijson-3.1.4-cp37-cp37m-manylinux2010_x86_64.whl (126 kB)\n",
            "\u001b[K     |████████████████████████████████| 126 kB 52.2 MB/s \n",
            "\u001b[?25hCollecting unlzw3>=0.2.1\n",
            "  Downloading unlzw3-0.2.1.tar.gz (5.8 kB)\n",
            "  Installing build dependencies ... \u001b[?25l\u001b[?25hdone\n",
            "  Getting requirements to build wheel ... \u001b[?25l\u001b[?25hdone\n",
            "    Preparing wheel metadata ... \u001b[?25l\u001b[?25hdone\n",
            "Requirement already satisfied: pyyaml>=5.3.1 in /usr/local/lib/python3.7/dist-packages (from ir_datasets>=0.3.2->python-terrier) (6.0)\n",
            "Requirement already satisfied: beautifulsoup4>=4.4.1 in /usr/local/lib/python3.7/dist-packages (from ir_datasets>=0.3.2->python-terrier) (4.6.3)\n",
            "Collecting warc3-wet>=0.2.3\n",
            "  Downloading warc3_wet-0.2.3-py3-none-any.whl (13 kB)\n",
            "Collecting lz4>=3.1.1\n",
            "  Downloading lz4-4.0.2-cp37-cp37m-manylinux_2_17_x86_64.manylinux2014_x86_64.whl (1.2 MB)\n",
            "\u001b[K     |████████████████████████████████| 1.2 MB 50.5 MB/s \n",
            "\u001b[?25hCollecting zlib-state>=0.1.3\n",
            "  Downloading zlib_state-0.1.5-cp37-cp37m-manylinux2010_x86_64.whl (72 kB)\n",
            "\u001b[K     |████████████████████████████████| 72 kB 1.4 MB/s \n",
            "\u001b[?25hRequirement already satisfied: lxml>=4.5.2 in /usr/local/lib/python3.7/dist-packages (from ir_datasets>=0.3.2->python-terrier) (4.9.1)\n",
            "Collecting trec-car-tools>=2.5.4\n",
            "  Downloading trec_car_tools-2.6-py3-none-any.whl (8.4 kB)\n",
            "Collecting warc3-wet-clueweb09>=0.2.5\n",
            "  Downloading warc3-wet-clueweb09-0.2.5.tar.gz (17 kB)\n",
            "Collecting pyautocorpus>=0.1.1\n",
            "  Downloading pyautocorpus-0.1.8-cp37-cp37m-manylinux_2_12_x86_64.manylinux2010_x86_64.whl (294 kB)\n",
            "\u001b[K     |████████████████████████████████| 294 kB 39.3 MB/s \n",
            "\u001b[?25hCollecting pytrec-eval-terrier>=0.5.2\n",
            "  Downloading pytrec_eval_terrier-0.5.4-cp37-cp37m-manylinux_2_17_x86_64.manylinux2014_x86_64.whl (285 kB)\n",
            "\u001b[K     |████████████████████████████████| 285 kB 67.0 MB/s \n",
            "\u001b[?25hCollecting cwl-eval>=1.0.10\n",
            "  Downloading cwl-eval-1.0.10.tar.gz (31 kB)\n",
            "Requirement already satisfied: cython in /usr/local/lib/python3.7/dist-packages (from pyjnius~=1.3.0->python-terrier) (0.29.32)\n",
            "Requirement already satisfied: six>=1.7.0 in /usr/local/lib/python3.7/dist-packages (from pyjnius~=1.3.0->python-terrier) (1.15.0)\n",
            "Requirement already satisfied: idna<3,>=2.5 in /usr/local/lib/python3.7/dist-packages (from requests->python-terrier) (2.10)\n",
            "Requirement already satisfied: urllib3!=1.25.0,!=1.25.1,<1.26,>=1.21.1 in /usr/local/lib/python3.7/dist-packages (from requests->python-terrier) (1.24.3)\n",
            "Requirement already satisfied: certifi>=2017.4.17 in /usr/local/lib/python3.7/dist-packages (from requests->python-terrier) (2022.6.15)\n",
            "Requirement already satisfied: chardet<4,>=3.0.2 in /usr/local/lib/python3.7/dist-packages (from requests->python-terrier) (3.0.4)\n",
            "Collecting cbor>=1.0.0\n",
            "  Downloading cbor-1.0.0.tar.gz (20 kB)\n",
            "Requirement already satisfied: heapdict in /usr/local/lib/python3.7/dist-packages (from chest->python-terrier) (1.0.1)\n",
            "Requirement already satisfied: packaging in /usr/local/lib/python3.7/dist-packages (from deprecation->python-terrier) (21.3)\n",
            "Requirement already satisfied: MarkupSafe>=0.23 in /usr/local/lib/python3.7/dist-packages (from jinja2->python-terrier) (2.0.1)\n",
            "Collecting multiset<3.0,>=2.0\n",
            "  Downloading multiset-2.1.1-py2.py3-none-any.whl (8.8 kB)\n",
            "Requirement already satisfied: pyparsing!=3.0.5,>=2.0.2 in /usr/local/lib/python3.7/dist-packages (from packaging->deprecation->python-terrier) (3.0.9)\n",
            "Requirement already satisfied: python-dateutil>=2.7.3 in /usr/local/lib/python3.7/dist-packages (from pandas->python-terrier) (2.8.2)\n",
            "Requirement already satisfied: pytz>=2017.3 in /usr/local/lib/python3.7/dist-packages (from pandas->python-terrier) (2022.2.1)\n",
            "Requirement already satisfied: scikit-learn in /usr/local/lib/python3.7/dist-packages (from sklearn->python-terrier) (1.0.2)\n",
            "Requirement already satisfied: threadpoolctl>=2.0.0 in /usr/local/lib/python3.7/dist-packages (from scikit-learn->sklearn->python-terrier) (3.1.0)\n",
            "Requirement already satisfied: patsy>=0.5 in /usr/local/lib/python3.7/dist-packages (from statsmodels->python-terrier) (0.5.2)\n",
            "Building wheels for collected packages: python-terrier, ir-measures, cwl-eval, cbor, unlzw3, warc3-wet-clueweb09, chest, sklearn, wget\n",
            "  Building wheel for python-terrier (setup.py) ... \u001b[?25l\u001b[?25hdone\n",
            "  Created wheel for python-terrier: filename=python_terrier-0.8.1-py3-none-any.whl size=104091 sha256=880f1ca2038467a2028759d5e93ff40f89c253528fb990d0faff00b64acc28ba\n",
            "  Stored in directory: /root/.cache/pip/wheels/09/e5/f5/2f28a11314bac89a683eb2a12aed802a7da27e4318ffbff4a8\n",
            "  Building wheel for ir-measures (setup.py) ... \u001b[?25l\u001b[?25hdone\n",
            "  Created wheel for ir-measures: filename=ir_measures-0.3.1-py3-none-any.whl size=60193 sha256=b33c848c3d8cf4cc64985c63125a60ba7f346e7d46ecf53450682fe13020dc86\n",
            "  Stored in directory: /root/.cache/pip/wheels/17/86/a6/8b9c92080cdc19346721307878315c19430fb4705716a5676a\n",
            "  Building wheel for cwl-eval (setup.py) ... \u001b[?25l\u001b[?25hdone\n",
            "  Created wheel for cwl-eval: filename=cwl_eval-1.0.10-py3-none-any.whl size=37797 sha256=40f5335b253748a15324b2fce810369cd6faaf3c51f131a1bdaf05036bfec963\n",
            "  Stored in directory: /root/.cache/pip/wheels/ff/e9/ff/d2b6d72d9feb0d0b1b11aacfaf5cd866717034615c2d194093\n",
            "  Building wheel for cbor (setup.py) ... \u001b[?25l\u001b[?25hdone\n",
            "  Created wheel for cbor: filename=cbor-1.0.0-cp37-cp37m-linux_x86_64.whl size=51302 sha256=7c7483978af8e1f57d72b65efa5adf56bce2b859f31d4cd05509ac42278c579a\n",
            "  Stored in directory: /root/.cache/pip/wheels/19/77/49/c9c2c8dc5848502e606e8579d0bbda18b850fb056a6c62239d\n",
            "  Building wheel for unlzw3 (PEP 517) ... \u001b[?25l\u001b[?25hdone\n",
            "  Created wheel for unlzw3: filename=unlzw3-0.2.1-py3-none-any.whl size=6082 sha256=86bc134165ff3adedf90c70bca89eef6644fa60b22dee85b4ddcb0df4c2e62c1\n",
            "  Stored in directory: /root/.cache/pip/wheels/e1/3c/d9/e33962c8aad8999dc5560b6e71baafa2335c269f532f5e176a\n",
            "  Building wheel for warc3-wet-clueweb09 (setup.py) ... \u001b[?25l\u001b[?25hdone\n",
            "  Created wheel for warc3-wet-clueweb09: filename=warc3_wet_clueweb09-0.2.5-py3-none-any.whl size=18922 sha256=b6ff44910b77938a32cadeeef276e3b1d9e42dab066646109836d8c85043d519\n",
            "  Stored in directory: /root/.cache/pip/wheels/42/d4/3c/7c2b0c3d400ad744e4db69f2fde166655da2ed2198bfc02db6\n",
            "  Building wheel for chest (setup.py) ... \u001b[?25l\u001b[?25hdone\n",
            "  Created wheel for chest: filename=chest-0.2.3-py3-none-any.whl size=7634 sha256=038e15283214cc03768750fe4a6e8017ab354a8471c90a198997c7010746f653\n",
            "  Stored in directory: /root/.cache/pip/wheels/fc/f5/b9/c436e11300809e6b40d46a5d2592fb0bff89e0712f2e878dc7\n",
            "  Building wheel for sklearn (setup.py) ... \u001b[?25l\u001b[?25hdone\n",
            "  Created wheel for sklearn: filename=sklearn-0.0-py2.py3-none-any.whl size=1310 sha256=33932c635086d4dccd98fef688df0049b38f35747fe603d4ddea3eb89cfe9e89\n",
            "  Stored in directory: /root/.cache/pip/wheels/46/ef/c3/157e41f5ee1372d1be90b09f74f82b10e391eaacca8f22d33e\n",
            "  Building wheel for wget (setup.py) ... \u001b[?25l\u001b[?25hdone\n",
            "  Created wheel for wget: filename=wget-3.2-py3-none-any.whl size=9675 sha256=2fa4acc4bdb5ba968792e10cb6b1db4f682e7bbb2d1c60b5c17aed09eee0d34d\n",
            "  Stored in directory: /root/.cache/pip/wheels/a1/b6/7c/0e63e34eb06634181c63adacca38b79ff8f35c37e3c13e3c02\n",
            "Successfully built python-terrier ir-measures cwl-eval cbor unlzw3 warc3-wet-clueweb09 chest sklearn wget\n",
            "Installing collected packages: cbor, zlib-state, warc3-wet-clueweb09, warc3-wet, unlzw3, typish, trec-car-tools, pytrec-eval-terrier, pyautocorpus, multiset, lz4, ijson, cwl-eval, wget, sklearn, pyjnius, nptyping, matchpy, ir-measures, ir-datasets, deprecation, chest, python-terrier\n",
            "Successfully installed cbor-1.0.0 chest-0.2.3 cwl-eval-1.0.10 deprecation-2.1.0 ijson-3.1.4 ir-datasets-0.5.3 ir-measures-0.3.1 lz4-4.0.2 matchpy-0.5.5 multiset-2.1.1 nptyping-1.4.4 pyautocorpus-0.1.8 pyjnius-1.3.0 python-terrier-0.8.1 pytrec-eval-terrier-0.5.4 sklearn-0.0 trec-car-tools-2.6 typish-1.9.3 unlzw3-0.2.1 warc3-wet-0.2.3 warc3-wet-clueweb09-0.2.5 wget-3.2 zlib-state-0.1.5\n"
          ]
        }
      ],
      "source": [
        "pip install python-terrier\n"
      ]
    },
    {
      "cell_type": "code",
      "source": [
        "import pyterrier as pt\n",
        "pt.init()\n"
      ],
      "metadata": {
        "colab": {
          "base_uri": "https://localhost:8080/"
        },
        "id": "C7lrNkZqsxoU",
        "outputId": "61fb0ec0-bf13-41f2-bee8-6dbd1006edec"
      },
      "execution_count": null,
      "outputs": [
        {
          "output_type": "stream",
          "name": "stdout",
          "text": [
            "terrier-assemblies 5.6 jar-with-dependencies not found, downloading to /root/.pyterrier...\n",
            "Done\n",
            "terrier-python-helper 0.0.6 jar not found, downloading to /root/.pyterrier...\n",
            "Done\n"
          ]
        },
        {
          "output_type": "stream",
          "name": "stderr",
          "text": [
            "PyTerrier 0.8.1 has loaded Terrier 5.6 (built by craigmacdonald on 2021-09-17 13:27)\n",
            "\n"
          ]
        }
      ]
    },
    {
      "cell_type": "code",
      "source": [
        "from google.colab import drive\n",
        "drive.mount('/content/drive')"
      ],
      "metadata": {
        "colab": {
          "base_uri": "https://localhost:8080/"
        },
        "id": "pqwqczE_szFJ",
        "outputId": "675f34af-f0b5-4d8d-ad37-d9163afa3d2c"
      },
      "execution_count": null,
      "outputs": [
        {
          "output_type": "stream",
          "name": "stdout",
          "text": [
            "Mounted at /content/drive\n"
          ]
        }
      ]
    },
    {
      "cell_type": "markdown",
      "source": [
        "Reading the indexes for Podcast Small"
      ],
      "metadata": {
        "id": "V3U87q-YvnyY"
      }
    },
    {
      "cell_type": "code",
      "source": [
        "# Raw Document Index \n",
        "sample_set_we = pt.IndexRef.of(\"/content/drive/MyDrive/IRDM/xml_dir/sample_without/data.properties\")\n",
        "raw= pt.IndexFactory.of(sample_set_we)"
      ],
      "metadata": {
        "id": "6Fia8MeJvl3Q"
      },
      "execution_count": null,
      "outputs": []
    },
    {
      "cell_type": "code",
      "source": [
        "#Wikipedia Index \n",
        "wiki_instance = pt.IndexRef.of(\"/content/drive/MyDrive/IRDM/xml_dir/wikified_index_raws/data.properties\")\n",
        "wiki_no_difference= pt.IndexFactory.of(wiki_instance)"
      ],
      "metadata": {
        "id": "hw0a6Vj8vtcD"
      },
      "execution_count": null,
      "outputs": []
    },
    {
      "cell_type": "code",
      "source": [
        "#Wikipedia Index Freq 2 \n",
        "wiki_instance_2 = pt.IndexRef.of(\"/content/drive/MyDrive/IRDM/xml_dir/wikified_index_raw_freq_2/data.properties\")\n",
        "wiki_no_difference_2= pt.IndexFactory.of(wiki_instance_2)"
      ],
      "metadata": {
        "id": "astI75uzFnjz"
      },
      "execution_count": null,
      "outputs": []
    },
    {
      "cell_type": "code",
      "source": [
        "#Wikipedia Index Freq 5\n",
        "wiki_instance_5 = pt.IndexRef.of(\"/content/drive/MyDrive/IRDM/xml_dir/wikified_index_raw_freq_5_test/data.properties\")\n",
        "wiki_no_difference_5= pt.IndexFactory.of(wiki_instance_5)"
      ],
      "metadata": {
        "id": "Mnf180FzGK-0"
      },
      "execution_count": null,
      "outputs": []
    },
    {
      "cell_type": "code",
      "source": [
        "import pandas as pd\n",
        "id_template = 'spotify:episode:{}_{}'\n",
        "\n",
        "def get_ep(a,b):\n",
        "  return id_template.format(a,b)"
      ],
      "metadata": {
        "id": "lQkE-_B4v4CL"
      },
      "execution_count": null,
      "outputs": []
    },
    {
      "cell_type": "markdown",
      "source": [
        "Raw Index with DCU Approach"
      ],
      "metadata": {
        "id": "pPY4ws91zi0e"
      }
    },
    {
      "cell_type": "code",
      "source": [
        "topics = pt.io.read_topics(\"/content/drive/MyDrive/IRDM/ent.xml\",format=\"trecxml\")\n",
        "\n",
        "def get_retr(index, param_b, param_k1):\n",
        "    retr = pt.BatchRetrieve(index, controls={'wmodel': \"BM25\", \"c\": param_b},\n",
        "        properties={'bm25.k_1': param_k1})\n",
        "    return retr\n",
        "\n",
        "def get_dph(index):\n",
        "    return pt.BatchRetrieve(index, controls={\"wmodel\": \"DPH\"})\n",
        "\n",
        "\n",
        "bm25 = get_retr(raw, 0.75, 1.2) >> \\\n",
        "            pt.pipelines.PerQueryMaxMinScoreTransformer()\n",
        "dph = get_dph(raw) >> \\\n",
        "            pt.pipelines.PerQueryMaxMinScoreTransformer()\n",
        "\n",
        "combined= bm25 + dph\n",
        "res=combined.transform(topics)\n",
        "\n",
        "\n",
        "\n",
        "df = pd.DataFrame(res, columns=['qid', 'rank', 'docno', 'score'])\n",
        "df[\"ep_id\"]=df[\"docno\"].apply(lambda x: x.split(\"_\")[1].split(\"-\")[0])\n",
        "df[\"episode\"]=df[\"docno\"].apply(lambda x: x.split(\"_\")[0])\n",
        "df[\"docno\"]=df.apply(lambda x: get_ep(x[\"episode\"],x[\"ep_id\"]),axis=1)\n",
        "df[\"docno\"]=df[\"docno\"]+\".0\"\n",
        "rsl=df[[\"qid\",\"docno\",\"rank\",\"score\"]]\n",
        "qrels_path=(\"/content/drive/MyDrive/IRDM/podcasts_2020_train.1-8.qrels\")\n",
        "qrels = pt.io.read_qrels(qrels_path)\n",
        "pt.Utils.evaluate(rsl,qrels,metrics=['map',\"ndcg\",\"ndcg_cut_30\",\"P_10\"])"
      ],
      "metadata": {
        "colab": {
          "base_uri": "https://localhost:8080/"
        },
        "id": "S6UWzioCv2AA",
        "outputId": "8c61e61a-7698-4344-e58d-97dd16d57f9a"
      },
      "execution_count": null,
      "outputs": [
        {
          "output_type": "execute_result",
          "data": {
            "text/plain": [
              "{'map': 0.25422411493243313,\n",
              " 'ndcg': 0.5108938918540078,\n",
              " 'ndcg_cut_30': 0.3248789779907644,\n",
              " 'P_10': 0.30000000000000004}"
            ]
          },
          "metadata": {},
          "execution_count": 10
        }
      ]
    },
    {
      "cell_type": "code",
      "source": [],
      "metadata": {
        "id": "p2w4ATv7CRFB"
      },
      "execution_count": null,
      "outputs": []
    },
    {
      "cell_type": "markdown",
      "source": [
        "Raw Index with QE Approach "
      ],
      "metadata": {
        "id": "BUhV7UhIaMTE"
      }
    },
    {
      "cell_type": "code",
      "source": [
        "\n",
        "qe = pt.BatchRetrieve(raw, controls={'wmodel': \"BM25\"}) >> \\\n",
        "            pt.rewrite.QueryExpansion(raw, fb_terms=15, fb_docs=6) >> \\\n",
        "            pt.BatchRetrieve(raw, controls={'wmodel': \"PL2\",\"c\":20})\n",
        "\n",
        "\n",
        "topics = pt.io.read_topics(\"/content/drive/MyDrive/IRDM/ent.xml\",format=\"trecxml\")\n",
        "\n",
        "\n",
        "import pandas as pd\n",
        "id_template = 'spotify:episode:{}_{}'\n",
        "res=qe.transform(topics)\n",
        "\n",
        "df = pd.DataFrame(res, columns=['qid', 'rank', 'docno', 'score'])\n",
        "\n",
        "\n",
        "df[\"ep_id\"]=df[\"docno\"].apply(lambda x: x.split(\"_\")[1].split(\"-\")[0])\n",
        "df[\"episode\"]=df[\"docno\"].apply(lambda x: x.split(\"_\")[0])\n",
        "df[\"docno\"]=df.apply(lambda x: get_ep(x[\"episode\"],x[\"ep_id\"]),axis=1)\n",
        "df[\"docno\"]=df[\"docno\"]+\".0\"\n",
        "rsl=df[[\"qid\",\"docno\",\"rank\",\"score\"]]\n",
        "\n",
        "rsl=df[[\"qid\",\"docno\",\"rank\",\"score\"]]\n",
        "\n",
        "\n",
        "qrels_path=(\"/content/drive/MyDrive/IRDM/podcasts_2020_train.1-8.qrels\")\n",
        "qrels = pt.io.read_qrels(qrels_path)\n",
        "print(\"QE \")\n",
        "print(pt.Utils.evaluate(rsl,qrels,metrics=['map',\"ndcg\",\"ndcg_cut_30\",\"P_10\"]))"
      ],
      "metadata": {
        "colab": {
          "base_uri": "https://localhost:8080/"
        },
        "id": "5e4nzFHPycHt",
        "outputId": "7b122bbe-2040-4874-8469-7511a2937958"
      },
      "execution_count": null,
      "outputs": [
        {
          "output_type": "stream",
          "name": "stdout",
          "text": [
            "20:43:11.584 [main] WARN org.terrier.querying.QueryExpansion - qemodel control not set for QueryExpansion post process. Using default model Bo1\n",
            "QE \n",
            "{'map': 0.2315903093444428, 'ndcg': 0.4733466463739926, 'ndcg_cut_30': 0.2727471259883246, 'P_10': 0.2625}\n"
          ]
        }
      ]
    },
    {
      "cell_type": "markdown",
      "source": [
        "Raw Index with normal topics and BM25 + DPH"
      ],
      "metadata": {
        "id": "HaKFIYWQaY3j"
      }
    },
    {
      "cell_type": "code",
      "source": [
        "topics = pt.io.read_topics(\"/content/drive/MyDrive/IRDM/topic01.xml\",format=\"trecxml\")\n",
        "\n",
        "def get_retr(index, param_b, param_k1):\n",
        "    retr = pt.BatchRetrieve(index, controls={'wmodel': \"BM25\", \"c\": param_b},\n",
        "        properties={'bm25.k_1': param_k1})\n",
        "    return retr\n",
        "\n",
        "def get_dph(index):\n",
        "    return pt.BatchRetrieve(index, controls={\"wmodel\": \"DPH\"})\n",
        "\n",
        "\n",
        "bm25 = get_retr(raw, 0.75, 1.2) >> \\\n",
        "            pt.pipelines.PerQueryMaxMinScoreTransformer()\n",
        "dph = get_dph(raw) >> \\\n",
        "            pt.pipelines.PerQueryMaxMinScoreTransformer()\n",
        "\n",
        "\n",
        "import pandas as pd\n",
        "id_template = 'spotify:episode:{}_{}'\n",
        "combined= bm25 + dph\n",
        "res=combined.transform(topics)\n",
        "\n",
        "def get_ep(a,b):\n",
        "  return id_template.format(a,b)\n",
        "\n",
        "df = pd.DataFrame(res, columns=['qid', 'rank', 'docno', 'score'])\n",
        "df[\"ep_id\"]=df[\"docno\"].apply(lambda x: x.split(\"_\")[1].split(\"-\")[0])\n",
        "df[\"episode\"]=df[\"docno\"].apply(lambda x: x.split(\"_\")[0])\n",
        "df[\"docno\"]=df.apply(lambda x: get_ep(x[\"episode\"],x[\"ep_id\"]),axis=1)\n",
        "df[\"docno\"]=df[\"docno\"]+\".0\"\n",
        "rsl=df[[\"qid\",\"docno\",\"rank\",\"score\"]]\n",
        "\n",
        "qrels_path=(\"/content/drive/MyDrive/IRDM/podcasts_2020_train.1-8.qrels\")\n",
        "qrels = pt.io.read_qrels(qrels_path)\n",
        "print(\"DCU Linear Combination Wikipedia no ents \")\n",
        "print(pt.Utils.evaluate(rsl,qrels,metrics=['map',\"ndcg\",\"ndcg_cut_30\",\"P_10\"]))"
      ],
      "metadata": {
        "colab": {
          "base_uri": "https://localhost:8080/"
        },
        "id": "oZl1-Cndyu7d",
        "outputId": "c38aef78-8ee5-4f90-b7dd-b99683833fd3"
      },
      "execution_count": null,
      "outputs": [
        {
          "output_type": "stream",
          "name": "stdout",
          "text": [
            "DCU Linear Combination Wikipedia no ents \n",
            "{'map': 0.2762875222633958, 'ndcg': 0.47840418194031553, 'ndcg_cut_30': 0.2962310222812588, 'P_10': 0.3125}\n"
          ]
        }
      ]
    },
    {
      "cell_type": "markdown",
      "source": [
        "Raw Index Wikfied Query topics and BM25 + DPH"
      ],
      "metadata": {
        "id": "69WiPjPHafZt"
      }
    },
    {
      "cell_type": "code",
      "source": [
        "topics = pt.io.read_topics(\"/content/drive/MyDrive/IRDM/wikified_query.xml\",format=\"trecxml\")\n",
        "\n",
        "def get_retr(index, param_b, param_k1):\n",
        "    retr = pt.BatchRetrieve(index, controls={'wmodel': \"BM25\", \"c\": param_b},\n",
        "        properties={'bm25.k_1': param_k1})\n",
        "    return retr\n",
        "\n",
        "def get_dph(index):\n",
        "    return pt.BatchRetrieve(index, controls={\"wmodel\": \"DPH\"})\n",
        "\n",
        "\n",
        "bm25 = get_retr(raw, 0.75, 1.2) >> \\\n",
        "            pt.pipelines.PerQueryMaxMinScoreTransformer()\n",
        "dph = get_dph(raw) >> \\\n",
        "            pt.pipelines.PerQueryMaxMinScoreTransformer()\n",
        "\n",
        "\n",
        "import pandas as pd\n",
        "id_template = 'spotify:episode:{}_{}'\n",
        "combined= bm25 + dph\n",
        "res=combined.transform(topics)\n",
        "\n",
        "def get_ep(a,b):\n",
        "  return id_template.format(a,b)\n",
        "\n",
        "df = pd.DataFrame(res, columns=['qid', 'rank', 'docno', 'score'])\n",
        "df[\"ep_id\"]=df[\"docno\"].apply(lambda x: x.split(\"_\")[1].split(\"-\")[0])\n",
        "df[\"episode\"]=df[\"docno\"].apply(lambda x: x.split(\"_\")[0])\n",
        "df[\"docno\"]=df.apply(lambda x: get_ep(x[\"episode\"],x[\"ep_id\"]),axis=1)\n",
        "df[\"docno\"]=df[\"docno\"]+\".0\"\n",
        "rsl=df[[\"qid\",\"docno\",\"rank\",\"score\"]]\n",
        "\n",
        "qrels_path=(\"/content/drive/MyDrive/IRDM/podcasts_2020_train.1-8.qrels\")\n",
        "qrels = pt.io.read_qrels(qrels_path)\n",
        "print(\"DCU Linear Combination Wikipedia no ents \")\n",
        "print(pt.Utils.evaluate(rsl,qrels,metrics=['map',\"ndcg\",\"ndcg_cut_30\",\"P_10\"]))"
      ],
      "metadata": {
        "colab": {
          "base_uri": "https://localhost:8080/"
        },
        "id": "E7mtv_k6ndoA",
        "outputId": "0cbf211c-c6aa-4c58-e376-750ea5c6c6c2"
      },
      "execution_count": null,
      "outputs": [
        {
          "output_type": "stream",
          "name": "stdout",
          "text": [
            "DCU Linear Combination Wikipedia no ents \n",
            "{'map': 0.16596425857159985, 'ndcg': 0.42344151900565763, 'ndcg_cut_30': 0.18456556859686715, 'P_10': 0.15000000000000002}\n"
          ]
        }
      ]
    },
    {
      "cell_type": "markdown",
      "source": [
        "Raw Index with Wikified Query and QE approach"
      ],
      "metadata": {
        "id": "1cluMWBhapwf"
      }
    },
    {
      "cell_type": "code",
      "source": [
        "topics = pt.io.read_topics(\"/content/drive/MyDrive/IRDM/wikified_query.xml\",format=\"trecxml\")\n",
        "\n",
        "\n",
        "qe = pt.BatchRetrieve(raw, controls={'wmodel': \"BM25\"}) >> \\\n",
        "            pt.rewrite.QueryExpansion(raw, fb_terms=15, fb_docs=6) >> \\\n",
        "            pt.BatchRetrieve(raw, controls={'wmodel': \"PL2\",\"c\":20})\n",
        "\n",
        "res=qe.transform(topics)\n",
        "\n",
        "df = pd.DataFrame(res, columns=['qid', 'rank', 'docno', 'score'])\n",
        "\n",
        "\n",
        "df[\"ep_id\"]=df[\"docno\"].apply(lambda x: x.split(\"_\")[1].split(\"-\")[0])\n",
        "df[\"episode\"]=df[\"docno\"].apply(lambda x: x.split(\"_\")[0])\n",
        "df[\"docno\"]=df.apply(lambda x: get_ep(x[\"episode\"],x[\"ep_id\"]),axis=1)\n",
        "df[\"docno\"]=df[\"docno\"]+\".0\"\n",
        "rsl=df[[\"qid\",\"docno\",\"rank\",\"score\"]]\n",
        "\n",
        "rsl=df[[\"qid\",\"docno\",\"rank\",\"score\"]]\n",
        "\n",
        "\n",
        "qrels_path=(\"/content/drive/MyDrive/IRDM/podcasts_2020_train.1-8.qrels\")\n",
        "qrels = pt.io.read_qrels(qrels_path)\n",
        "print(\"QE \")\n",
        "print(pt.Utils.evaluate(rsl,qrels,metrics=['map',\"ndcg\",\"ndcg_cut_30\",\"P_10\"]))"
      ],
      "metadata": {
        "colab": {
          "base_uri": "https://localhost:8080/"
        },
        "id": "UDcZZa7iy00R",
        "outputId": "2005d8e9-a041-4c22-81d4-2599629f6611"
      },
      "execution_count": null,
      "outputs": [
        {
          "output_type": "stream",
          "name": "stdout",
          "text": [
            "20:46:53.271 [main] WARN org.terrier.querying.QueryExpansion - qemodel control not set for QueryExpansion post process. Using default model Bo1\n",
            "QE \n",
            "{'map': 0.12187329391878444, 'ndcg': 0.34011751012390323, 'ndcg_cut_30': 0.12832671688728825, 'P_10': 0.09999999999999999}\n"
          ]
        }
      ]
    },
    {
      "cell_type": "markdown",
      "source": [
        "Raw Index with normal topics and BM25 + DPH"
      ],
      "metadata": {
        "id": "1mfysjagatsA"
      }
    },
    {
      "cell_type": "code",
      "source": [
        "topics = pt.io.read_topics(\"/content/drive/MyDrive/IRDM/topic01.xml\",format=\"trecxml\")\n",
        "\n",
        "\n",
        "qe = pt.BatchRetrieve(raw, controls={'wmodel': \"BM25\"}) >> \\\n",
        "            pt.rewrite.QueryExpansion(raw, fb_terms=15, fb_docs=6) >> \\\n",
        "            pt.BatchRetrieve(raw, controls={'wmodel': \"PL2\",\"c\":20})\n",
        "\n",
        "res=qe.transform(topics)\n",
        "\n",
        "df = pd.DataFrame(res, columns=['qid', 'rank', 'docno', 'score'])\n",
        "\n",
        "\n",
        "df[\"ep_id\"]=df[\"docno\"].apply(lambda x: x.split(\"_\")[1].split(\"-\")[0])\n",
        "df[\"episode\"]=df[\"docno\"].apply(lambda x: x.split(\"_\")[0])\n",
        "df[\"docno\"]=df.apply(lambda x: get_ep(x[\"episode\"],x[\"ep_id\"]),axis=1)\n",
        "df[\"docno\"]=df[\"docno\"]+\".0\"\n",
        "rsl=df[[\"qid\",\"docno\",\"rank\",\"score\"]]\n",
        "\n",
        "rsl=df[[\"qid\",\"docno\",\"rank\",\"score\"]]\n",
        "\n",
        "\n",
        "qrels_path=(\"/content/drive/MyDrive/IRDM/podcasts_2020_train.1-8.qrels\")\n",
        "qrels = pt.io.read_qrels(qrels_path)\n",
        "print(\"QE \")\n",
        "print(pt.Utils.evaluate(rsl,qrels,metrics=['map',\"ndcg\",\"ndcg_cut_30\",\"P_10\"]))"
      ],
      "metadata": {
        "colab": {
          "base_uri": "https://localhost:8080/"
        },
        "id": "zKn8bJtl--VX",
        "outputId": "8580e876-691e-4ea0-c29a-e62591f97f3b"
      },
      "execution_count": null,
      "outputs": [
        {
          "output_type": "stream",
          "name": "stdout",
          "text": [
            "00:07:57.280 [main] WARN org.terrier.querying.QueryExpansion - qemodel control not set for QueryExpansion post process. Using default model Bo1\n",
            "QE \n",
            "{'map': 0.2711190535202457, 'ndcg': 0.4662204715132263, 'ndcg_cut_30': 0.26783376749757115, 'P_10': 0.3125}\n"
          ]
        }
      ]
    },
    {
      "cell_type": "markdown",
      "source": [
        "Raw Index with Entities topics and PL2"
      ],
      "metadata": {
        "id": "8B2PGe3Ka2Q8"
      }
    },
    {
      "cell_type": "code",
      "source": [
        "\n",
        "topics = pt.io.read_topics(\"/content/drive/MyDrive/IRDM/ent.xml\",format=\"trecxml\")\n",
        "\n",
        "pl2= pt.BatchRetrieve(raw, controls={\"wmodel\": \"PL2\",\"c\":20},metadata=[\"docno\",'text'])\n",
        "\n",
        "\n",
        "\n",
        "res=pl2.transform(topics)\n",
        "\n",
        "df = pd.DataFrame(res, columns=['qid', 'rank', 'docno', 'score'])\n",
        "\n",
        "df[\"ep_id\"]=df[\"docno\"].apply(lambda x: x.split(\"_\")[1].split(\"-\")[0])\n",
        "df[\"episode\"]=df[\"docno\"].apply(lambda x: x.split(\"_\")[0])\n",
        "df[\"docno\"]=df.apply(lambda x: get_ep(x[\"episode\"],x[\"ep_id\"]),axis=1)\n",
        "df[\"docno\"]=df[\"docno\"]+\".0\"\n",
        "rsl=df[[\"qid\",\"docno\",\"rank\",\"score\"]]\n",
        "\n",
        "\n",
        "rsl=df[[\"qid\",\"docno\",\"rank\",\"score\"]]\n",
        "\n",
        "\n",
        "\n",
        "qrels_path=(\"/content/drive/MyDrive/IRDM/podcasts_2020_train.1-8.qrels\")\n",
        "qrels = pt.io.read_qrels(qrels_path)\n",
        "\n",
        "print(\"PL 2 \")\n",
        "print(pt.Utils.evaluate(rsl,qrels,metrics=['map',\"ndcg\",\"ndcg_cut_30\",\"P_10\"]))\n"
      ],
      "metadata": {
        "colab": {
          "base_uri": "https://localhost:8080/"
        },
        "id": "rS37eDS41EmW",
        "outputId": "7e02d11c-cb98-42b1-b035-b4dcf0f03555"
      },
      "execution_count": null,
      "outputs": [
        {
          "output_type": "stream",
          "name": "stdout",
          "text": [
            "PL 2 \n",
            "{'map': 0.24968646497395489, 'ndcg': 0.5125724838201344, 'ndcg_cut_30': 0.3231425969086813, 'P_10': 0.2875000000000001}\n"
          ]
        }
      ]
    },
    {
      "cell_type": "markdown",
      "source": [
        "Wikified Index + Wikified Query on BM25 + DPH"
      ],
      "metadata": {
        "id": "LxipnDGb2cjx"
      }
    },
    {
      "cell_type": "code",
      "source": [
        "topics = pt.io.read_topics(\"/content/drive/MyDrive/IRDM/wikified_query.xml\",format=\"trecxml\")\n",
        "\n",
        "def get_retr(index, param_b, param_k1):\n",
        "    retr = pt.BatchRetrieve(index, controls={'wmodel': \"BM25\", \"c\": param_b},\n",
        "        properties={'bm25.k_1': param_k1})\n",
        "    return retr\n",
        "\n",
        "def get_dph(index):\n",
        "    return pt.BatchRetrieve(index, controls={\"wmodel\": \"DPH\"})\n",
        "\n",
        "\n",
        "bm25 = get_retr(wiki_no_difference, 0.75, 1.2) >> \\\n",
        "            pt.pipelines.PerQueryMaxMinScoreTransformer()\n",
        "dph = get_dph(wiki_no_difference) >> \\\n",
        "            pt.pipelines.PerQueryMaxMinScoreTransformer()\n",
        "\n",
        "\n",
        "\n",
        "combined= bm25 + dph\n",
        "res=combined.transform(topics)\n",
        "\n",
        "\n",
        "\n",
        "df = pd.DataFrame(res, columns=['qid', 'rank', 'docno', 'score'])\n",
        "df[\"ep_id\"]=df[\"docno\"].apply(lambda x: x.split(\"_\")[1].split(\"-\")[0])\n",
        "df[\"episode\"]=df[\"docno\"].apply(lambda x: x.split(\"_\")[0])\n",
        "df[\"docno\"]=df.apply(lambda x: get_ep(x[\"episode\"],x[\"ep_id\"]),axis=1)\n",
        "df[\"docno\"]=df[\"docno\"]+\".0\"\n",
        "rsl=df[[\"qid\",\"docno\",\"rank\",\"score\"]]\n",
        "\n",
        "qrels_path=(\"/content/drive/MyDrive/IRDM/podcasts_2020_train.1-8.qrels\")\n",
        "qrels = pt.io.read_qrels(qrels_path)\n",
        "pt.Utils.evaluate(rsl,qrels,metrics=['map',\"ndcg\",\"ndcg_cut_30\",\"P_10\"])"
      ],
      "metadata": {
        "colab": {
          "base_uri": "https://localhost:8080/"
        },
        "id": "hpkL5wcm2mbd",
        "outputId": "fc18516f-15b3-4e19-ac4b-2df61a9b704d"
      },
      "execution_count": null,
      "outputs": [
        {
          "output_type": "execute_result",
          "data": {
            "text/plain": [
              "{'map': 0.21231055007066818,\n",
              " 'ndcg': 0.4980402819212154,\n",
              " 'ndcg_cut_30': 0.299939861391186,\n",
              " 'P_10': 0.31250000000000006}"
            ]
          },
          "metadata": {},
          "execution_count": 75
        }
      ]
    },
    {
      "cell_type": "markdown",
      "source": [
        "Wikified Index + Normal topics on BM25 + DPH"
      ],
      "metadata": {
        "id": "J1BwmfBNbFIe"
      }
    },
    {
      "cell_type": "code",
      "source": [
        "topics = pt.io.read_topics(\"/content/drive/MyDrive/IRDM/topic01.xml\",format=\"trecxml\")\n",
        "\n",
        "def get_retr(index, param_b, param_k1):\n",
        "    retr = pt.BatchRetrieve(index, controls={'wmodel': \"BM25\", \"c\": param_b},\n",
        "        properties={'bm25.k_1': param_k1})\n",
        "    return retr\n",
        "\n",
        "def get_dph(index):\n",
        "    return pt.BatchRetrieve(index, controls={\"wmodel\": \"DPH\"})\n",
        "\n",
        "\n",
        "bm25 = get_retr(wiki_no_difference, 0.75, 1.2) >> \\\n",
        "            pt.pipelines.PerQueryMaxMinScoreTransformer()\n",
        "dph = get_dph(wiki_no_difference) >> \\\n",
        "            pt.pipelines.PerQueryMaxMinScoreTransformer()\n",
        "\n",
        "\n",
        "import pandas as pd\n",
        "id_template = 'spotify:episode:{}_{}'\n",
        "combined= bm25 + dph\n",
        "res=combined.transform(topics)\n",
        "\n",
        "def get_ep(a,b):\n",
        "  return id_template.format(a,b)\n",
        "\n",
        "df = pd.DataFrame(res, columns=['qid', 'rank', 'docno', 'score'])\n",
        "df[\"ep_id\"]=df[\"docno\"].apply(lambda x: x.split(\"_\")[1].split(\"-\")[0])\n",
        "df[\"episode\"]=df[\"docno\"].apply(lambda x: x.split(\"_\")[0])\n",
        "df[\"docno\"]=df.apply(lambda x: get_ep(x[\"episode\"],x[\"ep_id\"]),axis=1)\n",
        "df[\"docno\"]=df[\"docno\"]+\".0\"\n",
        "rsl=df[[\"qid\",\"docno\",\"rank\",\"score\"]]\n",
        "\n",
        "qrels_path=(\"/content/drive/MyDrive/IRDM/podcasts_2020_train.1-8.qrels\")\n",
        "qrels = pt.io.read_qrels(qrels_path)\n",
        "print(\"DCU Linear Combination Wikipedia no ents \")\n",
        "print(pt.Utils.evaluate(rsl,qrels,metrics=['map',\"ndcg\",\"ndcg_cut_30\",\"P_10\"]))"
      ],
      "metadata": {
        "colab": {
          "base_uri": "https://localhost:8080/"
        },
        "id": "2NFccGNroBb0",
        "outputId": "4b44a639-5c17-4d44-c512-156936c20fdf"
      },
      "execution_count": null,
      "outputs": [
        {
          "output_type": "stream",
          "name": "stdout",
          "text": [
            "DCU Linear Combination Wikipedia no ents \n",
            "{'map': 0.3170158718879924, 'ndcg': 0.506810722641573, 'ndcg_cut_30': 0.34036510665973313, 'P_10': 0.4125}\n"
          ]
        }
      ]
    },
    {
      "cell_type": "markdown",
      "source": [
        "Wikified Index + Entity topics on BM25 + DPH"
      ],
      "metadata": {
        "id": "yFRVifeKbPnV"
      }
    },
    {
      "cell_type": "code",
      "source": [
        "topics = pt.io.read_topics(\"/content/drive/MyDrive/IRDM/ent.xml\",format=\"trecxml\")\n",
        "\n",
        "def get_retr(index, param_b, param_k1):\n",
        "    retr = pt.BatchRetrieve(index, controls={'wmodel': \"BM25\", \"c\": param_b},\n",
        "        properties={'bm25.k_1': param_k1})\n",
        "    return retr\n",
        "\n",
        "def get_dph(index):\n",
        "    return pt.BatchRetrieve(index, controls={\"wmodel\": \"DPH\"})\n",
        "\n",
        "\n",
        "bm25 = get_retr(wiki_no_difference, 0.75, 1.2) >> \\\n",
        "            pt.pipelines.PerQueryMaxMinScoreTransformer()\n",
        "dph = get_dph(wiki_no_difference) >> \\\n",
        "            pt.pipelines.PerQueryMaxMinScoreTransformer()\n",
        "\n",
        "\n",
        "\n",
        "combined= bm25 + dph\n",
        "res=combined.transform(topics)\n",
        "\n",
        "\n",
        "\n",
        "df = pd.DataFrame(res, columns=['qid', 'rank', 'docno', 'score'])\n",
        "df[\"ep_id\"]=df[\"docno\"].apply(lambda x: x.split(\"_\")[1].split(\"-\")[0])\n",
        "df[\"episode\"]=df[\"docno\"].apply(lambda x: x.split(\"_\")[0])\n",
        "df[\"docno\"]=df.apply(lambda x: get_ep(x[\"episode\"],x[\"ep_id\"]),axis=1)\n",
        "df[\"docno\"]=df[\"docno\"]+\".0\"\n",
        "rsl=df[[\"qid\",\"docno\",\"rank\",\"score\"]]\n",
        "\n",
        "qrels_path=(\"/content/drive/MyDrive/IRDM/podcasts_2020_train.1-8.qrels\")\n",
        "qrels = pt.io.read_qrels(qrels_path)\n",
        "pt.Utils.evaluate(rsl,qrels,metrics=['map',\"ndcg\",\"ndcg_cut_30\",\"P_10\"])"
      ],
      "metadata": {
        "colab": {
          "base_uri": "https://localhost:8080/"
        },
        "id": "zBB8wS6J2sww",
        "outputId": "09a7b414-2e25-43d3-a956-da5bb6da1f73"
      },
      "execution_count": null,
      "outputs": [
        {
          "output_type": "execute_result",
          "data": {
            "text/plain": [
              "{'map': 0.30435256260000515,\n",
              " 'ndcg': 0.5547869441575499,\n",
              " 'ndcg_cut_30': 0.3861063791648928,\n",
              " 'P_10': 0.4000000000000001}"
            ]
          },
          "metadata": {},
          "execution_count": 20
        }
      ]
    },
    {
      "cell_type": "markdown",
      "source": [
        "Wikified Index + Wikfied query + entities  on BM25 + DPH"
      ],
      "metadata": {
        "id": "UKNtMQAkbT05"
      }
    },
    {
      "cell_type": "code",
      "source": [
        "topics = pt.io.read_topics(\"/content/drive/MyDrive/IRDM/wikified_query_ent.xml\",format=\"trecxml\")\n",
        "\n",
        "def get_retr(index, param_b, param_k1):\n",
        "    retr = pt.BatchRetrieve(index, controls={'wmodel': \"BM25\", \"c\": param_b},\n",
        "        properties={'bm25.k_1': param_k1})\n",
        "    return retr\n",
        "\n",
        "def get_dph(index):\n",
        "    return pt.BatchRetrieve(index, controls={\"wmodel\": \"DPH\"})\n",
        "\n",
        "\n",
        "bm25 = get_retr(wiki_no_difference, 0.75, 1.2) >> \\\n",
        "            pt.pipelines.PerQueryMaxMinScoreTransformer()\n",
        "dph = get_dph(wiki_no_difference) >> \\\n",
        "            pt.pipelines.PerQueryMaxMinScoreTransformer()\n",
        "\n",
        "\n",
        "\n",
        "combined= bm25 + dph\n",
        "res=combined.transform(topics)\n",
        "\n",
        "\n",
        "\n",
        "df = pd.DataFrame(res, columns=['qid', 'rank', 'docno', 'score'])\n",
        "df[\"ep_id\"]=df[\"docno\"].apply(lambda x: x.split(\"_\")[1].split(\"-\")[0])\n",
        "df[\"episode\"]=df[\"docno\"].apply(lambda x: x.split(\"_\")[0])\n",
        "df[\"docno\"]=df.apply(lambda x: get_ep(x[\"episode\"],x[\"ep_id\"]),axis=1)\n",
        "df[\"docno\"]=df[\"docno\"]+\".0\"\n",
        "rsl=df[[\"qid\",\"docno\",\"rank\",\"score\"]]\n",
        "\n",
        "qrels_path=(\"/content/drive/MyDrive/IRDM/podcasts_2020_train.1-8.qrels\")\n",
        "qrels = pt.io.read_qrels(qrels_path)\n",
        "pt.Utils.evaluate(rsl,qrels,metrics=['map',\"ndcg\",\"ndcg_cut_30\",\"P_10\"])"
      ],
      "metadata": {
        "colab": {
          "base_uri": "https://localhost:8080/"
        },
        "id": "vR2tzMBrmOJY",
        "outputId": "113d8053-194f-49c7-abb0-2b20f7aea128"
      },
      "execution_count": null,
      "outputs": [
        {
          "output_type": "execute_result",
          "data": {
            "text/plain": [
              "{'map': 0.22052363593952226,\n",
              " 'ndcg': 0.5069845630459082,\n",
              " 'ndcg_cut_30': 0.3045576680805741,\n",
              " 'P_10': 0.36250000000000004}"
            ]
          },
          "metadata": {},
          "execution_count": 81
        }
      ]
    },
    {
      "cell_type": "markdown",
      "source": [
        "Wikified Index + entities on PL2 "
      ],
      "metadata": {
        "id": "9EikQvEDbeCY"
      }
    },
    {
      "cell_type": "code",
      "source": [
        "topics = pt.io.read_topics(\"/content/drive/MyDrive/IRDM/ent.xml\",format=\"trecxml\")\n",
        "\n",
        "pl2= pt.BatchRetrieve(wiki_no_difference, controls={\"wmodel\": \"PL2\",\"c\":20},metadata=[\"docno\",'text'])\n",
        "\n",
        "res=pl2.transform(topics)\n",
        "\n",
        "df = pd.DataFrame(res, columns=['qid', 'rank', 'docno', 'score'])\n",
        "df[\"ep_id\"]=df[\"docno\"].apply(lambda x: x.split(\"_\")[1].split(\"-\")[0])\n",
        "df[\"episode\"]=df[\"docno\"].apply(lambda x: x.split(\"_\")[0])\n",
        "df[\"docno\"]=df.apply(lambda x: get_ep(x[\"episode\"],x[\"ep_id\"]),axis=1)\n",
        "df[\"docno\"]=df[\"docno\"]+\".0\"\n",
        "rsl=df[[\"qid\",\"docno\",\"rank\",\"score\"]]\n",
        "\n",
        "qrels_path=(\"/content/drive/MyDrive/IRDM/podcasts_2020_train.1-8.qrels\")\n",
        "qrels = pt.io.read_qrels(qrels_path)\n",
        "pt.Utils.evaluate(rsl,qrels,metrics=['map',\"ndcg\",\"ndcg_cut_30\",\"P_10\"])"
      ],
      "metadata": {
        "colab": {
          "base_uri": "https://localhost:8080/"
        },
        "id": "-YNYawwx2_TU",
        "outputId": "62032b6d-3331-4330-a6d0-7978500772fc"
      },
      "execution_count": null,
      "outputs": [
        {
          "output_type": "execute_result",
          "data": {
            "text/plain": [
              "{'map': 0.29033770894880706,\n",
              " 'ndcg': 0.5483741802262013,\n",
              " 'ndcg_cut_30': 0.3764770587022482,\n",
              " 'P_10': 0.4}"
            ]
          },
          "metadata": {},
          "execution_count": 59
        }
      ]
    },
    {
      "cell_type": "markdown",
      "source": [
        "Wikified Index frequency 2 + entities  on BM25 + DPH"
      ],
      "metadata": {
        "id": "ce0R1PlSbjHq"
      }
    },
    {
      "cell_type": "code",
      "source": [
        "topics = pt.io.read_topics(\"/content/drive/MyDrive/IRDM/ent.xml\",format=\"trecxml\")\n",
        "\n",
        "pl2= pt.BatchRetrieve(wiki_no_difference_2, controls={\"wmodel\": \"PL2\",\"c\":20},metadata=[\"docno\",'text'])\n",
        "\n",
        "res=pl2.transform(topics)\n",
        "\n",
        "df = pd.DataFrame(res, columns=['qid', 'rank', 'docno', 'score'])\n",
        "df[\"ep_id\"]=df[\"docno\"].apply(lambda x: x.split(\"_\")[1].split(\"-\")[0])\n",
        "df[\"episode\"]=df[\"docno\"].apply(lambda x: x.split(\"_\")[0])\n",
        "df[\"docno\"]=df.apply(lambda x: get_ep(x[\"episode\"],x[\"ep_id\"]),axis=1)\n",
        "df[\"docno\"]=df[\"docno\"]+\".0\"\n",
        "rsl=df[[\"qid\",\"docno\",\"rank\",\"score\"]]\n",
        "\n",
        "qrels_path=(\"/content/drive/MyDrive/IRDM/podcasts_2020_train.1-8.qrels\")\n",
        "qrels = pt.io.read_qrels(qrels_path)\n",
        "pt.Utils.evaluate(rsl,qrels,metrics=['map',\"ndcg\",\"ndcg_cut_30\",\"P_10\"])"
      ],
      "metadata": {
        "colab": {
          "base_uri": "https://localhost:8080/"
        },
        "id": "g3x6aRdVGcky",
        "outputId": "d15eef3b-bca5-4ca6-db4c-a148b462e946"
      },
      "execution_count": null,
      "outputs": [
        {
          "output_type": "execute_result",
          "data": {
            "text/plain": [
              "{'map': 0.283772900810541,\n",
              " 'ndcg': 0.5493827155664024,\n",
              " 'ndcg_cut_30': 0.381256957105417,\n",
              " 'P_10': 0.4000000000000001}"
            ]
          },
          "metadata": {},
          "execution_count": 60
        }
      ]
    },
    {
      "cell_type": "markdown",
      "source": [
        "Wikified Index + Wikfied query + entities  on PL2 "
      ],
      "metadata": {
        "id": "gO2y0Otpbpwp"
      }
    },
    {
      "cell_type": "code",
      "source": [
        "topics = pt.io.read_topics(\"/content/drive/MyDrive/IRDM/wikified_query_ent.xml\",format=\"trecxml\")\n",
        "\n",
        "pl2= pt.BatchRetrieve(wiki_no_difference, controls={\"wmodel\": \"PL2\",\"c\":20},metadata=[\"docno\",'text'])\n",
        "\n",
        "res=pl2.transform(topics)\n",
        "\n",
        "df = pd.DataFrame(res, columns=['qid', 'rank', 'docno', 'score'])\n",
        "df[\"ep_id\"]=df[\"docno\"].apply(lambda x: x.split(\"_\")[1].split(\"-\")[0])\n",
        "df[\"episode\"]=df[\"docno\"].apply(lambda x: x.split(\"_\")[0])\n",
        "df[\"docno\"]=df.apply(lambda x: get_ep(x[\"episode\"],x[\"ep_id\"]),axis=1)\n",
        "df[\"docno\"]=df[\"docno\"]+\".0\"\n",
        "rsl=df[[\"qid\",\"docno\",\"rank\",\"score\"]]\n",
        "\n",
        "qrels_path=(\"/content/drive/MyDrive/IRDM/podcasts_2020_train.1-8.qrels\")\n",
        "qrels = pt.io.read_qrels(qrels_path)\n",
        "pt.Utils.evaluate(rsl,qrels,metrics=['map',\"ndcg\",\"ndcg_cut_30\",\"P_10\"])"
      ],
      "metadata": {
        "colab": {
          "base_uri": "https://localhost:8080/"
        },
        "id": "NG6pt8SY3Mbz",
        "outputId": "cb2b8c69-8cd5-4a51-adef-dea38e83d4c6"
      },
      "execution_count": null,
      "outputs": [
        {
          "output_type": "execute_result",
          "data": {
            "text/plain": [
              "{'map': 0.13643267720979396,\n",
              " 'ndcg': 0.39887434137357997,\n",
              " 'ndcg_cut_30': 0.22268413928372086,\n",
              " 'P_10': 0.18750000000000003}"
            ]
          },
          "metadata": {},
          "execution_count": 76
        }
      ]
    },
    {
      "cell_type": "markdown",
      "source": [
        "Wikified Index + Normal topics on PL2"
      ],
      "metadata": {
        "id": "WevA1oTQbsvm"
      }
    },
    {
      "cell_type": "code",
      "source": [
        "topics = pt.io.read_topics(\"/content/drive/MyDrive/IRDM/topic01.xml\",format=\"trecxml\")\n",
        "\n",
        "pl2= pt.BatchRetrieve(raw, controls={\"wmodel\": \"PL2\",\"c\":20},metadata=[\"docno\",'text'])\n",
        "\n",
        "res=pl2.transform(topics)\n",
        "\n",
        "df = pd.DataFrame(res, columns=['qid', 'rank', 'docno', 'score'])\n",
        "df[\"ep_id\"]=df[\"docno\"].apply(lambda x: x.split(\"_\")[1].split(\"-\")[0])\n",
        "df[\"episode\"]=df[\"docno\"].apply(lambda x: x.split(\"_\")[0])\n",
        "df[\"docno\"]=df.apply(lambda x: get_ep(x[\"episode\"],x[\"ep_id\"]),axis=1)\n",
        "df[\"docno\"]=df[\"docno\"]+\".0\"\n",
        "rsl=df[[\"qid\",\"docno\",\"rank\",\"score\"]]\n",
        "\n",
        "qrels_path=(\"/content/drive/MyDrive/IRDM/podcasts_2020_train.1-8.qrels\")\n",
        "qrels = pt.io.read_qrels(qrels_path)\n",
        "pt.Utils.evaluate(rsl,qrels,metrics=['map',\"ndcg\",\"ndcg_cut_30\",\"P_10\"])"
      ],
      "metadata": {
        "colab": {
          "base_uri": "https://localhost:8080/"
        },
        "id": "uFHRRocv75GO",
        "outputId": "ca2162f1-eb99-4ebc-d4e0-96bee1c60489"
      },
      "execution_count": null,
      "outputs": [
        {
          "output_type": "execute_result",
          "data": {
            "text/plain": [
              "{'map': 0.27141166156199226,\n",
              " 'ndcg': 0.4795647014286212,\n",
              " 'ndcg_cut_30': 0.2957122000210158,\n",
              " 'P_10': 0.30000000000000004}"
            ]
          },
          "metadata": {},
          "execution_count": 25
        }
      ]
    },
    {
      "cell_type": "markdown",
      "source": [
        "Wikified Index + entities  on QE Approach"
      ],
      "metadata": {
        "id": "eLRrtnyUbwFO"
      }
    },
    {
      "cell_type": "code",
      "source": [
        "topics = pt.io.read_topics(\"/content/drive/MyDrive/IRDM/ent.xml\",format=\"trecxml\")\n",
        "\n",
        "\n",
        "qe = pt.BatchRetrieve(wiki_no_difference, controls={'wmodel': \"BM25\"}) >> \\\n",
        "            pt.rewrite.QueryExpansion(wiki_no_difference, fb_terms=15, fb_docs=6) >> \\\n",
        "            pt.BatchRetrieve(wiki_no_difference, controls={'wmodel': \"PL2\",\"c\":20})\n",
        "\n",
        "res=qe.transform(topics)\n",
        "\n",
        "df = pd.DataFrame(res, columns=['qid', 'rank', 'docno', 'score'])\n",
        "\n",
        "\n",
        "df[\"ep_id\"]=df[\"docno\"].apply(lambda x: x.split(\"_\")[1].split(\"-\")[0])\n",
        "df[\"episode\"]=df[\"docno\"].apply(lambda x: x.split(\"_\")[0])\n",
        "df[\"docno\"]=df.apply(lambda x: get_ep(x[\"episode\"],x[\"ep_id\"]),axis=1)\n",
        "df[\"docno\"]=df[\"docno\"]+\".0\"\n",
        "rsl=df[[\"qid\",\"docno\",\"rank\",\"score\"]]\n",
        "\n",
        "rsl=df[[\"qid\",\"docno\",\"rank\",\"score\"]]\n",
        "\n",
        "\n",
        "qrels_path=(\"/content/drive/MyDrive/IRDM/podcasts_2020_train.1-8.qrels\")\n",
        "qrels = pt.io.read_qrels(qrels_path)\n",
        "print(\"QE \")\n",
        "print(pt.Utils.evaluate(rsl,qrels,metrics=['map',\"ndcg\",\"ndcg_cut_30\",\"P_10\"]))"
      ],
      "metadata": {
        "colab": {
          "base_uri": "https://localhost:8080/"
        },
        "id": "86Qyn10n8g_L",
        "outputId": "7da257d8-557e-4bdb-9cc7-030f4afbd3f4"
      },
      "execution_count": null,
      "outputs": [
        {
          "output_type": "stream",
          "name": "stdout",
          "text": [
            "21:28:48.370 [main] WARN org.terrier.querying.QueryExpansion - qemodel control not set for QueryExpansion post process. Using default model Bo1\n",
            "QE \n",
            "{'map': 0.29790216551232757, 'ndcg': 0.5339255819371314, 'ndcg_cut_30': 0.35707615739861853, 'P_10': 0.3750000000000001}\n"
          ]
        }
      ]
    },
    {
      "cell_type": "markdown",
      "source": [
        "Wikified Index + original topics  on QE approach"
      ],
      "metadata": {
        "id": "TSmrEW27b3dn"
      }
    },
    {
      "cell_type": "code",
      "source": [
        "topics = pt.io.read_topics(\"/content/drive/MyDrive/IRDM/topic01.xml\",format=\"trecxml\")\n",
        "\n",
        "\n",
        "qe = pt.BatchRetrieve(wiki_no_difference, controls={'wmodel': \"BM25\"}) >> \\\n",
        "            pt.rewrite.QueryExpansion(wiki_no_difference, fb_terms=15, fb_docs=6) >> \\\n",
        "            pt.BatchRetrieve(wiki_no_difference, controls={'wmodel': \"PL2\",\"c\":20})\n",
        "\n",
        "res=qe.transform(topics)\n",
        "\n",
        "df = pd.DataFrame(res, columns=['qid', 'rank', 'docno', 'score'])\n",
        "\n",
        "\n",
        "df[\"ep_id\"]=df[\"docno\"].apply(lambda x: x.split(\"_\")[1].split(\"-\")[0])\n",
        "df[\"episode\"]=df[\"docno\"].apply(lambda x: x.split(\"_\")[0])\n",
        "df[\"docno\"]=df.apply(lambda x: get_ep(x[\"episode\"],x[\"ep_id\"]),axis=1)\n",
        "df[\"docno\"]=df[\"docno\"]+\".0\"\n",
        "rsl=df[[\"qid\",\"docno\",\"rank\",\"score\"]]\n",
        "\n",
        "rsl=df[[\"qid\",\"docno\",\"rank\",\"score\"]]\n",
        "\n",
        "\n",
        "qrels_path=(\"/content/drive/MyDrive/IRDM/podcasts_2020_train.1-8.qrels\")\n",
        "qrels = pt.io.read_qrels(qrels_path)\n",
        "print(\"QE \")\n",
        "print(pt.Utils.evaluate(rsl,qrels,metrics=['map',\"ndcg\",\"ndcg_cut_30\",\"P_10\"]))"
      ],
      "metadata": {
        "colab": {
          "base_uri": "https://localhost:8080/"
        },
        "id": "91ud8p169Ov3",
        "outputId": "45d9da98-7bac-4fd7-9c31-5c65d68f37c9"
      },
      "execution_count": null,
      "outputs": [
        {
          "output_type": "stream",
          "name": "stdout",
          "text": [
            "21:30:19.734 [main] WARN org.terrier.querying.QueryExpansion - qemodel control not set for QueryExpansion post process. Using default model Bo1\n",
            "QE \n",
            "{'map': 0.3221721342469178, 'ndcg': 0.5032836990699376, 'ndcg_cut_30': 0.31425262102035617, 'P_10': 0.375}\n"
          ]
        }
      ]
    },
    {
      "cell_type": "markdown",
      "source": [
        "Wikified Index + Nouns on QE approach"
      ],
      "metadata": {
        "id": "Ulrd89UjcAVl"
      }
    },
    {
      "cell_type": "code",
      "source": [
        "topics = pt.io.read_topics(\"/content/drive/MyDrive/IRDM/only_nouns.xml\",format=\"trecxml\")\n",
        "\n",
        "\n",
        "qe = pt.BatchRetrieve(wiki_no_difference, controls={'wmodel': \"DPH\"}) >> \\\n",
        "            pt.rewrite.QueryExpansion(wiki_no_difference, fb_terms=15, fb_docs=6) >> \\\n",
        "            pt.BatchRetrieve(wiki_no_difference, controls={'wmodel': \"PL2\",\"c\":20})\n",
        "\n",
        "res=qe.transform(topics)\n",
        "\n",
        "df = pd.DataFrame(res, columns=['qid', 'rank', 'docno', 'score'])\n",
        "\n",
        "\n",
        "df[\"ep_id\"]=df[\"docno\"].apply(lambda x: x.split(\"_\")[1].split(\"-\")[0])\n",
        "df[\"episode\"]=df[\"docno\"].apply(lambda x: x.split(\"_\")[0])\n",
        "df[\"docno\"]=df.apply(lambda x: get_ep(x[\"episode\"],x[\"ep_id\"]),axis=1)\n",
        "df[\"docno\"]=df[\"docno\"]+\".0\"\n",
        "rsl=df[[\"qid\",\"docno\",\"rank\",\"score\"]]\n",
        "\n",
        "rsl=df[[\"qid\",\"docno\",\"rank\",\"score\"]]\n",
        "\n",
        "\n",
        "qrels_path=(\"/content/drive/MyDrive/IRDM/podcasts_2020_train.1-8.qrels\")\n",
        "qrels = pt.io.read_qrels(qrels_path)\n",
        "print(\"QE \")\n",
        "print(pt.Utils.evaluate(rsl,qrels,metrics=['map',\"ndcg\",\"ndcg_cut_30\",\"P_10\"]))"
      ],
      "metadata": {
        "colab": {
          "base_uri": "https://localhost:8080/"
        },
        "id": "oaTEDCOH9bbm",
        "outputId": "00ba9ea9-bcce-4b01-a2e5-278cdf2b07f4"
      },
      "execution_count": null,
      "outputs": [
        {
          "output_type": "stream",
          "name": "stdout",
          "text": [
            "21:36:24.526 [main] WARN org.terrier.querying.QueryExpansion - qemodel control not set for QueryExpansion post process. Using default model Bo1\n",
            "QE \n",
            "{'map': 0.30419731080228024, 'ndcg': 0.5620822705417831, 'ndcg_cut_30': 0.39023001959357856, 'P_10': 0.37499999999999994}\n"
          ]
        }
      ]
    },
    {
      "cell_type": "markdown",
      "source": [
        "Wikified Index + nouns + entities  on QE approach"
      ],
      "metadata": {
        "id": "t6BGD8aecFG3"
      }
    },
    {
      "cell_type": "code",
      "source": [
        "topics = pt.io.read_topics(\"/content/drive/MyDrive/IRDM/noun_ent_bth.xml\",format=\"trecxml\")\n",
        "\n",
        "\n",
        "qe = pt.BatchRetrieve(wiki_no_difference, controls={'wmodel': \"DPH\"}) >> \\\n",
        "            pt.rewrite.QueryExpansion(wiki_no_difference, fb_terms=15, fb_docs=6) >> \\\n",
        "            pt.BatchRetrieve(wiki_no_difference, controls={'wmodel': \"PL2\",\"c\":20})\n",
        "\n",
        "res=qe.transform(topics)\n",
        "\n",
        "df = pd.DataFrame(res, columns=['qid', 'rank', 'docno', 'score'])\n",
        "\n",
        "\n",
        "df[\"ep_id\"]=df[\"docno\"].apply(lambda x: x.split(\"_\")[1].split(\"-\")[0])\n",
        "df[\"episode\"]=df[\"docno\"].apply(lambda x: x.split(\"_\")[0])\n",
        "df[\"docno\"]=df.apply(lambda x: get_ep(x[\"episode\"],x[\"ep_id\"]),axis=1)\n",
        "df[\"docno\"]=df[\"docno\"]+\".0\"\n",
        "rsl=df[[\"qid\",\"docno\",\"rank\",\"score\"]]\n",
        "\n",
        "rsl=df[[\"qid\",\"docno\",\"rank\",\"score\"]]\n",
        "\n",
        "\n",
        "qrels_path=(\"/content/drive/MyDrive/IRDM/podcasts_2020_train.1-8.qrels\")\n",
        "qrels = pt.io.read_qrels(qrels_path)\n",
        "print(\"QE \")\n",
        "print(pt.Utils.evaluate(rsl,qrels,metrics=['map',\"ndcg\",\"ndcg_cut_30\",\"P_10\"]))"
      ],
      "metadata": {
        "colab": {
          "base_uri": "https://localhost:8080/"
        },
        "id": "UWG-Cr-jkQ6Q",
        "outputId": "c787d79e-d344-4ee6-eb27-2cda949b9853"
      },
      "execution_count": null,
      "outputs": [
        {
          "output_type": "stream",
          "name": "stdout",
          "text": [
            "00:20:25.991 [main] WARN org.terrier.querying.QueryExpansion - qemodel control not set for QueryExpansion post process. Using default model Bo1\n",
            "QE \n",
            "{'map': 0.3170541127120993, 'ndcg': 0.5700382092656799, 'ndcg_cut_30': 0.40804512430695794, 'P_10': 0.39999999999999997}\n"
          ]
        }
      ]
    },
    {
      "cell_type": "markdown",
      "source": [
        "Wikified Index + nouns + entities  on BM25 + DPH"
      ],
      "metadata": {
        "id": "mwtVKW5ncKAY"
      }
    },
    {
      "cell_type": "code",
      "source": [
        "topics = pt.io.read_topics(\"/content/drive/MyDrive/IRDM/noun_ent_bth.xml\",format=\"trecxml\")\n",
        "\n",
        "def get_retr(index, param_b, param_k1):\n",
        "    retr = pt.BatchRetrieve(index, controls={'wmodel': \"BM25\", \"c\": param_b},\n",
        "        properties={'bm25.k_1': param_k1})\n",
        "    return retr\n",
        "\n",
        "def get_dph(index):\n",
        "    return pt.BatchRetrieve(index, controls={\"wmodel\": \"DPH\"})\n",
        "\n",
        "\n",
        "bm25 = get_retr(wiki_no_difference, 0.75, 1.2) >> \\\n",
        "            pt.pipelines.PerQueryMaxMinScoreTransformer()\n",
        "dph = get_dph(wiki_no_difference) >> \\\n",
        "            pt.pipelines.PerQueryMaxMinScoreTransformer()\n",
        "\n",
        "combined= bm25 + dph\n",
        "res=combined.transform(topics)\n",
        "\n",
        "\n",
        "\n",
        "df = pd.DataFrame(res, columns=['qid', 'rank', 'docno', 'score'])\n",
        "df[\"ep_id\"]=df[\"docno\"].apply(lambda x: x.split(\"_\")[1].split(\"-\")[0])\n",
        "df[\"episode\"]=df[\"docno\"].apply(lambda x: x.split(\"_\")[0])\n",
        "df[\"docno\"]=df.apply(lambda x: get_ep(x[\"episode\"],x[\"ep_id\"]),axis=1)\n",
        "df[\"docno\"]=df[\"docno\"]+\".0\"\n",
        "rsl=df[[\"qid\",\"docno\",\"rank\",\"score\"]]\n",
        "qrels_path=(\"/content/drive/MyDrive/IRDM/podcasts_2020_train.1-8.qrels\")\n",
        "qrels = pt.io.read_qrels(qrels_path)\n",
        "pt.Utils.evaluate(rsl,qrels,metrics=['map',\"ndcg\",\"ndcg_cut_30\",\"P_10\"])"
      ],
      "metadata": {
        "colab": {
          "base_uri": "https://localhost:8080/"
        },
        "id": "cLQuhXKICS15",
        "outputId": "ed007186-9eaa-46d2-a934-bf6c32813003"
      },
      "execution_count": null,
      "outputs": [
        {
          "output_type": "execute_result",
          "data": {
            "text/plain": [
              "{'map': 0.3077112225283314,\n",
              " 'ndcg': 0.5639010522421791,\n",
              " 'ndcg_cut_30': 0.4210917687766055,\n",
              " 'P_10': 0.425}"
            ]
          },
          "metadata": {},
          "execution_count": 79
        }
      ]
    },
    {
      "cell_type": "markdown",
      "source": [
        "Wikified Index freq 2 + entities  on BM25 + DPH"
      ],
      "metadata": {
        "id": "Os67RJ5EcO4t"
      }
    },
    {
      "cell_type": "code",
      "source": [
        "topics = pt.io.read_topics(\"/content/drive/MyDrive/IRDM/ent.xml\",format=\"trecxml\")\n",
        "\n",
        "def get_retr(index, param_b, param_k1):\n",
        "    retr = pt.BatchRetrieve(index, controls={'wmodel': \"BM25\", \"c\": param_b},\n",
        "        properties={'bm25.k_1': param_k1})\n",
        "    return retr\n",
        "\n",
        "def get_dph(index):\n",
        "    return pt.BatchRetrieve(index, controls={\"wmodel\": \"DPH\"})\n",
        "\n",
        "\n",
        "bm25 = get_retr(wiki_no_difference_2, 0.75, 1.2) >> \\\n",
        "            pt.pipelines.PerQueryMaxMinScoreTransformer()\n",
        "dph = get_dph(wiki_no_difference_2) >> \\\n",
        "            pt.pipelines.PerQueryMaxMinScoreTransformer()\n",
        "\n",
        "combined= bm25 + dph\n",
        "res=combined.transform(topics)\n",
        "\n",
        "\n",
        "\n",
        "df = pd.DataFrame(res, columns=['qid', 'rank', 'docno', 'score'])\n",
        "df[\"ep_id\"]=df[\"docno\"].apply(lambda x: x.split(\"_\")[1].split(\"-\")[0])\n",
        "df[\"episode\"]=df[\"docno\"].apply(lambda x: x.split(\"_\")[0])\n",
        "df[\"docno\"]=df.apply(lambda x: get_ep(x[\"episode\"],x[\"ep_id\"]),axis=1)\n",
        "df[\"docno\"]=df[\"docno\"]+\".0\"\n",
        "rsl=df[[\"qid\",\"docno\",\"rank\",\"score\"]]\n",
        "qrels_path=(\"/content/drive/MyDrive/IRDM/podcasts_2020_train.1-8.qrels\")\n",
        "qrels = pt.io.read_qrels(qrels_path)\n",
        "pt.Utils.evaluate(rsl,qrels,metrics=['map',\"ndcg\",\"ndcg_cut_30\",\"P_10\"])"
      ],
      "metadata": {
        "colab": {
          "base_uri": "https://localhost:8080/"
        },
        "id": "lcFKBwzkGoQH",
        "outputId": "2f53631c-1766-4eb9-e35e-dda056f713d0"
      },
      "execution_count": null,
      "outputs": [
        {
          "output_type": "execute_result",
          "data": {
            "text/plain": [
              "{'map': 0.2966157030650845,\n",
              " 'ndcg': 0.5716481465254507,\n",
              " 'ndcg_cut_30': 0.4055295130386219,\n",
              " 'P_10': 0.3875000000000001}"
            ]
          },
          "metadata": {},
          "execution_count": 64
        }
      ]
    },
    {
      "cell_type": "markdown",
      "source": [
        "Wikified Index + noun + entities  on BM25 + DPH"
      ],
      "metadata": {
        "id": "LEbtU2r1cVTt"
      }
    },
    {
      "cell_type": "code",
      "source": [
        "topics = pt.io.read_topics(\"/content/drive/MyDrive/IRDM/noun_ent_bth.xml\",format=\"trecxml\")\n",
        "\n",
        "def get_retr(index, param_b, param_k1):\n",
        "    retr = pt.BatchRetrieve(index, controls={'wmodel': \"BM25\", \"c\": param_b},\n",
        "        properties={'bm25.k_1': param_k1})\n",
        "    return retr\n",
        "\n",
        "def get_dph(index):\n",
        "    return pt.BatchRetrieve(index, controls={\"wmodel\": \"DPH\"})\n",
        "\n",
        "\n",
        "bm25 = get_retr(wiki_no_difference, 0.75, 1.2) >> \\\n",
        "            pt.pipelines.PerQueryMaxMinScoreTransformer()\n",
        "dph = get_dph(wiki_no_difference) >> \\\n",
        "            pt.pipelines.PerQueryMaxMinScoreTransformer()\n",
        "\n",
        "combined= bm25 + dph\n",
        "res=combined.transform(topics)\n",
        "\n",
        "\n",
        "\n",
        "df = pd.DataFrame(res, columns=['qid', 'rank', 'docno', 'score'])\n",
        "df[\"ep_id\"]=df[\"docno\"].apply(lambda x: x.split(\"_\")[1].split(\"-\")[0])\n",
        "df[\"episode\"]=df[\"docno\"].apply(lambda x: x.split(\"_\")[0])\n",
        "df[\"docno\"]=df.apply(lambda x: get_ep(x[\"episode\"],x[\"ep_id\"]),axis=1)\n",
        "df[\"docno\"]=df[\"docno\"]+\".0\"\n",
        "rsl=df[[\"qid\",\"docno\",\"rank\",\"score\"]]\n",
        "qrels_path=(\"/content/drive/MyDrive/IRDM/podcasts_2020_train.1-8.qrels\")\n",
        "qrels = pt.io.read_qrels(qrels_path)\n",
        "pt.Utils.evaluate(rsl,qrels,metrics=['map',\"ndcg\",\"ndcg_cut_30\",\"P_10\"])"
      ],
      "metadata": {
        "colab": {
          "base_uri": "https://localhost:8080/"
        },
        "id": "7SZlne86Gw7F",
        "outputId": "35dfeee7-bbbc-4faf-9179-bfe151ce5e46"
      },
      "execution_count": null,
      "outputs": [
        {
          "output_type": "execute_result",
          "data": {
            "text/plain": [
              "{'map': 0.3077112225283314,\n",
              " 'ndcg': 0.5639010522421791,\n",
              " 'ndcg_cut_30': 0.4210917687766055,\n",
              " 'P_10': 0.425}"
            ]
          },
          "metadata": {},
          "execution_count": 73
        }
      ]
    }
  ]
}