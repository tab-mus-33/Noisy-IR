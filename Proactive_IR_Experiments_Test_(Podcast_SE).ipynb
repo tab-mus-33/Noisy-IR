{
  "nbformat": 4,
  "nbformat_minor": 0,
  "metadata": {
    "colab": {
      "provenance": [],
      "collapsed_sections": []
    },
    "kernelspec": {
      "name": "python3",
      "display_name": "Python 3"
    },
    "language_info": {
      "name": "python"
    }
  },
  "cells": [
    {
      "cell_type": "code",
      "execution_count": null,
      "metadata": {
        "colab": {
          "base_uri": "https://localhost:8080/"
        },
        "id": "NHXQr-I0soFU",
        "outputId": "b583ac25-a71e-4edc-db2d-2e2d35c89410"
      },
      "outputs": [
        {
          "output_type": "stream",
          "name": "stdout",
          "text": [
            "Looking in indexes: https://pypi.org/simple, https://us-python.pkg.dev/colab-wheels/public/simple/\n",
            "Collecting python-terrier\n",
            "  Downloading python-terrier-0.8.1.tar.gz (97 kB)\n",
            "\u001b[K     |████████████████████████████████| 97 kB 2.8 MB/s \n",
            "\u001b[?25hRequirement already satisfied: numpy in /usr/local/lib/python3.7/dist-packages (from python-terrier) (1.21.6)\n",
            "Requirement already satisfied: pandas in /usr/local/lib/python3.7/dist-packages (from python-terrier) (1.3.5)\n",
            "Collecting wget\n",
            "  Downloading wget-3.2.zip (10 kB)\n",
            "Requirement already satisfied: tqdm in /usr/local/lib/python3.7/dist-packages (from python-terrier) (4.64.1)\n",
            "Collecting pyjnius~=1.3.0\n",
            "  Downloading pyjnius-1.3.0-cp37-cp37m-manylinux2010_x86_64.whl (1.1 MB)\n",
            "\u001b[K     |████████████████████████████████| 1.1 MB 21.7 MB/s \n",
            "\u001b[?25hCollecting matchpy\n",
            "  Downloading matchpy-0.5.5-py3-none-any.whl (69 kB)\n",
            "\u001b[K     |████████████████████████████████| 69 kB 6.3 MB/s \n",
            "\u001b[?25hCollecting sklearn\n",
            "  Downloading sklearn-0.0.tar.gz (1.1 kB)\n",
            "Collecting deprecation\n",
            "  Downloading deprecation-2.1.0-py2.py3-none-any.whl (11 kB)\n",
            "Collecting chest\n",
            "  Downloading chest-0.2.3.tar.gz (9.6 kB)\n",
            "Requirement already satisfied: scipy in /usr/local/lib/python3.7/dist-packages (from python-terrier) (1.7.3)\n",
            "Requirement already satisfied: requests in /usr/local/lib/python3.7/dist-packages (from python-terrier) (2.23.0)\n",
            "Requirement already satisfied: joblib in /usr/local/lib/python3.7/dist-packages (from python-terrier) (1.1.0)\n",
            "Collecting nptyping==1.4.4\n",
            "  Downloading nptyping-1.4.4-py3-none-any.whl (31 kB)\n",
            "Requirement already satisfied: more_itertools in /usr/local/lib/python3.7/dist-packages (from python-terrier) (8.14.0)\n",
            "Collecting ir_datasets>=0.3.2\n",
            "  Downloading ir_datasets-0.5.3-py3-none-any.whl (303 kB)\n",
            "\u001b[K     |████████████████████████████████| 303 kB 36.9 MB/s \n",
            "\u001b[?25hRequirement already satisfied: jinja2 in /usr/local/lib/python3.7/dist-packages (from python-terrier) (2.11.3)\n",
            "Requirement already satisfied: statsmodels in /usr/local/lib/python3.7/dist-packages (from python-terrier) (0.12.2)\n",
            "Collecting ir_measures>=0.2.0\n",
            "  Downloading ir_measures-0.3.1.tar.gz (46 kB)\n",
            "\u001b[K     |████████████████████████████████| 46 kB 3.4 MB/s \n",
            "\u001b[?25hRequirement already satisfied: dill in /usr/local/lib/python3.7/dist-packages (from python-terrier) (0.3.5.1)\n",
            "Collecting typish>=1.7.0\n",
            "  Downloading typish-1.9.3-py3-none-any.whl (45 kB)\n",
            "\u001b[K     |████████████████████████████████| 45 kB 2.5 MB/s \n",
            "\u001b[?25hCollecting pyautocorpus>=0.1.1\n",
            "  Downloading pyautocorpus-0.1.8-cp37-cp37m-manylinux_2_12_x86_64.manylinux2010_x86_64.whl (294 kB)\n",
            "\u001b[K     |████████████████████████████████| 294 kB 35.3 MB/s \n",
            "\u001b[?25hCollecting unlzw3>=0.2.1\n",
            "  Downloading unlzw3-0.2.1.tar.gz (5.8 kB)\n",
            "  Installing build dependencies ... \u001b[?25l\u001b[?25hdone\n",
            "  Getting requirements to build wheel ... \u001b[?25l\u001b[?25hdone\n",
            "    Preparing wheel metadata ... \u001b[?25l\u001b[?25hdone\n",
            "Collecting trec-car-tools>=2.5.4\n",
            "  Downloading trec_car_tools-2.6-py3-none-any.whl (8.4 kB)\n",
            "Collecting lz4>=3.1.1\n",
            "  Downloading lz4-4.0.2-cp37-cp37m-manylinux_2_17_x86_64.manylinux2014_x86_64.whl (1.2 MB)\n",
            "\u001b[K     |████████████████████████████████| 1.2 MB 45.4 MB/s \n",
            "\u001b[?25hRequirement already satisfied: pyyaml>=5.3.1 in /usr/local/lib/python3.7/dist-packages (from ir_datasets>=0.3.2->python-terrier) (6.0)\n",
            "Collecting zlib-state>=0.1.3\n",
            "  Downloading zlib_state-0.1.5-cp37-cp37m-manylinux2010_x86_64.whl (72 kB)\n",
            "\u001b[K     |████████████████████████████████| 72 kB 1.1 MB/s \n",
            "\u001b[?25hRequirement already satisfied: lxml>=4.5.2 in /usr/local/lib/python3.7/dist-packages (from ir_datasets>=0.3.2->python-terrier) (4.9.1)\n",
            "Requirement already satisfied: beautifulsoup4>=4.4.1 in /usr/local/lib/python3.7/dist-packages (from ir_datasets>=0.3.2->python-terrier) (4.6.3)\n",
            "Collecting warc3-wet-clueweb09>=0.2.5\n",
            "  Downloading warc3-wet-clueweb09-0.2.5.tar.gz (17 kB)\n",
            "Collecting warc3-wet>=0.2.3\n",
            "  Downloading warc3_wet-0.2.3-py3-none-any.whl (13 kB)\n",
            "Collecting ijson>=3.1.3\n",
            "  Downloading ijson-3.1.4-cp37-cp37m-manylinux2010_x86_64.whl (126 kB)\n",
            "\u001b[K     |████████████████████████████████| 126 kB 53.3 MB/s \n",
            "\u001b[?25hCollecting pytrec-eval-terrier>=0.5.2\n",
            "  Downloading pytrec_eval_terrier-0.5.4-cp37-cp37m-manylinux_2_17_x86_64.manylinux2014_x86_64.whl (285 kB)\n",
            "\u001b[K     |████████████████████████████████| 285 kB 40.2 MB/s \n",
            "\u001b[?25hCollecting cwl-eval>=1.0.10\n",
            "  Downloading cwl-eval-1.0.10.tar.gz (31 kB)\n",
            "Requirement already satisfied: cython in /usr/local/lib/python3.7/dist-packages (from pyjnius~=1.3.0->python-terrier) (0.29.32)\n",
            "Requirement already satisfied: six>=1.7.0 in /usr/local/lib/python3.7/dist-packages (from pyjnius~=1.3.0->python-terrier) (1.15.0)\n",
            "Requirement already satisfied: certifi>=2017.4.17 in /usr/local/lib/python3.7/dist-packages (from requests->python-terrier) (2022.6.15)\n",
            "Requirement already satisfied: chardet<4,>=3.0.2 in /usr/local/lib/python3.7/dist-packages (from requests->python-terrier) (3.0.4)\n",
            "Requirement already satisfied: idna<3,>=2.5 in /usr/local/lib/python3.7/dist-packages (from requests->python-terrier) (2.10)\n",
            "Requirement already satisfied: urllib3!=1.25.0,!=1.25.1,<1.26,>=1.21.1 in /usr/local/lib/python3.7/dist-packages (from requests->python-terrier) (1.24.3)\n",
            "Collecting cbor>=1.0.0\n",
            "  Downloading cbor-1.0.0.tar.gz (20 kB)\n",
            "Requirement already satisfied: heapdict in /usr/local/lib/python3.7/dist-packages (from chest->python-terrier) (1.0.1)\n",
            "Requirement already satisfied: packaging in /usr/local/lib/python3.7/dist-packages (from deprecation->python-terrier) (21.3)\n",
            "Requirement already satisfied: MarkupSafe>=0.23 in /usr/local/lib/python3.7/dist-packages (from jinja2->python-terrier) (2.0.1)\n",
            "Collecting multiset<3.0,>=2.0\n",
            "  Downloading multiset-2.1.1-py2.py3-none-any.whl (8.8 kB)\n",
            "Requirement already satisfied: pyparsing!=3.0.5,>=2.0.2 in /usr/local/lib/python3.7/dist-packages (from packaging->deprecation->python-terrier) (3.0.9)\n",
            "Requirement already satisfied: pytz>=2017.3 in /usr/local/lib/python3.7/dist-packages (from pandas->python-terrier) (2022.2.1)\n",
            "Requirement already satisfied: python-dateutil>=2.7.3 in /usr/local/lib/python3.7/dist-packages (from pandas->python-terrier) (2.8.2)\n",
            "Requirement already satisfied: scikit-learn in /usr/local/lib/python3.7/dist-packages (from sklearn->python-terrier) (1.0.2)\n",
            "Requirement already satisfied: threadpoolctl>=2.0.0 in /usr/local/lib/python3.7/dist-packages (from scikit-learn->sklearn->python-terrier) (3.1.0)\n",
            "Requirement already satisfied: patsy>=0.5 in /usr/local/lib/python3.7/dist-packages (from statsmodels->python-terrier) (0.5.2)\n",
            "Building wheels for collected packages: python-terrier, ir-measures, cwl-eval, cbor, unlzw3, warc3-wet-clueweb09, chest, sklearn, wget\n",
            "  Building wheel for python-terrier (setup.py) ... \u001b[?25l\u001b[?25hdone\n",
            "  Created wheel for python-terrier: filename=python_terrier-0.8.1-py3-none-any.whl size=104091 sha256=0101ddfc7ebae63b68241f5b0d185788777d8b64bfd2b51d740afd59c47f785d\n",
            "  Stored in directory: /root/.cache/pip/wheels/09/e5/f5/2f28a11314bac89a683eb2a12aed802a7da27e4318ffbff4a8\n",
            "  Building wheel for ir-measures (setup.py) ... \u001b[?25l\u001b[?25hdone\n",
            "  Created wheel for ir-measures: filename=ir_measures-0.3.1-py3-none-any.whl size=60193 sha256=be9073caeaa03638ee6a3c39f5f4e99773051e7226c7c0319c046d412f70aaca\n",
            "  Stored in directory: /root/.cache/pip/wheels/17/86/a6/8b9c92080cdc19346721307878315c19430fb4705716a5676a\n",
            "  Building wheel for cwl-eval (setup.py) ... \u001b[?25l\u001b[?25hdone\n",
            "  Created wheel for cwl-eval: filename=cwl_eval-1.0.10-py3-none-any.whl size=37797 sha256=3f4585ab4a6c584cfa9ee02fbb83a7222a4cfd7c26b08539441ed2c203b0d3c0\n",
            "  Stored in directory: /root/.cache/pip/wheels/ff/e9/ff/d2b6d72d9feb0d0b1b11aacfaf5cd866717034615c2d194093\n",
            "  Building wheel for cbor (setup.py) ... \u001b[?25l\u001b[?25hdone\n",
            "  Created wheel for cbor: filename=cbor-1.0.0-cp37-cp37m-linux_x86_64.whl size=51299 sha256=4b6e0de8132cd43b70cd250afd57a26e4345b2caacc4e30dbfdd84a089dcce29\n",
            "  Stored in directory: /root/.cache/pip/wheels/19/77/49/c9c2c8dc5848502e606e8579d0bbda18b850fb056a6c62239d\n",
            "  Building wheel for unlzw3 (PEP 517) ... \u001b[?25l\u001b[?25hdone\n",
            "  Created wheel for unlzw3: filename=unlzw3-0.2.1-py3-none-any.whl size=6082 sha256=2e43f532ba08ee4186e7a300f898249991f5365158de2d2502f125ff4e76d55e\n",
            "  Stored in directory: /root/.cache/pip/wheels/e1/3c/d9/e33962c8aad8999dc5560b6e71baafa2335c269f532f5e176a\n",
            "  Building wheel for warc3-wet-clueweb09 (setup.py) ... \u001b[?25l\u001b[?25hdone\n",
            "  Created wheel for warc3-wet-clueweb09: filename=warc3_wet_clueweb09-0.2.5-py3-none-any.whl size=18922 sha256=74528b613dedcaaa7804821444051557afd156cae9af310175ba45a328c15061\n",
            "  Stored in directory: /root/.cache/pip/wheels/42/d4/3c/7c2b0c3d400ad744e4db69f2fde166655da2ed2198bfc02db6\n",
            "  Building wheel for chest (setup.py) ... \u001b[?25l\u001b[?25hdone\n",
            "  Created wheel for chest: filename=chest-0.2.3-py3-none-any.whl size=7634 sha256=e51fdac36d219f4f0fad3ffa73189e2c99fc26453171dff8f1acaf7bd35e981b\n",
            "  Stored in directory: /root/.cache/pip/wheels/fc/f5/b9/c436e11300809e6b40d46a5d2592fb0bff89e0712f2e878dc7\n",
            "  Building wheel for sklearn (setup.py) ... \u001b[?25l\u001b[?25hdone\n",
            "  Created wheel for sklearn: filename=sklearn-0.0-py2.py3-none-any.whl size=1310 sha256=7a02695d375455b1db1ec6a8e7b616f6feef6cb69531f5057481b39f4845b0d7\n",
            "  Stored in directory: /root/.cache/pip/wheels/46/ef/c3/157e41f5ee1372d1be90b09f74f82b10e391eaacca8f22d33e\n",
            "  Building wheel for wget (setup.py) ... \u001b[?25l\u001b[?25hdone\n",
            "  Created wheel for wget: filename=wget-3.2-py3-none-any.whl size=9675 sha256=6348364775bef59ca85b11ba1b6c634b4cfff05639ab43e2705b0a05901c76c2\n",
            "  Stored in directory: /root/.cache/pip/wheels/a1/b6/7c/0e63e34eb06634181c63adacca38b79ff8f35c37e3c13e3c02\n",
            "Successfully built python-terrier ir-measures cwl-eval cbor unlzw3 warc3-wet-clueweb09 chest sklearn wget\n",
            "Installing collected packages: cbor, zlib-state, warc3-wet-clueweb09, warc3-wet, unlzw3, typish, trec-car-tools, pytrec-eval-terrier, pyautocorpus, multiset, lz4, ijson, cwl-eval, wget, sklearn, pyjnius, nptyping, matchpy, ir-measures, ir-datasets, deprecation, chest, python-terrier\n",
            "Successfully installed cbor-1.0.0 chest-0.2.3 cwl-eval-1.0.10 deprecation-2.1.0 ijson-3.1.4 ir-datasets-0.5.3 ir-measures-0.3.1 lz4-4.0.2 matchpy-0.5.5 multiset-2.1.1 nptyping-1.4.4 pyautocorpus-0.1.8 pyjnius-1.3.0 python-terrier-0.8.1 pytrec-eval-terrier-0.5.4 sklearn-0.0 trec-car-tools-2.6 typish-1.9.3 unlzw3-0.2.1 warc3-wet-0.2.3 warc3-wet-clueweb09-0.2.5 wget-3.2 zlib-state-0.1.5\n"
          ]
        }
      ],
      "source": [
        "pip install python-terrier\n"
      ]
    },
    {
      "cell_type": "code",
      "source": [
        "import pyterrier as pt\n",
        "pt.init()\n"
      ],
      "metadata": {
        "colab": {
          "base_uri": "https://localhost:8080/"
        },
        "id": "C7lrNkZqsxoU",
        "outputId": "073a3c4c-afd2-42e5-bd50-4f4fd2f35cea"
      },
      "execution_count": null,
      "outputs": [
        {
          "output_type": "stream",
          "name": "stdout",
          "text": [
            "terrier-assemblies 5.6 jar-with-dependencies not found, downloading to /root/.pyterrier...\n",
            "Done\n",
            "terrier-python-helper 0.0.6 jar not found, downloading to /root/.pyterrier...\n",
            "Done\n"
          ]
        },
        {
          "output_type": "stream",
          "name": "stderr",
          "text": [
            "PyTerrier 0.8.1 has loaded Terrier 5.6 (built by craigmacdonald on 2021-09-17 13:27)\n",
            "\n"
          ]
        }
      ]
    },
    {
      "cell_type": "code",
      "source": [
        "from google.colab import drive\n",
        "drive.mount('/content/drive')"
      ],
      "metadata": {
        "colab": {
          "base_uri": "https://localhost:8080/"
        },
        "id": "pqwqczE_szFJ",
        "outputId": "d1134566-6ea5-4080-a2d5-c35d6e1c453a"
      },
      "execution_count": null,
      "outputs": [
        {
          "output_type": "stream",
          "name": "stdout",
          "text": [
            "Mounted at /content/drive\n"
          ]
        }
      ]
    },
    {
      "cell_type": "markdown",
      "source": [
        "Reading the indexes for Podcast Small Test"
      ],
      "metadata": {
        "id": "V3U87q-YvnyY"
      }
    },
    {
      "cell_type": "code",
      "source": [
        "# Raw Document Index \n",
        "sample_set_we = pt.IndexRef.of(\"/content/drive/MyDrive/IRDM/xml_dir/sample_without_test/data.properties\")\n",
        "raw= pt.IndexFactory.of(sample_set_we)"
      ],
      "metadata": {
        "id": "6Fia8MeJvl3Q"
      },
      "execution_count": null,
      "outputs": []
    },
    {
      "cell_type": "code",
      "source": [
        "#Wikipedia Index \n",
        "wiki_instance = pt.IndexRef.of(\"/content/drive/MyDrive/IRDM/xml_dir/wikified_index_raws_test/data.properties\")\n",
        "wiki_no_difference= pt.IndexFactory.of(wiki_instance)\n"
      ],
      "metadata": {
        "id": "hw0a6Vj8vtcD"
      },
      "execution_count": null,
      "outputs": []
    },
    {
      "cell_type": "code",
      "source": [
        "#Wikipedia Index freq 2\n",
        "wiki_instance_2 = pt.IndexRef.of(\"/content/drive/MyDrive/IRDM/xml_dir/wikified_index_raw_freq_2_test/data.properties\")\n",
        "wiki_no_difference_2= pt.IndexFactory.of(wiki_instance_2)"
      ],
      "metadata": {
        "id": "9knwA2HFHciv"
      },
      "execution_count": null,
      "outputs": []
    },
    {
      "cell_type": "code",
      "source": [
        "#Wikipedia Index freq 5\n",
        "wiki_instance_5 = pt.IndexRef.of(\"/content/drive/MyDrive/IRDM/xml_dir/wikified_index_raw_freq_5_test/data.properties\")\n",
        "wiki_no_difference_5= pt.IndexFactory.of(wiki_instance_5)"
      ],
      "metadata": {
        "id": "3q_xYEHiHwxJ"
      },
      "execution_count": null,
      "outputs": []
    },
    {
      "cell_type": "code",
      "source": [
        "import pandas as pd\n",
        "id_template = 'spotify:episode:{}_{}'\n",
        "\n",
        "def get_ep(a,b):\n",
        "  return id_template.format(a,b)"
      ],
      "metadata": {
        "id": "lQkE-_B4v4CL"
      },
      "execution_count": null,
      "outputs": []
    },
    {
      "cell_type": "markdown",
      "source": [
        "DCU Approach (Raw Index + Entities + BM25 + DPH)\n",
        "\n",
        "\n"
      ],
      "metadata": {
        "id": "pPY4ws91zi0e"
      }
    },
    {
      "cell_type": "code",
      "source": [
        "topics = pt.io.read_topics(\"/content/drive/MyDrive/IRDM/ent_test.xml\",format=\"trecxml\")\n",
        "\n",
        "def get_retr(index, param_b, param_k1):\n",
        "    retr = pt.BatchRetrieve(index, controls={'wmodel': \"BM25\", \"c\": param_b},\n",
        "        properties={'bm25.k_1': param_k1})\n",
        "    return retr\n",
        "\n",
        "def get_dph(index):\n",
        "    return pt.BatchRetrieve(index, controls={\"wmodel\": \"DPH\"})\n",
        "\n",
        "\n",
        "bm25 = get_retr(raw, 0.75, 1.2) >> \\\n",
        "            pt.pipelines.PerQueryMaxMinScoreTransformer()\n",
        "dph = get_dph(raw) >> \\\n",
        "            pt.pipelines.PerQueryMaxMinScoreTransformer()\n",
        "\n",
        "combined= bm25 + dph\n",
        "res=combined.transform(topics)\n",
        "\n",
        "\n",
        "\n",
        "df = pd.DataFrame(res, columns=['qid', 'rank', 'docno', 'score'])\n",
        "df[\"ep_id\"]=df[\"docno\"].apply(lambda x: x.split(\"_\")[1].split(\"-\")[0])\n",
        "df[\"episode\"]=df[\"docno\"].apply(lambda x: x.split(\"_\")[0])\n",
        "df[\"docno\"]=df.apply(lambda x: get_ep(x[\"episode\"],x[\"ep_id\"]),axis=1)\n",
        "df[\"docno\"]=df[\"docno\"]+\".0\"\n",
        "rsl=df[[\"qid\",\"docno\",\"rank\",\"score\"]]\n",
        "qrels_path=(\"/content/drive/MyDrive/IRDM/podcasts_2020_test.qrels\")\n",
        "qrels = pt.io.read_qrels(qrels_path)\n",
        "pt.Utils.evaluate(rsl,qrels,metrics=['map',\"ndcg\",\"ndcg_cut_30\",\"P_10\"])"
      ],
      "metadata": {
        "colab": {
          "base_uri": "https://localhost:8080/"
        },
        "id": "S6UWzioCv2AA",
        "outputId": "5516b679-5e86-4ff7-b389-d374d8d622f5"
      },
      "execution_count": null,
      "outputs": [
        {
          "output_type": "execute_result",
          "data": {
            "text/plain": [
              "{'map': 0.38016443048083853,\n",
              " 'ndcg': 0.5939376735955048,\n",
              " 'ndcg_cut_30': 0.41829745888382824,\n",
              " 'P_10': 0.49791666666666684}"
            ]
          },
          "metadata": {},
          "execution_count": 7
        }
      ]
    },
    {
      "cell_type": "markdown",
      "source": [
        "Raw Index + Original Topics  + BM25 + DPH\n",
        "\n",
        "\n"
      ],
      "metadata": {
        "id": "aKfllsGFdhJF"
      }
    },
    {
      "cell_type": "code",
      "source": [
        "topics = pt.io.read_topics(\"/content/drive/MyDrive/IRDM/podcasts_2020_topics_test.xml\",format=\"trecxml\")\n",
        "\n",
        "def get_retr(index, param_b, param_k1):\n",
        "    retr = pt.BatchRetrieve(index, controls={'wmodel': \"BM25\", \"c\": param_b},\n",
        "        properties={'bm25.k_1': param_k1})\n",
        "    return retr\n",
        "\n",
        "def get_dph(index):\n",
        "    return pt.BatchRetrieve(index, controls={\"wmodel\": \"DPH\"})\n",
        "\n",
        "\n",
        "bm25 = get_retr(raw, 0.75, 1.2) >> \\\n",
        "            pt.pipelines.PerQueryMaxMinScoreTransformer()\n",
        "dph = get_dph(raw) >> \\\n",
        "            pt.pipelines.PerQueryMaxMinScoreTransformer()\n",
        "\n",
        "combined= bm25 + dph\n",
        "res=combined.transform(topics)\n",
        "\n",
        "\n",
        "\n",
        "df = pd.DataFrame(res, columns=['qid', 'rank', 'docno', 'score'])\n",
        "df[\"ep_id\"]=df[\"docno\"].apply(lambda x: x.split(\"_\")[1].split(\"-\")[0])\n",
        "df[\"episode\"]=df[\"docno\"].apply(lambda x: x.split(\"_\")[0])\n",
        "df[\"docno\"]=df.apply(lambda x: get_ep(x[\"episode\"],x[\"ep_id\"]),axis=1)\n",
        "df[\"docno\"]=df[\"docno\"]+\".0\"\n",
        "rsl=df[[\"qid\",\"docno\",\"rank\",\"score\"]]\n",
        "qrels_path=(\"/content/drive/MyDrive/IRDM/podcasts_2020_test.qrels\")\n",
        "qrels = pt.io.read_qrels(qrels_path)\n",
        "pt.Utils.evaluate(rsl,qrels,metrics=['map',\"ndcg\",\"ndcg_cut_30\",\"P_10\"])"
      ],
      "metadata": {
        "id": "p2w4ATv7CRFB",
        "colab": {
          "base_uri": "https://localhost:8080/"
        },
        "outputId": "fbfe40be-ca2c-4cd9-c6da-42d81eae80d4"
      },
      "execution_count": null,
      "outputs": [
        {
          "output_type": "execute_result",
          "data": {
            "text/plain": [
              "{'map': 0.3632304809446112,\n",
              " 'ndcg': 0.5735183947465338,\n",
              " 'ndcg_cut_30': 0.39374726956189665,\n",
              " 'P_10': 0.47083333333333344}"
            ]
          },
          "metadata": {},
          "execution_count": 8
        }
      ]
    },
    {
      "cell_type": "markdown",
      "source": [
        "Raw Index + Wikfied Queries + BM25 + DPH"
      ],
      "metadata": {
        "id": "mP_NaKY0dnTx"
      }
    },
    {
      "cell_type": "code",
      "source": [
        "topics = pt.io.read_topics(\"/content/drive/MyDrive/IRDM/wikified_query_tests.xml\",format=\"trecxml\")\n",
        "\n",
        "def get_retr(index, param_b, param_k1):\n",
        "    retr = pt.BatchRetrieve(index, controls={'wmodel': \"BM25\", \"c\": param_b},\n",
        "        properties={'bm25.k_1': param_k1})\n",
        "    return retr\n",
        "\n",
        "def get_dph(index):\n",
        "    return pt.BatchRetrieve(index, controls={\"wmodel\": \"DPH\"})\n",
        "\n",
        "\n",
        "bm25 = get_retr(raw, 0.75, 1.2) >> \\\n",
        "            pt.pipelines.PerQueryMaxMinScoreTransformer()\n",
        "dph = get_dph(raw) >> \\\n",
        "            pt.pipelines.PerQueryMaxMinScoreTransformer()\n",
        "\n",
        "combined= bm25 + dph\n",
        "res=combined.transform(topics)\n",
        "\n",
        "\n",
        "\n",
        "df = pd.DataFrame(res, columns=['qid', 'rank', 'docno', 'score'])\n",
        "df[\"ep_id\"]=df[\"docno\"].apply(lambda x: x.split(\"_\")[1].split(\"-\")[0])\n",
        "df[\"episode\"]=df[\"docno\"].apply(lambda x: x.split(\"_\")[0])\n",
        "df[\"docno\"]=df.apply(lambda x: get_ep(x[\"episode\"],x[\"ep_id\"]),axis=1)\n",
        "df[\"docno\"]=df[\"docno\"]+\".0\"\n",
        "rsl=df[[\"qid\",\"docno\",\"rank\",\"score\"]]\n",
        "qrels_path=(\"/content/drive/MyDrive/IRDM/podcasts_2020_test.qrels\")\n",
        "qrels = pt.io.read_qrels(qrels_path)\n",
        "pt.Utils.evaluate(rsl,qrels,metrics=['map',\"ndcg\",\"ndcg_cut_30\",\"P_10\"])"
      ],
      "metadata": {
        "colab": {
          "base_uri": "https://localhost:8080/"
        },
        "id": "2VVY1hA6O651",
        "outputId": "7f61f58a-8f0a-4ff9-cfe0-9d5145bb4dc5"
      },
      "execution_count": null,
      "outputs": [
        {
          "output_type": "execute_result",
          "data": {
            "text/plain": [
              "{'map': 0.2361849458461869,\n",
              " 'ndcg': 0.486370806747003,\n",
              " 'ndcg_cut_30': 0.24698141820518424,\n",
              " 'P_10': 0.27291666666666664}"
            ]
          },
          "metadata": {},
          "execution_count": 10
        }
      ]
    },
    {
      "cell_type": "markdown",
      "source": [
        "Raw Index + Entities + QE Approach"
      ],
      "metadata": {
        "id": "xMuv6IxUdwGZ"
      }
    },
    {
      "cell_type": "code",
      "source": [
        "\n",
        "qe = pt.BatchRetrieve(raw, controls={'wmodel': \"BM25\"}) >> \\\n",
        "            pt.rewrite.QueryExpansion(raw, fb_terms=15, fb_docs=6) >> \\\n",
        "            pt.BatchRetrieve(raw, controls={'wmodel': \"PL2\",\"c\":20})\n",
        "\n",
        "\n",
        "topics = pt.io.read_topics(\"/content/drive/MyDrive/IRDM/ent_test.xml\",format=\"trecxml\")\n",
        "\n",
        "\n",
        "import pandas as pd\n",
        "id_template = 'spotify:episode:{}_{}'\n",
        "res=qe.transform(topics)\n",
        "\n",
        "df = pd.DataFrame(res, columns=['qid', 'rank', 'docno', 'score'])\n",
        "\n",
        "\n",
        "df[\"ep_id\"]=df[\"docno\"].apply(lambda x: x.split(\"_\")[1].split(\"-\")[0])\n",
        "df[\"episode\"]=df[\"docno\"].apply(lambda x: x.split(\"_\")[0])\n",
        "df[\"docno\"]=df.apply(lambda x: get_ep(x[\"episode\"],x[\"ep_id\"]),axis=1)\n",
        "df[\"docno\"]=df[\"docno\"]+\".0\"\n",
        "rsl=df[[\"qid\",\"docno\",\"rank\",\"score\"]]\n",
        "\n",
        "rsl=df[[\"qid\",\"docno\",\"rank\",\"score\"]]\n",
        "\n",
        "\n",
        "qrels_path=(\"/content/drive/MyDrive/IRDM/podcasts_2020_test.qrels\")\n",
        "qrels = pt.io.read_qrels(qrels_path)\n",
        "print(\"QE \")\n",
        "print(pt.Utils.evaluate(rsl,qrels,metrics=['map',\"ndcg\",\"ndcg_cut_30\",\"P_10\"]))"
      ],
      "metadata": {
        "colab": {
          "base_uri": "https://localhost:8080/"
        },
        "id": "5e4nzFHPycHt",
        "outputId": "9c977975-b0a6-4992-d115-8e0b7ea830e2"
      },
      "execution_count": null,
      "outputs": [
        {
          "output_type": "stream",
          "name": "stdout",
          "text": [
            "13:09:20.538 [main] WARN org.terrier.querying.QueryExpansion - qemodel control not set for QueryExpansion post process. Using default model Bo1\n",
            "QE \n",
            "{'map': 0.3971810164272578, 'ndcg': 0.5993524839324625, 'ndcg_cut_30': 0.4275762502665781, 'P_10': 0.51875}\n"
          ]
        }
      ]
    },
    {
      "cell_type": "markdown",
      "source": [
        "Wikfied Index + Wikified Queries + BM25 +DPH"
      ],
      "metadata": {
        "id": "hj-nddV3d1F8"
      }
    },
    {
      "cell_type": "code",
      "source": [
        "topics = pt.io.read_topics(\"/content/drive/MyDrive/IRDM/wikified_query_tests.xml\",format=\"trecxml\")\n",
        "\n",
        "def get_retr(index, param_b, param_k1):\n",
        "    retr = pt.BatchRetrieve(index, controls={'wmodel': \"BM25\", \"c\": param_b},\n",
        "        properties={'bm25.k_1': param_k1})\n",
        "    return retr\n",
        "\n",
        "def get_dph(index):\n",
        "    return pt.BatchRetrieve(index, controls={\"wmodel\": \"DPH\"})\n",
        "\n",
        "\n",
        "bm25 = get_retr(wiki_no_difference, 0.75, 1.2) >> \\\n",
        "            pt.pipelines.PerQueryMaxMinScoreTransformer()\n",
        "dph = get_dph(wiki_no_difference) >> \\\n",
        "            pt.pipelines.PerQueryMaxMinScoreTransformer()\n",
        "\n",
        "\n",
        "import pandas as pd\n",
        "id_template = 'spotify:episode:{}_{}'\n",
        "combined= bm25 + dph\n",
        "res=combined.transform(topics)\n",
        "\n",
        "def get_ep(a,b):\n",
        "  return id_template.format(a,b)\n",
        "\n",
        "df = pd.DataFrame(res, columns=['qid', 'rank', 'docno', 'score'])\n",
        "df[\"ep_id\"]=df[\"docno\"].apply(lambda x: x.split(\"_\")[1].split(\"-\")[0])\n",
        "df[\"episode\"]=df[\"docno\"].apply(lambda x: x.split(\"_\")[0])\n",
        "df[\"docno\"]=df.apply(lambda x: get_ep(x[\"episode\"],x[\"ep_id\"]),axis=1)\n",
        "df[\"docno\"]=df[\"docno\"]+\".0\"\n",
        "rsl=df[[\"qid\",\"docno\",\"rank\",\"score\"]]\n",
        "\n",
        "qrels_path=(\"/content/drive/MyDrive/IRDM/podcasts_2020_test.qrels\")\n",
        "qrels = pt.io.read_qrels(qrels_path)\n",
        "print(\"DCU Linear Combination Minus Entities \")\n",
        "print(pt.Utils.evaluate(rsl,qrels,metrics=['map',\"ndcg\",\"ndcg_cut_30\",\"P_10\"]))"
      ],
      "metadata": {
        "colab": {
          "base_uri": "https://localhost:8080/"
        },
        "id": "oZl1-Cndyu7d",
        "outputId": "0e818bc9-170b-4f5b-b6a7-d83bb1e7272c"
      },
      "execution_count": null,
      "outputs": [
        {
          "output_type": "stream",
          "name": "stdout",
          "text": [
            "DCU Linear Combination Minus Entities \n",
            "{'map': 0.31938469425764465, 'ndcg': 0.5601426167843774, 'ndcg_cut_30': 0.37249486437010676, 'P_10': 0.42916666666666664}\n"
          ]
        }
      ]
    },
    {
      "cell_type": "markdown",
      "source": [
        "Raw Index + Wikified Queries + QE approach"
      ],
      "metadata": {
        "id": "P21_t2GreAMp"
      }
    },
    {
      "cell_type": "code",
      "source": [
        "topics = pt.io.read_topics(\"/content/drive/MyDrive/IRDM/wikified_query_tests.xml\",format=\"trecxml\")\n",
        "\n",
        "\n",
        "qe = pt.BatchRetrieve(raw, controls={'wmodel': \"BM25\"}) >> \\\n",
        "            pt.rewrite.QueryExpansion(raw, fb_terms=15, fb_docs=6) >> \\\n",
        "            pt.BatchRetrieve(raw, controls={'wmodel': \"PL2\",\"c\":20})\n",
        "\n",
        "res=qe.transform(topics)\n",
        "\n",
        "df = pd.DataFrame(res, columns=['qid', 'rank', 'docno', 'score'])\n",
        "\n",
        "\n",
        "df[\"ep_id\"]=df[\"docno\"].apply(lambda x: x.split(\"_\")[1].split(\"-\")[0])\n",
        "df[\"episode\"]=df[\"docno\"].apply(lambda x: x.split(\"_\")[0])\n",
        "df[\"docno\"]=df.apply(lambda x: get_ep(x[\"episode\"],x[\"ep_id\"]),axis=1)\n",
        "df[\"docno\"]=df[\"docno\"]+\".0\"\n",
        "rsl=df[[\"qid\",\"docno\",\"rank\",\"score\"]]\n",
        "\n",
        "rsl=df[[\"qid\",\"docno\",\"rank\",\"score\"]]\n",
        "\n",
        "\n",
        "qrels_path=(\"/content/drive/MyDrive/IRDM/podcasts_2020_test.qrels\")\n",
        "qrels = pt.io.read_qrels(qrels_path)\n",
        "print(\"QE \")\n",
        "print(pt.Utils.evaluate(rsl,qrels,metrics=['map',\"ndcg\",\"ndcg_cut_30\",\"P_10\"]))"
      ],
      "metadata": {
        "colab": {
          "base_uri": "https://localhost:8080/"
        },
        "id": "UDcZZa7iy00R",
        "outputId": "18162f88-c333-4a6f-b679-82a67de38259"
      },
      "execution_count": null,
      "outputs": [
        {
          "output_type": "stream",
          "name": "stdout",
          "text": [
            "13:11:02.093 [main] WARN org.terrier.querying.QueryExpansion - qemodel control not set for QueryExpansion post process. Using default model Bo1\n",
            "QE \n",
            "{'map': 0.2559808251173357, 'ndcg': 0.4870956748156814, 'ndcg_cut_30': 0.25452680738721034, 'P_10': 0.29375}\n"
          ]
        }
      ]
    },
    {
      "cell_type": "markdown",
      "source": [
        "Raw Index + Original Topics + QE approach"
      ],
      "metadata": {
        "id": "ScIzkO77eJ7v"
      }
    },
    {
      "cell_type": "code",
      "source": [
        "topics = pt.io.read_topics(\"/content/drive/MyDrive/IRDM/podcasts_2020_topics_test.xml\",format=\"trecxml\")\n",
        "\n",
        "\n",
        "qe = pt.BatchRetrieve(raw, controls={'wmodel': \"BM25\"}) >> \\\n",
        "            pt.rewrite.QueryExpansion(raw, fb_terms=15, fb_docs=6) >> \\\n",
        "            pt.BatchRetrieve(raw, controls={'wmodel': \"PL2\",\"c\":20})\n",
        "\n",
        "res=qe.transform(topics)\n",
        "\n",
        "df = pd.DataFrame(res, columns=['qid', 'rank', 'docno', 'score'])\n",
        "\n",
        "\n",
        "df[\"ep_id\"]=df[\"docno\"].apply(lambda x: x.split(\"_\")[1].split(\"-\")[0])\n",
        "df[\"episode\"]=df[\"docno\"].apply(lambda x: x.split(\"_\")[0])\n",
        "df[\"docno\"]=df.apply(lambda x: get_ep(x[\"episode\"],x[\"ep_id\"]),axis=1)\n",
        "df[\"docno\"]=df[\"docno\"]+\".0\"\n",
        "rsl=df[[\"qid\",\"docno\",\"rank\",\"score\"]]\n",
        "\n",
        "rsl=df[[\"qid\",\"docno\",\"rank\",\"score\"]]\n",
        "\n",
        "\n",
        "qrels_path=(\"/content/drive/MyDrive/IRDM/podcasts_2020_test.qrels\")\n",
        "qrels = pt.io.read_qrels(qrels_path)\n",
        "print(\"QE \")\n",
        "print(pt.Utils.evaluate(rsl,qrels,metrics=['map',\"ndcg\",\"ndcg_cut_30\",\"P_10\"]))"
      ],
      "metadata": {
        "colab": {
          "base_uri": "https://localhost:8080/"
        },
        "id": "ZTZim51iPLTH",
        "outputId": "72f7a07c-877b-4ef1-ef4a-bd517e251029"
      },
      "execution_count": null,
      "outputs": [
        {
          "output_type": "stream",
          "name": "stdout",
          "text": [
            "13:12:21.726 [main] WARN org.terrier.querying.QueryExpansion - qemodel control not set for QueryExpansion post process. Using default model Bo1\n",
            "QE \n",
            "{'map': 0.37359149332068187, 'ndcg': 0.5755390063437716, 'ndcg_cut_30': 0.3979215958035478, 'P_10': 0.47708333333333347}\n"
          ]
        }
      ]
    },
    {
      "cell_type": "markdown",
      "source": [
        "Raw Index + Nouns and Entities + QE approach"
      ],
      "metadata": {
        "id": "WLzwXaoDeQli"
      }
    },
    {
      "cell_type": "code",
      "source": [
        "topics = pt.io.read_topics(\"/content/drive/MyDrive/IRDM/noun_ent_bth_test.xml\",format=\"trecxml\")\n",
        "\n",
        "\n",
        "qe = pt.BatchRetrieve(raw, controls={'wmodel': \"BM25\"}) >> \\\n",
        "            pt.rewrite.QueryExpansion(raw, fb_terms=15, fb_docs=6) >> \\\n",
        "            pt.BatchRetrieve(raw, controls={'wmodel': \"PL2\",\"c\":20})\n",
        "\n",
        "res=qe.transform(topics)\n",
        "\n",
        "df = pd.DataFrame(res, columns=['qid', 'rank', 'docno', 'score'])\n",
        "\n",
        "\n",
        "df[\"ep_id\"]=df[\"docno\"].apply(lambda x: x.split(\"_\")[1].split(\"-\")[0])\n",
        "df[\"episode\"]=df[\"docno\"].apply(lambda x: x.split(\"_\")[0])\n",
        "df[\"docno\"]=df.apply(lambda x: get_ep(x[\"episode\"],x[\"ep_id\"]),axis=1)\n",
        "df[\"docno\"]=df[\"docno\"]+\".0\"\n",
        "rsl=df[[\"qid\",\"docno\",\"rank\",\"score\"]]\n",
        "\n",
        "rsl=df[[\"qid\",\"docno\",\"rank\",\"score\"]]\n",
        "\n",
        "\n",
        "qrels_path=(\"/content/drive/MyDrive/IRDM/podcasts_2020_test.qrels\")\n",
        "qrels = pt.io.read_qrels(qrels_path)\n",
        "print(\"QE \")\n",
        "print(pt.Utils.evaluate(rsl,qrels,metrics=['map',\"ndcg\",\"ndcg_cut_30\",\"P_10\"]))"
      ],
      "metadata": {
        "colab": {
          "base_uri": "https://localhost:8080/"
        },
        "id": "QozZkio1PUZv",
        "outputId": "10d69754-3612-40d4-d214-01f8e9236d4d"
      },
      "execution_count": null,
      "outputs": [
        {
          "output_type": "stream",
          "name": "stdout",
          "text": [
            "22:49:08.426 [main] WARN org.terrier.querying.QueryExpansion - qemodel control not set for QueryExpansion post process. Using default model Bo1\n",
            "QE \n",
            "{'map': 0.3671503383056933, 'ndcg': 0.5844762075103843, 'ndcg_cut_30': 0.40052623235298485, 'P_10': 0.4541666666666668}\n"
          ]
        }
      ]
    },
    {
      "cell_type": "markdown",
      "source": [
        "Raw Index + Nouns + QE approach"
      ],
      "metadata": {
        "id": "2rj6afY1eW7D"
      }
    },
    {
      "cell_type": "code",
      "source": [
        "topics = pt.io.read_topics(\"/content/drive/MyDrive/IRDM/only_nouns_test_2.xml\",format=\"trecxml\")\n",
        "\n",
        "\n",
        "qe = pt.BatchRetrieve(raw, controls={'wmodel': \"BM25\"}) >> \\\n",
        "            pt.rewrite.QueryExpansion(raw, fb_terms=15, fb_docs=6) >> \\\n",
        "            pt.BatchRetrieve(raw, controls={'wmodel': \"PL2\",\"c\":20})\n",
        "\n",
        "res=qe.transform(topics)\n",
        "\n",
        "df = pd.DataFrame(res, columns=['qid', 'rank', 'docno', 'score'])\n",
        "\n",
        "\n",
        "df[\"ep_id\"]=df[\"docno\"].apply(lambda x: x.split(\"_\")[1].split(\"-\")[0])\n",
        "df[\"episode\"]=df[\"docno\"].apply(lambda x: x.split(\"_\")[0])\n",
        "df[\"docno\"]=df.apply(lambda x: get_ep(x[\"episode\"],x[\"ep_id\"]),axis=1)\n",
        "df[\"docno\"]=df[\"docno\"]+\".0\"\n",
        "rsl=df[[\"qid\",\"docno\",\"rank\",\"score\"]]\n",
        "\n",
        "rsl=df[[\"qid\",\"docno\",\"rank\",\"score\"]]\n",
        "\n",
        "\n",
        "qrels_path=(\"/content/drive/MyDrive/IRDM/podcasts_2020_test.qrels\")\n",
        "qrels = pt.io.read_qrels(qrels_path)\n",
        "print(\"QE \")\n",
        "print(pt.Utils.evaluate(rsl,qrels,metrics=['map',\"ndcg\",\"ndcg_cut_30\",\"P_10\"]))"
      ],
      "metadata": {
        "colab": {
          "base_uri": "https://localhost:8080/"
        },
        "id": "hqo5McHiPc3i",
        "outputId": "861b7d82-4bdc-410f-987b-6fdd9212d900"
      },
      "execution_count": null,
      "outputs": [
        {
          "output_type": "stream",
          "name": "stdout",
          "text": [
            "22:49:58.204 [main] WARN org.terrier.querying.QueryExpansion - qemodel control not set for QueryExpansion post process. Using default model Bo1\n",
            "QE \n",
            "{'map': 0.3651404632198753, 'ndcg': 0.5818792167629907, 'ndcg_cut_30': 0.39562134226467105, 'P_10': 0.44583333333333336}\n"
          ]
        }
      ]
    },
    {
      "cell_type": "markdown",
      "source": [
        "Raw Index + Entities + PL2 "
      ],
      "metadata": {
        "id": "IOKfdVUJedQH"
      }
    },
    {
      "cell_type": "code",
      "source": [
        "\n",
        "topics = pt.io.read_topics(\"/content/drive/MyDrive/IRDM/ent_test.xml\",format=\"trecxml\")\n",
        "\n",
        "pl2= pt.BatchRetrieve(raw, controls={\"wmodel\": \"PL2\",\"c\":20},metadata=[\"docno\",'text'])\n",
        "\n",
        "\n",
        "\n",
        "res=pl2.transform(topics)\n",
        "\n",
        "df = pd.DataFrame(res, columns=['qid', 'rank', 'docno', 'score'])\n",
        "\n",
        "df[\"ep_id\"]=df[\"docno\"].apply(lambda x: x.split(\"_\")[1].split(\"-\")[0])\n",
        "df[\"episode\"]=df[\"docno\"].apply(lambda x: x.split(\"_\")[0])\n",
        "df[\"docno\"]=df.apply(lambda x: get_ep(x[\"episode\"],x[\"ep_id\"]),axis=1)\n",
        "df[\"docno\"]=df[\"docno\"]+\".0\"\n",
        "rsl=df[[\"qid\",\"docno\",\"rank\",\"score\"]]\n",
        "\n",
        "\n",
        "rsl=df[[\"qid\",\"docno\",\"rank\",\"score\"]]\n",
        "\n",
        "\n",
        "\n",
        "qrels_path=(\"/content/drive/MyDrive/IRDM/podcasts_2020_test.qrels\")\n",
        "qrels = pt.io.read_qrels(qrels_path)\n",
        "\n",
        "print(\"PL 2 \")\n",
        "print(pt.Utils.evaluate(rsl,qrels,metrics=['map',\"ndcg\",\"ndcg_cut_30\",\"P_10\"]))\n"
      ],
      "metadata": {
        "colab": {
          "base_uri": "https://localhost:8080/"
        },
        "id": "rS37eDS41EmW",
        "outputId": "03639ec2-61ff-4555-d73f-c3c272d3ae3b"
      },
      "execution_count": null,
      "outputs": [
        {
          "output_type": "stream",
          "name": "stdout",
          "text": [
            "PL 2 \n",
            "{'map': 0.38092245405721964, 'ndcg': 0.5928752340729185, 'ndcg_cut_30': 0.4166458470954472, 'P_10': 0.5000000000000002}\n"
          ]
        }
      ]
    },
    {
      "cell_type": "markdown",
      "source": [
        "Wikified Index + Original Topics + BM25 + DPH"
      ],
      "metadata": {
        "id": "LxipnDGb2cjx"
      }
    },
    {
      "cell_type": "code",
      "source": [
        "topics = pt.io.read_topics(\"/content/drive/MyDrive/IRDM/podcasts_2020_topics_test.xml\",format=\"trecxml\")\n",
        "\n",
        "def get_retr(index, param_b, param_k1):\n",
        "    retr = pt.BatchRetrieve(index, controls={'wmodel': \"BM25\", \"c\": param_b},\n",
        "        properties={'bm25.k_1': param_k1})\n",
        "    return retr\n",
        "\n",
        "def get_dph(index):\n",
        "    return pt.BatchRetrieve(index, controls={\"wmodel\": \"DPH\"})\n",
        "\n",
        "\n",
        "bm25 = get_retr(wiki_no_difference, 0.75, 1.2) >> \\\n",
        "            pt.pipelines.PerQueryMaxMinScoreTransformer()\n",
        "dph = get_dph(wiki_no_difference) >> \\\n",
        "            pt.pipelines.PerQueryMaxMinScoreTransformer()\n",
        "\n",
        "\n",
        "\n",
        "combined= bm25 + dph\n",
        "res=combined.transform(topics)\n",
        "\n",
        "\n",
        "\n",
        "df = pd.DataFrame(res, columns=['qid', 'rank', 'docno', 'score'])\n",
        "df[\"ep_id\"]=df[\"docno\"].apply(lambda x: x.split(\"_\")[1].split(\"-\")[0])\n",
        "df[\"episode\"]=df[\"docno\"].apply(lambda x: x.split(\"_\")[0])\n",
        "df[\"docno\"]=df.apply(lambda x: get_ep(x[\"episode\"],x[\"ep_id\"]),axis=1)\n",
        "df[\"docno\"]=df[\"docno\"]+\".0\"\n",
        "rsl=df[[\"qid\",\"docno\",\"rank\",\"score\"]]\n",
        "\n",
        "qrels_path=(\"/content/drive/MyDrive/IRDM/podcasts_2020_test.qrels\")\n",
        "qrels = pt.io.read_qrels(qrels_path)\n",
        "pt.Utils.evaluate(rsl,qrels,metrics=['map',\"ndcg\",\"ndcg_cut_30\",\"P_10\"])"
      ],
      "metadata": {
        "colab": {
          "base_uri": "https://localhost:8080/"
        },
        "id": "hpkL5wcm2mbd",
        "outputId": "d347f51f-65df-4899-dde8-7d293461eb54"
      },
      "execution_count": null,
      "outputs": [
        {
          "output_type": "execute_result",
          "data": {
            "text/plain": [
              "{'map': 0.351904977747342,\n",
              " 'ndcg': 0.5726544417005525,\n",
              " 'ndcg_cut_30': 0.38470239306357534,\n",
              " 'P_10': 0.4854166666666668}"
            ]
          },
          "metadata": {},
          "execution_count": 12
        }
      ]
    },
    {
      "cell_type": "markdown",
      "source": [
        "Wikified Index + Wikfied Query + Entities + BM25 + DPH"
      ],
      "metadata": {
        "id": "xQvX7nLneps0"
      }
    },
    {
      "cell_type": "code",
      "source": [
        "topics = pt.io.read_topics(\"/content/drive/MyDrive/IRDM/wikified_query_test_ent.xml\",format=\"trecxml\")\n",
        "\n",
        "def get_retr(index, param_b, param_k1):\n",
        "    retr = pt.BatchRetrieve(index, controls={'wmodel': \"BM25\", \"c\": param_b},\n",
        "        properties={'bm25.k_1': param_k1})\n",
        "    return retr\n",
        "\n",
        "def get_dph(index):\n",
        "    return pt.BatchRetrieve(index, controls={\"wmodel\": \"DPH\"})\n",
        "\n",
        "\n",
        "bm25 = get_retr(wiki_no_difference, 0.75, 1.2) >> \\\n",
        "            pt.pipelines.PerQueryMaxMinScoreTransformer()\n",
        "dph = get_dph(wiki_no_difference) >> \\\n",
        "            pt.pipelines.PerQueryMaxMinScoreTransformer()\n",
        "\n",
        "\n",
        "\n",
        "combined= bm25 + dph\n",
        "res=combined.transform(topics)\n",
        "\n",
        "\n",
        "\n",
        "df = pd.DataFrame(res, columns=['qid', 'rank', 'docno', 'score'])\n",
        "df[\"ep_id\"]=df[\"docno\"].apply(lambda x: x.split(\"_\")[1].split(\"-\")[0])\n",
        "df[\"episode\"]=df[\"docno\"].apply(lambda x: x.split(\"_\")[0])\n",
        "df[\"docno\"]=df.apply(lambda x: get_ep(x[\"episode\"],x[\"ep_id\"]),axis=1)\n",
        "df[\"docno\"]=df[\"docno\"]+\".0\"\n",
        "rsl=df[[\"qid\",\"docno\",\"rank\",\"score\"]]\n",
        "\n",
        "qrels_path=(\"/content/drive/MyDrive/IRDM/podcasts_2020_test.qrels\")\n",
        "qrels = pt.io.read_qrels(qrels_path)\n",
        "pt.Utils.evaluate(rsl,qrels,metrics=['map',\"ndcg\",\"ndcg_cut_30\",\"P_10\"])"
      ],
      "metadata": {
        "colab": {
          "base_uri": "https://localhost:8080/"
        },
        "id": "Hjwvf8E2TE9p",
        "outputId": "f3072f50-6523-406c-e819-b41f61155e48"
      },
      "execution_count": null,
      "outputs": [
        {
          "output_type": "execute_result",
          "data": {
            "text/plain": [
              "{'map': 0.32322613508062265,\n",
              " 'ndcg': 0.5645330118335431,\n",
              " 'ndcg_cut_30': 0.37791726271009957,\n",
              " 'P_10': 0.4395833333333334}"
            ]
          },
          "metadata": {},
          "execution_count": 16
        }
      ]
    },
    {
      "cell_type": "markdown",
      "source": [
        "Wikified Index + Nouns + Entities + BM25 + DPH"
      ],
      "metadata": {
        "id": "eIbpGtZMexVV"
      }
    },
    {
      "cell_type": "code",
      "source": [
        "topics = pt.io.read_topics(\"/content/drive/MyDrive/IRDM/noun_ent_bth_test.xml\",format=\"trecxml\")\n",
        "\n",
        "def get_retr(index, param_b, param_k1):\n",
        "    retr = pt.BatchRetrieve(index, controls={'wmodel': \"BM25\", \"c\": param_b},\n",
        "        properties={'bm25.k_1': param_k1})\n",
        "    return retr\n",
        "\n",
        "def get_dph(index):\n",
        "    return pt.BatchRetrieve(index, controls={\"wmodel\": \"DPH\"})\n",
        "\n",
        "\n",
        "bm25 = get_retr(wiki_no_difference, 0.75, 1.2) >> \\\n",
        "            pt.pipelines.PerQueryMaxMinScoreTransformer()\n",
        "dph = get_dph(wiki_no_difference) >> \\\n",
        "            pt.pipelines.PerQueryMaxMinScoreTransformer()\n",
        "\n",
        "\n",
        "\n",
        "combined= bm25 + dph\n",
        "res=combined.transform(topics)\n",
        "\n",
        "\n",
        "\n",
        "df = pd.DataFrame(res, columns=['qid', 'rank', 'docno', 'score'])\n",
        "df[\"ep_id\"]=df[\"docno\"].apply(lambda x: x.split(\"_\")[1].split(\"-\")[0])\n",
        "df[\"episode\"]=df[\"docno\"].apply(lambda x: x.split(\"_\")[0])\n",
        "df[\"docno\"]=df.apply(lambda x: get_ep(x[\"episode\"],x[\"ep_id\"]),axis=1)\n",
        "df[\"docno\"]=df[\"docno\"]+\".0\"\n",
        "rsl=df[[\"qid\",\"docno\",\"rank\",\"score\"]]\n",
        "\n",
        "qrels_path=(\"/content/drive/MyDrive/IRDM/podcasts_2020_test.qrels\")\n",
        "qrels = pt.io.read_qrels(qrels_path)\n",
        "pt.Utils.evaluate(rsl,qrels,metrics=['map',\"ndcg\",\"ndcg_cut_30\",\"P_10\"])"
      ],
      "metadata": {
        "colab": {
          "base_uri": "https://localhost:8080/"
        },
        "id": "8KOnzkxAT27E",
        "outputId": "ed172e41-f8ac-4ddf-828d-980f13731259"
      },
      "execution_count": null,
      "outputs": [
        {
          "output_type": "execute_result",
          "data": {
            "text/plain": [
              "{'map': 0.3024268947257042,\n",
              " 'ndcg': 0.5545293155275062,\n",
              " 'ndcg_cut_30': 0.3526854971772618,\n",
              " 'P_10': 0.4041666666666666}"
            ]
          },
          "metadata": {},
          "execution_count": 17
        }
      ]
    },
    {
      "cell_type": "markdown",
      "source": [
        "Wikified Index + Entities + BM25 + DPH"
      ],
      "metadata": {
        "id": "4w3nx0o4e1bU"
      }
    },
    {
      "cell_type": "code",
      "source": [
        "\n",
        "topics = pt.io.read_topics(\"/content/drive/MyDrive/IRDM/ent_test.xml\",format=\"trecxml\")\n",
        "\n",
        "def get_retr(index, param_b, param_k1):\n",
        "    retr = pt.BatchRetrieve(index, controls={'wmodel': \"BM25\", \"c\": param_b},\n",
        "        properties={'bm25.k_1': param_k1})\n",
        "    return retr\n",
        "\n",
        "def get_dph(index):\n",
        "    return pt.BatchRetrieve(index, controls={\"wmodel\": \"DPH\"})\n",
        "\n",
        "\n",
        "bm25 = get_retr(wiki_no_difference, 0.75, 1.2) >> \\\n",
        "            pt.pipelines.PerQueryMaxMinScoreTransformer()\n",
        "dph = get_dph(wiki_no_difference) >> \\\n",
        "            pt.pipelines.PerQueryMaxMinScoreTransformer()\n",
        "\n",
        "\n",
        "\n",
        "combined= bm25 + dph\n",
        "res=combined.transform(topics)\n",
        "\n",
        "\n",
        "\n",
        "df = pd.DataFrame(res, columns=['qid', 'rank', 'docno', 'score'])\n",
        "df[\"ep_id\"]=df[\"docno\"].apply(lambda x: x.split(\"_\")[1].split(\"-\")[0])\n",
        "df[\"episode\"]=df[\"docno\"].apply(lambda x: x.split(\"_\")[0])\n",
        "df[\"docno\"]=df.apply(lambda x: get_ep(x[\"episode\"],x[\"ep_id\"]),axis=1)\n",
        "df[\"docno\"]=df[\"docno\"]+\".0\"\n",
        "rsl=df[[\"qid\",\"docno\",\"rank\",\"score\"]]\n",
        "\n",
        "qrels_path=(\"/content/drive/MyDrive/IRDM/podcasts_2020_test.qrels\")\n",
        "qrels = pt.io.read_qrels(qrels_path)\n",
        "pt.Utils.evaluate(rsl,qrels,metrics=['map',\"ndcg\",\"ndcg_cut_30\",\"P_10\"])"
      ],
      "metadata": {
        "colab": {
          "base_uri": "https://localhost:8080/"
        },
        "id": "zBB8wS6J2sww",
        "outputId": "71e64941-4876-4f32-ed20-8a59f2e7c624"
      },
      "execution_count": null,
      "outputs": [
        {
          "output_type": "execute_result",
          "data": {
            "text/plain": [
              "{'map': 0.36875666113489886,\n",
              " 'ndcg': 0.5938723079062809,\n",
              " 'ndcg_cut_30': 0.4096767528975363,\n",
              " 'P_10': 0.5000000000000002}"
            ]
          },
          "metadata": {},
          "execution_count": 14
        }
      ]
    },
    {
      "cell_type": "markdown",
      "source": [
        "Wikified Index Freq 2 + Entities + BM25 + DPH"
      ],
      "metadata": {
        "id": "rmCvw8cbe4lG"
      }
    },
    {
      "cell_type": "code",
      "source": [
        "\n",
        "topics = pt.io.read_topics(\"/content/drive/MyDrive/IRDM/ent_test.xml\",format=\"trecxml\")\n",
        "\n",
        "def get_retr(index, param_b, param_k1):\n",
        "    retr = pt.BatchRetrieve(index, controls={'wmodel': \"BM25\", \"c\": param_b},\n",
        "        properties={'bm25.k_1': param_k1})\n",
        "    return retr\n",
        "\n",
        "def get_dph(index):\n",
        "    return pt.BatchRetrieve(index, controls={\"wmodel\": \"DPH\"})\n",
        "\n",
        "\n",
        "bm25 = get_retr(wiki_no_difference_2, 0.75, 1.2) >> \\\n",
        "            pt.pipelines.PerQueryMaxMinScoreTransformer()\n",
        "dph = get_dph(wiki_no_difference_2) >> \\\n",
        "            pt.pipelines.PerQueryMaxMinScoreTransformer()\n",
        "\n",
        "\n",
        "\n",
        "combined= bm25 + dph\n",
        "res=combined.transform(topics)\n",
        "\n",
        "\n",
        "\n",
        "df = pd.DataFrame(res, columns=['qid', 'rank', 'docno', 'score'])\n",
        "df[\"ep_id\"]=df[\"docno\"].apply(lambda x: x.split(\"_\")[1].split(\"-\")[0])\n",
        "df[\"episode\"]=df[\"docno\"].apply(lambda x: x.split(\"_\")[0])\n",
        "df[\"docno\"]=df.apply(lambda x: get_ep(x[\"episode\"],x[\"ep_id\"]),axis=1)\n",
        "df[\"docno\"]=df[\"docno\"]+\".0\"\n",
        "rsl=df[[\"qid\",\"docno\",\"rank\",\"score\"]]\n",
        "\n",
        "qrels_path=(\"/content/drive/MyDrive/IRDM/podcasts_2020_test.qrels\")\n",
        "qrels = pt.io.read_qrels(qrels_path)\n",
        "pt.Utils.evaluate(rsl,qrels,metrics=['map',\"ndcg\",\"ndcg_cut_30\",\"P_10\"])"
      ],
      "metadata": {
        "colab": {
          "base_uri": "https://localhost:8080/"
        },
        "id": "EnjPxvZucWks",
        "outputId": "ab6490f0-3f23-4ec9-9a67-061fd0fd524b"
      },
      "execution_count": null,
      "outputs": [
        {
          "output_type": "execute_result",
          "data": {
            "text/plain": [
              "{'map': 0.34167646100573595,\n",
              " 'ndcg': 0.574869446908742,\n",
              " 'ndcg_cut_30': 0.3912329682498769,\n",
              " 'P_10': 0.46875000000000017}"
            ]
          },
          "metadata": {},
          "execution_count": 42
        }
      ]
    },
    {
      "cell_type": "markdown",
      "source": [
        "Wikified Index + Entities + PL2"
      ],
      "metadata": {
        "id": "nyEbhs3_e89h"
      }
    },
    {
      "cell_type": "code",
      "source": [
        "topics = pt.io.read_topics(\"/content/drive/MyDrive/IRDM/ent_test.xml\",format=\"trecxml\")\n",
        "\n",
        "pl2= pt.BatchRetrieve(wiki_no_difference, controls={\"wmodel\": \"PL2\",\"c\":20},metadata=[\"docno\",'text'])\n",
        "\n",
        "res=pl2.transform(topics)\n",
        "\n",
        "df = pd.DataFrame(res, columns=['qid', 'rank', 'docno', 'score'])\n",
        "df[\"ep_id\"]=df[\"docno\"].apply(lambda x: x.split(\"_\")[1].split(\"-\")[0])\n",
        "df[\"episode\"]=df[\"docno\"].apply(lambda x: x.split(\"_\")[0])\n",
        "df[\"docno\"]=df.apply(lambda x: get_ep(x[\"episode\"],x[\"ep_id\"]),axis=1)\n",
        "df[\"docno\"]=df[\"docno\"]+\".0\"\n",
        "rsl=df[[\"qid\",\"docno\",\"rank\",\"score\"]]\n",
        "\n",
        "qrels_path=(\"/content/drive/MyDrive/IRDM/podcasts_2020_test.qrels\")\n",
        "qrels = pt.io.read_qrels(qrels_path)\n",
        "pt.Utils.evaluate(rsl,qrels,metrics=['map',\"ndcg\",\"ndcg_cut_30\",\"P_10\"])"
      ],
      "metadata": {
        "colab": {
          "base_uri": "https://localhost:8080/"
        },
        "id": "-YNYawwx2_TU",
        "outputId": "f103fcf3-dcee-4f84-8241-587adfb87346"
      },
      "execution_count": null,
      "outputs": [
        {
          "output_type": "execute_result",
          "data": {
            "text/plain": [
              "{'map': 0.37236685267689823,\n",
              " 'ndcg': 0.5976718834341415,\n",
              " 'ndcg_cut_30': 0.4249786155986821,\n",
              " 'P_10': 0.5000000000000001}"
            ]
          },
          "metadata": {},
          "execution_count": 36
        }
      ]
    },
    {
      "cell_type": "markdown",
      "source": [
        "Wikified Index + Wikfied Query + Entities + PL2"
      ],
      "metadata": {
        "id": "4TVPbmbBfCvv"
      }
    },
    {
      "cell_type": "code",
      "source": [
        "topics = pt.io.read_topics(\"/content/drive/MyDrive/IRDM/wikified_query_test_ent.xml\",format=\"trecxml\")\n",
        "\n",
        "pl2= pt.BatchRetrieve(wiki_no_difference, controls={\"wmodel\": \"PL2\",\"c\":20},metadata=[\"docno\",'text'])\n",
        "\n",
        "res=pl2.transform(topics)\n",
        "\n",
        "df = pd.DataFrame(res, columns=['qid', 'rank', 'docno', 'score'])\n",
        "df[\"ep_id\"]=df[\"docno\"].apply(lambda x: x.split(\"_\")[1].split(\"-\")[0])\n",
        "df[\"episode\"]=df[\"docno\"].apply(lambda x: x.split(\"_\")[0])\n",
        "df[\"docno\"]=df.apply(lambda x: get_ep(x[\"episode\"],x[\"ep_id\"]),axis=1)\n",
        "df[\"docno\"]=df[\"docno\"]+\".0\"\n",
        "rsl=df[[\"qid\",\"docno\",\"rank\",\"score\"]]\n",
        "\n",
        "qrels_path=(\"/content/drive/MyDrive/IRDM/podcasts_2020_test.qrels\")\n",
        "qrels = pt.io.read_qrels(qrels_path)\n",
        "pt.Utils.evaluate(rsl,qrels,metrics=['map',\"ndcg\",\"ndcg_cut_30\",\"P_10\"])"
      ],
      "metadata": {
        "colab": {
          "base_uri": "https://localhost:8080/"
        },
        "id": "NG6pt8SY3Mbz",
        "outputId": "cdafd5a3-2a63-4ab3-a543-4b7717126bc2"
      },
      "execution_count": null,
      "outputs": [
        {
          "output_type": "execute_result",
          "data": {
            "text/plain": [
              "{'map': 0.24207505807010596,\n",
              " 'ndcg': 0.48642307732611073,\n",
              " 'ndcg_cut_30': 0.24770307784711884,\n",
              " 'P_10': 0.23124999999999998}"
            ]
          },
          "metadata": {},
          "execution_count": 38
        }
      ]
    },
    {
      "cell_type": "markdown",
      "source": [
        "Wikfied Index + Original Topics + PL2 "
      ],
      "metadata": {
        "id": "4rezWQa1fxy7"
      }
    },
    {
      "cell_type": "code",
      "source": [
        "topics = pt.io.read_topics(\"/content/drive/MyDrive/IRDM/podcasts_2020_topics_test.xml\",format=\"trecxml\")\n",
        "\n",
        "pl2= pt.BatchRetrieve(wiki_no_difference, controls={\"wmodel\": \"PL2\",\"c\":20},metadata=[\"docno\",'text'])\n",
        "\n",
        "res=pl2.transform(topics)\n",
        "\n",
        "df = pd.DataFrame(res, columns=['qid', 'rank', 'docno', 'score'])\n",
        "df[\"ep_id\"]=df[\"docno\"].apply(lambda x: x.split(\"_\")[1].split(\"-\")[0])\n",
        "df[\"episode\"]=df[\"docno\"].apply(lambda x: x.split(\"_\")[0])\n",
        "df[\"docno\"]=df.apply(lambda x: get_ep(x[\"episode\"],x[\"ep_id\"]),axis=1)\n",
        "df[\"docno\"]=df[\"docno\"]+\".0\"\n",
        "rsl=df[[\"qid\",\"docno\",\"rank\",\"score\"]]\n",
        "\n",
        "qrels_path=(\"/content/drive/MyDrive/IRDM/podcasts_2020_test.qrels\")\n",
        "qrels = pt.io.read_qrels(qrels_path)\n",
        "pt.Utils.evaluate(rsl,qrels,metrics=['map',\"ndcg\",\"ndcg_cut_30\",\"P_10\"])"
      ],
      "metadata": {
        "colab": {
          "base_uri": "https://localhost:8080/"
        },
        "id": "uFHRRocv75GO",
        "outputId": "95bb676e-0b18-4f84-a790-ca14a90ed71f"
      },
      "execution_count": null,
      "outputs": [
        {
          "output_type": "execute_result",
          "data": {
            "text/plain": [
              "{'map': 0.35324086720528775,\n",
              " 'ndcg': 0.5757862883297452,\n",
              " 'ndcg_cut_30': 0.40162470018075624,\n",
              " 'P_10': 0.4833333333333334}"
            ]
          },
          "metadata": {},
          "execution_count": 39
        }
      ]
    },
    {
      "cell_type": "markdown",
      "source": [
        "Wikfied Index + Entities + QE Approach "
      ],
      "metadata": {
        "id": "0k8wRo4Rf3hh"
      }
    },
    {
      "cell_type": "code",
      "source": [
        "topics = pt.io.read_topics(\"/content/drive/MyDrive/IRDM/ent_test.xml\",format=\"trecxml\")\n",
        "\n",
        "\n",
        "qe = pt.BatchRetrieve(wiki_no_difference, controls={'wmodel': \"BM25\"}) >> \\\n",
        "            pt.rewrite.QueryExpansion(wiki_no_difference, fb_terms=10, fb_docs=6) >> \\\n",
        "            pt.BatchRetrieve(wiki_no_difference, controls={'wmodel': \"PL2\",\"c\":20})\n",
        "\n",
        "res=qe.transform(topics)\n",
        "\n",
        "df = pd.DataFrame(res, columns=['qid', 'rank', 'docno', 'score'])\n",
        "\n",
        "\n",
        "df[\"ep_id\"]=df[\"docno\"].apply(lambda x: x.split(\"_\")[1].split(\"-\")[0])\n",
        "df[\"episode\"]=df[\"docno\"].apply(lambda x: x.split(\"_\")[0])\n",
        "df[\"docno\"]=df.apply(lambda x: get_ep(x[\"episode\"],x[\"ep_id\"]),axis=1)\n",
        "df[\"docno\"]=df[\"docno\"]+\".0\"\n",
        "rsl=df[[\"qid\",\"docno\",\"rank\",\"score\"]]\n",
        "\n",
        "rsl=df[[\"qid\",\"docno\",\"rank\",\"score\"]]\n",
        "\n",
        "\n",
        "qrels_path=(\"/content/drive/MyDrive/IRDM/podcasts_2020_test.qrels\")\n",
        "qrels = pt.io.read_qrels(qrels_path)\n",
        "print(\"QE \")\n",
        "print(pt.Utils.evaluate(rsl,qrels,metrics=['map',\"ndcg\",\"ndcg_cut_30\",\"P_10\"]))"
      ],
      "metadata": {
        "colab": {
          "base_uri": "https://localhost:8080/"
        },
        "id": "86Qyn10n8g_L",
        "outputId": "d5f22cb7-3597-446c-f5d3-70c5227cb231"
      },
      "execution_count": null,
      "outputs": [
        {
          "output_type": "stream",
          "name": "stdout",
          "text": [
            "13:15:21.035 [main] WARN org.terrier.querying.QueryExpansion - qemodel control not set for QueryExpansion post process. Using default model Bo1\n",
            "QE \n",
            "{'map': 0.36304626792569433, 'ndcg': 0.5864968563572276, 'ndcg_cut_30': 0.4126850232069843, 'P_10': 0.5291666666666666}\n"
          ]
        }
      ]
    },
    {
      "cell_type": "markdown",
      "source": [
        "Wikfied Index + Entities + QE Approach "
      ],
      "metadata": {
        "id": "EO-UTaXEf-47"
      }
    },
    {
      "cell_type": "code",
      "source": [
        "topics = pt.io.read_topics(\"/content/drive/MyDrive/IRDM/ent_test.xml\",format=\"trecxml\")\n",
        "\n",
        "\n",
        "qe = pt.BatchRetrieve(wiki_no_difference, controls={'wmodel': \"BM25\"}) >> \\\n",
        "            pt.rewrite.QueryExpansion(wiki_no_difference, fb_terms=15, fb_docs=6) >> \\\n",
        "            pt.BatchRetrieve(wiki_no_difference, controls={'wmodel': \"PL2\",\"c\":20})\n",
        "\n",
        "res=qe.transform(topics)\n",
        "\n",
        "df = pd.DataFrame(res, columns=['qid', 'rank', 'docno', 'score'])\n",
        "\n",
        "\n",
        "df[\"ep_id\"]=df[\"docno\"].apply(lambda x: x.split(\"_\")[1].split(\"-\")[0])\n",
        "df[\"episode\"]=df[\"docno\"].apply(lambda x: x.split(\"_\")[0])\n",
        "df[\"docno\"]=df.apply(lambda x: get_ep(x[\"episode\"],x[\"ep_id\"]),axis=1)\n",
        "df[\"docno\"]=df[\"docno\"]+\".0\"\n",
        "rsl=df[[\"qid\",\"docno\",\"rank\",\"score\"]]\n",
        "\n",
        "rsl=df[[\"qid\",\"docno\",\"rank\",\"score\"]]\n",
        "\n",
        "\n",
        "qrels_path=(\"/content/drive/MyDrive/IRDM/podcasts_2020_test.qrels\")\n",
        "qrels = pt.io.read_qrels(qrels_path)\n",
        "print(\"QE \")\n",
        "print(pt.Utils.evaluate(rsl,qrels,metrics=['map',\"ndcg\",\"ndcg_cut_30\",\"P_10\"]))"
      ],
      "metadata": {
        "colab": {
          "base_uri": "https://localhost:8080/"
        },
        "id": "70CvqdK6VquH",
        "outputId": "8c1366c4-9d24-4a59-cbcc-9f2c4d1ec1b7"
      },
      "execution_count": null,
      "outputs": [
        {
          "output_type": "stream",
          "name": "stdout",
          "text": [
            "13:16:40.885 [main] WARN org.terrier.querying.QueryExpansion - qemodel control not set for QueryExpansion post process. Using default model Bo1\n",
            "QE \n",
            "{'map': 0.37037308424229415, 'ndcg': 0.5937695302259492, 'ndcg_cut_30': 0.41938373169627, 'P_10': 0.5208333333333334}\n"
          ]
        }
      ]
    },
    {
      "cell_type": "markdown",
      "source": [
        "Wikfied Index + Original Topics + QE Approach "
      ],
      "metadata": {
        "id": "Qhj9RFxygE3X"
      }
    },
    {
      "cell_type": "code",
      "source": [
        "topics = pt.io.read_topics(\"/content/drive/MyDrive/IRDM/podcasts_2020_topics_test.xml\",format=\"trecxml\")\n",
        "\n",
        "\n",
        "qe = pt.BatchRetrieve(wiki_no_difference, controls={'wmodel': \"BM25\"}) >> \\\n",
        "            pt.rewrite.QueryExpansion(wiki_no_difference, fb_terms=15, fb_docs=6) >> \\\n",
        "            pt.BatchRetrieve(wiki_no_difference, controls={'wmodel': \"PL2\",\"c\":20})\n",
        "\n",
        "res=qe.transform(topics)\n",
        "\n",
        "df = pd.DataFrame(res, columns=['qid', 'rank', 'docno', 'score'])\n",
        "\n",
        "\n",
        "df[\"ep_id\"]=df[\"docno\"].apply(lambda x: x.split(\"_\")[1].split(\"-\")[0])\n",
        "df[\"episode\"]=df[\"docno\"].apply(lambda x: x.split(\"_\")[0])\n",
        "df[\"docno\"]=df.apply(lambda x: get_ep(x[\"episode\"],x[\"ep_id\"]),axis=1)\n",
        "df[\"docno\"]=df[\"docno\"]+\".0\"\n",
        "rsl=df[[\"qid\",\"docno\",\"rank\",\"score\"]]\n",
        "\n",
        "rsl=df[[\"qid\",\"docno\",\"rank\",\"score\"]]\n",
        "\n",
        "\n",
        "qrels_path=(\"/content/drive/MyDrive/IRDM/podcasts_2020_test.qrels\")\n",
        "qrels = pt.io.read_qrels(qrels_path)\n",
        "print(\"QE \")\n",
        "print(pt.Utils.evaluate(rsl,qrels,metrics=['map',\"ndcg\",\"ndcg_cut_30\",\"P_10\"]))"
      ],
      "metadata": {
        "colab": {
          "base_uri": "https://localhost:8080/"
        },
        "id": "JuW75GzkRr1-",
        "outputId": "842e5598-6ca1-4b17-b6a2-afc17e585ed5"
      },
      "execution_count": null,
      "outputs": [
        {
          "output_type": "stream",
          "name": "stdout",
          "text": [
            "13:17:56.958 [main] WARN org.terrier.querying.QueryExpansion - qemodel control not set for QueryExpansion post process. Using default model Bo1\n",
            "QE \n",
            "{'map': 0.3594896727893227, 'ndcg': 0.5818676337919272, 'ndcg_cut_30': 0.40024616726520473, 'P_10': 0.4729166666666667}\n"
          ]
        }
      ]
    },
    {
      "cell_type": "markdown",
      "source": [
        "Wikfied Index + Nouns + QE Approach "
      ],
      "metadata": {
        "id": "ptM0Oa7NgJJc"
      }
    },
    {
      "cell_type": "code",
      "source": [
        "topics = pt.io.read_topics(\"/content/drive/MyDrive/IRDM/only_nouns_test_2.xml\",format=\"trecxml\")\n",
        "\n",
        "\n",
        "qe = pt.BatchRetrieve(wiki_no_difference, controls={'wmodel': \"BM25\"}) >> \\\n",
        "            pt.rewrite.QueryExpansion(wiki_no_difference, fb_terms=15, fb_docs=6) >> \\\n",
        "            pt.BatchRetrieve(wiki_no_difference, controls={'wmodel': \"PL2\",\"c\":20})\n",
        "\n",
        "res=qe.transform(topics)\n",
        "\n",
        "df = pd.DataFrame(res, columns=['qid', 'rank', 'docno', 'score'])\n",
        "\n",
        "\n",
        "df[\"ep_id\"]=df[\"docno\"].apply(lambda x: x.split(\"_\")[1].split(\"-\")[0])\n",
        "df[\"episode\"]=df[\"docno\"].apply(lambda x: x.split(\"_\")[0])\n",
        "df[\"docno\"]=df.apply(lambda x: get_ep(x[\"episode\"],x[\"ep_id\"]),axis=1)\n",
        "df[\"docno\"]=df[\"docno\"]+\".0\"\n",
        "rsl=df[[\"qid\",\"docno\",\"rank\",\"score\"]]\n",
        "\n",
        "rsl=df[[\"qid\",\"docno\",\"rank\",\"score\"]]\n",
        "\n",
        "\n",
        "qrels_path=(\"/content/drive/MyDrive/IRDM/podcasts_2020_test.qrels\")\n",
        "qrels = pt.io.read_qrels(qrels_path)\n",
        "print(\"QE \")\n",
        "print(pt.Utils.evaluate(rsl,qrels,metrics=['map',\"ndcg\",\"ndcg_cut_30\",\"P_10\"]))"
      ],
      "metadata": {
        "colab": {
          "base_uri": "https://localhost:8080/"
        },
        "id": "91ud8p169Ov3",
        "outputId": "3881848d-9f26-47e5-a908-1d993851fee4"
      },
      "execution_count": null,
      "outputs": [
        {
          "output_type": "stream",
          "name": "stdout",
          "text": [
            "13:19:35.735 [main] WARN org.terrier.querying.QueryExpansion - qemodel control not set for QueryExpansion post process. Using default model Bo1\n",
            "QE \n",
            "{'map': 0.3241351734246641, 'ndcg': 0.5533233582039843, 'ndcg_cut_30': 0.3552999777173704, 'P_10': 0.41875}\n"
          ]
        }
      ]
    },
    {
      "cell_type": "markdown",
      "source": [
        "Wikfied Index + Nouns + Entities + QE Approach "
      ],
      "metadata": {
        "id": "Bog1GPdjgMHV"
      }
    },
    {
      "cell_type": "code",
      "source": [
        "topics = pt.io.read_topics(\"/content/drive/MyDrive/IRDM/noun_ent_bth_test.xml\",format=\"trecxml\")\n",
        "\n",
        "\n",
        "qe = pt.BatchRetrieve(wiki_no_difference, controls={'wmodel': \"BM25\"}) >> \\\n",
        "            pt.rewrite.QueryExpansion(wiki_no_difference, fb_terms=15, fb_docs=6) >> \\\n",
        "            pt.BatchRetrieve(wiki_no_difference, controls={'wmodel': \"PL2\",\"c\":20})\n",
        "\n",
        "res=qe.transform(topics)\n",
        "\n",
        "df = pd.DataFrame(res, columns=['qid', 'rank', 'docno', 'score'])\n",
        "\n",
        "\n",
        "df[\"ep_id\"]=df[\"docno\"].apply(lambda x: x.split(\"_\")[1].split(\"-\")[0])\n",
        "df[\"episode\"]=df[\"docno\"].apply(lambda x: x.split(\"_\")[0])\n",
        "df[\"docno\"]=df.apply(lambda x: get_ep(x[\"episode\"],x[\"ep_id\"]),axis=1)\n",
        "df[\"docno\"]=df[\"docno\"]+\".0\"\n",
        "rsl=df[[\"qid\",\"docno\",\"rank\",\"score\"]]\n",
        "\n",
        "rsl=df[[\"qid\",\"docno\",\"rank\",\"score\"]]\n",
        "\n",
        "\n",
        "qrels_path=(\"/content/drive/MyDrive/IRDM/podcasts_2020_test.qrels\")\n",
        "qrels = pt.io.read_qrels(qrels_path)\n",
        "print(\"QE \")\n",
        "print(pt.Utils.evaluate(rsl,qrels,metrics=['map',\"ndcg\",\"ndcg_cut_30\",\"P_10\"]))"
      ],
      "metadata": {
        "colab": {
          "base_uri": "https://localhost:8080/"
        },
        "id": "oaTEDCOH9bbm",
        "outputId": "94356036-eab9-4478-bfba-f97f35147f58"
      },
      "execution_count": null,
      "outputs": [
        {
          "output_type": "stream",
          "name": "stdout",
          "text": [
            "13:21:18.014 [main] WARN org.terrier.querying.QueryExpansion - qemodel control not set for QueryExpansion post process. Using default model Bo1\n",
            "QE \n",
            "{'map': 0.32015917427957274, 'ndcg': 0.5508145410640551, 'ndcg_cut_30': 0.34520152183061475, 'P_10': 0.41458333333333336}\n"
          ]
        }
      ]
    },
    {
      "cell_type": "markdown",
      "source": [
        "Wikfied Index + Nouns + BM25 + DPH"
      ],
      "metadata": {
        "id": "qVAtP4ezgOqJ"
      }
    },
    {
      "cell_type": "code",
      "source": [
        "topics = pt.io.read_topics(\"/content/drive/MyDrive/IRDM/only_nouns.xml\",format=\"trecxml\")\n",
        "\n",
        "def get_retr(index, param_b, param_k1):\n",
        "    retr = pt.BatchRetrieve(index, controls={'wmodel': \"BM25\", \"c\": param_b},\n",
        "        properties={'bm25.k_1': param_k1})\n",
        "    return retr\n",
        "\n",
        "def get_dph(index):\n",
        "    return pt.BatchRetrieve(index, controls={\"wmodel\": \"DPH\"})\n",
        "\n",
        "\n",
        "bm25 = get_retr(wiki_no_difference, 0.75, 1.2) >> \\\n",
        "            pt.pipelines.PerQueryMaxMinScoreTransformer()\n",
        "dph = get_dph(wiki_no_difference) >> \\\n",
        "            pt.pipelines.PerQueryMaxMinScoreTransformer()\n",
        "\n",
        "combined= bm25 + dph\n",
        "res=combined.transform(topics)\n",
        "\n",
        "\n",
        "\n",
        "df = pd.DataFrame(res, columns=['qid', 'rank', 'docno', 'score'])\n",
        "df[\"ep_id\"]=df[\"docno\"].apply(lambda x: x.split(\"_\")[1].split(\"-\")[0])\n",
        "df[\"episode\"]=df[\"docno\"].apply(lambda x: x.split(\"_\")[0])\n",
        "df[\"docno\"]=df.apply(lambda x: get_ep(x[\"episode\"],x[\"ep_id\"]),axis=1)\n",
        "df[\"docno\"]=df[\"docno\"]+\".0\"\n",
        "rsl=df[[\"qid\",\"docno\",\"rank\",\"score\"]]\n",
        "qrels_path=(\"/content/drive/MyDrive/IRDM/podcasts_2020_train.1-8.qrels\")\n",
        "qrels = pt.io.read_qrels(qrels_path)\n",
        "pt.Utils.evaluate(rsl,qrels,metrics=['map',\"ndcg\",\"ndcg_cut_30\",\"P_10\"])"
      ],
      "metadata": {
        "colab": {
          "base_uri": "https://localhost:8080/"
        },
        "id": "cLQuhXKICS15",
        "outputId": "5c9d397b-02bb-4352-c7e9-675a8f2a7cf1"
      },
      "execution_count": null,
      "outputs": [
        {
          "output_type": "execute_result",
          "data": {
            "text/plain": [
              "{'map': 0.3033325619464328,\n",
              " 'ndcg': 0.567624113307805,\n",
              " 'ndcg_cut_30': 0.407538288088529,\n",
              " 'P_10': 0.4}"
            ]
          },
          "metadata": {},
          "execution_count": 48
        }
      ]
    },
    {
      "cell_type": "code",
      "source": [
        "from pyterrier.measures import *\n"
      ],
      "metadata": {
        "id": "hirzP2XoIt9r"
      },
      "execution_count": null,
      "outputs": []
    },
    {
      "cell_type": "markdown",
      "source": [
        "(Raw Index + QE Approach) + (Wikified Index + PL2 ) + Entities "
      ],
      "metadata": {
        "id": "_FJumrMogXD-"
      }
    },
    {
      "cell_type": "code",
      "source": [
        "topics = pt.io.read_topics(\"/content/drive/MyDrive/IRDM/ent_test.xml\",format=\"trecxml\")\n",
        "\n",
        "pl2= pt.BatchRetrieve(wiki_no_difference, controls={\"wmodel\": \"PL2\",\"c\":20},metadata=[\"docno\",'text'])\n",
        "\n",
        "\n",
        "qe = pt.BatchRetrieve(raw, controls={'wmodel': \"BM25\"}) >> \\\n",
        "            pt.rewrite.QueryExpansion(raw, fb_terms=15, fb_docs=6) >> \\\n",
        "            pt.BatchRetrieve(raw, controls={'wmodel': \"PL2\",\"c\":20})\n",
        "\n",
        "\n",
        "def get_retr(index, param_b, param_k1):\n",
        "    retr = pt.BatchRetrieve(index, controls={'wmodel': \"BM25\", \"c\": param_b},\n",
        "        properties={'bm25.k_1': param_k1})\n",
        "    return retr\n",
        "\n",
        "def get_dph(index):\n",
        "    return pt.BatchRetrieve(index, controls={\"wmodel\": \"DPH\"})\n",
        "\n",
        "\n",
        "bm25 = get_retr(raw, 0.75, 1.2) >> \\\n",
        "            pt.pipelines.PerQueryMaxMinScoreTransformer()\n",
        "dph = get_dph(raw) >> \\\n",
        "            pt.pipelines.PerQueryMaxMinScoreTransformer()\n",
        "\n",
        "combined= bm25+dph\n",
        "\n",
        "\n",
        "gh= qe + pl2 + combined\n",
        "\n",
        "res=gh.transform(topics)\n",
        "\n",
        "df = pd.DataFrame(res, columns=['qid', 'rank', 'docno', 'score'])\n",
        "df[\"ep_id\"]=df[\"docno\"].apply(lambda x: x.split(\"_\")[1].split(\"-\")[0])\n",
        "df[\"episode\"]=df[\"docno\"].apply(lambda x: x.split(\"_\")[0])\n",
        "df[\"docno\"]=df.apply(lambda x: get_ep(x[\"episode\"],x[\"ep_id\"]),axis=1)\n",
        "df[\"docno\"]=df[\"docno\"]+\".0\"\n",
        "rsl=df[[\"qid\",\"docno\",\"rank\",\"score\"]]\n",
        "\n",
        "qrels_path=(\"/content/drive/MyDrive/IRDM/podcasts_2020_test.qrels\")\n",
        "qrels = pt.io.read_qrels(qrels_path)\n",
        "pt.Utils.evaluate(rsl,qrels,metrics=['map',\"ndcg\",\"ndcg_cut_30\",\"P_10\",\"P_5\"])"
      ],
      "metadata": {
        "colab": {
          "base_uri": "https://localhost:8080/"
        },
        "id": "V-k7N7bvbieW",
        "outputId": "b77a7b72-a68e-476e-851c-267b27acf7fb"
      },
      "execution_count": null,
      "outputs": [
        {
          "output_type": "stream",
          "name": "stdout",
          "text": [
            "17:09:30.629 [main] WARN org.terrier.querying.QueryExpansion - qemodel control not set for QueryExpansion post process. Using default model Bo1\n"
          ]
        },
        {
          "output_type": "execute_result",
          "data": {
            "text/plain": [
              "{'map': 0.40299498391002503,\n",
              " 'ndcg': 0.612244241629537,\n",
              " 'ndcg_cut_30': 0.4405646874031406,\n",
              " 'P_10': 0.5145833333333335,\n",
              " 'P_5': 0.5541666666666667}"
            ]
          },
          "metadata": {},
          "execution_count": 60
        }
      ]
    },
    {
      "cell_type": "markdown",
      "source": [
        "(Wikified index + QE Approach) + (Raw Index + PL2 ) + Entities "
      ],
      "metadata": {
        "id": "BPF_d2SKglUF"
      }
    },
    {
      "cell_type": "code",
      "source": [
        "topics = pt.io.read_topics(\"/content/drive/MyDrive/IRDM/ent_test.xml\",format=\"trecxml\")\n",
        "\n",
        "pl2= pt.BatchRetrieve(raw, controls={\"wmodel\": \"PL2\",\"c\":20},metadata=[\"docno\",'text'])\n",
        "\n",
        "\n",
        "qe = pt.BatchRetrieve(wiki_no_difference, controls={'wmodel': \"BM25\"}) >> \\\n",
        "            pt.rewrite.QueryExpansion(wiki_no_difference, fb_terms=15, fb_docs=6) >> \\\n",
        "            pt.BatchRetrieve(wiki_no_difference, controls={'wmodel': \"PL2\",\"c\":20})\n",
        "\n",
        "\n",
        "def get_retr(index, param_b, param_k1):\n",
        "    retr = pt.BatchRetrieve(index, controls={'wmodel': \"BM25\", \"c\": param_b},\n",
        "        properties={'bm25.k_1': param_k1})\n",
        "    return retr\n",
        "\n",
        "def get_dph(index):\n",
        "    return pt.BatchRetrieve(index, controls={\"wmodel\": \"DPH\"})\n",
        "\n",
        "\n",
        "gh= qe + pl2 \n",
        "\n",
        "res=gh.transform(topics)\n",
        "\n",
        "df = pd.DataFrame(res, columns=['qid', 'rank', 'docno', 'score'])\n",
        "df[\"ep_id\"]=df[\"docno\"].apply(lambda x: x.split(\"_\")[1].split(\"-\")[0])\n",
        "df[\"episode\"]=df[\"docno\"].apply(lambda x: x.split(\"_\")[0])\n",
        "df[\"docno\"]=df.apply(lambda x: get_ep(x[\"episode\"],x[\"ep_id\"]),axis=1)\n",
        "df[\"docno\"]=df[\"docno\"]+\".0\"\n",
        "rsl=df[[\"qid\",\"docno\",\"rank\",\"score\"]]\n",
        "\n",
        "qrels_path=(\"/content/drive/MyDrive/IRDM/podcasts_2020_test.qrels\")\n",
        "qrels = pt.io.read_qrels(qrels_path)\n",
        "pt.Utils.evaluate(rsl,qrels,metrics=['map',\"ndcg\",\"ndcg_cut_30\",\"P_10\",\"P_5\"])"
      ],
      "metadata": {
        "colab": {
          "base_uri": "https://localhost:8080/"
        },
        "id": "aEjX31UOMUyj",
        "outputId": "d8d8800b-7841-4bf3-9abd-4b52bc0ac67c"
      },
      "execution_count": null,
      "outputs": [
        {
          "output_type": "stream",
          "name": "stdout",
          "text": [
            "17:14:51.592 [main] WARN org.terrier.querying.QueryExpansion - qemodel control not set for QueryExpansion post process. Using default model Bo1\n"
          ]
        },
        {
          "output_type": "execute_result",
          "data": {
            "text/plain": [
              "{'map': 0.3990023838148747,\n",
              " 'ndcg': 0.611758846673892,\n",
              " 'ndcg_cut_30': 0.45008905770939417,\n",
              " 'P_10': 0.53125,\n",
              " 'P_5': 0.5583333333333332}"
            ]
          },
          "metadata": {},
          "execution_count": 62
        }
      ]
    },
    {
      "cell_type": "code",
      "source": [
        "topics = pt.io.read_topics(\"/content/drive/MyDrive/IRDM/ent_test.xml\",format=\"trecxml\")\n",
        "\n",
        "pl2= pt.BatchRetrieve(wiki_no_difference, controls={\"wmodel\": \"PL2\",\"c\":20},metadata=[\"docno\",'text'])\n",
        "\n",
        "\n",
        "qe = pt.BatchRetrieve(raw, controls={'wmodel': \"BM25\"}) >> \\\n",
        "            pt.rewrite.QueryExpansion(raw, fb_terms=15, fb_docs=6) >> \\\n",
        "            pt.BatchRetrieve(raw, controls={'wmodel': \"PL2\",\"c\":20})\n",
        "\n",
        "gh= qe + pl2\n",
        "\n",
        "res=gh.transform(topics)\n",
        "\n",
        "df = pd.DataFrame(res, columns=['qid', 'rank', 'docno', 'score'])\n",
        "df[\"ep_id\"]=df[\"docno\"].apply(lambda x: x.split(\"_\")[1].split(\"-\")[0])\n",
        "df[\"episode\"]=df[\"docno\"].apply(lambda x: x.split(\"_\")[0])\n",
        "df[\"docno\"]=df.apply(lambda x: get_ep(x[\"episode\"],x[\"ep_id\"]),axis=1)\n",
        "df[\"docno\"]=df[\"docno\"]+\".0\"\n",
        "rsl=df[[\"qid\",\"docno\",\"rank\",\"score\"]]\n",
        "\n",
        "qrels_path=(\"/content/drive/MyDrive/IRDM/podcasts_2020_test.qrels\")\n",
        "qrels = pt.io.read_qrels(qrels_path)\n",
        "pt.Utils.evaluate(rsl,qrels,metrics=['map',\"ndcg\",\"ndcg_cut_30\",\"P_10\",\"P_5\"])"
      ],
      "metadata": {
        "id": "Fvsf7pSGKeoO"
      },
      "execution_count": null,
      "outputs": []
    }
  ]
}