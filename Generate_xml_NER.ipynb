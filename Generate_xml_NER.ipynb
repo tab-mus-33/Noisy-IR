{
  "nbformat": 4,
  "nbformat_minor": 0,
  "metadata": {
    "colab": {
      "provenance": []
    },
    "kernelspec": {
      "name": "python3",
      "display_name": "Python 3"
    },
    "language_info": {
      "name": "python"
    }
  },
  "cells": [
    {
      "cell_type": "code",
      "source": [
        "from google.colab import drive\n",
        "drive.mount('/content/drive')\n"
      ],
      "metadata": {
        "colab": {
          "base_uri": "https://localhost:8080/"
        },
        "id": "ciyy6bfVCW4j",
        "outputId": "f595ad42-027b-4e5e-bb69-fac6dc7b9cd1"
      },
      "execution_count": null,
      "outputs": [
        {
          "output_type": "stream",
          "name": "stdout",
          "text": [
            "Mounted at /content/drive\n"
          ]
        }
      ]
    },
    {
      "cell_type": "code",
      "execution_count": null,
      "metadata": {
        "id": "s-xDU793B9WN"
      },
      "outputs": [],
      "source": [
        "\n",
        "import argparse\n",
        "import sys\n",
        "import string\n",
        "\n",
        "import spacy\n",
        "import xml.etree.ElementTree as ET\n",
        "\n",
        "\n",
        "\n",
        "\n",
        "\n",
        "def get_pos(doc):\n",
        "    result = []\n",
        "    for t in doc:\n",
        "        token = t.text\n",
        "        pos = t.pos_\n",
        "        result.append((token, pos))\n",
        "    return result\n",
        "\n",
        "def get_entities(doc):\n",
        "    result = []\n",
        "    for t in doc.ents:\n",
        "        tokens = t.text\n",
        "        for token in tokens.split(' '):\n",
        "            if token not in stopwords:\n",
        "                result.append(token.strip(string.punctuation))\n",
        "    return result\n",
        "\n",
        "def get_nouns(tagged):\n",
        "    noun_tags = set(['PROPN', 'NOUN'])\n",
        "    update = []\n",
        "\n",
        "    for doc in tagged:\n",
        "        update_doc = []\n",
        "        for w, pos in doc:\n",
        "            if pos in noun_tags:\n",
        "                update_doc.append(w)\n",
        "        update.append(update_doc)\n",
        "    return update\n",
        "\n",
        "def update_xml(xml, nouns, f_name):\n",
        "    n_queries = 0\n",
        "\n",
        "    tree = ET.parse(xml)\n",
        "    for node in tree.iter(): \n",
        "        if node.tag == 'query':\n",
        "            n_queries += 1\n",
        "\n",
        "            gather = ' '.join(nouns[n_queries-1])\n",
        "            tmp = node.text + ' ' + gather\n",
        "            tmp = tmp.lower()\n",
        "            node.text = ' '.join(list(set(tmp.split(' '))))\n",
        "    if n_queries != len(nouns):\n",
        "        print('Warning: n_queries do not match with number '\n",
        "                'of descriptions parsed', file=sys.stderr)\n",
        "\n",
        "    tree.write(f_name)\n",
        "\n",
        "\n",
        "def update_xml_text(xml, nouns, f_name):\n",
        "    n_queries = 0\n",
        "\n",
        "    tree = ET.parse(xml)\n",
        "    for node in tree.iter(): \n",
        "        if node.tag == 'query':\n",
        "            n_queries += 1\n",
        "\n",
        "            gather = nouns[n_queries-1]\n",
        "            tmp = node.text + ' ' + gather\n",
        "            tmp = tmp.lower()\n",
        "            node.text = tmp\n",
        "    if n_queries != len(nouns):\n",
        "        print('Warning: n_queries do not match with number '\n",
        "                'of descriptions parsed', file=sys.stderr)\n",
        "\n",
        "    tree.write(f_name)\n",
        "\n",
        "\n",
        "\n"
      ]
    },
    {
      "cell_type": "code",
      "source": [
        "# credits https://gist.github.com/sebleier/554280\n",
        "stopwords = set([\"0o\", \"0s\", \"3a\", \"3b\", \"3d\", \"6b\", \"6o\", \"a\", \"a1\", \"a2\", \"a3\", \"a4\", \"ab\", \"able\", \"about\", \"above\", \"abst\", \"ac\", \"accordance\", \"according\", \"accordingly\", \"across\", \"act\", \"actually\", \"ad\", \"added\", \"adj\", \"ae\", \"af\", \"affected\", \"affecting\", \"affects\", \"after\", \"afterwards\", \"ag\", \"again\", \"against\", \"ah\", \"ain\", \"ain't\", \"aj\", \"al\", \"all\", \"allow\", \"allows\", \"almost\", \"alone\", \"along\", \"already\", \"also\", \"although\", \"always\", \"am\", \"among\", \"amongst\", \"amoungst\", \"amount\", \"an\", \"and\", \"announce\", \"another\", \"any\", \"anybody\", \"anyhow\", \"anymore\", \"anyone\", \"anything\", \"anyway\", \"anyways\", \"anywhere\", \"ao\", \"ap\", \"apart\", \"apparently\", \"appear\", \"appreciate\", \"appropriate\", \"approximately\", \"ar\", \"are\", \"aren\", \"arent\", \"aren't\", \"arise\", \"around\", \"as\", \"a's\", \"aside\", \"ask\", \"asking\", \"associated\", \"at\", \"au\", \"auth\", \"av\", \"available\", \"aw\", \"away\", \"awfully\", \"ax\", \"ay\", \"az\", \"b\", \"b1\", \"b2\", \"b3\", \"ba\", \"back\", \"bc\", \"bd\", \"be\", \"became\", \"because\", \"become\", \"becomes\", \"becoming\", \"been\", \"before\", \"beforehand\", \"begin\", \"beginning\", \"beginnings\", \"begins\", \"behind\", \"being\", \"believe\", \"below\", \"beside\", \"besides\", \"best\", \"better\", \"between\", \"beyond\", \"bi\", \"bill\", \"biol\", \"bj\", \"bk\", \"bl\", \"bn\", \"both\", \"bottom\", \"bp\", \"br\", \"brief\", \"briefly\", \"bs\", \"bt\", \"bu\", \"but\", \"bx\", \"by\", \"c\", \"c1\", \"c2\", \"c3\", \"ca\", \"call\", \"came\", \"can\", \"cannot\", \"cant\", \"can't\", \"cause\", \"causes\", \"cc\", \"cd\", \"ce\", \"certain\", \"certainly\", \"cf\", \"cg\", \"ch\", \"changes\", \"ci\", \"cit\", \"cj\", \"cl\", \"clearly\", \"cm\", \"c'mon\", \"cn\", \"co\", \"com\", \"come\", \"comes\", \"con\", \"concerning\", \"consequently\", \"consider\", \"considering\", \"contain\", \"containing\", \"contains\", \"corresponding\", \"could\", \"couldn\", \"couldnt\", \"couldn't\", \"course\", \"cp\", \"cq\", \"cr\", \"cry\", \"cs\", \"c's\", \"ct\", \"cu\", \"currently\", \"cv\", \"cx\", \"cy\", \"cz\", \"d\", \"d2\", \"da\", \"date\", \"dc\", \"dd\", \"de\", \"definitely\", \"describe\", \"described\", \"despite\", \"detail\", \"df\", \"di\", \"did\", \"didn\", \"didn't\", \"different\", \"dj\", \"dk\", \"dl\", \"do\", \"does\", \"doesn\", \"doesn't\", \"doing\", \"don\", \"done\", \"don't\", \"down\", \"downwards\", \"dp\", \"dr\", \"ds\", \"dt\", \"du\", \"due\", \"during\", \"dx\", \"dy\", \"e\", \"e2\", \"e3\", \"ea\", \"each\", \"ec\", \"ed\", \"edu\", \"ee\", \"ef\", \"effect\", \"eg\", \"ei\", \"eight\", \"eighty\", \"either\", \"ej\", \"el\", \"eleven\", \"else\", \"elsewhere\", \"em\", \"empty\", \"en\", \"end\", \"ending\", \"enough\", \"entirely\", \"eo\", \"ep\", \"eq\", \"er\", \"es\", \"especially\", \"est\", \"et\", \"et-al\", \"etc\", \"eu\", \"ev\", \"even\", \"ever\", \"every\", \"everybody\", \"everyone\", \"everything\", \"everywhere\", \"ex\", \"exactly\", \"example\", \"except\", \"ey\", \"f\", \"f2\", \"fa\", \"far\", \"fc\", \"few\", \"ff\", \"fi\", \"fifteen\", \"fifth\", \"fify\", \"fill\", \"find\", \"fire\", \"first\", \"five\", \"fix\", \"fj\", \"fl\", \"fn\", \"fo\", \"followed\", \"following\", \"follows\", \"for\", \"former\", \"formerly\", \"forth\", \"forty\", \"found\", \"four\", \"fr\", \"from\", \"front\", \"fs\", \"ft\", \"fu\", \"full\", \"further\", \"furthermore\", \"fy\", \"g\", \"ga\", \"gave\", \"ge\", \"get\", \"gets\", \"getting\", \"gi\", \"give\", \"given\", \"gives\", \"giving\", \"gj\", \"gl\", \"go\", \"goes\", \"going\", \"gone\", \"got\", \"gotten\", \"gr\", \"greetings\", \"gs\", \"gy\", \"h\", \"h2\", \"h3\", \"had\", \"hadn\", \"hadn't\", \"happens\", \"hardly\", \"has\", \"hasn\", \"hasnt\", \"hasn't\", \"have\", \"haven\", \"haven't\", \"having\", \"he\", \"hed\", \"he'd\", \"he'll\", \"hello\", \"help\", \"hence\", \"her\", \"here\", \"hereafter\", \"hereby\", \"herein\", \"heres\", \"here's\", \"hereupon\", \"hers\", \"herself\", \"hes\", \"he's\", \"hh\", \"hi\", \"hid\", \"him\", \"himself\", \"his\", \"hither\", \"hj\", \"ho\", \"home\", \"hopefully\", \"how\", \"howbeit\", \"however\", \"how's\", \"hr\", \"hs\", \"http\", \"hu\", \"hundred\", \"hy\", \"i\", \"i2\", \"i3\", \"i4\", \"i6\", \"i7\", \"i8\", \"ia\", \"ib\", \"ibid\", \"ic\", \"id\", \"i'd\", \"ie\", \"if\", \"ig\", \"ignored\", \"ih\", \"ii\", \"ij\", \"il\", \"i'll\", \"im\", \"i'm\", \"immediate\", \"immediately\", \"importance\", \"important\", \"in\", \"inasmuch\", \"inc\", \"indeed\", \"index\", \"indicate\", \"indicated\", \"indicates\", \"information\", \"inner\", \"insofar\", \"instead\", \"interest\", \"into\", \"invention\", \"inward\", \"io\", \"ip\", \"iq\", \"ir\", \"is\", \"isn\", \"isn't\", \"it\", \"itd\", \"it'd\", \"it'll\", \"its\", \"it's\", \"itself\", \"iv\", \"i've\", \"ix\", \"iy\", \"iz\", \"j\", \"jj\", \"jr\", \"js\", \"jt\", \"ju\", \"just\", \"k\", \"ke\", \"keep\", \"keeps\", \"kept\", \"kg\", \"kj\", \"km\", \"know\", \"known\", \"knows\", \"ko\", \"l\", \"l2\", \"la\", \"largely\", \"last\", \"lately\", \"later\", \"latter\", \"latterly\", \"lb\", \"lc\", \"le\", \"least\", \"les\", \"less\", \"lest\", \"let\", \"lets\", \"let's\", \"lf\", \"like\", \"liked\", \"likely\", \"line\", \"little\", \"lj\", \"ll\", \"ll\", \"ln\", \"lo\", \"look\", \"looking\", \"looks\", \"los\", \"lr\", \"ls\", \"lt\", \"ltd\", \"m\", \"m2\", \"ma\", \"made\", \"mainly\", \"make\", \"makes\", \"many\", \"may\", \"maybe\", \"me\", \"mean\", \"means\", \"meantime\", \"meanwhile\", \"merely\", \"mg\", \"might\", \"mightn\", \"mightn't\", \"mill\", \"million\", \"mine\", \"miss\", \"ml\", \"mn\", \"mo\", \"more\", \"moreover\", \"most\", \"mostly\", \"move\", \"mr\", \"mrs\", \"ms\", \"mt\", \"mu\", \"much\", \"mug\", \"must\", \"mustn\", \"mustn't\", \"my\", \"myself\", \"n\", \"n2\", \"na\", \"name\", \"namely\", \"nay\", \"nc\", \"nd\", \"ne\", \"near\", \"nearly\", \"necessarily\", \"necessary\", \"need\", \"needn\", \"needn't\", \"needs\", \"neither\", \"never\", \"nevertheless\", \"new\", \"next\", \"ng\", \"ni\", \"nine\", \"ninety\", \"nj\", \"nl\", \"nn\", \"no\", \"nobody\", \"non\", \"none\", \"nonetheless\", \"noone\", \"nor\", \"normally\", \"nos\", \"not\", \"noted\", \"nothing\", \"novel\", \"now\", \"nowhere\", \"nr\", \"ns\", \"nt\", \"ny\", \"o\", \"oa\", \"ob\", \"obtain\", \"obtained\", \"obviously\", \"oc\", \"od\", \"of\", \"off\", \"often\", \"og\", \"oh\", \"oi\", \"oj\", \"ok\", \"okay\", \"ol\", \"old\", \"om\", \"omitted\", \"on\", \"once\", \"one\", \"ones\", \"only\", \"onto\", \"oo\", \"op\", \"oq\", \"or\", \"ord\", \"os\", \"ot\", \"other\", \"others\", \"otherwise\", \"ou\", \"ought\", \"our\", \"ours\", \"ourselves\", \"out\", \"outside\", \"over\", \"overall\", \"ow\", \"owing\", \"own\", \"ox\", \"oz\", \"p\", \"p1\", \"p2\", \"p3\", \"page\", \"pagecount\", \"pages\", \"par\", \"part\", \"particular\", \"particularly\", \"pas\", \"past\", \"pc\", \"pd\", \"pe\", \"per\", \"perhaps\", \"pf\", \"ph\", \"pi\", \"pj\", \"pk\", \"pl\", \"placed\", \"please\", \"plus\", \"pm\", \"pn\", \"po\", \"poorly\", \"possible\", \"possibly\", \"potentially\", \"pp\", \"pq\", \"pr\", \"predominantly\", \"present\", \"presumably\", \"previously\", \"primarily\", \"probably\", \"promptly\", \"proud\", \"provides\", \"ps\", \"pt\", \"pu\", \"put\", \"py\", \"q\", \"qj\", \"qu\", \"que\", \"quickly\", \"quite\", \"qv\", \"r\", \"r2\", \"ra\", \"ran\", \"rather\", \"rc\", \"rd\", \"re\", \"readily\", \"really\", \"reasonably\", \"recent\", \"recently\", \"ref\", \"refs\", \"regarding\", \"regardless\", \"regards\", \"related\", \"relatively\", \"research\", \"research-articl\", \"respectively\", \"resulted\", \"resulting\", \"results\", \"rf\", \"rh\", \"ri\", \"right\", \"rj\", \"rl\", \"rm\", \"rn\", \"ro\", \"rq\", \"rr\", \"rs\", \"rt\", \"ru\", \"run\", \"rv\", \"ry\", \"s\", \"s2\", \"sa\", \"said\", \"same\", \"saw\", \"say\", \"saying\", \"says\", \"sc\", \"sd\", \"se\", \"sec\", \"second\", \"secondly\", \"section\", \"see\", \"seeing\", \"seem\", \"seemed\", \"seeming\", \"seems\", \"seen\", \"self\", \"selves\", \"sensible\", \"sent\", \"serious\", \"seriously\", \"seven\", \"several\", \"sf\", \"shall\", \"shan\", \"shan't\", \"she\", \"shed\", \"she'd\", \"she'll\", \"shes\", \"she's\", \"should\", \"shouldn\", \"shouldn't\", \"should've\", \"show\", \"showed\", \"shown\", \"showns\", \"shows\", \"si\", \"side\", \"significant\", \"significantly\", \"similar\", \"similarly\", \"since\", \"sincere\", \"six\", \"sixty\", \"sj\", \"sl\", \"slightly\", \"sm\", \"sn\", \"so\", \"some\", \"somebody\", \"somehow\", \"someone\", \"somethan\", \"something\", \"sometime\", \"sometimes\", \"somewhat\", \"somewhere\", \"soon\", \"sorry\", \"sp\", \"specifically\", \"specified\", \"specify\", \"specifying\", \"sq\", \"sr\", \"ss\", \"st\", \"still\", \"stop\", \"strongly\", \"sub\", \"substantially\", \"successfully\", \"such\", \"sufficiently\", \"suggest\", \"sup\", \"sure\", \"sy\", \"system\", \"sz\", \"t\", \"t1\", \"t2\", \"t3\", \"take\", \"taken\", \"taking\", \"tb\", \"tc\", \"td\", \"te\", \"tell\", \"ten\", \"tends\", \"tf\", \"th\", \"than\", \"thank\", \"thanks\", \"thanx\", \"that\", \"that'll\", \"thats\", \"that's\", \"that've\", \"the\", \"their\", \"theirs\", \"them\", \"themselves\", \"then\", \"thence\", \"there\", \"thereafter\", \"thereby\", \"thered\", \"therefore\", \"therein\", \"there'll\", \"thereof\", \"therere\", \"theres\", \"there's\", \"thereto\", \"thereupon\", \"there've\", \"these\", \"they\", \"theyd\", \"they'd\", \"they'll\", \"theyre\", \"they're\", \"they've\", \"thickv\", \"thin\", \"think\", \"third\", \"this\", \"thorough\", \"thoroughly\", \"those\", \"thou\", \"though\", \"thoughh\", \"thousand\", \"three\", \"throug\", \"through\", \"throughout\", \"thru\", \"thus\", \"ti\", \"til\", \"tip\", \"tj\", \"tl\", \"tm\", \"tn\", \"to\", \"together\", \"too\", \"took\", \"top\", \"toward\", \"towards\", \"tp\", \"tq\", \"tr\", \"tried\", \"tries\", \"truly\", \"try\", \"trying\", \"ts\", \"t's\", \"tt\", \"tv\", \"twelve\", \"twenty\", \"twice\", \"two\", \"tx\", \"u\", \"u201d\", \"ue\", \"ui\", \"uj\", \"uk\", \"um\", \"un\", \"under\", \"unfortunately\", \"unless\", \"unlike\", \"unlikely\", \"until\", \"unto\", \"uo\", \"up\", \"upon\", \"ups\", \"ur\", \"us\", \"use\", \"used\", \"useful\", \"usefully\", \"usefulness\", \"uses\", \"using\", \"usually\", \"ut\", \"v\", \"va\", \"value\", \"various\", \"vd\", \"ve\", \"ve\", \"very\", \"via\", \"viz\", \"vj\", \"vo\", \"vol\", \"vols\", \"volumtype\", \"vq\", \"vs\", \"vt\", \"vu\", \"w\", \"wa\", \"want\", \"wants\", \"was\", \"wasn\", \"wasnt\", \"wasn't\", \"way\", \"we\", \"wed\", \"we'd\", \"welcome\", \"well\", \"we'll\", \"well-b\", \"went\", \"were\", \"we're\", \"weren\", \"werent\", \"weren't\", \"we've\", \"what\", \"whatever\", \"what'll\", \"whats\", \"what's\", \"when\", \"whence\", \"whenever\", \"when's\", \"where\", \"whereafter\", \"whereas\", \"whereby\", \"wherein\", \"wheres\", \"where's\", \"whereupon\", \"wherever\", \"whether\", \"which\", \"while\", \"whim\", \"whither\", \"who\", \"whod\", \"whoever\", \"whole\", \"who'll\", \"whom\", \"whomever\", \"whos\", \"who's\", \"whose\", \"why\", \"why's\", \"wi\", \"widely\", \"will\", \"willing\", \"wish\", \"with\", \"within\", \"without\", \"wo\", \"won\", \"wonder\", \"wont\", \"won't\", \"words\", \"world\", \"would\", \"wouldn\", \"wouldnt\", \"wouldn't\", \"www\", \"x\", \"x1\", \"x2\", \"x3\", \"xf\", \"xi\", \"xj\", \"xk\", \"xl\", \"xn\", \"xo\", \"xs\", \"xt\", \"xv\", \"xx\", \"y\", \"y2\", \"yes\", \"yet\", \"yj\", \"yl\", \"you\", \"youd\", \"you'd\", \"you'll\", \"your\", \"youre\", \"you're\", \"yours\", \"yourself\", \"yourselves\", \"you've\", \"yr\", \"ys\", \"yt\", \"z\", \"zero\", \"zi\", \"zz\"])\n"
      ],
      "metadata": {
        "id": "XvXE1M-7Dbdu"
      },
      "execution_count": null,
      "outputs": []
    },
    {
      "cell_type": "markdown",
      "source": [
        "Extracting Nouns Using SpaCy fron train set"
      ],
      "metadata": {
        "id": "pA17SW8LCj7X"
      }
    },
    {
      "cell_type": "code",
      "source": [
        "top=\"/content/drive/MyDrive/IRDM/topic01.xml\"\n",
        "nlp = spacy.load(\"en_core_web_sm\")\n",
        "tree = ET.parse(top)\n",
        "pos_tagged = []\n",
        "entity_tagged = []\n",
        "for node in tree.iter():\n",
        "    if node.tag == 'description':\n",
        "        doc = nlp(node.text)\n",
        "        pos_tagged.append(get_pos(doc))\n",
        "        entity_tagged.append(get_entities(doc))\n",
        "noun_docs = get_nouns(pos_tagged)\n",
        "update_xml(top, noun_docs,\"only_nouns.xml\")"
      ],
      "metadata": {
        "id": "Q9WH7uB0CCzx"
      },
      "execution_count": null,
      "outputs": []
    },
    {
      "cell_type": "markdown",
      "source": [
        "Extracting Entitities train set"
      ],
      "metadata": {
        "id": "_n8DgETDEnKo"
      }
    },
    {
      "cell_type": "code",
      "source": [
        "top=\"/content/drive/MyDrive/IRDM/topic01.xml\"\n",
        "nlp = spacy.load(\"en_core_web_sm\")\n",
        "tree = ET.parse(top)\n",
        "pos_tagged = []\n",
        "entity_tagged = []\n",
        "for node in tree.iter():\n",
        "    if node.tag == 'description':\n",
        "        doc = nlp(node.text)\n",
        "        pos_tagged.append(get_pos(doc))\n",
        "        entity_tagged.append(get_entities(doc))\n",
        "update_xml(top, entity_tagged, \"ent.xml\")"
      ],
      "metadata": {
        "id": "IcpQCHXwEkQn"
      },
      "execution_count": null,
      "outputs": []
    },
    {
      "cell_type": "markdown",
      "source": [
        "Extracting Nouns and Entities Both from the train set"
      ],
      "metadata": {
        "id": "d4JofUG_FAj4"
      }
    },
    {
      "cell_type": "code",
      "source": [
        "top=\"/content/drive/MyDrive/IRDM/topic01.xml\"\n",
        "nlp = spacy.load(\"en_core_web_sm\")\n",
        "tree = ET.parse(top)\n",
        "pos_tagged = []\n",
        "entity_tagged = []\n",
        "for node in tree.iter():\n",
        "    if node.tag == 'description':\n",
        "        doc = nlp(node.text)\n",
        "        pos_tagged.append(get_pos(doc))\n",
        "        entity_tagged.append(get_entities(doc))\n",
        "update = []\n",
        "noun_docs = get_nouns(pos_tagged)\n",
        "for t1, t2 in zip(noun_docs, entity_tagged):\n",
        "    update.append(t1+t2)\n",
        "update_xml(top, update, 'noun_ent_bth.xml')\n"
      ],
      "metadata": {
        "id": "-27Mto0eE_Y2"
      },
      "execution_count": null,
      "outputs": []
    },
    {
      "cell_type": "markdown",
      "source": [
        "Append Entire Description \n"
      ],
      "metadata": {
        "id": "JrkCMoy4Fyd5"
      }
    },
    {
      "cell_type": "code",
      "source": [
        "top=\"/content/drive/MyDrive/IRDM/topic01.xml\"\n",
        "nlp = spacy.load(\"en_core_web_sm\")\n",
        "tree = ET.parse(top)\n",
        "desc=[]\n",
        "for node in tree.iter():\n",
        "    if node.tag == 'description':\n",
        "        doc = nlp(node.text)\n",
        "        desc.append(node.text)\n",
        "update = []\n",
        "noun_docs = get_nouns(pos_tagged)\n",
        "update_xml_text(top, desc, 'full_descp_train.xml')"
      ],
      "metadata": {
        "id": "udtSYPGaFxr3"
      },
      "execution_count": null,
      "outputs": []
    },
    {
      "cell_type": "markdown",
      "source": [
        "# For the Test-Set\n"
      ],
      "metadata": {
        "id": "4VPI7EXOGXgX"
      }
    },
    {
      "cell_type": "markdown",
      "source": [
        "Nouns for the test set "
      ],
      "metadata": {
        "id": "WXmgCOhcGqMb"
      }
    },
    {
      "cell_type": "code",
      "source": [
        "top=\"/content/drive/MyDrive/IRDM/podcasts_2020_topics_test.xml\"\n",
        "nlp = spacy.load(\"en_core_web_sm\")\n",
        "tree = ET.parse(top)\n",
        "pos_tagged = []\n",
        "entity_tagged = []\n",
        "for node in tree.iter():\n",
        "    if node.tag == 'description':\n",
        "        doc = nlp(node.text)\n",
        "        pos_tagged.append(get_pos(doc))\n",
        "        entity_tagged.append(get_entities(doc))\n",
        "noun_docs = get_nouns(pos_tagged)\n",
        "update_xml(top, noun_docs,\"only_nouns_test_2.xml\")"
      ],
      "metadata": {
        "id": "EfbzpoMAGlb0"
      },
      "execution_count": null,
      "outputs": []
    },
    {
      "cell_type": "markdown",
      "source": [
        "Entities For the Test Set "
      ],
      "metadata": {
        "id": "1EKmTN7oIgmm"
      }
    },
    {
      "cell_type": "code",
      "source": [
        "top=\"/content/drive/MyDrive/IRDM/podcasts_2020_topics_test.xml\"\n",
        "nlp = spacy.load(\"en_core_web_sm\")\n",
        "tree = ET.parse(top)\n",
        "pos_tagged = []\n",
        "entity_tagged = []\n",
        "for node in tree.iter():\n",
        "    if node.tag == 'description':\n",
        "        doc = nlp(node.text)\n",
        "        pos_tagged.append(get_pos(doc))\n",
        "        entity_tagged.append(get_entities(doc))\n",
        "update_xml(top, entity_tagged, \"ent_test.xml\")"
      ],
      "metadata": {
        "id": "VP4JHtkSIlbh"
      },
      "execution_count": null,
      "outputs": []
    },
    {
      "cell_type": "markdown",
      "source": [
        "Nouns and Entities for the Test Set "
      ],
      "metadata": {
        "id": "HidtR5RXIrY_"
      }
    },
    {
      "cell_type": "code",
      "source": [
        "top=\"/content/drive/MyDrive/IRDM/podcasts_2020_topics_test.xml\"\n",
        "nlp = spacy.load(\"en_core_web_sm\")\n",
        "tree = ET.parse(top)\n",
        "pos_tagged = []\n",
        "entity_tagged = []\n",
        "for node in tree.iter():\n",
        "    if node.tag == 'description':\n",
        "        doc = nlp(node.text)\n",
        "        pos_tagged.append(get_pos(doc))\n",
        "        entity_tagged.append(get_entities(doc))\n",
        "update = []\n",
        "noun_docs = get_nouns(pos_tagged)\n",
        "for t1, t2 in zip(noun_docs, entity_tagged):\n",
        "    update.append(t1+t2)\n",
        "update_xml(top, update, 'noun_ent_bth_test.xml')"
      ],
      "metadata": {
        "id": "xvJlpHAaIwrs"
      },
      "execution_count": null,
      "outputs": []
    },
    {
      "cell_type": "markdown",
      "source": [
        "Entires Description Test Set "
      ],
      "metadata": {
        "id": "eMDbpF85JG2D"
      }
    },
    {
      "cell_type": "code",
      "source": [
        "top=\"/content/drive/MyDrive/IRDM/podcasts_2020_topics_test.xml\"\n",
        "nlp = spacy.load(\"en_core_web_sm\")\n",
        "tree = ET.parse(top)\n",
        "desc=[]\n",
        "for node in tree.iter():\n",
        "    if node.tag == 'description':\n",
        "        doc = nlp(node.text)\n",
        "        desc.append(node.text)\n",
        "update = []\n",
        "noun_docs = get_nouns(pos_tagged)\n",
        "update_xml_text(top, desc, 'full_descp_test.xml')"
      ],
      "metadata": {
        "id": "RTOK2aZEJLoW"
      },
      "execution_count": null,
      "outputs": []
    }
  ]
}