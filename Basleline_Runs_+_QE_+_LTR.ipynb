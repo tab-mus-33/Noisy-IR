{
  "cells": [
    {
      "cell_type": "markdown",
      "source": [
        "Installing Python-Terrier \n"
      ],
      "metadata": {
        "id": "Fi3d1eUmw5gF"
      }
    },
    {
      "cell_type": "code",
      "execution_count": null,
      "metadata": {
        "colab": {
          "base_uri": "https://localhost:8080/"
        },
        "id": "ao09LYAeNFB_",
        "outputId": "b633a66e-01c1-48a9-d67d-8195a35c9fab"
      },
      "outputs": [
        {
          "output_type": "stream",
          "name": "stdout",
          "text": [
            "Looking in indexes: https://pypi.org/simple, https://us-python.pkg.dev/colab-wheels/public/simple/\n",
            "Collecting python-terrier\n",
            "  Downloading python-terrier-0.8.1.tar.gz (97 kB)\n",
            "\u001b[K     |████████████████████████████████| 97 kB 3.2 MB/s \n",
            "\u001b[?25hRequirement already satisfied: numpy in /usr/local/lib/python3.7/dist-packages (from python-terrier) (1.21.6)\n",
            "Requirement already satisfied: pandas in /usr/local/lib/python3.7/dist-packages (from python-terrier) (1.3.5)\n",
            "Collecting wget\n",
            "  Downloading wget-3.2.zip (10 kB)\n",
            "Requirement already satisfied: tqdm in /usr/local/lib/python3.7/dist-packages (from python-terrier) (4.64.1)\n",
            "Collecting pyjnius~=1.3.0\n",
            "  Downloading pyjnius-1.3.0-cp37-cp37m-manylinux2010_x86_64.whl (1.1 MB)\n",
            "\u001b[K     |████████████████████████████████| 1.1 MB 38.7 MB/s \n",
            "\u001b[?25hCollecting matchpy\n",
            "  Downloading matchpy-0.5.5-py3-none-any.whl (69 kB)\n",
            "\u001b[K     |████████████████████████████████| 69 kB 5.2 MB/s \n",
            "\u001b[?25hCollecting sklearn\n",
            "  Downloading sklearn-0.0.tar.gz (1.1 kB)\n",
            "Collecting deprecation\n",
            "  Downloading deprecation-2.1.0-py2.py3-none-any.whl (11 kB)\n",
            "Collecting chest\n",
            "  Downloading chest-0.2.3.tar.gz (9.6 kB)\n",
            "Requirement already satisfied: scipy in /usr/local/lib/python3.7/dist-packages (from python-terrier) (1.7.3)\n",
            "Requirement already satisfied: requests in /usr/local/lib/python3.7/dist-packages (from python-terrier) (2.23.0)\n",
            "Requirement already satisfied: joblib in /usr/local/lib/python3.7/dist-packages (from python-terrier) (1.1.0)\n",
            "Collecting nptyping==1.4.4\n",
            "  Downloading nptyping-1.4.4-py3-none-any.whl (31 kB)\n",
            "Requirement already satisfied: more_itertools in /usr/local/lib/python3.7/dist-packages (from python-terrier) (8.14.0)\n",
            "Collecting ir_datasets>=0.3.2\n",
            "  Downloading ir_datasets-0.5.3-py3-none-any.whl (303 kB)\n",
            "\u001b[K     |████████████████████████████████| 303 kB 49.4 MB/s \n",
            "\u001b[?25hRequirement already satisfied: jinja2 in /usr/local/lib/python3.7/dist-packages (from python-terrier) (2.11.3)\n",
            "Requirement already satisfied: statsmodels in /usr/local/lib/python3.7/dist-packages (from python-terrier) (0.12.2)\n",
            "Collecting ir_measures>=0.2.0\n",
            "  Downloading ir_measures-0.3.1.tar.gz (46 kB)\n",
            "\u001b[K     |████████████████████████████████| 46 kB 3.1 MB/s \n",
            "\u001b[?25hRequirement already satisfied: dill in /usr/local/lib/python3.7/dist-packages (from python-terrier) (0.3.5.1)\n",
            "Collecting typish>=1.7.0\n",
            "  Downloading typish-1.9.3-py3-none-any.whl (45 kB)\n",
            "\u001b[K     |████████████████████████████████| 45 kB 1.7 MB/s \n",
            "\u001b[?25hCollecting warc3-wet>=0.2.3\n",
            "  Downloading warc3_wet-0.2.3-py3-none-any.whl (13 kB)\n",
            "Collecting warc3-wet-clueweb09>=0.2.5\n",
            "  Downloading warc3-wet-clueweb09-0.2.5.tar.gz (17 kB)\n",
            "Requirement already satisfied: pyyaml>=5.3.1 in /usr/local/lib/python3.7/dist-packages (from ir_datasets>=0.3.2->python-terrier) (6.0)\n",
            "Collecting lz4>=3.1.1\n",
            "  Downloading lz4-4.0.2-cp37-cp37m-manylinux_2_17_x86_64.manylinux2014_x86_64.whl (1.2 MB)\n",
            "\u001b[K     |████████████████████████████████| 1.2 MB 35.4 MB/s \n",
            "\u001b[?25hCollecting pyautocorpus>=0.1.1\n",
            "  Downloading pyautocorpus-0.1.8-cp37-cp37m-manylinux_2_12_x86_64.manylinux2010_x86_64.whl (294 kB)\n",
            "\u001b[K     |████████████████████████████████| 294 kB 40.4 MB/s \n",
            "\u001b[?25hCollecting ijson>=3.1.3\n",
            "  Downloading ijson-3.1.4-cp37-cp37m-manylinux2010_x86_64.whl (126 kB)\n",
            "\u001b[K     |████████████████████████████████| 126 kB 44.6 MB/s \n",
            "\u001b[?25hRequirement already satisfied: lxml>=4.5.2 in /usr/local/lib/python3.7/dist-packages (from ir_datasets>=0.3.2->python-terrier) (4.9.1)\n",
            "Requirement already satisfied: beautifulsoup4>=4.4.1 in /usr/local/lib/python3.7/dist-packages (from ir_datasets>=0.3.2->python-terrier) (4.6.3)\n",
            "Collecting unlzw3>=0.2.1\n",
            "  Downloading unlzw3-0.2.1.tar.gz (5.8 kB)\n",
            "  Installing build dependencies ... \u001b[?25l\u001b[?25hdone\n",
            "  Getting requirements to build wheel ... \u001b[?25l\u001b[?25hdone\n",
            "    Preparing wheel metadata ... \u001b[?25l\u001b[?25hdone\n",
            "Collecting trec-car-tools>=2.5.4\n",
            "  Downloading trec_car_tools-2.6-py3-none-any.whl (8.4 kB)\n",
            "Collecting zlib-state>=0.1.3\n",
            "  Downloading zlib_state-0.1.5-cp37-cp37m-manylinux2010_x86_64.whl (72 kB)\n",
            "\u001b[K     |████████████████████████████████| 72 kB 1.1 MB/s \n",
            "\u001b[?25hCollecting pytrec-eval-terrier>=0.5.2\n",
            "  Downloading pytrec_eval_terrier-0.5.4-cp37-cp37m-manylinux_2_17_x86_64.manylinux2014_x86_64.whl (285 kB)\n",
            "\u001b[K     |████████████████████████████████| 285 kB 49.4 MB/s \n",
            "\u001b[?25hCollecting cwl-eval>=1.0.10\n",
            "  Downloading cwl-eval-1.0.10.tar.gz (31 kB)\n",
            "Requirement already satisfied: six>=1.7.0 in /usr/local/lib/python3.7/dist-packages (from pyjnius~=1.3.0->python-terrier) (1.15.0)\n",
            "Requirement already satisfied: cython in /usr/local/lib/python3.7/dist-packages (from pyjnius~=1.3.0->python-terrier) (0.29.32)\n",
            "Requirement already satisfied: idna<3,>=2.5 in /usr/local/lib/python3.7/dist-packages (from requests->python-terrier) (2.10)\n",
            "Requirement already satisfied: certifi>=2017.4.17 in /usr/local/lib/python3.7/dist-packages (from requests->python-terrier) (2022.6.15)\n",
            "Requirement already satisfied: urllib3!=1.25.0,!=1.25.1,<1.26,>=1.21.1 in /usr/local/lib/python3.7/dist-packages (from requests->python-terrier) (1.24.3)\n",
            "Requirement already satisfied: chardet<4,>=3.0.2 in /usr/local/lib/python3.7/dist-packages (from requests->python-terrier) (3.0.4)\n",
            "Collecting cbor>=1.0.0\n",
            "  Downloading cbor-1.0.0.tar.gz (20 kB)\n",
            "Requirement already satisfied: heapdict in /usr/local/lib/python3.7/dist-packages (from chest->python-terrier) (1.0.1)\n",
            "Requirement already satisfied: packaging in /usr/local/lib/python3.7/dist-packages (from deprecation->python-terrier) (21.3)\n",
            "Requirement already satisfied: MarkupSafe>=0.23 in /usr/local/lib/python3.7/dist-packages (from jinja2->python-terrier) (2.0.1)\n",
            "Collecting multiset<3.0,>=2.0\n",
            "  Downloading multiset-2.1.1-py2.py3-none-any.whl (8.8 kB)\n",
            "Requirement already satisfied: pyparsing!=3.0.5,>=2.0.2 in /usr/local/lib/python3.7/dist-packages (from packaging->deprecation->python-terrier) (3.0.9)\n",
            "Requirement already satisfied: pytz>=2017.3 in /usr/local/lib/python3.7/dist-packages (from pandas->python-terrier) (2022.2.1)\n",
            "Requirement already satisfied: python-dateutil>=2.7.3 in /usr/local/lib/python3.7/dist-packages (from pandas->python-terrier) (2.8.2)\n",
            "Requirement already satisfied: scikit-learn in /usr/local/lib/python3.7/dist-packages (from sklearn->python-terrier) (1.0.2)\n",
            "Requirement already satisfied: threadpoolctl>=2.0.0 in /usr/local/lib/python3.7/dist-packages (from scikit-learn->sklearn->python-terrier) (3.1.0)\n",
            "Requirement already satisfied: patsy>=0.5 in /usr/local/lib/python3.7/dist-packages (from statsmodels->python-terrier) (0.5.2)\n",
            "Building wheels for collected packages: python-terrier, ir-measures, cwl-eval, cbor, unlzw3, warc3-wet-clueweb09, chest, sklearn, wget\n",
            "  Building wheel for python-terrier (setup.py) ... \u001b[?25l\u001b[?25hdone\n",
            "  Created wheel for python-terrier: filename=python_terrier-0.8.1-py3-none-any.whl size=104091 sha256=d1a2f8bd2e27cc1601f9ccfedeb34b4f8a0e474c388d70543d9d0d7bc5f39b63\n",
            "  Stored in directory: /root/.cache/pip/wheels/09/e5/f5/2f28a11314bac89a683eb2a12aed802a7da27e4318ffbff4a8\n",
            "  Building wheel for ir-measures (setup.py) ... \u001b[?25l\u001b[?25hdone\n",
            "  Created wheel for ir-measures: filename=ir_measures-0.3.1-py3-none-any.whl size=60193 sha256=72e4fd67b833464882416d0e2f1599ddc7fbf915f8dae2918014ff61ca6ae8d3\n",
            "  Stored in directory: /root/.cache/pip/wheels/17/86/a6/8b9c92080cdc19346721307878315c19430fb4705716a5676a\n",
            "  Building wheel for cwl-eval (setup.py) ... \u001b[?25l\u001b[?25hdone\n",
            "  Created wheel for cwl-eval: filename=cwl_eval-1.0.10-py3-none-any.whl size=37797 sha256=56c406bff95a5eba4f6f37f84029785dc9ae9d704f33b0afea6339a908046ec4\n",
            "  Stored in directory: /root/.cache/pip/wheels/ff/e9/ff/d2b6d72d9feb0d0b1b11aacfaf5cd866717034615c2d194093\n",
            "  Building wheel for cbor (setup.py) ... \u001b[?25l\u001b[?25hdone\n",
            "  Created wheel for cbor: filename=cbor-1.0.0-cp37-cp37m-linux_x86_64.whl size=51305 sha256=43c52bfa5482aa60dfa38eb9b7e9184115c3e9443366c616cdc352244a76bb42\n",
            "  Stored in directory: /root/.cache/pip/wheels/19/77/49/c9c2c8dc5848502e606e8579d0bbda18b850fb056a6c62239d\n",
            "  Building wheel for unlzw3 (PEP 517) ... \u001b[?25l\u001b[?25hdone\n",
            "  Created wheel for unlzw3: filename=unlzw3-0.2.1-py3-none-any.whl size=6082 sha256=ff4387962b09b5fa28350bee0e09b7400730ac8b1071785f25be6e64652db648\n",
            "  Stored in directory: /root/.cache/pip/wheels/e1/3c/d9/e33962c8aad8999dc5560b6e71baafa2335c269f532f5e176a\n",
            "  Building wheel for warc3-wet-clueweb09 (setup.py) ... \u001b[?25l\u001b[?25hdone\n",
            "  Created wheel for warc3-wet-clueweb09: filename=warc3_wet_clueweb09-0.2.5-py3-none-any.whl size=18922 sha256=170c9afe3e94fcead2ef566904090b07b23a89166403ffda5432d591d84c6d77\n",
            "  Stored in directory: /root/.cache/pip/wheels/42/d4/3c/7c2b0c3d400ad744e4db69f2fde166655da2ed2198bfc02db6\n",
            "  Building wheel for chest (setup.py) ... \u001b[?25l\u001b[?25hdone\n",
            "  Created wheel for chest: filename=chest-0.2.3-py3-none-any.whl size=7634 sha256=c0d4e69141c5d46bf980fc7a7e89c71cd3380c5dd12f412e4dbc431caa2c7cf6\n",
            "  Stored in directory: /root/.cache/pip/wheels/fc/f5/b9/c436e11300809e6b40d46a5d2592fb0bff89e0712f2e878dc7\n",
            "  Building wheel for sklearn (setup.py) ... \u001b[?25l\u001b[?25hdone\n",
            "  Created wheel for sklearn: filename=sklearn-0.0-py2.py3-none-any.whl size=1310 sha256=da2c66ea2b577658ec9361cb803f3be3658f826bb3bb22ff1c668e12556443c8\n",
            "  Stored in directory: /root/.cache/pip/wheels/46/ef/c3/157e41f5ee1372d1be90b09f74f82b10e391eaacca8f22d33e\n",
            "  Building wheel for wget (setup.py) ... \u001b[?25l\u001b[?25hdone\n",
            "  Created wheel for wget: filename=wget-3.2-py3-none-any.whl size=9675 sha256=7514376d336a781899afac205b172ed76140b052160b8420a66358b5170e61ab\n",
            "  Stored in directory: /root/.cache/pip/wheels/a1/b6/7c/0e63e34eb06634181c63adacca38b79ff8f35c37e3c13e3c02\n",
            "Successfully built python-terrier ir-measures cwl-eval cbor unlzw3 warc3-wet-clueweb09 chest sklearn wget\n",
            "Installing collected packages: cbor, zlib-state, warc3-wet-clueweb09, warc3-wet, unlzw3, typish, trec-car-tools, pytrec-eval-terrier, pyautocorpus, multiset, lz4, ijson, cwl-eval, wget, sklearn, pyjnius, nptyping, matchpy, ir-measures, ir-datasets, deprecation, chest, python-terrier\n",
            "Successfully installed cbor-1.0.0 chest-0.2.3 cwl-eval-1.0.10 deprecation-2.1.0 ijson-3.1.4 ir-datasets-0.5.3 ir-measures-0.3.1 lz4-4.0.2 matchpy-0.5.5 multiset-2.1.1 nptyping-1.4.4 pyautocorpus-0.1.8 pyjnius-1.3.0 python-terrier-0.8.1 pytrec-eval-terrier-0.5.4 sklearn-0.0 trec-car-tools-2.6 typish-1.9.3 unlzw3-0.2.1 warc3-wet-0.2.3 warc3-wet-clueweb09-0.2.5 wget-3.2 zlib-state-0.1.5\n"
          ]
        }
      ],
      "source": [
        "!pip install python-terrier\n",
        "\n",
        "import pandas as pd"
      ]
    },
    {
      "cell_type": "code",
      "execution_count": null,
      "metadata": {
        "colab": {
          "base_uri": "https://localhost:8080/"
        },
        "id": "6A7S5TTRNyAW",
        "outputId": "e911f7ef-ca4c-4a90-88fb-83381ebcb93c"
      },
      "outputs": [
        {
          "output_type": "stream",
          "name": "stdout",
          "text": [
            "terrier-assemblies 5.6 jar-with-dependencies not found, downloading to /root/.pyterrier...\n",
            "Done\n",
            "terrier-python-helper 0.0.6 jar not found, downloading to /root/.pyterrier...\n",
            "Done\n"
          ]
        },
        {
          "output_type": "stream",
          "name": "stderr",
          "text": [
            "PyTerrier 0.8.1 has loaded Terrier 5.6 (built by craigmacdonald on 2021-09-17 13:27)\n",
            "\n"
          ]
        }
      ],
      "source": [
        "import pyterrier as pt\n",
        "pt.init()"
      ]
    },
    {
      "cell_type": "markdown",
      "source": [
        "Connecting Google Drive "
      ],
      "metadata": {
        "id": "xMXTeT-exGSn"
      }
    },
    {
      "cell_type": "code",
      "execution_count": null,
      "metadata": {
        "colab": {
          "base_uri": "https://localhost:8080/"
        },
        "id": "C4G0OV8R3kWn",
        "outputId": "93cd1b1c-61c4-4a56-d990-8242b6cc6a12"
      },
      "outputs": [
        {
          "output_type": "stream",
          "name": "stdout",
          "text": [
            "Mounted at /content/drive\n"
          ]
        }
      ],
      "source": [
        "from google.colab import drive\n",
        "drive.mount('/content/drive')\n",
        "import os\n",
        "name_dir=(\"/content/drive/MyDrive/IRDM\")"
      ]
    },
    {
      "cell_type": "markdown",
      "source": [
        "Fetching Files in the directory to Index "
      ],
      "metadata": {
        "id": "hHC9qp4UxRJe"
      }
    },
    {
      "cell_type": "code",
      "source": [
        "xml_list=[]\n",
        "for root, folder, data in os.walk(name_dir):\n",
        "    for i in data:\n",
        "        if \".xml\" in i:\n",
        "          xml_list.append((os.path.join(root,i)))"
      ],
      "metadata": {
        "id": "V6aWlJWXzTDG"
      },
      "execution_count": null,
      "outputs": []
    },
    {
      "cell_type": "markdown",
      "source": [
        "Indexing the Files "
      ],
      "metadata": {
        "id": "ihxdq1n7xgG-"
      }
    },
    {
      "cell_type": "code",
      "execution_count": null,
      "metadata": {
        "id": "BS-iAR-JHOcE"
      },
      "outputs": [],
      "source": [
        "indexer = pt.TRECCollectionIndexer(\"/content/drive/MyDrive/IRDM/xml_dir/ind_3\",blocks=True,meta={'docno':50,'text': 2048,})\n",
        "\n",
        "indexref = indexer.index(xml_list)"
      ]
    },
    {
      "cell_type": "markdown",
      "source": [
        "Reading the Index \n"
      ],
      "metadata": {
        "id": "smrW-Db_xsRO"
      }
    },
    {
      "cell_type": "code",
      "execution_count": null,
      "metadata": {
        "id": "ExYvbKyu_3kY"
      },
      "outputs": [],
      "source": [
        "index_ref = pt.IndexRef.of(\"/content/drive/MyDrive/IRDM/xml_dir/ind_3/data.properties\")\n",
        "index= pt.IndexFactory.of(index_ref)"
      ]
    },
    {
      "cell_type": "code",
      "source": [
        "print(index.getCollectionStatistics())"
      ],
      "metadata": {
        "colab": {
          "base_uri": "https://localhost:8080/"
        },
        "id": "T8Ca4nVJQFox",
        "outputId": "d6fcbd0c-90b0-4329-9c90-a68812ab0315"
      },
      "execution_count": null,
      "outputs": [
        {
          "output_type": "stream",
          "name": "stdout",
          "text": [
            "Number of documents: 3593829\n",
            "Number of terms: 209849\n",
            "Number of postings: 324936225\n",
            "Number of fields: 0\n",
            "Number of tokens: 500325872\n",
            "Field names: []\n",
            "Positions:   true\n",
            "\n"
          ]
        }
      ]
    },
    {
      "cell_type": "markdown",
      "source": [
        "Baselines (BM25 and DPH)"
      ],
      "metadata": {
        "id": "xeYcbC9LzGs4"
      }
    },
    {
      "cell_type": "code",
      "source": [
        "id_template = 'spotify:episode:{}_{}'\n",
        "def get_ep(a,b):\n",
        "  return id_template.format(a,b) "
      ],
      "metadata": {
        "id": "aCykmZOd1bWL"
      },
      "execution_count": null,
      "outputs": []
    },
    {
      "cell_type": "markdown",
      "source": [
        "Tuning the BM25 Model"
      ],
      "metadata": {
        "id": "KZIW_99-8ltV"
      }
    },
    {
      "cell_type": "code",
      "source": [
        "b=[0.30,0.60,0.75,0.90]\n",
        "k =[0.5,1.2,1.5,1.6,2,2.5,3]\n",
        "\n",
        "max=0\n",
        "b_opt=0\n",
        "k_opt=0\n",
        "for i in range(len(b)):\n",
        "  for j in range(len(k)):\n",
        "    topics = pt.io.read_topics(\"/content/drive/MyDrive/IRDM/topic01.xml\",format=\"trecxml\")\n",
        "    bm25 = pt.BatchRetrieve(index, controls={\"wmodel\":\"BM25\",\"c\":b[i]}, metadata=[\"docno\",'text'],properties={\"bm25.k_1\":k[j]})\n",
        "    res=bm25.transform(topics)\n",
        "    df = pd.DataFrame(res, columns=['qid', 'rank', 'docno', 'score'])\n",
        "    df[\"ep_id\"]=df[\"docno\"].apply(lambda x: x.split(\"_\")[1].split(\"-\")[0])\n",
        "    df[\"episode\"]=df[\"docno\"].apply(lambda x: x.split(\"_\")[0])\n",
        "    df[\"docno\"]=df.apply(lambda x: get_ep(x[\"episode\"],x[\"ep_id\"]),axis=1)\n",
        "    df[\"docno\"]=df[\"docno\"]+\".0\"\n",
        "    rsl=df[[\"qid\",\"docno\",\"rank\",\"score\"]]\n",
        "    qrels_path=(\"/content/drive/MyDrive/IRDM/podcasts_2020_train.1-8.qrels\")\n",
        "    qrels = pt.io.read_qrels(qrels_path)\n",
        "    a=pt.Utils.evaluate(rsl,qrels,metrics=['map',\"ndcg\",\"ndcg_cut_30\",\"P_10\"])\n",
        "    util=a[\"ndcg_cut_30\"]\n",
        "    if util > max: \n",
        "      max=util\n",
        "      b_opt=b[i]\n",
        "      k_opt=k[j]\n",
        "\n",
        "print(\"The optimal values are\")\n",
        "print(\"B is {}\".format(b_opt))\n",
        "print(\"K1 is {}\".format(k_opt))\n",
        "        "
      ],
      "metadata": {
        "colab": {
          "base_uri": "https://localhost:8080/"
        },
        "id": "3ZtO9QcQ2o6g",
        "outputId": "32598c38-f812-4357-94f6-b5cead21820d"
      },
      "execution_count": null,
      "outputs": [
        {
          "output_type": "stream",
          "name": "stdout",
          "text": [
            "The optimal values are\n",
            "B is 0.6\n",
            "K1 is 0.5\n"
          ]
        }
      ]
    },
    {
      "cell_type": "code",
      "execution_count": null,
      "metadata": {
        "id": "etzQYgIZijCH",
        "colab": {
          "base_uri": "https://localhost:8080/"
        },
        "outputId": "2b6ebf54-0871-4ff6-9f67-683e6b23a1ea"
      },
      "outputs": [
        {
          "output_type": "stream",
          "name": "stdout",
          "text": [
            "BM 25\n",
            "{'map': 0.2250640250319111, 'ndcg': 0.4144940458278415, 'ndcg_cut_30': 0.27352479286700465, 'P_10': 0.325}\n",
            "DPH\n",
            "{'map': 0.22365605208003647, 'ndcg': 0.41517404363420496, 'ndcg_cut_30': 0.270274529619579, 'P_10': 0.325}\n"
          ]
        }
      ],
      "source": [
        "\n",
        "topics = pt.io.read_topics(\"/content/drive/MyDrive/IRDM/topic01.xml\",format=\"trecxml\")\n",
        "bm25 = pt.BatchRetrieve(index, controls={\"wmodel\":\"BM25\",\"c\":0.6}, metadata=[\"docno\",'text'],properties={\"bm25.k_1\":0.5})\n",
        "ret= pt.BatchRetrieve(index, controls={\"wmodel\": \"DPH\"})\n",
        "\n",
        "\n",
        "res=bm25.transform(topics)\n",
        "res_2=ret.transform(topics)\n",
        "df = pd.DataFrame(res, columns=['qid', 'rank', 'docno', 'score'])\n",
        "df_2=pd.DataFrame(res_2, columns=['qid', 'rank', 'docno', 'score'])\n",
        "\n",
        "def get_ep(a,b):\n",
        "  return id_template.format(a,b) \n",
        "df[\"ep_id\"]=df[\"docno\"].apply(lambda x: x.split(\"_\")[1].split(\"-\")[0])\n",
        "df[\"episode\"]=df[\"docno\"].apply(lambda x: x.split(\"_\")[0])\n",
        "df[\"docno\"]=df.apply(lambda x: get_ep(x[\"episode\"],x[\"ep_id\"]),axis=1)\n",
        "df[\"docno\"]=df[\"docno\"]+\".0\"\n",
        "rsl=df[[\"qid\",\"docno\",\"rank\",\"score\"]]\n",
        "df_2[\"ep_id\"]=df_2[\"docno\"].apply(lambda x: x.split(\"_\")[1].split(\"-\")[0])\n",
        "df_2[\"episode\"]=df_2[\"docno\"].apply(lambda x: x.split(\"_\")[0])\n",
        "df_2[\"docno\"]=df_2.apply(lambda x: get_ep(x[\"episode\"],x[\"ep_id\"]),axis=1)\n",
        "df_2[\"docno\"]=df_2[\"docno\"]+\".0\"\n",
        "rsl=df[[\"qid\",\"docno\",\"rank\",\"score\"]]\n",
        "rsl_2=df_2[[\"qid\",\"docno\",\"rank\",\"score\"]]\n",
        "\n",
        "qrels_path=(\"/content/drive/MyDrive/IRDM/podcasts_2020_train.1-8.qrels\")\n",
        "qrels = pt.io.read_qrels(qrels_path)\n",
        "\n",
        "print(\"BM 25\")\n",
        "print(pt.Utils.evaluate(rsl,qrels,metrics=['map',\"ndcg\",\"ndcg_cut_30\",\"P_10\"]))\n",
        "print(\"DPH\")\n",
        "print(pt.Utils.evaluate(rsl_2,qrels,metrics=['map',\"ndcg\",\"ndcg_cut_30\",\"P_10\"]))"
      ]
    },
    {
      "cell_type": "markdown",
      "source": [
        "Tuning PL2 Model \n",
        "\n",
        "\n",
        "\n",
        "\n"
      ],
      "metadata": {
        "id": "m10ZOPVj8cCO"
      }
    },
    {
      "cell_type": "code",
      "source": [
        "c=[0.1, 1, 5, 10, 20, 100]\n",
        "\n",
        "max=0\n",
        "c_opt=0\n",
        "for i in range(len(c)):\n",
        "    topics = pt.io.read_topics(\"/content/drive/MyDrive/IRDM/topic01.xml\",format=\"trecxml\")\n",
        "    pl2= pt.BatchRetrieve(index, controls={\"wmodel\": \"PL2\",\"c\":c[i]},metadata=[\"docno\",'text'])\n",
        "    res=pl2.transform(topics)\n",
        "    df = pd.DataFrame(res, columns=['qid', 'rank', 'docno', 'score'])\n",
        "    df[\"ep_id\"]=df[\"docno\"].apply(lambda x: x.split(\"_\")[1].split(\"-\")[0])\n",
        "    df[\"episode\"]=df[\"docno\"].apply(lambda x: x.split(\"_\")[0])\n",
        "    df[\"docno\"]=df.apply(lambda x: get_ep(x[\"episode\"],x[\"ep_id\"]),axis=1)\n",
        "    df[\"docno\"]=df[\"docno\"]+\".0\"\n",
        "    rsl=df[[\"qid\",\"docno\",\"rank\",\"score\"]]\n",
        "    qrels_path=(\"/content/drive/MyDrive/IRDM/podcasts_2020_train.1-8.qrels\")\n",
        "    qrels = pt.io.read_qrels(qrels_path)\n",
        "    a=pt.Utils.evaluate(rsl,qrels,metrics=['map',\"ndcg\",\"ndcg_cut_30\",\"P_10\"])\n",
        "    util=a[\"ndcg_cut_30\"]\n",
        "    if util > max: \n",
        "      max=util\n",
        "      c_opt=c[i]\n",
        "\n",
        "\n",
        "print(\"The optimal values are\")\n",
        "print(\"c is {}\".format(c_opt))\n",
        "        "
      ],
      "metadata": {
        "colab": {
          "base_uri": "https://localhost:8080/"
        },
        "id": "ofhJ6bss8qp9",
        "outputId": "3698904e-2424-4dc9-8b55-429a270b62a2"
      },
      "execution_count": null,
      "outputs": [
        {
          "output_type": "stream",
          "name": "stdout",
          "text": [
            "The optimal values are\n",
            "c is 20\n"
          ]
        }
      ]
    },
    {
      "cell_type": "code",
      "execution_count": null,
      "metadata": {
        "id": "SbeHXCvCj3Jb",
        "colab": {
          "base_uri": "https://localhost:8080/"
        },
        "outputId": "3e2aa02d-173e-4fe8-c2ed-78df0b4c1994"
      },
      "outputs": [
        {
          "output_type": "stream",
          "name": "stdout",
          "text": [
            "Dirichlet LM\n",
            "{'map': 0.2055113781274805, 'ndcg': 0.4019538896371915, 'ndcg_cut_30': 0.2553287975693738, 'P_10': 0.35}\n",
            "PL 2 \n",
            "{'map': 0.22161891651584797, 'ndcg': 0.4259666693266723, 'ndcg_cut_30': 0.2820225728886583, 'P_10': 0.36250000000000004}\n"
          ]
        }
      ],
      "source": [
        "\n",
        "topics = pt.io.read_topics(\"/content/drive/MyDrive/IRDM/topic01.xml\",format=\"trecxml\")\n",
        "dir = pt.BatchRetrieve(index, controls={\"wmodel\":\"DirichletLM\"}, metadata=[\"docno\",'text'])\n",
        "pl2= pt.BatchRetrieve(index, controls={\"wmodel\": \"PL2\",\"c\":20},metadata=[\"docno\",'text'])\n",
        "\n",
        "\n",
        "\n",
        "import pandas as pd\n",
        "id_template = 'spotify:episode:{}_{}'\n",
        "res=dir.transform(topics)\n",
        "res_2=pl2.transform(topics)\n",
        "df = pd.DataFrame(res, columns=['qid', 'rank', 'docno', 'score'])\n",
        "df_2=pd.DataFrame(res_2, columns=['qid', 'rank', 'docno', 'score'])\n",
        "df[\"ep_id\"]=df[\"docno\"].apply(lambda x: x.split(\"_\")[1].split(\"-\")[0])\n",
        "df[\"episode\"]=df[\"docno\"].apply(lambda x: x.split(\"_\")[0])\n",
        "df[\"docno\"]=df.apply(lambda x: get_ep(x[\"episode\"],x[\"ep_id\"]),axis=1)\n",
        "df[\"docno\"]=df[\"docno\"]+\".0\"\n",
        "rsl=df[[\"qid\",\"docno\",\"rank\",\"score\"]]\n",
        "df_2[\"ep_id\"]=df_2[\"docno\"].apply(lambda x: x.split(\"_\")[1].split(\"-\")[0])\n",
        "df_2[\"episode\"]=df_2[\"docno\"].apply(lambda x: x.split(\"_\")[0])\n",
        "df_2[\"docno\"]=df_2.apply(lambda x: get_ep(x[\"episode\"],x[\"ep_id\"]),axis=1)\n",
        "df_2[\"docno\"]=df_2[\"docno\"]+\".0\"\n",
        "\n",
        "rsl=df[[\"qid\",\"docno\",\"rank\",\"score\"]]\n",
        "\n",
        "rsl_2=df_2[[\"qid\",\"docno\",\"rank\",\"score\"]]\n",
        "\n",
        "\n",
        "qrels_path=(\"/content/drive/MyDrive/IRDM/podcasts_2020_train.1-8.qrels\")\n",
        "qrels = pt.io.read_qrels(qrels_path)\n",
        "\n",
        "print(\"Dirichlet LM\")\n",
        "print(pt.Utils.evaluate(rsl,qrels,metrics=['map',\"ndcg\",\"ndcg_cut_30\",\"P_10\"]))\n",
        "print(\"PL 2 \")\n",
        "print(pt.Utils.evaluate(rsl_2,qrels,metrics=['map',\"ndcg\",\"ndcg_cut_30\",\"P_10\"]))"
      ]
    },
    {
      "cell_type": "code",
      "source": [
        "\n",
        "def get_retr(index, param_b, param_k1):\n",
        "    retr = pt.BatchRetrieve(index, controls={'wmodel': \"BM25\", \"c\": param_b},\n",
        "        properties={'bm25.k_1': param_k1})\n",
        "    return retr\n",
        "\n",
        "def get_dph(index):\n",
        "    return pt.BatchRetrieve(index, controls={\"wmodel\": \"DPH\"})\n",
        "\n",
        "bm25 = get_retr(index, 0.6, 0.5) >> \\\n",
        "            pt.pipelines.PerQueryMaxMinScoreTransformer()\n",
        "dph = get_dph(index) >> \\\n",
        "            pt.pipelines.PerQueryMaxMinScoreTransformer()\n",
        "combined = bm25 + dph\n",
        "\n",
        "\n",
        "qe = pt.BatchRetrieve(index, controls={'wmodel': \"DPH\"}) >> \\\n",
        "            pt.rewrite.QueryExpansion(index, fb_terms=10, fb_docs=3) >> \\\n",
        "            pt.BatchRetrieve(index, controls={'wmodel': \"DPH\"})\n",
        "\n",
        "\n",
        "topics = pt.io.read_topics(\"/content/drive/MyDrive/IRDM/topic01.xml\",format=\"trecxml\")\n",
        "\n",
        "\n",
        "import pandas as pd\n",
        "id_template = 'spotify:episode:{}_{}'\n",
        "res=combined.transform(topics)\n",
        "res_2=qe.transform(topics)\n",
        "df = pd.DataFrame(res, columns=['qid', 'rank', 'docno', 'score'])\n",
        "df_2=pd.DataFrame(res_2, columns=['qid', 'rank', 'docno', 'score'])\n",
        "\n",
        "df[\"ep_id\"]=df[\"docno\"].apply(lambda x: x.split(\"_\")[1].split(\"-\")[0])\n",
        "df[\"episode\"]=df[\"docno\"].apply(lambda x: x.split(\"_\")[0])\n",
        "df[\"docno\"]=df.apply(lambda x: get_ep(x[\"episode\"],x[\"ep_id\"]),axis=1)\n",
        "df[\"docno\"]=df[\"docno\"]+\".0\"\n",
        "rsl=df[[\"qid\",\"docno\",\"rank\",\"score\"]]\n",
        "df_2[\"ep_id\"]=df_2[\"docno\"].apply(lambda x: x.split(\"_\")[1].split(\"-\")[0])\n",
        "df_2[\"episode\"]=df_2[\"docno\"].apply(lambda x: x.split(\"_\")[0])\n",
        "df_2[\"docno\"]=df_2.apply(lambda x: get_ep(x[\"episode\"],x[\"ep_id\"]),axis=1)\n",
        "df_2[\"docno\"]=df_2[\"docno\"]+\".0\"\n",
        "rsl=df[[\"qid\",\"docno\",\"rank\",\"score\"]]\n",
        "rsl_2=df_2[[\"qid\",\"docno\",\"rank\",\"score\"]]\n",
        "\n",
        "qrels_path=(\"/content/drive/MyDrive/IRDM/podcasts_2020_train.1-8.qrels\")\n",
        "qrels = pt.io.read_qrels(qrels_path)\n",
        "print(\"BM 25 + DPH\")\n",
        "print(pt.Utils.evaluate(rsl,qrels,metrics=['map',\"ndcg\",\"ndcg_cut_30\",\"P_10\"]))\n",
        "print(\"DPH QE \")\n",
        "print(pt.Utils.evaluate(rsl_2,qrels,metrics=['map',\"ndcg\",\"ndcg_cut_30\",\"P_10\"]))"
      ],
      "metadata": {
        "id": "Sn8IJG0xBncG",
        "colab": {
          "base_uri": "https://localhost:8080/"
        },
        "outputId": "8a248d69-1bd1-45c9-d17f-bf80519cefd5"
      },
      "execution_count": null,
      "outputs": [
        {
          "output_type": "stream",
          "name": "stdout",
          "text": [
            "00:51:08.848 [main] WARN org.terrier.querying.QueryExpansion - qemodel control not set for QueryExpansion post process. Using default model Bo1\n",
            "BM 25 + DPH\n",
            "{'map': 0.2247124833049004, 'ndcg': 0.4160686973395136, 'ndcg_cut_30': 0.2642382004792583, 'P_10': 0.325}\n",
            "DPH QE \n",
            "{'map': 0.23151433194054494, 'ndcg': 0.38511529914024545, 'ndcg_cut_30': 0.2649001186910151, 'P_10': 0.32499999999999996}\n"
          ]
        }
      ]
    },
    {
      "cell_type": "markdown",
      "source": [
        "Intersection and Union of Scores "
      ],
      "metadata": {
        "id": "yV6BxKg_iOJm"
      }
    },
    {
      "cell_type": "code",
      "source": [
        "\n",
        "def get_retr(index, param_b, param_k1):\n",
        "    retr = pt.BatchRetrieve(index, controls={'wmodel': \"BM25\", \"c\": param_b},\n",
        "        properties={'bm25.k_1': param_k1})\n",
        "    return retr\n",
        "\n",
        "def get_dph(index):\n",
        "    return pt.BatchRetrieve(index, controls={\"wmodel\": \"DPH\"})\n",
        "\n",
        "bm25 = get_retr(index, 0.6, 0.5) >> \\\n",
        "            pt.pipelines.PerQueryMaxMinScoreTransformer()\n",
        "dph = get_dph(index) >> \\\n",
        "            pt.pipelines.PerQueryMaxMinScoreTransformer()\n",
        "union = bm25 | dph\n",
        "\n",
        "intersection = bm25 & dph\n",
        "\n",
        "\n",
        "topics = pt.io.read_topics(\"/content/drive/MyDrive/IRDM/topic01.xml\",format=\"trecxml\")\n",
        "\n",
        "\n",
        "import pandas as pd\n",
        "id_template = 'spotify:episode:{}_{}'\n",
        "res=union.transform(topics)\n",
        "res_2=intersection.transform(topics)\n",
        "df = pd.DataFrame(res, columns=['qid', 'rank', 'docno', 'score'])\n",
        "df_2=pd.DataFrame(res_2, columns=['qid', 'rank', 'docno', 'score'])\n",
        "\n",
        "df[\"ep_id\"]=df[\"docno\"].apply(lambda x: x.split(\"_\")[1].split(\"-\")[0])\n",
        "df[\"episode\"]=df[\"docno\"].apply(lambda x: x.split(\"_\")[0])\n",
        "df[\"docno\"]=df.apply(lambda x: get_ep(x[\"episode\"],x[\"ep_id\"]),axis=1)\n",
        "df[\"docno\"]=df[\"docno\"]+\".0\"\n",
        "rsl=df[[\"qid\",\"docno\",\"rank\",\"score\"]]\n",
        "df_2[\"ep_id\"]=df_2[\"docno\"].apply(lambda x: x.split(\"_\")[1].split(\"-\")[0])\n",
        "df_2[\"episode\"]=df_2[\"docno\"].apply(lambda x: x.split(\"_\")[0])\n",
        "df_2[\"docno\"]=df_2.apply(lambda x: get_ep(x[\"episode\"],x[\"ep_id\"]),axis=1)\n",
        "df_2[\"docno\"]=df_2[\"docno\"]+\".0\"\n",
        "rsl=df[[\"qid\",\"docno\",\"rank\",\"score\"]]\n",
        "rsl_2=df_2[[\"qid\",\"docno\",\"rank\",\"score\"]]\n",
        "print(\"BM 25  DPH Union\")\n",
        "print(pt.Utils.evaluate(rsl,qrels,metrics=['map',\"ndcg\",\"ndcg_cut_30\",\"P_10\"]))\n",
        "print(\"BM 25 Intersection \")\n",
        "print(pt.Utils.evaluate(rsl_2,qrels,metrics=['map',\"ndcg\",\"ndcg_cut_30\",\"P_10\"]))"
      ],
      "metadata": {
        "colab": {
          "base_uri": "https://localhost:8080/"
        },
        "id": "8TmMaWXjiLlD",
        "outputId": "12be1e21-9274-4022-82e9-bbee7cee7f43"
      },
      "execution_count": null,
      "outputs": [
        {
          "output_type": "stream",
          "name": "stdout",
          "text": [
            "BM 25  DPH Union\n",
            "{'map': 0.02426358023517412, 'ndcg': 0.2376214568282763, 'ndcg_cut_30': 0.020071638358417708, 'P_10': 0.025}\n",
            "BM 25 Intersection \n",
            "{'map': 0.026435408289413844, 'ndcg': 0.23913957499440827, 'ndcg_cut_30': 0.020071638358417708, 'P_10': 0.025}\n"
          ]
        }
      ]
    },
    {
      "cell_type": "code",
      "source": [
        "bm25 = pt.BatchRetrieve(index, controls={\"wmodel\":\"BM25\",\"c\":0.6}, metadata=[\"docno\",'text'],properties={\"bm25.k_1\":0.5})\n",
        "ret= pt.BatchRetrieve(index, controls={\"wmodel\": \"DPH\"})\n",
        "pl2= pt.BatchRetrieve(index, controls={\"wmodel\": \"PL2\",\"c\":20},metadata=[\"docno\",'text'])\n",
        "\n",
        "\n",
        "topics = pt.io.read_topics(\"/content/drive/MyDrive/IRDM/topic01.xml\",format=\"trecxml\")\n",
        "\n",
        "mod= bm25+pl2\n",
        "mod2= pl2+dph\n",
        "import pandas as pd\n",
        "id_template = 'spotify:episode:{}_{}'\n",
        "res=mod.transform(topics)\n",
        "res_2=mod2.transform(topics)\n",
        "df = pd.DataFrame(res, columns=['qid', 'rank', 'docno', 'score'])\n",
        "df_2=pd.DataFrame(res_2, columns=['qid', 'rank', 'docno', 'score'])\n",
        "df[\"ep_id\"]=df[\"docno\"].apply(lambda x: x.split(\"_\")[1].split(\"-\")[0])\n",
        "df[\"episode\"]=df[\"docno\"].apply(lambda x: x.split(\"_\")[0])\n",
        "df[\"docno\"]=df.apply(lambda x: get_ep(x[\"episode\"],x[\"ep_id\"]),axis=1)\n",
        "df[\"docno\"]=df[\"docno\"]+\".0\"\n",
        "rsl=df[[\"qid\",\"docno\",\"rank\",\"score\"]]\n",
        "df_2[\"ep_id\"]=df_2[\"docno\"].apply(lambda x: x.split(\"_\")[1].split(\"-\")[0])\n",
        "df_2[\"episode\"]=df_2[\"docno\"].apply(lambda x: x.split(\"_\")[0])\n",
        "df_2[\"docno\"]=df_2.apply(lambda x: get_ep(x[\"episode\"],x[\"ep_id\"]),axis=1)\n",
        "df_2[\"docno\"]=df_2[\"docno\"]+\".0\"\n",
        "rsl=df[[\"qid\",\"docno\",\"rank\",\"score\"]]\n",
        "rsl_2=df_2[[\"qid\",\"docno\",\"rank\",\"score\"]]\n",
        "qrels_path=(\"/content/drive/MyDrive/IRDM/podcasts_2020_train.1-8.qrels\")\n",
        "qrels = pt.io.read_qrels(qrels_path)\n",
        "print(\"BM 25 + PL2\")\n",
        "print(pt.Utils.evaluate(rsl,qrels,metrics=['map',\"ndcg\",\"ndcg_cut_30\",\"P_10\"]))\n",
        "print(\"pl2 + DPH \")\n",
        "print(pt.Utils.evaluate(rsl_2,qrels,metrics=['map',\"ndcg\",\"ndcg_cut_30\",\"P_10\"]))"
      ],
      "metadata": {
        "colab": {
          "base_uri": "https://localhost:8080/"
        },
        "id": "DKozWLD7jQ3G",
        "outputId": "aca30a1a-4e84-45d6-cc12-f0cfcfda410d"
      },
      "execution_count": null,
      "outputs": [
        {
          "output_type": "stream",
          "name": "stdout",
          "text": [
            "BM 25 + PL2\n",
            "{'map': 0.2223147452564862, 'ndcg': 0.41737350497107806, 'ndcg_cut_30': 0.2750442993137609, 'P_10': 0.3375}\n",
            "pl2 + DPH \n",
            "{'map': 0.22275188312092867, 'ndcg': 0.426396182085419, 'ndcg_cut_30': 0.2817705181847363, 'P_10': 0.36250000000000004}\n"
          ]
        }
      ]
    },
    {
      "cell_type": "markdown",
      "source": [
        "Evaluation on the Test Set \n"
      ],
      "metadata": {
        "id": "0J4orbm39Rq7"
      }
    },
    {
      "cell_type": "code",
      "source": [
        "\n",
        "topics = pt.io.read_topics(\"/content/drive/MyDrive/IRDM/podcasts_2020_topics_test.xml\",format=\"trecxml\")\n",
        "bm25 = pt.BatchRetrieve(index, controls={\"wmodel\":\"BM25\",\"c\":0.6}, metadata=[\"docno\",'text'],properties={\"bm25.k_1\":0.5})\n",
        "ret= pt.BatchRetrieve(index, controls={\"wmodel\": \"DPH\"})\n",
        "\n",
        "\n",
        "res=bm25.transform(topics)\n",
        "res_2=ret.transform(topics)\n",
        "df = pd.DataFrame(res, columns=['qid', 'rank', 'docno', 'score'])\n",
        "df_2=pd.DataFrame(res_2, columns=['qid', 'rank', 'docno', 'score'])\n",
        "\n",
        "def get_ep(a,b):\n",
        "  return id_template.format(a,b) \n",
        "df[\"ep_id\"]=df[\"docno\"].apply(lambda x: x.split(\"_\")[1].split(\"-\")[0])\n",
        "df[\"episode\"]=df[\"docno\"].apply(lambda x: x.split(\"_\")[0])\n",
        "df[\"docno\"]=df.apply(lambda x: get_ep(x[\"episode\"],x[\"ep_id\"]),axis=1)\n",
        "df[\"docno\"]=df[\"docno\"]+\".0\"\n",
        "rsl=df[[\"qid\",\"docno\",\"rank\",\"score\"]]\n",
        "df_2[\"ep_id\"]=df_2[\"docno\"].apply(lambda x: x.split(\"_\")[1].split(\"-\")[0])\n",
        "df_2[\"episode\"]=df_2[\"docno\"].apply(lambda x: x.split(\"_\")[0])\n",
        "df_2[\"docno\"]=df_2.apply(lambda x: get_ep(x[\"episode\"],x[\"ep_id\"]),axis=1)\n",
        "df_2[\"docno\"]=df_2[\"docno\"]+\".0\"\n",
        "rsl=df[[\"qid\",\"docno\",\"rank\",\"score\"]]\n",
        "rsl_2=df_2[[\"qid\",\"docno\",\"rank\",\"score\"]]\n",
        "\n",
        "qrels_path=(\"/content/drive/MyDrive/IRDM/podcasts_2020_test.qrels\")\n",
        "qrels = pt.io.read_qrels(qrels_path)\n",
        "\n",
        "print(\"BM 25\")\n",
        "print(pt.Utils.evaluate(rsl,qrels,metrics=['map',\"ndcg\",\"ndcg_cut_30\",\"P_10\"]))\n",
        "print(\"DPH\")\n",
        "print(pt.Utils.evaluate(rsl_2,qrels,metrics=['map',\"ndcg\",\"ndcg_cut_30\",\"P_10\"]))"
      ],
      "metadata": {
        "colab": {
          "base_uri": "https://localhost:8080/"
        },
        "id": "CAVwE6Uunrk8",
        "outputId": "9024ca11-fd3b-435a-87a9-fbaf1fd8a51b"
      },
      "execution_count": null,
      "outputs": [
        {
          "output_type": "stream",
          "name": "stdout",
          "text": [
            "BM 25\n",
            "{'map': 0.3202754057459926, 'ndcg': 0.5333137317273846, 'ndcg_cut_30': 0.376825468706693, 'P_10': 0.4729166666666667}\n",
            "DPH\n",
            "{'map': 0.3147094900432008, 'ndcg': 0.5306140063889719, 'ndcg_cut_30': 0.37211042436513303, 'P_10': 0.46041666666666664}\n"
          ]
        }
      ]
    },
    {
      "cell_type": "code",
      "execution_count": null,
      "metadata": {
        "id": "Zf3n0vMSlwq9",
        "colab": {
          "base_uri": "https://localhost:8080/"
        },
        "outputId": "a13ff330-a794-4dc6-f897-301b130ee4e1"
      },
      "outputs": [
        {
          "output_type": "stream",
          "name": "stdout",
          "text": [
            "Dirichlet LM\n",
            "{'map': 0.3032109048163873, 'ndcg': 0.5205734106300994, 'ndcg_cut_30': 0.36034235871050674, 'P_10': 0.4520833333333334}\n",
            "PL 2 \n",
            "{'map': 0.3203301240579921, 'ndcg': 0.5369086594226401, 'ndcg_cut_30': 0.3856113515122643, 'P_10': 0.47916666666666674}\n"
          ]
        }
      ],
      "source": [
        "\n",
        "topics = pt.io.read_topics(\"/content/drive/MyDrive/IRDM/podcasts_2020_topics_test.xml\",format=\"trecxml\")\n",
        "dir = pt.BatchRetrieve(index, controls={\"wmodel\":\"DirichletLM\"}, metadata=[\"docno\",'text'])\n",
        "pl2= pt.BatchRetrieve(index, controls={\"wmodel\": \"PL2\",\"c\":20},metadata=[\"docno\",'text'])\n",
        "\n",
        "\n",
        "\n",
        "import pandas as pd\n",
        "id_template = 'spotify:episode:{}_{}'\n",
        "res=dir.transform(topics)\n",
        "res_2=pl2.transform(topics)\n",
        "df = pd.DataFrame(res, columns=['qid', 'rank', 'docno', 'score'])\n",
        "df_2=pd.DataFrame(res_2, columns=['qid', 'rank', 'docno', 'score'])\n",
        "df[\"ep_id\"]=df[\"docno\"].apply(lambda x: x.split(\"_\")[1].split(\"-\")[0])\n",
        "df[\"episode\"]=df[\"docno\"].apply(lambda x: x.split(\"_\")[0])\n",
        "df[\"docno\"]=df.apply(lambda x: get_ep(x[\"episode\"],x[\"ep_id\"]),axis=1)\n",
        "df[\"docno\"]=df[\"docno\"]+\".0\"\n",
        "rsl=df[[\"qid\",\"docno\",\"rank\",\"score\"]]\n",
        "df_2[\"ep_id\"]=df_2[\"docno\"].apply(lambda x: x.split(\"_\")[1].split(\"-\")[0])\n",
        "df_2[\"episode\"]=df_2[\"docno\"].apply(lambda x: x.split(\"_\")[0])\n",
        "df_2[\"docno\"]=df_2.apply(lambda x: get_ep(x[\"episode\"],x[\"ep_id\"]),axis=1)\n",
        "df_2[\"docno\"]=df_2[\"docno\"]+\".0\"\n",
        "\n",
        "rsl=df[[\"qid\",\"docno\",\"rank\",\"score\"]]\n",
        "\n",
        "rsl_2=df_2[[\"qid\",\"docno\",\"rank\",\"score\"]]\n",
        "\n",
        "\n",
        "qrels_path=(\"/content/drive/MyDrive/IRDM/podcasts_2020_test.qrels\")\n",
        "qrels = pt.io.read_qrels(qrels_path)\n",
        "\n",
        "print(\"Dirichlet LM\")\n",
        "print(pt.Utils.evaluate(rsl,qrels,metrics=['map',\"ndcg\",\"ndcg_cut_30\",\"P_10\"]))\n",
        "print(\"PL 2 \")\n",
        "print(pt.Utils.evaluate(rsl_2,qrels,metrics=['map',\"ndcg\",\"ndcg_cut_30\",\"P_10\"]))"
      ]
    },
    {
      "cell_type": "code",
      "source": [
        "\n",
        "def get_retr(index, param_b, param_k1):\n",
        "    retr = pt.BatchRetrieve(index, controls={'wmodel': \"BM25\", \"c\": param_b},\n",
        "        properties={'bm25.k_1': param_k1})\n",
        "    return retr\n",
        "\n",
        "def get_dph(index):\n",
        "    return pt.BatchRetrieve(index, controls={\"wmodel\": \"DPH\"})\n",
        "\n",
        "bm25 = get_retr(index, 0.6, 0.5) >> \\\n",
        "            pt.pipelines.PerQueryMaxMinScoreTransformer()\n",
        "dph = get_dph(index) >> \\\n",
        "            pt.pipelines.PerQueryMaxMinScoreTransformer()\n",
        "combined = bm25 + dph\n",
        "\n",
        "\n",
        "qe = pt.BatchRetrieve(index, controls={'wmodel': \"DPH\"}) >> \\\n",
        "            pt.rewrite.QueryExpansion(index, fb_terms=10, fb_docs=3) >> \\\n",
        "            pt.BatchRetrieve(index, controls={'wmodel': \"DPH\"})\n",
        "\n",
        "\n",
        "topics = pt.io.read_topics(\"/content/drive/MyDrive/IRDM/podcasts_2020_topics_test.xml\",format=\"trecxml\")\n",
        "\n",
        "\n",
        "import pandas as pd\n",
        "id_template = 'spotify:episode:{}_{}'\n",
        "res=combined.transform(topics)\n",
        "res_2=qe.transform(topics)\n",
        "df = pd.DataFrame(res, columns=['qid', 'rank', 'docno', 'score'])\n",
        "df_2=pd.DataFrame(res_2, columns=['qid', 'rank', 'docno', 'score'])\n",
        "\n",
        "df[\"ep_id\"]=df[\"docno\"].apply(lambda x: x.split(\"_\")[1].split(\"-\")[0])\n",
        "df[\"episode\"]=df[\"docno\"].apply(lambda x: x.split(\"_\")[0])\n",
        "df[\"docno\"]=df.apply(lambda x: get_ep(x[\"episode\"],x[\"ep_id\"]),axis=1)\n",
        "df[\"docno\"]=df[\"docno\"]+\".0\"\n",
        "rsl=df[[\"qid\",\"docno\",\"rank\",\"score\"]]\n",
        "df_2[\"ep_id\"]=df_2[\"docno\"].apply(lambda x: x.split(\"_\")[1].split(\"-\")[0])\n",
        "df_2[\"episode\"]=df_2[\"docno\"].apply(lambda x: x.split(\"_\")[0])\n",
        "df_2[\"docno\"]=df_2.apply(lambda x: get_ep(x[\"episode\"],x[\"ep_id\"]),axis=1)\n",
        "df_2[\"docno\"]=df_2[\"docno\"]+\".0\"\n",
        "rsl=df[[\"qid\",\"docno\",\"rank\",\"score\"]]\n",
        "rsl_2=df_2[[\"qid\",\"docno\",\"rank\",\"score\"]]\n",
        "\n",
        "qrels_path=(\"/content/drive/MyDrive/IRDM/podcasts_2020_test.qrels\")\n",
        "qrels = pt.io.read_qrels(qrels_path)\n",
        "print(\"BM 25 + DPH\")\n",
        "print(pt.Utils.evaluate(rsl,qrels,metrics=['map',\"ndcg\",\"ndcg_cut_30\",\"P_10\"]))\n",
        "print(\"DPH QE \")\n",
        "print(pt.Utils.evaluate(rsl_2,qrels,metrics=['map',\"ndcg\",\"ndcg_cut_30\",\"P_10\"]))"
      ],
      "metadata": {
        "colab": {
          "base_uri": "https://localhost:8080/"
        },
        "id": "9AokriYb2qHe",
        "outputId": "46e57274-68a0-4b51-e5b7-c06deeee3efb"
      },
      "execution_count": null,
      "outputs": [
        {
          "output_type": "stream",
          "name": "stdout",
          "text": [
            "02:14:06.784 [main] WARN org.terrier.querying.QueryExpansion - qemodel control not set for QueryExpansion post process. Using default model Bo1\n",
            "BM 25 + DPH\n",
            "{'map': 0.31948797338163054, 'ndcg': 0.5350740298395601, 'ndcg_cut_30': 0.3755865400510014, 'P_10': 0.4583333333333334}\n",
            "DPH QE \n",
            "{'map': 0.3322469354019687, 'ndcg': 0.5425089432305128, 'ndcg_cut_30': 0.39431028666872137, 'P_10': 0.4708333333333334}\n"
          ]
        }
      ]
    },
    {
      "cell_type": "code",
      "source": [
        "\n",
        "def get_retr(index, param_b, param_k1):\n",
        "    retr = pt.BatchRetrieve(index, controls={'wmodel': \"BM25\", \"c\": param_b},\n",
        "        properties={'bm25.k_1': param_k1})\n",
        "    return retr\n",
        "\n",
        "def get_dph(index):\n",
        "    return pt.BatchRetrieve(index, controls={\"wmodel\": \"DPH\"})\n",
        "\n",
        "bm25 = get_retr(index, 0.6, 0.5) >> \\\n",
        "            pt.pipelines.PerQueryMaxMinScoreTransformer()\n",
        "dph = get_dph(index) >> \\\n",
        "            pt.pipelines.PerQueryMaxMinScoreTransformer()\n",
        "union = bm25 | dph\n",
        "\n",
        "intersection = bm25 & dph\n",
        "\n",
        "\n",
        "topics = pt.io.read_topics(\"/content/drive/MyDrive/IRDM/podcasts_2020_topics_test.xml\",format=\"trecxml\")\n",
        "\n",
        "\n",
        "import pandas as pd\n",
        "id_template = 'spotify:episode:{}_{}'\n",
        "res=union.transform(topics)\n",
        "res_2=intersection.transform(topics)\n",
        "df = pd.DataFrame(res, columns=['qid', 'rank', 'docno', 'score'])\n",
        "df_2=pd.DataFrame(res_2, columns=['qid', 'rank', 'docno', 'score'])\n",
        "\n",
        "df[\"ep_id\"]=df[\"docno\"].apply(lambda x: x.split(\"_\")[1].split(\"-\")[0])\n",
        "df[\"episode\"]=df[\"docno\"].apply(lambda x: x.split(\"_\")[0])\n",
        "df[\"docno\"]=df.apply(lambda x: get_ep(x[\"episode\"],x[\"ep_id\"]),axis=1)\n",
        "df[\"docno\"]=df[\"docno\"]+\".0\"\n",
        "rsl=df[[\"qid\",\"docno\",\"rank\",\"score\"]]\n",
        "df_2[\"ep_id\"]=df_2[\"docno\"].apply(lambda x: x.split(\"_\")[1].split(\"-\")[0])\n",
        "df_2[\"episode\"]=df_2[\"docno\"].apply(lambda x: x.split(\"_\")[0])\n",
        "df_2[\"docno\"]=df_2.apply(lambda x: get_ep(x[\"episode\"],x[\"ep_id\"]),axis=1)\n",
        "df_2[\"docno\"]=df_2[\"docno\"]+\".0\"\n",
        "rsl=df[[\"qid\",\"docno\",\"rank\",\"score\"]]\n",
        "rsl_2=df_2[[\"qid\",\"docno\",\"rank\",\"score\"]]\n",
        "qrels_path=(\"/content/drive/MyDrive/IRDM/podcasts_2020_test.qrels\")\n",
        "qrels = pt.io.read_qrels(qrels_path)\n",
        "print(\"BM 25  DPH Union\")\n",
        "print(pt.Utils.evaluate(rsl,qrels,metrics=['map',\"ndcg\",\"ndcg_cut_30\",\"P_10\"]))\n",
        "print(\"BM 25 Intersection \")\n",
        "print(pt.Utils.evaluate(rsl_2,qrels,metrics=['map',\"ndcg\",\"ndcg_cut_30\",\"P_10\"]))"
      ],
      "metadata": {
        "colab": {
          "base_uri": "https://localhost:8080/"
        },
        "id": "Vvs3YnzC2vO4",
        "outputId": "53952599-5fdd-449d-d036-1145a54759d8"
      },
      "execution_count": null,
      "outputs": [
        {
          "output_type": "stream",
          "name": "stdout",
          "text": [
            "BM 25  DPH Union\n",
            "{'map': 0.046303656210762066, 'ndcg': 0.2990217862718269, 'ndcg_cut_30': 0.03763803837133194, 'P_10': 0.029166666666666674}\n",
            "BM 25 Intersection \n",
            "{'map': 0.05915750569942802, 'ndcg': 0.30936610658092584, 'ndcg_cut_30': 0.04839162462111141, 'P_10': 0.04375000000000001}\n"
          ]
        }
      ]
    },
    {
      "cell_type": "code",
      "execution_count": null,
      "metadata": {
        "id": "Fcl5EtcmoF4K",
        "colab": {
          "base_uri": "https://localhost:8080/"
        },
        "outputId": "e81dca1b-d1f2-4840-ca8c-8f058b8f31aa"
      },
      "outputs": [
        {
          "output_type": "stream",
          "name": "stdout",
          "text": [
            "BM 25 + PL2\n",
            "{'map': 0.32169708284705717, 'ndcg': 0.5391265662070295, 'ndcg_cut_30': 0.3851847555337686, 'P_10': 0.48333333333333345}\n",
            "pl2 + DPH \n",
            "{'map': 0.31834581358744846, 'ndcg': 0.5382053910649885, 'ndcg_cut_30': 0.37865648854345046, 'P_10': 0.4645833333333334}\n"
          ]
        }
      ],
      "source": [
        "bm25 = pt.BatchRetrieve(index, controls={\"wmodel\":\"BM25\",\"c\":0.6}, metadata=[\"docno\",'text'],properties={\"bm25.k_1\":0.5})\n",
        "ret= pt.BatchRetrieve(index, controls={\"wmodel\": \"DPH\"})\n",
        "pl2= pt.BatchRetrieve(index, controls={\"wmodel\": \"PL2\",\"c\":20},metadata=[\"docno\",'text'])\n",
        "\n",
        "\n",
        "topics = pt.io.read_topics(\"/content/drive/MyDrive/IRDM/podcasts_2020_topics_test.xml\",format=\"trecxml\")\n",
        "\n",
        "mod= bm25+pl2\n",
        "mod2= pl2+dph\n",
        "import pandas as pd\n",
        "id_template = 'spotify:episode:{}_{}'\n",
        "res=mod.transform(topics)\n",
        "res_2=mod2.transform(topics)\n",
        "df = pd.DataFrame(res, columns=['qid', 'rank', 'docno', 'score'])\n",
        "df_2=pd.DataFrame(res_2, columns=['qid', 'rank', 'docno', 'score'])\n",
        "df[\"ep_id\"]=df[\"docno\"].apply(lambda x: x.split(\"_\")[1].split(\"-\")[0])\n",
        "df[\"episode\"]=df[\"docno\"].apply(lambda x: x.split(\"_\")[0])\n",
        "df[\"docno\"]=df.apply(lambda x: get_ep(x[\"episode\"],x[\"ep_id\"]),axis=1)\n",
        "df[\"docno\"]=df[\"docno\"]+\".0\"\n",
        "rsl=df[[\"qid\",\"docno\",\"rank\",\"score\"]]\n",
        "df_2[\"ep_id\"]=df_2[\"docno\"].apply(lambda x: x.split(\"_\")[1].split(\"-\")[0])\n",
        "df_2[\"episode\"]=df_2[\"docno\"].apply(lambda x: x.split(\"_\")[0])\n",
        "df_2[\"docno\"]=df_2.apply(lambda x: get_ep(x[\"episode\"],x[\"ep_id\"]),axis=1)\n",
        "df_2[\"docno\"]=df_2[\"docno\"]+\".0\"\n",
        "rsl=df[[\"qid\",\"docno\",\"rank\",\"score\"]]\n",
        "rsl_2=df_2[[\"qid\",\"docno\",\"rank\",\"score\"]]\n",
        "qrels_path=(\"/content/drive/MyDrive/IRDM/podcasts_2020_test.qrels\")\n",
        "qrels = pt.io.read_qrels(qrels_path)\n",
        "print(\"BM 25 + PL2\")\n",
        "print(pt.Utils.evaluate(rsl,qrels,metrics=['map',\"ndcg\",\"ndcg_cut_30\",\"P_10\"]))\n",
        "print(\"pl2 + DPH \")\n",
        "print(pt.Utils.evaluate(rsl_2,qrels,metrics=['map',\"ndcg\",\"ndcg_cut_30\",\"P_10\"]))"
      ]
    },
    {
      "cell_type": "markdown",
      "source": [
        "*More On Query Expansion*\n"
      ],
      "metadata": {
        "id": "SbKAnSkNqtpo"
      }
    },
    {
      "cell_type": "markdown",
      "source": [
        "DPH with 15 Terms \n"
      ],
      "metadata": {
        "id": "8fH7gnB1zmMi"
      }
    },
    {
      "cell_type": "code",
      "source": [
        "\n",
        "qe = pt.BatchRetrieve(index, controls={'wmodel': \"DPH\"}) >> \\\n",
        "            pt.rewrite.QueryExpansion(index, fb_terms=15, fb_docs=3) >> \\\n",
        "            pt.BatchRetrieve(index, controls={'wmodel': \"DPH\"})\n",
        "\n",
        "\n",
        "topics = pt.io.read_topics(\"/content/drive/MyDrive/IRDM/topic01.xml\",format=\"trecxml\")\n",
        "\n",
        "\n",
        "import pandas as pd\n",
        "id_template = 'spotify:episode:{}_{}'\n",
        "res=qe.transform(topics)\n",
        "\n",
        "df = pd.DataFrame(res, columns=['qid', 'rank', 'docno', 'score'])\n",
        "\n",
        "\n",
        "df[\"ep_id\"]=df[\"docno\"].apply(lambda x: x.split(\"_\")[1].split(\"-\")[0])\n",
        "df[\"episode\"]=df[\"docno\"].apply(lambda x: x.split(\"_\")[0])\n",
        "df[\"docno\"]=df.apply(lambda x: get_ep(x[\"episode\"],x[\"ep_id\"]),axis=1)\n",
        "df[\"docno\"]=df[\"docno\"]+\".0\"\n",
        "rsl=df[[\"qid\",\"docno\",\"rank\",\"score\"]]\n",
        "\n",
        "rsl=df[[\"qid\",\"docno\",\"rank\",\"score\"]]\n",
        "\n",
        "\n",
        "qrels_path=(\"/content/drive/MyDrive/IRDM/podcasts_2020_train.1-8.qrels\")\n",
        "qrels = pt.io.read_qrels(qrels_path)\n",
        "print(\"DPH QE \")\n",
        "print(pt.Utils.evaluate(rsl,qrels,metrics=['map',\"ndcg\",\"ndcg_cut_30\",\"P_10\"]))"
      ],
      "metadata": {
        "colab": {
          "base_uri": "https://localhost:8080/"
        },
        "id": "Ie61C-WAqtAY",
        "outputId": "848ae798-46cb-4936-a44f-469ec076546d"
      },
      "execution_count": null,
      "outputs": [
        {
          "output_type": "stream",
          "name": "stdout",
          "text": [
            "19:36:35.640 [main] WARN org.terrier.querying.QueryExpansion - qemodel control not set for QueryExpansion post process. Using default model Bo1\n",
            "DPH QE \n",
            "{'map': 0.27436183054573854, 'ndcg': 0.4485519984379497, 'ndcg_cut_30': 0.30666349424971995, 'P_10': 0.3875}\n"
          ]
        }
      ]
    },
    {
      "cell_type": "markdown",
      "source": [
        "BM25 as the first ranker (with 10 terms)"
      ],
      "metadata": {
        "id": "aVd6k4pa0WOL"
      }
    },
    {
      "cell_type": "code",
      "source": [
        "\n",
        "qe = pt.BatchRetrieve(index, controls={'wmodel': \"BM25\"}) >> \\\n",
        "            pt.rewrite.QueryExpansion(index, fb_terms=10, fb_docs=3) >> \\\n",
        "            pt.BatchRetrieve(index, controls={'wmodel': \"DPH\"})\n",
        "\n",
        "\n",
        "topics = pt.io.read_topics(\"/content/drive/MyDrive/IRDM/topic01.xml\",format=\"trecxml\")\n",
        "\n",
        "\n",
        "import pandas as pd\n",
        "id_template = 'spotify:episode:{}_{}'\n",
        "res=qe.transform(topics)\n",
        "\n",
        "df = pd.DataFrame(res, columns=['qid', 'rank', 'docno', 'score'])\n",
        "\n",
        "\n",
        "df[\"ep_id\"]=df[\"docno\"].apply(lambda x: x.split(\"_\")[1].split(\"-\")[0])\n",
        "df[\"episode\"]=df[\"docno\"].apply(lambda x: x.split(\"_\")[0])\n",
        "df[\"docno\"]=df.apply(lambda x: get_ep(x[\"episode\"],x[\"ep_id\"]),axis=1)\n",
        "df[\"docno\"]=df[\"docno\"]+\".0\"\n",
        "rsl=df[[\"qid\",\"docno\",\"rank\",\"score\"]]\n",
        "\n",
        "rsl=df[[\"qid\",\"docno\",\"rank\",\"score\"]]\n",
        "\n",
        "\n",
        "qrels_path=(\"/content/drive/MyDrive/IRDM/podcasts_2020_train.1-8.qrels\")\n",
        "qrels = pt.io.read_qrels(qrels_path)\n",
        "print(\"DPH QE \")\n",
        "print(pt.Utils.evaluate(rsl,qrels,metrics=['map',\"ndcg\",\"ndcg_cut_30\",\"P_10\"]))"
      ],
      "metadata": {
        "colab": {
          "base_uri": "https://localhost:8080/"
        },
        "id": "G-Nv6M1KzujM",
        "outputId": "849ee099-6981-4162-c7f5-60adcb8317df"
      },
      "execution_count": null,
      "outputs": [
        {
          "output_type": "stream",
          "name": "stdout",
          "text": [
            "19:38:59.581 [main] WARN org.terrier.querying.QueryExpansion - qemodel control not set for QueryExpansion post process. Using default model Bo1\n",
            "DPH QE \n",
            "{'map': 0.27344076274051743, 'ndcg': 0.4487360096635296, 'ndcg_cut_30': 0.30855921591131485, 'P_10': 0.3875}\n"
          ]
        }
      ]
    },
    {
      "cell_type": "markdown",
      "source": [
        "BM 25 as the final ranker with 15 terms \n"
      ],
      "metadata": {
        "id": "0YQlEPfO0lSj"
      }
    },
    {
      "cell_type": "code",
      "source": [
        "\n",
        "qe = pt.BatchRetrieve(index, controls={'wmodel': \"BM25\"}) >> \\\n",
        "            pt.rewrite.QueryExpansion(index, fb_terms=15, fb_docs=3) >> \\\n",
        "            pt.BatchRetrieve(index, controls={'wmodel': \"DPH\"})\n",
        "\n",
        "\n",
        "topics = pt.io.read_topics(\"/content/drive/MyDrive/IRDM/topic01.xml\",format=\"trecxml\")\n",
        "\n",
        "\n",
        "import pandas as pd\n",
        "id_template = 'spotify:episode:{}_{}'\n",
        "res=qe.transform(topics)\n",
        "\n",
        "df = pd.DataFrame(res, columns=['qid', 'rank', 'docno', 'score'])\n",
        "\n",
        "\n",
        "df[\"ep_id\"]=df[\"docno\"].apply(lambda x: x.split(\"_\")[1].split(\"-\")[0])\n",
        "df[\"episode\"]=df[\"docno\"].apply(lambda x: x.split(\"_\")[0])\n",
        "df[\"docno\"]=df.apply(lambda x: get_ep(x[\"episode\"],x[\"ep_id\"]),axis=1)\n",
        "df[\"docno\"]=df[\"docno\"]+\".0\"\n",
        "rsl=df[[\"qid\",\"docno\",\"rank\",\"score\"]]\n",
        "\n",
        "rsl=df[[\"qid\",\"docno\",\"rank\",\"score\"]]\n",
        "\n",
        "\n",
        "qrels_path=(\"/content/drive/MyDrive/IRDM/podcasts_2020_train.1-8.qrels\")\n",
        "qrels = pt.io.read_qrels(qrels_path)\n",
        "print(\"DPH QE \")\n",
        "print(pt.Utils.evaluate(rsl,qrels,metrics=['map',\"ndcg\",\"ndcg_cut_30\",\"P_10\"]))"
      ],
      "metadata": {
        "colab": {
          "base_uri": "https://localhost:8080/"
        },
        "id": "myObDdJa0Ot_",
        "outputId": "493667f2-c997-4687-979b-f261c48779e0"
      },
      "execution_count": null,
      "outputs": [
        {
          "output_type": "stream",
          "name": "stdout",
          "text": [
            "19:40:30.092 [main] WARN org.terrier.querying.QueryExpansion - qemodel control not set for QueryExpansion post process. Using default model Bo1\n",
            "DPH QE \n",
            "{'map': 0.27436183054573854, 'ndcg': 0.4485519984379497, 'ndcg_cut_30': 0.30666349424971995, 'P_10': 0.3875}\n"
          ]
        }
      ]
    },
    {
      "cell_type": "code",
      "source": [
        "\n",
        "qe = pt.BatchRetrieve(index, controls={'wmodel': \"BM25\"}) >> \\\n",
        "            pt.rewrite.QueryExpansion(index, fb_terms=10, fb_docs=6) >> \\\n",
        "            pt.BatchRetrieve(index, controls={'wmodel': \"DPH\"})\n",
        "\n",
        "\n",
        "topics = pt.io.read_topics(\"/content/drive/MyDrive/IRDM/topic01.xml\",format=\"trecxml\")\n",
        "\n",
        "\n",
        "import pandas as pd\n",
        "id_template = 'spotify:episode:{}_{}'\n",
        "res=qe.transform(topics)\n",
        "\n",
        "df = pd.DataFrame(res, columns=['qid', 'rank', 'docno', 'score'])\n",
        "\n",
        "\n",
        "df[\"ep_id\"]=df[\"docno\"].apply(lambda x: x.split(\"_\")[1].split(\"-\")[0])\n",
        "df[\"episode\"]=df[\"docno\"].apply(lambda x: x.split(\"_\")[0])\n",
        "df[\"docno\"]=df.apply(lambda x: get_ep(x[\"episode\"],x[\"ep_id\"]),axis=1)\n",
        "df[\"docno\"]=df[\"docno\"]+\".0\"\n",
        "rsl=df[[\"qid\",\"docno\",\"rank\",\"score\"]]\n",
        "\n",
        "rsl=df[[\"qid\",\"docno\",\"rank\",\"score\"]]\n",
        "\n",
        "\n",
        "qrels_path=(\"/content/drive/MyDrive/IRDM/podcasts_2020_train.1-8.qrels\")\n",
        "qrels = pt.io.read_qrels(qrels_path)\n",
        "print(\"DPH QE \")\n",
        "print(pt.Utils.evaluate(rsl,qrels,metrics=['map',\"ndcg\",\"ndcg_cut_30\",\"P_10\"]))"
      ],
      "metadata": {
        "colab": {
          "base_uri": "https://localhost:8080/"
        },
        "id": "lzjk7RmH02Og",
        "outputId": "7f57f199-9023-438c-e10f-da7ab1d81e3d"
      },
      "execution_count": null,
      "outputs": [
        {
          "output_type": "stream",
          "name": "stdout",
          "text": [
            "20:12:10.914 [main] WARN org.terrier.querying.QueryExpansion - qemodel control not set for QueryExpansion post process. Using default model Bo1\n",
            "DPH QE \n",
            "{'map': 0.29104825293081976, 'ndcg': 0.44972399030108157, 'ndcg_cut_30': 0.3188111792728916, 'P_10': 0.3875}\n"
          ]
        }
      ]
    },
    {
      "cell_type": "code",
      "source": [
        "\n",
        "qe = pt.BatchRetrieve(index, controls={'wmodel': \"BM25\"}) >> \\\n",
        "            pt.rewrite.QueryExpansion(index, fb_terms=15, fb_docs=6) >> \\\n",
        "            pt.BatchRetrieve(index, controls={'wmodel': \"DPH\"})\n",
        "\n",
        "\n",
        "topics = pt.io.read_topics(\"/content/drive/MyDrive/IRDM/topic01.xml\",format=\"trecxml\")\n",
        "\n",
        "\n",
        "import pandas as pd\n",
        "id_template = 'spotify:episode:{}_{}'\n",
        "res=qe.transform(topics)\n",
        "\n",
        "df = pd.DataFrame(res, columns=['qid', 'rank', 'docno', 'score'])\n",
        "\n",
        "\n",
        "df[\"ep_id\"]=df[\"docno\"].apply(lambda x: x.split(\"_\")[1].split(\"-\")[0])\n",
        "df[\"episode\"]=df[\"docno\"].apply(lambda x: x.split(\"_\")[0])\n",
        "df[\"docno\"]=df.apply(lambda x: get_ep(x[\"episode\"],x[\"ep_id\"]),axis=1)\n",
        "df[\"docno\"]=df[\"docno\"]+\".0\"\n",
        "rsl=df[[\"qid\",\"docno\",\"rank\",\"score\"]]\n",
        "\n",
        "rsl=df[[\"qid\",\"docno\",\"rank\",\"score\"]]\n",
        "\n",
        "\n",
        "qrels_path=(\"/content/drive/MyDrive/IRDM/podcasts_2020_train.1-8.qrels\")\n",
        "qrels = pt.io.read_qrels(qrels_path)\n",
        "print(\"DPH QE \")\n",
        "print(pt.Utils.evaluate(rsl,qrels,metrics=['map',\"ndcg\",\"ndcg_cut_30\",\"P_10\"]))"
      ],
      "metadata": {
        "colab": {
          "base_uri": "https://localhost:8080/"
        },
        "id": "Ci59c3VI741H",
        "outputId": "7412401f-fd3a-4d5e-ab18-86b224ed94a2"
      },
      "execution_count": null,
      "outputs": [
        {
          "output_type": "stream",
          "name": "stdout",
          "text": [
            "20:14:06.667 [main] WARN org.terrier.querying.QueryExpansion - qemodel control not set for QueryExpansion post process. Using default model Bo1\n",
            "DPH QE \n",
            "{'map': 0.2912846570469991, 'ndcg': 0.45041761499567534, 'ndcg_cut_30': 0.3154571997207201, 'P_10': 0.4}\n"
          ]
        }
      ]
    },
    {
      "cell_type": "code",
      "source": [
        "\n",
        "qe = pt.BatchRetrieve(index, controls={'wmodel': \"BM25\"}) >> \\\n",
        "            pt.rewrite.QueryExpansion(index, fb_terms=20, fb_docs=6) >> \\\n",
        "            pt.BatchRetrieve(index, controls={'wmodel': \"DPH\"})\n",
        "\n",
        "\n",
        "topics = pt.io.read_topics(\"/content/drive/MyDrive/IRDM/topic01.xml\",format=\"trecxml\")\n",
        "\n",
        "\n",
        "import pandas as pd\n",
        "id_template = 'spotify:episode:{}_{}'\n",
        "res=qe.transform(topics)\n",
        "\n",
        "df = pd.DataFrame(res, columns=['qid', 'rank', 'docno', 'score'])\n",
        "\n",
        "\n",
        "df[\"ep_id\"]=df[\"docno\"].apply(lambda x: x.split(\"_\")[1].split(\"-\")[0])\n",
        "df[\"episode\"]=df[\"docno\"].apply(lambda x: x.split(\"_\")[0])\n",
        "df[\"docno\"]=df.apply(lambda x: get_ep(x[\"episode\"],x[\"ep_id\"]),axis=1)\n",
        "df[\"docno\"]=df[\"docno\"]+\".0\"\n",
        "rsl=df[[\"qid\",\"docno\",\"rank\",\"score\"]]\n",
        "\n",
        "rsl=df[[\"qid\",\"docno\",\"rank\",\"score\"]]\n",
        "\n",
        "\n",
        "qrels_path=(\"/content/drive/MyDrive/IRDM/podcasts_2020_train.1-8.qrels\")\n",
        "qrels = pt.io.read_qrels(qrels_path)\n",
        "print(\"DPH QE \")\n",
        "print(pt.Utils.evaluate(rsl,qrels,metrics=['map',\"ndcg\",\"ndcg_cut_30\",\"P_10\"]))"
      ],
      "metadata": {
        "colab": {
          "base_uri": "https://localhost:8080/"
        },
        "id": "HRl1_nGO8GjC",
        "outputId": "d7f7c6a6-df39-4cfd-c2fb-1d12d9f748c3"
      },
      "execution_count": null,
      "outputs": [
        {
          "output_type": "stream",
          "name": "stdout",
          "text": [
            "20:14:47.830 [main] WARN org.terrier.querying.QueryExpansion - qemodel control not set for QueryExpansion post process. Using default model Bo1\n",
            "DPH QE \n",
            "{'map': 0.29416775574078113, 'ndcg': 0.45167378839993744, 'ndcg_cut_30': 0.31174774087523094, 'P_10': 0.41250000000000003}\n"
          ]
        }
      ]
    },
    {
      "cell_type": "code",
      "source": [
        "\n",
        "qe = pt.BatchRetrieve(index, controls={'wmodel': \"BM25\"}) >> \\\n",
        "            pt.rewrite.QueryExpansion(index, fb_terms=15, fb_docs=6) >> \\\n",
        "            pt.BatchRetrieve(index, controls={'wmodel': \"PL2\",\"c\":20})\n",
        "\n",
        "\n",
        "topics = pt.io.read_topics(\"/content/drive/MyDrive/IRDM/topic01.xml\",format=\"trecxml\")\n",
        "\n",
        "\n",
        "import pandas as pd\n",
        "id_template = 'spotify:episode:{}_{}'\n",
        "res=qe.transform(topics)\n",
        "\n",
        "df = pd.DataFrame(res, columns=['qid', 'rank', 'docno', 'score'])\n",
        "\n",
        "\n",
        "df[\"ep_id\"]=df[\"docno\"].apply(lambda x: x.split(\"_\")[1].split(\"-\")[0])\n",
        "df[\"episode\"]=df[\"docno\"].apply(lambda x: x.split(\"_\")[0])\n",
        "df[\"docno\"]=df.apply(lambda x: get_ep(x[\"episode\"],x[\"ep_id\"]),axis=1)\n",
        "df[\"docno\"]=df[\"docno\"]+\".0\"\n",
        "rsl=df[[\"qid\",\"docno\",\"rank\",\"score\"]]\n",
        "\n",
        "rsl=df[[\"qid\",\"docno\",\"rank\",\"score\"]]\n",
        "\n",
        "\n",
        "qrels_path=(\"/content/drive/MyDrive/IRDM/podcasts_2020_train.1-8.qrels\")\n",
        "qrels = pt.io.read_qrels(qrels_path)\n",
        "print(\"DPH QE \")\n",
        "print(pt.Utils.evaluate(rsl,qrels,metrics=['map',\"ndcg\",\"ndcg_cut_30\",\"P_10\"]))"
      ],
      "metadata": {
        "colab": {
          "base_uri": "https://localhost:8080/"
        },
        "id": "2ofG2Mlu8Xby",
        "outputId": "6302f5e1-3f10-48d1-c5b5-50e08d8bf6b4"
      },
      "execution_count": null,
      "outputs": [
        {
          "output_type": "stream",
          "name": "stdout",
          "text": [
            "20:18:15.005 [main] WARN org.terrier.querying.QueryExpansion - qemodel control not set for QueryExpansion post process. Using default model Bo1\n",
            "DPH QE \n",
            "{'map': 0.2930636823402478, 'ndcg': 0.4530442261142845, 'ndcg_cut_30': 0.3183466661379537, 'P_10': 0.4}\n"
          ]
        }
      ]
    },
    {
      "cell_type": "code",
      "source": [],
      "metadata": {
        "id": "RVeo_U6y9NpF"
      },
      "execution_count": null,
      "outputs": []
    },
    {
      "cell_type": "markdown",
      "source": [
        "Evaluation of Query Expansion Models on Training set\n"
      ],
      "metadata": {
        "id": "mZx7ehvE9RMY"
      }
    },
    {
      "cell_type": "code",
      "source": [
        "\n",
        "qe = pt.BatchRetrieve(index, controls={'wmodel': \"DPH\"}) >> \\\n",
        "            pt.rewrite.QueryExpansion(index, fb_terms=15, fb_docs=3) >> \\\n",
        "            pt.BatchRetrieve(index, controls={'wmodel': \"DPH\"})\n",
        "\n",
        "\n",
        "topics = pt.io.read_topics(\"/content/drive/MyDrive/IRDM/podcasts_2020_topics_test.xml\",format=\"trecxml\")\n",
        "\n",
        "\n",
        "import pandas as pd\n",
        "id_template = 'spotify:episode:{}_{}'\n",
        "res=qe.transform(topics)\n",
        "\n",
        "df = pd.DataFrame(res, columns=['qid', 'rank', 'docno', 'score'])\n",
        "\n",
        "\n",
        "df[\"ep_id\"]=df[\"docno\"].apply(lambda x: x.split(\"_\")[1].split(\"-\")[0])\n",
        "df[\"episode\"]=df[\"docno\"].apply(lambda x: x.split(\"_\")[0])\n",
        "df[\"docno\"]=df.apply(lambda x: get_ep(x[\"episode\"],x[\"ep_id\"]),axis=1)\n",
        "df[\"docno\"]=df[\"docno\"]+\".0\"\n",
        "rsl=df[[\"qid\",\"docno\",\"rank\",\"score\"]]\n",
        "\n",
        "rsl=df[[\"qid\",\"docno\",\"rank\",\"score\"]]\n",
        "\n",
        "\n",
        "qrels_path=(\"/content/drive/MyDrive/IRDM/podcasts_2020_test.qrels\")\n",
        "qrels = pt.io.read_qrels(qrels_path)\n",
        "print(\"DPH QE \")\n",
        "print(pt.Utils.evaluate(rsl,qrels,metrics=['map',\"ndcg\",\"ndcg_cut_30\",\"P_10\"]))"
      ],
      "metadata": {
        "colab": {
          "base_uri": "https://localhost:8080/"
        },
        "id": "WNHLIZSo9Qkh",
        "outputId": "b9a6c026-64c0-48e8-97f3-2c7edb641544"
      },
      "execution_count": null,
      "outputs": [
        {
          "output_type": "stream",
          "name": "stdout",
          "text": [
            "20:22:05.715 [main] WARN org.terrier.querying.QueryExpansion - qemodel control not set for QueryExpansion post process. Using default model Bo1\n",
            "DPH QE \n",
            "{'map': 0.33277637807064436, 'ndcg': 0.5425046256940795, 'ndcg_cut_30': 0.3969099795512426, 'P_10': 0.4604166666666667}\n"
          ]
        }
      ]
    },
    {
      "cell_type": "code",
      "source": [
        "\n",
        "qe = pt.BatchRetrieve(index, controls={'wmodel': \"BM25\"}) >> \\\n",
        "            pt.rewrite.QueryExpansion(index, fb_terms=15, fb_docs=3) >> \\\n",
        "            pt.BatchRetrieve(index, controls={'wmodel': \"DPH\"})\n",
        "\n",
        "\n",
        "topics = pt.io.read_topics(\"/content/drive/MyDrive/IRDM/podcasts_2020_topics_test.xml\",format=\"trecxml\")\n",
        "\n",
        "\n",
        "import pandas as pd\n",
        "id_template = 'spotify:episode:{}_{}'\n",
        "res=qe.transform(topics)\n",
        "\n",
        "df = pd.DataFrame(res, columns=['qid', 'rank', 'docno', 'score'])\n",
        "\n",
        "\n",
        "df[\"ep_id\"]=df[\"docno\"].apply(lambda x: x.split(\"_\")[1].split(\"-\")[0])\n",
        "df[\"episode\"]=df[\"docno\"].apply(lambda x: x.split(\"_\")[0])\n",
        "df[\"docno\"]=df.apply(lambda x: get_ep(x[\"episode\"],x[\"ep_id\"]),axis=1)\n",
        "df[\"docno\"]=df[\"docno\"]+\".0\"\n",
        "rsl=df[[\"qid\",\"docno\",\"rank\",\"score\"]]\n",
        "\n",
        "rsl=df[[\"qid\",\"docno\",\"rank\",\"score\"]]\n",
        "\n",
        "\n",
        "qrels_path=(\"/content/drive/MyDrive/IRDM/podcasts_2020_test.qrels\")\n",
        "qrels = pt.io.read_qrels(qrels_path)\n",
        "print(\"DPH QE \")\n",
        "print(pt.Utils.evaluate(rsl,qrels,metrics=['map',\"ndcg\",\"ndcg_cut_30\",\"P_10\"]))"
      ],
      "metadata": {
        "colab": {
          "base_uri": "https://localhost:8080/"
        },
        "id": "34KAropQ-MVC",
        "outputId": "b41c7527-5b7a-4b68-b3a5-1889955f70b3"
      },
      "execution_count": null,
      "outputs": [
        {
          "output_type": "stream",
          "name": "stdout",
          "text": [
            "20:24:24.580 [main] WARN org.terrier.querying.QueryExpansion - qemodel control not set for QueryExpansion post process. Using default model Bo1\n",
            "DPH QE \n",
            "{'map': 0.33919971900977575, 'ndcg': 0.5459540156285886, 'ndcg_cut_30': 0.39949139817791207, 'P_10': 0.48750000000000004}\n"
          ]
        }
      ]
    },
    {
      "cell_type": "code",
      "source": [
        "\n",
        "qe = pt.BatchRetrieve(index, controls={'wmodel': \"BM25\"}) >> \\\n",
        "            pt.rewrite.QueryExpansion(index, fb_terms=15, fb_docs=6) >> \\\n",
        "            pt.BatchRetrieve(index, controls={'wmodel': \"DPH\"})\n",
        "\n",
        "\n",
        "topics = pt.io.read_topics(\"/content/drive/MyDrive/IRDM/podcasts_2020_topics_test.xml\",format=\"trecxml\")\n",
        "\n",
        "\n",
        "import pandas as pd\n",
        "id_template = 'spotify:episode:{}_{}'\n",
        "res=qe.transform(topics)\n",
        "\n",
        "df = pd.DataFrame(res, columns=['qid', 'rank', 'docno', 'score'])\n",
        "\n",
        "\n",
        "df[\"ep_id\"]=df[\"docno\"].apply(lambda x: x.split(\"_\")[1].split(\"-\")[0])\n",
        "df[\"episode\"]=df[\"docno\"].apply(lambda x: x.split(\"_\")[0])\n",
        "df[\"docno\"]=df.apply(lambda x: get_ep(x[\"episode\"],x[\"ep_id\"]),axis=1)\n",
        "df[\"docno\"]=df[\"docno\"]+\".0\"\n",
        "rsl=df[[\"qid\",\"docno\",\"rank\",\"score\"]]\n",
        "\n",
        "rsl=df[[\"qid\",\"docno\",\"rank\",\"score\"]]\n",
        "\n",
        "\n",
        "qrels_path=(\"/content/drive/MyDrive/IRDM/podcasts_2020_test.qrels\")\n",
        "qrels = pt.io.read_qrels(qrels_path)\n",
        "print(\"DPH QE \")\n",
        "print(pt.Utils.evaluate(rsl,qrels,metrics=['map',\"ndcg\",\"ndcg_cut_30\",\"P_10\"]))"
      ],
      "metadata": {
        "colab": {
          "base_uri": "https://localhost:8080/"
        },
        "id": "GcMjbNFX-_Zg",
        "outputId": "e4c19885-8ad5-4420-adab-2b2c08fb5990"
      },
      "execution_count": null,
      "outputs": [
        {
          "output_type": "stream",
          "name": "stdout",
          "text": [
            "15:30:17.138 [main] WARN org.terrier.querying.QueryExpansion - qemodel control not set for QueryExpansion post process. Using default model Bo1\n",
            "DPH QE \n",
            "{'map': 0.33079485859673624, 'ndcg': 0.5373100931338427, 'ndcg_cut_30': 0.38830125301364155, 'P_10': 0.46875}\n"
          ]
        }
      ]
    },
    {
      "cell_type": "code",
      "source": [
        "\n",
        "qe = pt.BatchRetrieve(index, controls={'wmodel': \"BM25\"}) >> \\\n",
        "            pt.rewrite.QueryExpansion(index, fb_terms=20, fb_docs=6) >> \\\n",
        "            pt.BatchRetrieve(index, controls={'wmodel': \"DPH\"})\n",
        "\n",
        "\n",
        "topics = pt.io.read_topics(\"/content/drive/MyDrive/IRDM/podcasts_2020_topics_test.xml\",format=\"trecxml\")\n",
        "\n",
        "\n",
        "import pandas as pd\n",
        "id_template = 'spotify:episode:{}_{}'\n",
        "res=qe.transform(topics)\n",
        "\n",
        "df = pd.DataFrame(res, columns=['qid', 'rank', 'docno', 'score'])\n",
        "\n",
        "\n",
        "df[\"ep_id\"]=df[\"docno\"].apply(lambda x: x.split(\"_\")[1].split(\"-\")[0])\n",
        "df[\"episode\"]=df[\"docno\"].apply(lambda x: x.split(\"_\")[0])\n",
        "df[\"docno\"]=df.apply(lambda x: get_ep(x[\"episode\"],x[\"ep_id\"]),axis=1)\n",
        "df[\"docno\"]=df[\"docno\"]+\".0\"\n",
        "rsl=df[[\"qid\",\"docno\",\"rank\",\"score\"]]\n",
        "\n",
        "rsl=df[[\"qid\",\"docno\",\"rank\",\"score\"]]\n",
        "\n",
        "\n",
        "qrels_path=(\"/content/drive/MyDrive/IRDM/podcasts_2020_test.qrels\")\n",
        "qrels = pt.io.read_qrels(qrels_path)\n",
        "print(\"DPH QE \")\n",
        "print(pt.Utils.evaluate(rsl,qrels,metrics=['map',\"ndcg\",\"ndcg_cut_30\",\"P_10\"]))"
      ],
      "metadata": {
        "colab": {
          "base_uri": "https://localhost:8080/"
        },
        "id": "i4S4inQhCPhj",
        "outputId": "10fc2b1e-0b9f-41e9-b44e-cc67b83a22dd"
      },
      "execution_count": null,
      "outputs": [
        {
          "output_type": "stream",
          "name": "stdout",
          "text": [
            "20:41:41.601 [main] WARN org.terrier.querying.QueryExpansion - qemodel control not set for QueryExpansion post process. Using default model Bo1\n",
            "DPH QE \n",
            "{'map': 0.3461191976904771, 'ndcg': 0.5520133109315944, 'ndcg_cut_30': 0.4101181714572662, 'P_10': 0.4750000000000001}\n"
          ]
        }
      ]
    },
    {
      "cell_type": "code",
      "source": [
        "\n",
        "qe = pt.BatchRetrieve(index, controls={'wmodel': \"BM25\"}) >> \\\n",
        "            pt.rewrite.QueryExpansion(index, fb_terms=15, fb_docs=6) >> \\\n",
        "            pt.BatchRetrieve(index, controls={'wmodel': \"PL2\",\"c\":20})\n",
        "\n",
        "\n",
        "topics = pt.io.read_topics(\"/content/drive/MyDrive/IRDM/podcasts_2020_topics_test.xml\",format=\"trecxml\")\n",
        "\n",
        "\n",
        "import pandas as pd\n",
        "id_template = 'spotify:episode:{}_{}'\n",
        "res=qe.transform(topics)\n",
        "\n",
        "df = pd.DataFrame(res, columns=['qid', 'rank', 'docno', 'score'])\n",
        "\n",
        "\n",
        "df[\"ep_id\"]=df[\"docno\"].apply(lambda x: x.split(\"_\")[1].split(\"-\")[0])\n",
        "df[\"episode\"]=df[\"docno\"].apply(lambda x: x.split(\"_\")[0])\n",
        "df[\"docno\"]=df.apply(lambda x: get_ep(x[\"episode\"],x[\"ep_id\"]),axis=1)\n",
        "df[\"docno\"]=df[\"docno\"]+\".0\"\n",
        "rsl=df[[\"qid\",\"docno\",\"rank\",\"score\"]]\n",
        "\n",
        "rsl=df[[\"qid\",\"docno\",\"rank\",\"score\"]]\n",
        "\n",
        "\n",
        "qrels_path=(\"/content/drive/MyDrive/IRDM/podcasts_2020_test.qrels\")\n",
        "qrels = pt.io.read_qrels(qrels_path)\n",
        "print(\"DPH QE \")\n",
        "print(pt.Utils.evaluate(rsl,qrels,metrics=['map',\"ndcg\",\"ndcg_cut_30\",\"P_10\"]))"
      ],
      "metadata": {
        "colab": {
          "base_uri": "https://localhost:8080/"
        },
        "id": "yM1IB3QF_NiR",
        "outputId": "0947fe37-c81e-43e9-8bea-afc3b3af58f7"
      },
      "execution_count": null,
      "outputs": [
        {
          "output_type": "stream",
          "name": "stdout",
          "text": [
            "20:28:29.803 [main] WARN org.terrier.querying.QueryExpansion - qemodel control not set for QueryExpansion post process. Using default model Bo1\n",
            "DPH QE \n",
            "{'map': 0.3499531864018813, 'ndcg': 0.557134573263066, 'ndcg_cut_30': 0.40925973546515787, 'P_10': 0.48125}\n"
          ]
        }
      ]
    },
    {
      "cell_type": "markdown",
      "source": [
        "Learning to Rank Approaches "
      ],
      "metadata": {
        "id": "CY5yMKHjyLjT"
      }
    },
    {
      "cell_type": "code",
      "source": [
        "import xgboost as xgb\n",
        "# this configures XGBoost as LambdaMART\n",
        "lmart_x = xgb.sklearn.XGBRanker(objective='rank:ndcg',\n",
        "      learning_rate=0.1,\n",
        "      gamma=0.6,\n",
        "      min_child_weight=0.20,\n",
        "      max_depth=6,\n",
        "      verbose=2,\n",
        "      random_state=42)\n",
        "\n",
        "train = pt.io.read_topics(\"/content/drive/MyDrive/IRDM/topic01.xml\",format=\"trecxml\")\n",
        "qrels_path=(\"/content/drive/MyDrive/IRDM/podcasts_2020_train.1-8.qrels\")\n",
        "qrels_train = pt.io.read_qrels(qrels_path)\n",
        "pipeline = pt.FeaturesBatchRetrieve(index, wmodel=\"BM25\", features=[\"WMODEL:Tf\", \"WMODEL:PL2\",\"WMODEL:DPH\",])\n",
        "lmart_x_pipe = pipeline >> pt.ltr.apply_learned_model(lmart_x, form=\"ltr\")\n",
        "qrels_train['docno']= qrels_train['docno'].apply(lambda x: x.split(':')[-1].split('.')[0])\n",
        "qrels_train['docno']= qrels_train['docno'].apply(lambda x: x +'-'+str(int(x.split('_')[1])+120))\n",
        "qrels_path=(\"/content/drive/MyDrive/IRDM/podcasts_2020_test.qrels\")\n",
        "qrels_val = pt.io.read_qrels(qrels_path)\n",
        "val = pt.io.read_topics(\"/content/drive/MyDrive/IRDM/podcasts_2020_topics_test.xml\",format=\"trecxml\")\n",
        "lmart_x_pipe.fit(train.head(5), qrels_train,train.tail(3),qrels_train)\n",
        "\n",
        " \n",
        "topics = pt.io.read_topics(\"/content/drive/MyDrive/IRDM/podcasts_2020_topics_test.xml\",format=\"trecxml\")\n",
        "res=lmart_x_pipe.transform(topics)\n",
        "df = pd.DataFrame(res, columns=['qid', 'rank', 'docno', 'score'])\n",
        "df[\"ep_id\"]=df[\"docno\"].apply(lambda x: x.split(\"_\")[1].split(\"-\")[0])\n",
        "df[\"episode\"]=df[\"docno\"].apply(lambda x: x.split(\"_\")[0])\n",
        "df[\"docno\"]=df.apply(lambda x: get_ep(x[\"episode\"],x[\"ep_id\"]),axis=1)\n",
        "df[\"docno\"]=df[\"docno\"]+\".0\"\n",
        "rsl=df[[\"qid\",\"docno\",\"rank\",\"score\"]]\n",
        "\n",
        "qrels_path=(\"/content/drive/MyDrive/IRDM/podcasts_2020_test.qrels\")\n",
        "qrels = pt.io.read_qrels(qrels_path)\n",
        "pt.Utils.evaluate(rsl,qrels,metrics=['map',\"ndcg\",\"ndcg_cut_30\",\"P_10\"])\n",
        "\n",
        "\n"
      ],
      "metadata": {
        "id": "Y6_lJAq5BsmH",
        "colab": {
          "base_uri": "https://localhost:8080/"
        },
        "outputId": "86b5631c-8faf-4c7e-f3f5-ff8b49034727"
      },
      "execution_count": null,
      "outputs": [
        {
          "output_type": "execute_result",
          "data": {
            "text/plain": [
              "{'map': 0.06321885365780862,\n",
              " 'ndcg': 0.318820852309049,\n",
              " 'ndcg_cut_30': 0.07544726686795213,\n",
              " 'P_10': 0.08958333333333336}"
            ]
          },
          "metadata": {},
          "execution_count": 44
        }
      ]
    },
    {
      "cell_type": "code",
      "source": [
        "import xgboost as xgb\n",
        "# this configures XGBoost as LambdaMART\n",
        "lmart_x = xgb.sklearn.XGBRanker(objective='rank:ndcg',\n",
        "      learning_rate=0.01,\n",
        "      gamma=0.6,\n",
        "      min_child_weight=0.20,\n",
        "      max_depth=6,\n",
        "      verbose=2,\n",
        "      random_state=42)\n",
        "\n",
        "train = pt.io.read_topics(\"/content/drive/MyDrive/IRDM/topic01.xml\",format=\"trecxml\")\n",
        "qrels_path=(\"/content/drive/MyDrive/IRDM/podcasts_2020_train.1-8.qrels\")\n",
        "qrels_train = pt.io.read_qrels(qrels_path)\n",
        "pipeline = pt.FeaturesBatchRetrieve(index, wmodel=\"BM25\", features=[\"WMODEL:Tf\", \"WMODEL:PL2\",\"WMODEL:DPH\",])\n",
        "lmart_x_pipe = pipeline >> pt.ltr.apply_learned_model(lmart_x, form=\"ltr\")\n",
        "qrels_train['docno']= qrels_train['docno'].apply(lambda x: x.split(':')[-1].split('.')[0])\n",
        "qrels_train['docno']= qrels_train['docno'].apply(lambda x: x +'-'+str(int(x.split('_')[1])+120))\n",
        "qrels_path=(\"/content/drive/MyDrive/IRDM/podcasts_2020_test.qrels\")\n",
        "qrels_val = pt.io.read_qrels(qrels_path)\n",
        "val = pt.io.read_topics(\"/content/drive/MyDrive/IRDM/podcasts_2020_topics_test.xml\",format=\"trecxml\")\n",
        "lmart_x_pipe.fit(train.head(5), qrels_train,train.tail(3),qrels_train)\n",
        "\n",
        " \n",
        "topics = pt.io.read_topics(\"/content/drive/MyDrive/IRDM/podcasts_2020_topics_test.xml\",format=\"trecxml\")\n",
        "res=lmart_x_pipe.transform(topics)\n",
        "df = pd.DataFrame(res, columns=['qid', 'rank', 'docno', 'score'])\n",
        "df[\"ep_id\"]=df[\"docno\"].apply(lambda x: x.split(\"_\")[1].split(\"-\")[0])\n",
        "df[\"episode\"]=df[\"docno\"].apply(lambda x: x.split(\"_\")[0])\n",
        "df[\"docno\"]=df.apply(lambda x: get_ep(x[\"episode\"],x[\"ep_id\"]),axis=1)\n",
        "df[\"docno\"]=df[\"docno\"]+\".0\"\n",
        "rsl=df[[\"qid\",\"docno\",\"rank\",\"score\"]]\n",
        "\n",
        "qrels_path=(\"/content/drive/MyDrive/IRDM/podcasts_2020_test.qrels\")\n",
        "qrels = pt.io.read_qrels(qrels_path)\n",
        "pt.Utils.evaluate(rsl,qrels,metrics=['map',\"ndcg\",\"ndcg_cut_30\",\"P_10\"])\n",
        "\n",
        "\n"
      ],
      "metadata": {
        "colab": {
          "base_uri": "https://localhost:8080/"
        },
        "id": "jNjGYmQGTbHu",
        "outputId": "7fdcffc4-0525-464d-ccbc-12966b0fb0ef"
      },
      "execution_count": null,
      "outputs": [
        {
          "output_type": "execute_result",
          "data": {
            "text/plain": [
              "{'map': 0.05592170986342046,\n",
              " 'ndcg': 0.31002038604706356,\n",
              " 'ndcg_cut_30': 0.0656763532715519,\n",
              " 'P_10': 0.09375000000000001}"
            ]
          },
          "metadata": {},
          "execution_count": 58
        }
      ]
    },
    {
      "cell_type": "code",
      "source": [
        "import xgboost as xgb\n",
        "# this configures XGBoost as LambdaMART\n",
        "lmart_x = xgb.sklearn.XGBRanker(objective='rank:ndcg',\n",
        "      learning_rate=0.001,\n",
        "      gamma=0.6,\n",
        "      min_child_weight=0.20,\n",
        "      max_depth=6,\n",
        "      verbose=2,\n",
        "      random_state=42)\n",
        "\n",
        "train = pt.io.read_topics(\"/content/drive/MyDrive/IRDM/topic01.xml\",format=\"trecxml\")\n",
        "qrels_path=(\"/content/drive/MyDrive/IRDM/podcasts_2020_train.1-8.qrels\")\n",
        "qrels_train = pt.io.read_qrels(qrels_path)\n",
        "pipeline = pt.FeaturesBatchRetrieve(index, wmodel=\"BM25\", features=[\"WMODEL:Tf\", \"WMODEL:PL2\",\"WMODEL:DPH\",])\n",
        "lmart_x_pipe = pipeline >> pt.ltr.apply_learned_model(lmart_x, form=\"ltr\")\n",
        "qrels_train['docno']= qrels_train['docno'].apply(lambda x: x.split(':')[-1].split('.')[0])\n",
        "qrels_train['docno']= qrels_train['docno'].apply(lambda x: x +'-'+str(int(x.split('_')[1])+120))\n",
        "qrels_path=(\"/content/drive/MyDrive/IRDM/podcasts_2020_test.qrels\")\n",
        "qrels_val = pt.io.read_qrels(qrels_path)\n",
        "val = pt.io.read_topics(\"/content/drive/MyDrive/IRDM/podcasts_2020_topics_test.xml\",format=\"trecxml\")\n",
        "lmart_x_pipe.fit(train.head(5), qrels_train,train.tail(3),qrels_train)\n",
        "\n",
        " \n",
        "topics = pt.io.read_topics(\"/content/drive/MyDrive/IRDM/podcasts_2020_topics_test.xml\",format=\"trecxml\")\n",
        "res=lmart_x_pipe.transform(topics)\n",
        "df = pd.DataFrame(res, columns=['qid', 'rank', 'docno', 'score'])\n",
        "df[\"ep_id\"]=df[\"docno\"].apply(lambda x: x.split(\"_\")[1].split(\"-\")[0])\n",
        "df[\"episode\"]=df[\"docno\"].apply(lambda x: x.split(\"_\")[0])\n",
        "df[\"docno\"]=df.apply(lambda x: get_ep(x[\"episode\"],x[\"ep_id\"]),axis=1)\n",
        "df[\"docno\"]=df[\"docno\"]+\".0\"\n",
        "rsl=df[[\"qid\",\"docno\",\"rank\",\"score\"]]\n",
        "\n",
        "qrels_path=(\"/content/drive/MyDrive/IRDM/podcasts_2020_test.qrels\")\n",
        "qrels = pt.io.read_qrels(qrels_path)\n",
        "pt.Utils.evaluate(rsl,qrels,metrics=['map',\"ndcg\",\"ndcg_cut_30\",\"P_10\"])\n",
        "\n",
        "\n"
      ],
      "metadata": {
        "id": "ZbUBskgfBtYq",
        "colab": {
          "base_uri": "https://localhost:8080/"
        },
        "outputId": "14b3f22f-6133-4018-82a7-be35ba008eac"
      },
      "execution_count": null,
      "outputs": [
        {
          "output_type": "execute_result",
          "data": {
            "text/plain": [
              "{'map': 0.05338719593066205,\n",
              " 'ndcg': 0.3078358033386011,\n",
              " 'ndcg_cut_30': 0.06733731734795811,\n",
              " 'P_10': 0.09166666666666669}"
            ]
          },
          "metadata": {},
          "execution_count": 46
        }
      ]
    },
    {
      "cell_type": "code",
      "source": [
        "import xgboost as xgb\n",
        "# this configures XGBoost as LambdaMART\n",
        "lmart_x = xgb.sklearn.XGBRanker(objective='rank:ndcg',\n",
        "      learning_rate=0.001,\n",
        "      gamma=0.6,\n",
        "      min_child_weight=0.20,\n",
        "      max_depth=3,\n",
        "      verbose=2,\n",
        "      random_state=42)\n",
        "\n",
        "train = pt.io.read_topics(\"/content/drive/MyDrive/IRDM/topic01.xml\",format=\"trecxml\")\n",
        "qrels_path=(\"/content/drive/MyDrive/IRDM/podcasts_2020_train.1-8.qrels\")\n",
        "qrels_train = pt.io.read_qrels(qrels_path)\n",
        "pipeline = pt.FeaturesBatchRetrieve(index, wmodel=\"BM25\", features=[\"WMODEL:Tf\", \"WMODEL:PL2\",\"WMODEL:DPH\",])\n",
        "lmart_x_pipe = pipeline >> pt.ltr.apply_learned_model(lmart_x, form=\"ltr\")\n",
        "qrels_train['docno']= qrels_train['docno'].apply(lambda x: x.split(':')[-1].split('.')[0])\n",
        "qrels_train['docno']= qrels_train['docno'].apply(lambda x: x +'-'+str(int(x.split('_')[1])+120))\n",
        "qrels_path=(\"/content/drive/MyDrive/IRDM/podcasts_2020_test.qrels\")\n",
        "qrels_val = pt.io.read_qrels(qrels_path)\n",
        "val = pt.io.read_topics(\"/content/drive/MyDrive/IRDM/podcasts_2020_topics_test.xml\",format=\"trecxml\")\n",
        "lmart_x_pipe.fit(train.head(5), qrels_train,train.tail(3),qrels_train)\n",
        "\n",
        " \n",
        "topics = pt.io.read_topics(\"/content/drive/MyDrive/IRDM/podcasts_2020_topics_test.xml\",format=\"trecxml\")\n",
        "res=lmart_x_pipe.transform(topics)\n",
        "df = pd.DataFrame(res, columns=['qid', 'rank', 'docno', 'score'])\n",
        "df[\"ep_id\"]=df[\"docno\"].apply(lambda x: x.split(\"_\")[1].split(\"-\")[0])\n",
        "df[\"episode\"]=df[\"docno\"].apply(lambda x: x.split(\"_\")[0])\n",
        "df[\"docno\"]=df.apply(lambda x: get_ep(x[\"episode\"],x[\"ep_id\"]),axis=1)\n",
        "df[\"docno\"]=df[\"docno\"]+\".0\"\n",
        "rsl=df[[\"qid\",\"docno\",\"rank\",\"score\"]]\n",
        "\n",
        "qrels_path=(\"/content/drive/MyDrive/IRDM/podcasts_2020_test.qrels\")\n",
        "qrels = pt.io.read_qrels(qrels_path)\n",
        "pt.Utils.evaluate(rsl,qrels,metrics=['map',\"ndcg\",\"ndcg_cut_30\",\"P_10\"])\n",
        "\n",
        "\n"
      ],
      "metadata": {
        "colab": {
          "base_uri": "https://localhost:8080/"
        },
        "id": "dT_8hdhRRjPJ",
        "outputId": "ca0ad590-e455-448a-e92d-16231c0c5f31"
      },
      "execution_count": null,
      "outputs": [
        {
          "output_type": "execute_result",
          "data": {
            "text/plain": [
              "{'map': 0.049991376278375126,\n",
              " 'ndcg': 0.301591280378368,\n",
              " 'ndcg_cut_30': 0.05485946441410209,\n",
              " 'P_10': 0.06875000000000002}"
            ]
          },
          "metadata": {},
          "execution_count": 49
        }
      ]
    },
    {
      "cell_type": "code",
      "source": [
        "import xgboost as xgb\n",
        "# this configures XGBoost as LambdaMART\n",
        "lmart_x = xgb.sklearn.XGBRanker(objective='rank:ndcg',\n",
        "      learning_rate=0.001,\n",
        "      gamma=0.6,\n",
        "      min_child_weight=0.20,\n",
        "      max_depth=8,\n",
        "      verbose=2,\n",
        "      random_state=42)\n",
        "\n",
        "train = pt.io.read_topics(\"/content/drive/MyDrive/IRDM/topic01.xml\",format=\"trecxml\")\n",
        "qrels_path=(\"/content/drive/MyDrive/IRDM/podcasts_2020_train.1-8.qrels\")\n",
        "qrels_train = pt.io.read_qrels(qrels_path)\n",
        "pipeline = pt.FeaturesBatchRetrieve(index, wmodel=\"BM25\", features=[\"WMODEL:Tf\", \"WMODEL:PL2\",\"WMODEL:DPH\",])\n",
        "lmart_x_pipe = pipeline >> pt.ltr.apply_learned_model(lmart_x, form=\"ltr\")\n",
        "qrels_train['docno']= qrels_train['docno'].apply(lambda x: x.split(':')[-1].split('.')[0])\n",
        "qrels_train['docno']= qrels_train['docno'].apply(lambda x: x +'-'+str(int(x.split('_')[1])+120))\n",
        "qrels_path=(\"/content/drive/MyDrive/IRDM/podcasts_2020_test.qrels\")\n",
        "qrels_val = pt.io.read_qrels(qrels_path)\n",
        "val = pt.io.read_topics(\"/content/drive/MyDrive/IRDM/podcasts_2020_topics_test.xml\",format=\"trecxml\")\n",
        "lmart_x_pipe.fit(train.head(5), qrels_train,train.tail(3),qrels_train)\n",
        "\n",
        " \n",
        "topics = pt.io.read_topics(\"/content/drive/MyDrive/IRDM/podcasts_2020_topics_test.xml\",format=\"trecxml\")\n",
        "res=lmart_x_pipe.transform(topics)\n",
        "df = pd.DataFrame(res, columns=['qid', 'rank', 'docno', 'score'])\n",
        "df[\"ep_id\"]=df[\"docno\"].apply(lambda x: x.split(\"_\")[1].split(\"-\")[0])\n",
        "df[\"episode\"]=df[\"docno\"].apply(lambda x: x.split(\"_\")[0])\n",
        "df[\"docno\"]=df.apply(lambda x: get_ep(x[\"episode\"],x[\"ep_id\"]),axis=1)\n",
        "df[\"docno\"]=df[\"docno\"]+\".0\"\n",
        "rsl=df[[\"qid\",\"docno\",\"rank\",\"score\"]]\n",
        "\n",
        "qrels_path=(\"/content/drive/MyDrive/IRDM/podcasts_2020_test.qrels\")\n",
        "qrels = pt.io.read_qrels(qrels_path)\n",
        "pt.Utils.evaluate(rsl,qrels,metrics=['map',\"ndcg\",\"ndcg_cut_30\",\"P_10\"])\n",
        "\n",
        "\n"
      ],
      "metadata": {
        "colab": {
          "base_uri": "https://localhost:8080/"
        },
        "id": "hJk81NYCQ89N",
        "outputId": "079f486d-4c1c-4c70-f166-abdbbcfb252f"
      },
      "execution_count": null,
      "outputs": [
        {
          "output_type": "execute_result",
          "data": {
            "text/plain": [
              "{'map': 0.061001456497800526,\n",
              " 'ndcg': 0.3152496542934874,\n",
              " 'ndcg_cut_30': 0.07719940366407037,\n",
              " 'P_10': 0.10000000000000002}"
            ]
          },
          "metadata": {},
          "execution_count": 50
        }
      ]
    },
    {
      "cell_type": "code",
      "source": [
        "import xgboost as xgb\n",
        "# this configures XGBoost as LambdaMART\n",
        "lmart_x = xgb.sklearn.XGBRanker(objective='rank:ndcg',\n",
        "      learning_rate=0.001,\n",
        "      gamma=0.6,\n",
        "      min_child_weight=0.20,\n",
        "      max_depth=8,\n",
        "      verbose=2,\n",
        "      random_state=42)\n",
        "\n",
        "train = pt.io.read_topics(\"/content/drive/MyDrive/IRDM/topic01.xml\",format=\"trecxml\")\n",
        "qrels_path=(\"/content/drive/MyDrive/IRDM/podcasts_2020_train.1-8.qrels\")\n",
        "qrels_train = pt.io.read_qrels(qrels_path)\n",
        "pipeline = pt.FeaturesBatchRetrieve(index, wmodel=\"BM25\", features=[\"WMODEL:PL2\",\"WMODEL:DPH\",])\n",
        "lmart_x_pipe = pipeline >> pt.ltr.apply_learned_model(lmart_x, form=\"ltr\")\n",
        "qrels_train['docno']= qrels_train['docno'].apply(lambda x: x.split(':')[-1].split('.')[0])\n",
        "qrels_train['docno']= qrels_train['docno'].apply(lambda x: x +'-'+str(int(x.split('_')[1])+120))\n",
        "qrels_path=(\"/content/drive/MyDrive/IRDM/podcasts_2020_test.qrels\")\n",
        "qrels_val = pt.io.read_qrels(qrels_path)\n",
        "val = pt.io.read_topics(\"/content/drive/MyDrive/IRDM/podcasts_2020_topics_test.xml\",format=\"trecxml\")\n",
        "lmart_x_pipe.fit(train.head(5), qrels_train,train.tail(3),qrels_train)\n",
        "\n",
        " \n",
        "topics = pt.io.read_topics(\"/content/drive/MyDrive/IRDM/podcasts_2020_topics_test.xml\",format=\"trecxml\")\n",
        "res=lmart_x_pipe.transform(topics)\n",
        "df = pd.DataFrame(res, columns=['qid', 'rank', 'docno', 'score'])\n",
        "df[\"ep_id\"]=df[\"docno\"].apply(lambda x: x.split(\"_\")[1].split(\"-\")[0])\n",
        "df[\"episode\"]=df[\"docno\"].apply(lambda x: x.split(\"_\")[0])\n",
        "df[\"docno\"]=df.apply(lambda x: get_ep(x[\"episode\"],x[\"ep_id\"]),axis=1)\n",
        "df[\"docno\"]=df[\"docno\"]+\".0\"\n",
        "rsl=df[[\"qid\",\"docno\",\"rank\",\"score\"]]\n",
        "\n",
        "qrels_path=(\"/content/drive/MyDrive/IRDM/podcasts_2020_test.qrels\")\n",
        "qrels = pt.io.read_qrels(qrels_path)\n",
        "pt.Utils.evaluate(rsl,qrels,metrics=['map',\"ndcg\",\"ndcg_cut_30\",\"P_10\"])\n",
        "\n",
        "\n"
      ],
      "metadata": {
        "colab": {
          "base_uri": "https://localhost:8080/"
        },
        "id": "6Gr3fgAtRJjk",
        "outputId": "65938315-ebeb-497b-b327-7a5fc98da5f1"
      },
      "execution_count": null,
      "outputs": [
        {
          "output_type": "execute_result",
          "data": {
            "text/plain": [
              "{'map': 0.04898003352071977,\n",
              " 'ndcg': 0.3023045493887995,\n",
              " 'ndcg_cut_30': 0.06118064596087822,\n",
              " 'P_10': 0.075}"
            ]
          },
          "metadata": {},
          "execution_count": 59
        }
      ]
    },
    {
      "cell_type": "code",
      "execution_count": null,
      "metadata": {
        "id": "LqWHVtUHiudH",
        "colab": {
          "base_uri": "https://localhost:8080/"
        },
        "outputId": "51be0012-4662-437e-e3ec-fe35280e8704"
      },
      "outputs": [
        {
          "output_type": "execute_result",
          "data": {
            "text/plain": [
              "{'map': 0.04267305861380521,\n",
              " 'ndcg': 0.2901831073647649,\n",
              " 'ndcg_cut_30': 0.03737537800102259,\n",
              " 'P_10': 0.05625}"
            ]
          },
          "metadata": {},
          "execution_count": 52
        }
      ],
      "source": [
        "import xgboost as xgb\n",
        "# this configures XGBoost as LambdaMART\n",
        "lmart_x = xgb.sklearn.XGBRanker(objective='rank:ndcg',\n",
        "      learning_rate=0.001,\n",
        "      gamma=0.6,\n",
        "      min_child_weight=0.20,\n",
        "      max_depth=8,\n",
        "      verbose=2,\n",
        "      random_state=42)\n",
        "\n",
        "train = pt.io.read_topics(\"/content/drive/MyDrive/IRDM/topic01.xml\",format=\"trecxml\")\n",
        "qrels_path=(\"/content/drive/MyDrive/IRDM/podcasts_2020_train.1-8.qrels\")\n",
        "qrels_train = pt.io.read_qrels(qrels_path)\n",
        "pipeline = pt.FeaturesBatchRetrieve(index, wmodel=\"BM25\", features=[\"WMODEL:Tf\", \"WMODEL:PL2\",])\n",
        "lmart_x_pipe = pipeline >> pt.ltr.apply_learned_model(lmart_x, form=\"ltr\")\n",
        "qrels_train['docno']= qrels_train['docno'].apply(lambda x: x.split(':')[-1].split('.')[0])\n",
        "qrels_train['docno']= qrels_train['docno'].apply(lambda x: x +'-'+str(int(x.split('_')[1])+120))\n",
        "qrels_path=(\"/content/drive/MyDrive/IRDM/podcasts_2020_test.qrels\")\n",
        "qrels_val = pt.io.read_qrels(qrels_path)\n",
        "val = pt.io.read_topics(\"/content/drive/MyDrive/IRDM/podcasts_2020_topics_test.xml\",format=\"trecxml\")\n",
        "lmart_x_pipe.fit(train.head(5), qrels_train,train.tail(3),qrels_train)\n",
        "\n",
        " \n",
        "topics = pt.io.read_topics(\"/content/drive/MyDrive/IRDM/podcasts_2020_topics_test.xml\",format=\"trecxml\")\n",
        "res=lmart_x_pipe.transform(topics)\n",
        "df = pd.DataFrame(res, columns=['qid', 'rank', 'docno', 'score'])\n",
        "df[\"ep_id\"]=df[\"docno\"].apply(lambda x: x.split(\"_\")[1].split(\"-\")[0])\n",
        "df[\"episode\"]=df[\"docno\"].apply(lambda x: x.split(\"_\")[0])\n",
        "df[\"docno\"]=df.apply(lambda x: get_ep(x[\"episode\"],x[\"ep_id\"]),axis=1)\n",
        "df[\"docno\"]=df[\"docno\"]+\".0\"\n",
        "rsl=df[[\"qid\",\"docno\",\"rank\",\"score\"]]\n",
        "\n",
        "qrels_path=(\"/content/drive/MyDrive/IRDM/podcasts_2020_test.qrels\")\n",
        "qrels = pt.io.read_qrels(qrels_path)\n",
        "pt.Utils.evaluate(rsl,qrels,metrics=['map',\"ndcg\",\"ndcg_cut_30\",\"P_10\"])\n",
        "\n",
        "\n"
      ]
    },
    {
      "cell_type": "code",
      "source": [
        "import xgboost as xgb\n",
        "# this configures XGBoost as LambdaMART\n",
        "lmart_x = xgb.sklearn.XGBRanker(objective='rank:ndcg',\n",
        "      learning_rate=0.001,\n",
        "      gamma=0.6,\n",
        "      min_child_weight=0.20,\n",
        "      max_depth=8,\n",
        "      verbose=2,\n",
        "      random_state=42)\n",
        "\n",
        "train = pt.io.read_topics(\"/content/drive/MyDrive/IRDM/topic01.xml\",format=\"trecxml\")\n",
        "qrels_path=(\"/content/drive/MyDrive/IRDM/podcasts_2020_train.1-8.qrels\")\n",
        "qrels_train = pt.io.read_qrels(qrels_path)\n",
        "pipeline = pt.FeaturesBatchRetrieve(index, wmodel=\"BM25\", features=[\"WMODEL:Tf\",\"WMODEL:DPH\",])\n",
        "lmart_x_pipe = pipeline >> pt.ltr.apply_learned_model(lmart_x, form=\"ltr\")\n",
        "qrels_train['docno']= qrels_train['docno'].apply(lambda x: x.split(':')[-1].split('.')[0])\n",
        "qrels_train['docno']= qrels_train['docno'].apply(lambda x: x +'-'+str(int(x.split('_')[1])+120))\n",
        "qrels_path=(\"/content/drive/MyDrive/IRDM/podcasts_2020_test.qrels\")\n",
        "qrels_val = pt.io.read_qrels(qrels_path)\n",
        "val = pt.io.read_topics(\"/content/drive/MyDrive/IRDM/podcasts_2020_topics_test.xml\",format=\"trecxml\")\n",
        "lmart_x_pipe.fit(train.head(5), qrels_train,train.tail(3),qrels_train)\n",
        "\n",
        " \n",
        "topics = pt.io.read_topics(\"/content/drive/MyDrive/IRDM/podcasts_2020_topics_test.xml\",format=\"trecxml\")\n",
        "res=lmart_x_pipe.transform(topics)\n",
        "df = pd.DataFrame(res, columns=['qid', 'rank', 'docno', 'score'])\n",
        "df[\"ep_id\"]=df[\"docno\"].apply(lambda x: x.split(\"_\")[1].split(\"-\")[0])\n",
        "df[\"episode\"]=df[\"docno\"].apply(lambda x: x.split(\"_\")[0])\n",
        "df[\"docno\"]=df.apply(lambda x: get_ep(x[\"episode\"],x[\"ep_id\"]),axis=1)\n",
        "df[\"docno\"]=df[\"docno\"]+\".0\"\n",
        "rsl=df[[\"qid\",\"docno\",\"rank\",\"score\"]]\n",
        "\n",
        "qrels_path=(\"/content/drive/MyDrive/IRDM/podcasts_2020_test.qrels\")\n",
        "qrels = pt.io.read_qrels(qrels_path)\n",
        "pt.Utils.evaluate(rsl,qrels,metrics=['map',\"ndcg\",\"ndcg_cut_30\",\"P_10\"])\n",
        "\n",
        "\n"
      ],
      "metadata": {
        "id": "u0DCB9Wz1kWz",
        "colab": {
          "base_uri": "https://localhost:8080/"
        },
        "outputId": "66bb4c59-865f-4e2b-d4fc-3e04535feac4"
      },
      "execution_count": null,
      "outputs": [
        {
          "output_type": "execute_result",
          "data": {
            "text/plain": [
              "{'map': 0.0590667179686341,\n",
              " 'ndcg': 0.3151132466076479,\n",
              " 'ndcg_cut_30': 0.06577177472318797,\n",
              " 'P_10': 0.08750000000000002}"
            ]
          },
          "metadata": {},
          "execution_count": 53
        }
      ]
    },
    {
      "cell_type": "code",
      "source": [
        "import xgboost as xgb\n",
        "# this configures XGBoost as LambdaMART\n",
        "lmart_x = xgb.sklearn.XGBRanker(objective='rank:ndcg',\n",
        "      learning_rate=0.001,\n",
        "      gamma=0.6,\n",
        "      min_child_weight=0.20,\n",
        "      max_depth=8,\n",
        "      verbose=2,\n",
        "      random_state=42)\n",
        "\n",
        "train = pt.io.read_topics(\"/content/drive/MyDrive/IRDM/topic01.xml\",format=\"trecxml\")\n",
        "qrels_path=(\"/content/drive/MyDrive/IRDM/podcasts_2020_train.1-8.qrels\")\n",
        "qrels_train = pt.io.read_qrels(qrels_path)\n",
        "pipeline = pt.FeaturesBatchRetrieve(index, wmodel=\"BM25\", features=[\"WMODEL:Tf\",])\n",
        "lmart_x_pipe = pipeline >> pt.ltr.apply_learned_model(lmart_x, form=\"ltr\")\n",
        "qrels_train['docno']= qrels_train['docno'].apply(lambda x: x.split(':')[-1].split('.')[0])\n",
        "qrels_train['docno']= qrels_train['docno'].apply(lambda x: x +'-'+str(int(x.split('_')[1])+120))\n",
        "qrels_path=(\"/content/drive/MyDrive/IRDM/podcasts_2020_test.qrels\")\n",
        "qrels_val = pt.io.read_qrels(qrels_path)\n",
        "val = pt.io.read_topics(\"/content/drive/MyDrive/IRDM/podcasts_2020_topics_test.xml\",format=\"trecxml\")\n",
        "lmart_x_pipe.fit(train.head(5), qrels_train,train.tail(3),qrels_train)\n",
        "\n",
        " \n",
        "topics = pt.io.read_topics(\"/content/drive/MyDrive/IRDM/podcasts_2020_topics_test.xml\",format=\"trecxml\")\n",
        "res=lmart_x_pipe.transform(topics)\n",
        "df = pd.DataFrame(res, columns=['qid', 'rank', 'docno', 'score'])\n",
        "df[\"ep_id\"]=df[\"docno\"].apply(lambda x: x.split(\"_\")[1].split(\"-\")[0])\n",
        "df[\"episode\"]=df[\"docno\"].apply(lambda x: x.split(\"_\")[0])\n",
        "df[\"docno\"]=df.apply(lambda x: get_ep(x[\"episode\"],x[\"ep_id\"]),axis=1)\n",
        "df[\"docno\"]=df[\"docno\"]+\".0\"\n",
        "rsl=df[[\"qid\",\"docno\",\"rank\",\"score\"]]\n",
        "\n",
        "qrels_path=(\"/content/drive/MyDrive/IRDM/podcasts_2020_test.qrels\")\n",
        "qrels = pt.io.read_qrels(qrels_path)\n",
        "pt.Utils.evaluate(rsl,qrels,metrics=['map',\"ndcg\",\"ndcg_cut_30\",\"P_10\"])\n",
        "\n",
        "\n"
      ],
      "metadata": {
        "colab": {
          "base_uri": "https://localhost:8080/"
        },
        "id": "1h-RDlQl1wTz",
        "outputId": "b697d57c-798a-47d1-ea6d-8ea43eb5e065"
      },
      "execution_count": null,
      "outputs": [
        {
          "output_type": "execute_result",
          "data": {
            "text/plain": [
              "{'map': 0.054576508995328815,\n",
              " 'ndcg': 0.3071230149298111,\n",
              " 'ndcg_cut_30': 0.049407057730656206,\n",
              " 'P_10': 0.05625}"
            ]
          },
          "metadata": {},
          "execution_count": 54
        }
      ]
    },
    {
      "cell_type": "markdown",
      "source": [
        "Learning to Rank Coordinate Ascent (FastRank)"
      ],
      "metadata": {
        "id": "8sbsUL_Ocj-r"
      }
    },
    {
      "cell_type": "code",
      "execution_count": null,
      "metadata": {
        "id": "paOr7iE3peqN",
        "colab": {
          "base_uri": "https://localhost:8080/"
        },
        "outputId": "300e3920-a049-4672-9889-3b41b0a6bba4"
      },
      "outputs": [
        {
          "output_type": "stream",
          "name": "stdout",
          "text": [
            "Looking in indexes: https://pypi.org/simple, https://us-python.pkg.dev/colab-wheels/public/simple/\n",
            "Requirement already satisfied: fastrank in /usr/local/lib/python3.7/dist-packages (0.7.0)\n",
            "Requirement already satisfied: attrs in /usr/local/lib/python3.7/dist-packages (from fastrank) (22.1.0)\n",
            "Requirement already satisfied: cffi in /usr/local/lib/python3.7/dist-packages (from fastrank) (1.15.1)\n",
            "Requirement already satisfied: numpy in /usr/local/lib/python3.7/dist-packages (from fastrank) (1.21.6)\n",
            "Requirement already satisfied: pycparser in /usr/local/lib/python3.7/dist-packages (from cffi->fastrank) (2.21)\n"
          ]
        }
      ],
      "source": [
        "!pip install fastrank\n",
        "import fastrank\n",
        "train_request = fastrank.TrainRequest.coordinate_ascent()\n",
        "params = train_request.params\n",
        "params.init_random = True\n",
        "params.normalize = True\n",
        "params.seed = 1234567\n",
        "\n",
        "train = pt.io.read_topics(\"/content/drive/MyDrive/IRDM/topic01.xml\",format=\"trecxml\")\n",
        "qrels_path=(\"/content/drive/MyDrive/IRDM/podcasts_2020_train.1-8.qrels\")\n",
        "qrels_train = pt.io.read_qrels(qrels_path)\n",
        "pipeline = pt.FeaturesBatchRetrieve(index, wmodel=\"BM25\", features=[\"WMODEL:Tf\", \"WMODEL:PL2\",\"WMODEL:DPH\",])\n",
        "qrels_train['docno']= qrels_train['docno'].apply(lambda x: x.split(':')[-1].split('.')[0])\n",
        "qrels_train['docno']= qrels_train['docno'].apply(lambda x: x +'-'+str(int(x.split('_')[1])+120))\n",
        "\n",
        "\n",
        "ca_pipe = pipeline >> pt.ltr.apply_learned_model(train_request, form=\"fastrank\")\n",
        "ca_pipe.fit(train, qrels_train)"
      ]
    },
    {
      "cell_type": "code",
      "source": [
        "topics = pt.io.read_topics(\"/content/drive/MyDrive/IRDM/podcasts_2020_topics_test.xml\",format=\"trecxml\")\n",
        "res=ca_pipe.transform(topics)\n",
        "df = pd.DataFrame(res, columns=['qid', 'rank', 'docno', 'score'])\n",
        "df[\"ep_id\"]=df[\"docno\"].apply(lambda x: x.split(\"_\")[1].split(\"-\")[0])\n",
        "df[\"episode\"]=df[\"docno\"].apply(lambda x: x.split(\"_\")[0])\n",
        "df[\"docno\"]=df.apply(lambda x: get_ep(x[\"episode\"],x[\"ep_id\"]),axis=1)\n",
        "df[\"docno\"]=df[\"docno\"]+\".0\"\n",
        "rsl=df[[\"qid\",\"docno\",\"rank\",\"score\"]]\n",
        "\n",
        "qrels_path=(\"/content/drive/MyDrive/IRDM/podcasts_2020_test.qrels\")\n",
        "qrels = pt.io.read_qrels(qrels_path)\n",
        "pt.Utils.evaluate(rsl,qrels,metrics=['map',\"ndcg\",\"ndcg_cut_30\",\"P_10\"])\n"
      ],
      "metadata": {
        "id": "EOEXxI2h1zcV",
        "colab": {
          "base_uri": "https://localhost:8080/"
        },
        "outputId": "6ca8bfb5-79b9-40da-fa3f-5886f2a02182"
      },
      "execution_count": null,
      "outputs": [
        {
          "output_type": "execute_result",
          "data": {
            "text/plain": [
              "{'map': 0.15585538538547464,\n",
              " 'ndcg': 0.4137637814474775,\n",
              " 'ndcg_cut_30': 0.1711341335950635,\n",
              " 'P_10': 0.19583333333333328}"
            ]
          },
          "metadata": {},
          "execution_count": 10
        }
      ]
    },
    {
      "cell_type": "code",
      "source": [
        "train = pt.io.read_topics(\"/content/drive/MyDrive/IRDM/topic01.xml\",format=\"trecxml\")\n",
        "qrels_path=(\"/content/drive/MyDrive/IRDM/podcasts_2020_train.1-8.qrels\")\n",
        "qrels_train = pt.io.read_qrels(qrels_path)\n",
        "pipeline = pt.FeaturesBatchRetrieve(index, wmodel=\"BM25\", features=[ \"WMODEL:PL2\",\"WMODEL:DPH\",])\n",
        "qrels_train['docno']= qrels_train['docno'].apply(lambda x: x.split(':')[-1].split('.')[0])\n",
        "qrels_train['docno']= qrels_train['docno'].apply(lambda x: x +'-'+str(int(x.split('_')[1])+120))\n",
        "\n",
        "\n",
        "ca_pipe = pipeline >> pt.ltr.apply_learned_model(train_request, form=\"fastrank\")\n",
        "ca_pipe.fit(train, qrels_train)\n",
        "topics = pt.io.read_topics(\"/content/drive/MyDrive/IRDM/podcasts_2020_topics_test.xml\",format=\"trecxml\")\n",
        "res=ca_pipe.transform(topics)\n",
        "df = pd.DataFrame(res, columns=['qid', 'rank', 'docno', 'score'])\n",
        "df[\"ep_id\"]=df[\"docno\"].apply(lambda x: x.split(\"_\")[1].split(\"-\")[0])\n",
        "df[\"episode\"]=df[\"docno\"].apply(lambda x: x.split(\"_\")[0])\n",
        "df[\"docno\"]=df.apply(lambda x: get_ep(x[\"episode\"],x[\"ep_id\"]),axis=1)\n",
        "df[\"docno\"]=df[\"docno\"]+\".0\"\n",
        "rsl=df[[\"qid\",\"docno\",\"rank\",\"score\"]]\n",
        "\n",
        "qrels_path=(\"/content/drive/MyDrive/IRDM/podcasts_2020_test.qrels\")\n",
        "qrels = pt.io.read_qrels(qrels_path)\n",
        "pt.Utils.evaluate(rsl,qrels,metrics=['map',\"ndcg\",\"ndcg_cut_30\",\"P_10\"])\n"
      ],
      "metadata": {
        "id": "K6Uf03bh1uEk",
        "colab": {
          "base_uri": "https://localhost:8080/"
        },
        "outputId": "da9d7d20-43f8-41bb-d689-d9f363669f89"
      },
      "execution_count": null,
      "outputs": [
        {
          "output_type": "execute_result",
          "data": {
            "text/plain": [
              "{'map': 0.13667064564602752,\n",
              " 'ndcg': 0.4008413478101755,\n",
              " 'ndcg_cut_30': 0.15567381883818007,\n",
              " 'P_10': 0.17916666666666659}"
            ]
          },
          "metadata": {},
          "execution_count": 11
        }
      ]
    },
    {
      "cell_type": "code",
      "execution_count": null,
      "metadata": {
        "id": "G22IKK-VoMJz",
        "colab": {
          "base_uri": "https://localhost:8080/"
        },
        "outputId": "4cf99d40-6463-4168-d1f8-983b83ef49e8"
      },
      "outputs": [
        {
          "output_type": "execute_result",
          "data": {
            "text/plain": [
              "{'map': 0.15236851513958252,\n",
              " 'ndcg': 0.41147813117901516,\n",
              " 'ndcg_cut_30': 0.17265562073954419,\n",
              " 'P_10': 0.19999999999999996}"
            ]
          },
          "metadata": {},
          "execution_count": 13
        }
      ],
      "source": [
        "train = pt.io.read_topics(\"/content/drive/MyDrive/IRDM/topic01.xml\",format=\"trecxml\")\n",
        "qrels_path=(\"/content/drive/MyDrive/IRDM/podcasts_2020_train.1-8.qrels\")\n",
        "qrels_train = pt.io.read_qrels(qrels_path)\n",
        "pipeline = pt.FeaturesBatchRetrieve(index, wmodel=\"BM25\", features=[\"WMODEL:Tf\" ,\"WMODEL:PL2\",])\n",
        "qrels_train['docno']= qrels_train['docno'].apply(lambda x: x.split(':')[-1].split('.')[0])\n",
        "qrels_train['docno']= qrels_train['docno'].apply(lambda x: x +'-'+str(int(x.split('_')[1])+120))\n",
        "\n",
        "\n",
        "ca_pipe = pipeline >> pt.ltr.apply_learned_model(train_request, form=\"fastrank\")\n",
        "ca_pipe.fit(train, qrels_train)\n",
        "topics = pt.io.read_topics(\"/content/drive/MyDrive/IRDM/podcasts_2020_topics_test.xml\",format=\"trecxml\")\n",
        "res=ca_pipe.transform(topics)\n",
        "df = pd.DataFrame(res, columns=['qid', 'rank', 'docno', 'score'])\n",
        "df[\"ep_id\"]=df[\"docno\"].apply(lambda x: x.split(\"_\")[1].split(\"-\")[0])\n",
        "df[\"episode\"]=df[\"docno\"].apply(lambda x: x.split(\"_\")[0])\n",
        "df[\"docno\"]=df.apply(lambda x: get_ep(x[\"episode\"],x[\"ep_id\"]),axis=1)\n",
        "df[\"docno\"]=df[\"docno\"]+\".0\"\n",
        "rsl=df[[\"qid\",\"docno\",\"rank\",\"score\"]]\n",
        "\n",
        "qrels_path=(\"/content/drive/MyDrive/IRDM/podcasts_2020_test.qrels\")\n",
        "qrels = pt.io.read_qrels(qrels_path)\n",
        "pt.Utils.evaluate(rsl,qrels,metrics=['map',\"ndcg\",\"ndcg_cut_30\",\"P_10\"])\n"
      ]
    },
    {
      "cell_type": "code",
      "source": [
        "train = pt.io.read_topics(\"/content/drive/MyDrive/IRDM/topic01.xml\",format=\"trecxml\")\n",
        "qrels_path=(\"/content/drive/MyDrive/IRDM/podcasts_2020_train.1-8.qrels\")\n",
        "qrels_train = pt.io.read_qrels(qrels_path)\n",
        "pipeline = pt.FeaturesBatchRetrieve(index, wmodel=\"BM25\", features=[\"WMODEL:Tf\" ,\"WMODEL:DPH\",])\n",
        "qrels_train['docno']= qrels_train['docno'].apply(lambda x: x.split(':')[-1].split('.')[0])\n",
        "qrels_train['docno']= qrels_train['docno'].apply(lambda x: x +'-'+str(int(x.split('_')[1])+120))\n",
        "\n",
        "\n",
        "ca_pipe = pipeline >> pt.ltr.apply_learned_model(train_request, form=\"fastrank\")\n",
        "ca_pipe.fit(train, qrels_train)\n",
        "topics = pt.io.read_topics(\"/content/drive/MyDrive/IRDM/podcasts_2020_topics_test.xml\",format=\"trecxml\")\n",
        "res=ca_pipe.transform(topics)\n",
        "df = pd.DataFrame(res, columns=['qid', 'rank', 'docno', 'score'])\n",
        "df[\"ep_id\"]=df[\"docno\"].apply(lambda x: x.split(\"_\")[1].split(\"-\")[0])\n",
        "df[\"episode\"]=df[\"docno\"].apply(lambda x: x.split(\"_\")[0])\n",
        "df[\"docno\"]=df.apply(lambda x: get_ep(x[\"episode\"],x[\"ep_id\"]),axis=1)\n",
        "df[\"docno\"]=df[\"docno\"]+\".0\"\n",
        "rsl=df[[\"qid\",\"docno\",\"rank\",\"score\"]]\n",
        "\n",
        "qrels_path=(\"/content/drive/MyDrive/IRDM/podcasts_2020_test.qrels\")\n",
        "qrels = pt.io.read_qrels(qrels_path)\n",
        "pt.Utils.evaluate(rsl,qrels,metrics=['map',\"ndcg\",\"ndcg_cut_30\",\"P_10\"])\n"
      ],
      "metadata": {
        "colab": {
          "base_uri": "https://localhost:8080/"
        },
        "id": "AKL5LnOmC_iC",
        "outputId": "8cfb0efe-5000-4f0d-ed0e-4658b3c7e149"
      },
      "execution_count": null,
      "outputs": [
        {
          "output_type": "execute_result",
          "data": {
            "text/plain": [
              "{'map': 0.12381557379601928,\n",
              " 'ndcg': 0.3868334878479911,\n",
              " 'ndcg_cut_30': 0.12885418554506328,\n",
              " 'P_10': 0.1333333333333333}"
            ]
          },
          "metadata": {},
          "execution_count": 14
        }
      ]
    },
    {
      "cell_type": "code",
      "source": [
        "train = pt.io.read_topics(\"/content/drive/MyDrive/IRDM/topic01.xml\",format=\"trecxml\")\n",
        "qrels_path=(\"/content/drive/MyDrive/IRDM/podcasts_2020_train.1-8.qrels\")\n",
        "qrels_train = pt.io.read_qrels(qrels_path)\n",
        "pipeline = pt.FeaturesBatchRetrieve(index, wmodel=\"BM25\", features=[\"WMODEL:Tf\" ,\"WMODEL:DPH\",])\n",
        "qrels_train['docno']= qrels_train['docno'].apply(lambda x: x.split(':')[-1].split('.')[0])\n",
        "qrels_train['docno']= qrels_train['docno'].apply(lambda x: x +'-'+str(int(x.split('_')[1])+120))\n",
        "\n",
        "\n",
        "ca_pipe = pipeline >> pt.ltr.apply_learned_model(train_request, form=\"fastrank\")\n",
        "ca_pipe.fit(train, qrels_train)\n",
        "topics = pt.io.read_topics(\"/content/drive/MyDrive/IRDM/podcasts_2020_topics_test.xml\",format=\"trecxml\")\n",
        "res=ca_pipe.transform(topics)\n",
        "df = pd.DataFrame(res, columns=['qid', 'rank', 'docno', 'score'])\n",
        "df[\"ep_id\"]=df[\"docno\"].apply(lambda x: x.split(\"_\")[1].split(\"-\")[0])\n",
        "df[\"episode\"]=df[\"docno\"].apply(lambda x: x.split(\"_\")[0])\n",
        "df[\"docno\"]=df.apply(lambda x: get_ep(x[\"episode\"],x[\"ep_id\"]),axis=1)\n",
        "df[\"docno\"]=df[\"docno\"]+\".0\"\n",
        "rsl=df[[\"qid\",\"docno\",\"rank\",\"score\"]]\n",
        "\n",
        "qrels_path=(\"/content/drive/MyDrive/IRDM/podcasts_2020_test.qrels\")\n",
        "qrels = pt.io.read_qrels(qrels_path)\n",
        "pt.Utils.evaluate(rsl,qrels,metrics=['map',\"ndcg\",\"ndcg_cut_30\",\"P_10\"])\n"
      ],
      "metadata": {
        "id": "8l4jSL7yDHno"
      },
      "execution_count": null,
      "outputs": []
    },
    {
      "cell_type": "code",
      "source": [
        "train = pt.io.read_topics(\"/content/drive/MyDrive/IRDM/topic01.xml\",format=\"trecxml\")\n",
        "qrels_path=(\"/content/drive/MyDrive/IRDM/podcasts_2020_train.1-8.qrels\")\n",
        "qrels_train = pt.io.read_qrels(qrels_path)\n",
        "pipeline = pt.FeaturesBatchRetrieve(index, wmodel=\"BM25\", features=[\"WMODEL:Tf\"])\n",
        "qrels_train['docno']= qrels_train['docno'].apply(lambda x: x.split(':')[-1].split('.')[0])\n",
        "qrels_train['docno']= qrels_train['docno'].apply(lambda x: x +'-'+str(int(x.split('_')[1])+120))\n",
        "\n",
        "\n",
        "ca_pipe = pipeline >> pt.ltr.apply_learned_model(train_request, form=\"fastrank\")\n",
        "ca_pipe.fit(train, qrels_train)\n",
        "topics = pt.io.read_topics(\"/content/drive/MyDrive/IRDM/podcasts_2020_topics_test.xml\",format=\"trecxml\")\n",
        "res=ca_pipe.transform(topics)\n",
        "df = pd.DataFrame(res, columns=['qid', 'rank', 'docno', 'score'])\n",
        "df[\"ep_id\"]=df[\"docno\"].apply(lambda x: x.split(\"_\")[1].split(\"-\")[0])\n",
        "df[\"episode\"]=df[\"docno\"].apply(lambda x: x.split(\"_\")[0])\n",
        "df[\"docno\"]=df.apply(lambda x: get_ep(x[\"episode\"],x[\"ep_id\"]),axis=1)\n",
        "df[\"docno\"]=df[\"docno\"]+\".0\"\n",
        "rsl=df[[\"qid\",\"docno\",\"rank\",\"score\"]]\n",
        "\n",
        "qrels_path=(\"/content/drive/MyDrive/IRDM/podcasts_2020_test.qrels\")\n",
        "qrels = pt.io.read_qrels(qrels_path)\n",
        "pt.Utils.evaluate(rsl,qrels,metrics=['map',\"ndcg\",\"ndcg_cut_30\",\"P_10\"])\n"
      ],
      "metadata": {
        "colab": {
          "base_uri": "https://localhost:8080/"
        },
        "id": "HnaDvNxPDRlr",
        "outputId": "d5c2de74-4f9a-413e-ade6-4fc19794d393"
      },
      "execution_count": null,
      "outputs": [
        {
          "output_type": "execute_result",
          "data": {
            "text/plain": [
              "{'map': 0.06802270383160423,\n",
              " 'ndcg': 0.32450997566562295,\n",
              " 'ndcg_cut_30': 0.06328095754272588,\n",
              " 'P_10': 0.07916666666666668}"
            ]
          },
          "metadata": {},
          "execution_count": 15
        }
      ]
    },
    {
      "cell_type": "code",
      "execution_count": null,
      "metadata": {
        "id": "Z0z3HUuONGKx"
      },
      "outputs": [],
      "source": []
    }
  ],
  "metadata": {
    "colab": {
      "background_execution": "on",
      "collapsed_sections": [],
      "machine_shape": "hm",
      "provenance": []
    },
    "gpuClass": "standard",
    "kernelspec": {
      "display_name": "Python 3",
      "name": "python3"
    },
    "language_info": {
      "name": "python"
    }
  },
  "nbformat": 4,
  "nbformat_minor": 0
}