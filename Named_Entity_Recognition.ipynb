{
  "nbformat": 4,
  "nbformat_minor": 0,
  "metadata": {
    "colab": {
      "provenance": [],
      "collapsed_sections": []
    },
    "kernelspec": {
      "name": "python3",
      "display_name": "Python 3"
    },
    "language_info": {
      "name": "python"
    }
  },
  "cells": [
    {
      "cell_type": "markdown",
      "source": [
        "Code Referenced From https://github.com/yasumori"
      ],
      "metadata": {
        "id": "8aPQ_tjpT_j3"
      }
    },
    {
      "cell_type": "code",
      "execution_count": null,
      "metadata": {
        "colab": {
          "base_uri": "https://localhost:8080/"
        },
        "id": "_pAtNE9QxPIc",
        "outputId": "aed4464e-352d-4b6d-f8ed-6e3a343dd3c1"
      },
      "outputs": [
        {
          "output_type": "stream",
          "name": "stdout",
          "text": [
            "Looking in indexes: https://pypi.org/simple, https://us-python.pkg.dev/colab-wheels/public/simple/\n",
            "Collecting python-terrier\n",
            "  Downloading python-terrier-0.8.1.tar.gz (97 kB)\n",
            "\u001b[K     |████████████████████████████████| 97 kB 3.6 MB/s \n",
            "\u001b[?25hRequirement already satisfied: numpy in /usr/local/lib/python3.7/dist-packages (from python-terrier) (1.21.6)\n",
            "Requirement already satisfied: pandas in /usr/local/lib/python3.7/dist-packages (from python-terrier) (1.3.5)\n",
            "Collecting wget\n",
            "  Downloading wget-3.2.zip (10 kB)\n",
            "Requirement already satisfied: tqdm in /usr/local/lib/python3.7/dist-packages (from python-terrier) (4.64.1)\n",
            "Collecting pyjnius~=1.3.0\n",
            "  Downloading pyjnius-1.3.0-cp37-cp37m-manylinux2010_x86_64.whl (1.1 MB)\n",
            "\u001b[K     |████████████████████████████████| 1.1 MB 47.3 MB/s \n",
            "\u001b[?25hCollecting matchpy\n",
            "  Downloading matchpy-0.5.5-py3-none-any.whl (69 kB)\n",
            "\u001b[K     |████████████████████████████████| 69 kB 7.1 MB/s \n",
            "\u001b[?25hCollecting sklearn\n",
            "  Downloading sklearn-0.0.tar.gz (1.1 kB)\n",
            "Collecting deprecation\n",
            "  Downloading deprecation-2.1.0-py2.py3-none-any.whl (11 kB)\n",
            "Collecting chest\n",
            "  Downloading chest-0.2.3.tar.gz (9.6 kB)\n",
            "Requirement already satisfied: scipy in /usr/local/lib/python3.7/dist-packages (from python-terrier) (1.7.3)\n",
            "Requirement already satisfied: requests in /usr/local/lib/python3.7/dist-packages (from python-terrier) (2.23.0)\n",
            "Requirement already satisfied: joblib in /usr/local/lib/python3.7/dist-packages (from python-terrier) (1.1.0)\n",
            "Collecting nptyping==1.4.4\n",
            "  Downloading nptyping-1.4.4-py3-none-any.whl (31 kB)\n",
            "Requirement already satisfied: more_itertools in /usr/local/lib/python3.7/dist-packages (from python-terrier) (8.14.0)\n",
            "Collecting ir_datasets>=0.3.2\n",
            "  Downloading ir_datasets-0.5.3-py3-none-any.whl (303 kB)\n",
            "\u001b[K     |████████████████████████████████| 303 kB 65.5 MB/s \n",
            "\u001b[?25hRequirement already satisfied: jinja2 in /usr/local/lib/python3.7/dist-packages (from python-terrier) (2.11.3)\n",
            "Requirement already satisfied: statsmodels in /usr/local/lib/python3.7/dist-packages (from python-terrier) (0.12.2)\n",
            "Collecting ir_measures>=0.2.0\n",
            "  Downloading ir_measures-0.3.1.tar.gz (46 kB)\n",
            "\u001b[K     |████████████████████████████████| 46 kB 4.7 MB/s \n",
            "\u001b[?25hRequirement already satisfied: dill in /usr/local/lib/python3.7/dist-packages (from python-terrier) (0.3.5.1)\n",
            "Collecting typish>=1.7.0\n",
            "  Downloading typish-1.9.3-py3-none-any.whl (45 kB)\n",
            "\u001b[K     |████████████████████████████████| 45 kB 3.4 MB/s \n",
            "\u001b[?25hCollecting trec-car-tools>=2.5.4\n",
            "  Downloading trec_car_tools-2.6-py3-none-any.whl (8.4 kB)\n",
            "Collecting pyautocorpus>=0.1.1\n",
            "  Downloading pyautocorpus-0.1.8-cp37-cp37m-manylinux_2_12_x86_64.manylinux2010_x86_64.whl (294 kB)\n",
            "\u001b[K     |████████████████████████████████| 294 kB 29.1 MB/s \n",
            "\u001b[?25hCollecting ijson>=3.1.3\n",
            "  Downloading ijson-3.1.4-cp37-cp37m-manylinux2010_x86_64.whl (126 kB)\n",
            "\u001b[K     |████████████████████████████████| 126 kB 22.9 MB/s \n",
            "\u001b[?25hRequirement already satisfied: pyyaml>=5.3.1 in /usr/local/lib/python3.7/dist-packages (from ir_datasets>=0.3.2->python-terrier) (6.0)\n",
            "Collecting lz4>=3.1.1\n",
            "  Downloading lz4-4.0.2-cp37-cp37m-manylinux_2_17_x86_64.manylinux2014_x86_64.whl (1.2 MB)\n",
            "\u001b[K     |████████████████████████████████| 1.2 MB 52.0 MB/s \n",
            "\u001b[?25hCollecting warc3-wet>=0.2.3\n",
            "  Downloading warc3_wet-0.2.3-py3-none-any.whl (13 kB)\n",
            "Requirement already satisfied: lxml>=4.5.2 in /usr/local/lib/python3.7/dist-packages (from ir_datasets>=0.3.2->python-terrier) (4.9.1)\n",
            "Collecting unlzw3>=0.2.1\n",
            "  Downloading unlzw3-0.2.1.tar.gz (5.8 kB)\n",
            "  Installing build dependencies ... \u001b[?25l\u001b[?25hdone\n",
            "  Getting requirements to build wheel ... \u001b[?25l\u001b[?25hdone\n",
            "    Preparing wheel metadata ... \u001b[?25l\u001b[?25hdone\n",
            "Collecting zlib-state>=0.1.3\n",
            "  Downloading zlib_state-0.1.5-cp37-cp37m-manylinux2010_x86_64.whl (72 kB)\n",
            "\u001b[K     |████████████████████████████████| 72 kB 1.2 MB/s \n",
            "\u001b[?25hRequirement already satisfied: beautifulsoup4>=4.4.1 in /usr/local/lib/python3.7/dist-packages (from ir_datasets>=0.3.2->python-terrier) (4.6.3)\n",
            "Collecting warc3-wet-clueweb09>=0.2.5\n",
            "  Downloading warc3-wet-clueweb09-0.2.5.tar.gz (17 kB)\n",
            "Collecting pytrec-eval-terrier>=0.5.2\n",
            "  Downloading pytrec_eval_terrier-0.5.4-cp37-cp37m-manylinux_2_17_x86_64.manylinux2014_x86_64.whl (285 kB)\n",
            "\u001b[K     |████████████████████████████████| 285 kB 97.7 MB/s \n",
            "\u001b[?25hCollecting cwl-eval>=1.0.10\n",
            "  Downloading cwl-eval-1.0.10.tar.gz (31 kB)\n",
            "Requirement already satisfied: six>=1.7.0 in /usr/local/lib/python3.7/dist-packages (from pyjnius~=1.3.0->python-terrier) (1.15.0)\n",
            "Requirement already satisfied: cython in /usr/local/lib/python3.7/dist-packages (from pyjnius~=1.3.0->python-terrier) (0.29.32)\n",
            "Requirement already satisfied: chardet<4,>=3.0.2 in /usr/local/lib/python3.7/dist-packages (from requests->python-terrier) (3.0.4)\n",
            "Requirement already satisfied: certifi>=2017.4.17 in /usr/local/lib/python3.7/dist-packages (from requests->python-terrier) (2022.6.15)\n",
            "Requirement already satisfied: urllib3!=1.25.0,!=1.25.1,<1.26,>=1.21.1 in /usr/local/lib/python3.7/dist-packages (from requests->python-terrier) (1.24.3)\n",
            "Requirement already satisfied: idna<3,>=2.5 in /usr/local/lib/python3.7/dist-packages (from requests->python-terrier) (2.10)\n",
            "Collecting cbor>=1.0.0\n",
            "  Downloading cbor-1.0.0.tar.gz (20 kB)\n",
            "Requirement already satisfied: heapdict in /usr/local/lib/python3.7/dist-packages (from chest->python-terrier) (1.0.1)\n",
            "Requirement already satisfied: packaging in /usr/local/lib/python3.7/dist-packages (from deprecation->python-terrier) (21.3)\n",
            "Requirement already satisfied: MarkupSafe>=0.23 in /usr/local/lib/python3.7/dist-packages (from jinja2->python-terrier) (2.0.1)\n",
            "Collecting multiset<3.0,>=2.0\n",
            "  Downloading multiset-2.1.1-py2.py3-none-any.whl (8.8 kB)\n",
            "Requirement already satisfied: pyparsing!=3.0.5,>=2.0.2 in /usr/local/lib/python3.7/dist-packages (from packaging->deprecation->python-terrier) (3.0.9)\n",
            "Requirement already satisfied: python-dateutil>=2.7.3 in /usr/local/lib/python3.7/dist-packages (from pandas->python-terrier) (2.8.2)\n",
            "Requirement already satisfied: pytz>=2017.3 in /usr/local/lib/python3.7/dist-packages (from pandas->python-terrier) (2022.2.1)\n",
            "Requirement already satisfied: scikit-learn in /usr/local/lib/python3.7/dist-packages (from sklearn->python-terrier) (1.0.2)\n",
            "Requirement already satisfied: threadpoolctl>=2.0.0 in /usr/local/lib/python3.7/dist-packages (from scikit-learn->sklearn->python-terrier) (3.1.0)\n",
            "Requirement already satisfied: patsy>=0.5 in /usr/local/lib/python3.7/dist-packages (from statsmodels->python-terrier) (0.5.2)\n",
            "Building wheels for collected packages: python-terrier, ir-measures, cwl-eval, cbor, unlzw3, warc3-wet-clueweb09, chest, sklearn, wget\n",
            "  Building wheel for python-terrier (setup.py) ... \u001b[?25l\u001b[?25hdone\n",
            "  Created wheel for python-terrier: filename=python_terrier-0.8.1-py3-none-any.whl size=104091 sha256=b895fde65f300162abe7c4e7de4f5ead7b10c073817fc3440ccec898e3c34051\n",
            "  Stored in directory: /root/.cache/pip/wheels/09/e5/f5/2f28a11314bac89a683eb2a12aed802a7da27e4318ffbff4a8\n",
            "  Building wheel for ir-measures (setup.py) ... \u001b[?25l\u001b[?25hdone\n",
            "  Created wheel for ir-measures: filename=ir_measures-0.3.1-py3-none-any.whl size=60193 sha256=a912a243a6ad4556cafd9a1bfa373a4195de94a657b942df63968ff49d37bcfc\n",
            "  Stored in directory: /root/.cache/pip/wheels/17/86/a6/8b9c92080cdc19346721307878315c19430fb4705716a5676a\n",
            "  Building wheel for cwl-eval (setup.py) ... \u001b[?25l\u001b[?25hdone\n",
            "  Created wheel for cwl-eval: filename=cwl_eval-1.0.10-py3-none-any.whl size=37797 sha256=6c4a2818cfa5d1b562e63f675977a35ba98a3a474f288dd8001891a2a3b376df\n",
            "  Stored in directory: /root/.cache/pip/wheels/ff/e9/ff/d2b6d72d9feb0d0b1b11aacfaf5cd866717034615c2d194093\n",
            "  Building wheel for cbor (setup.py) ... \u001b[?25l\u001b[?25hdone\n",
            "  Created wheel for cbor: filename=cbor-1.0.0-cp37-cp37m-linux_x86_64.whl size=51302 sha256=ca98969f73eb8b8108341308d7a70fa868ea05dff06cba82654dbef25351dae2\n",
            "  Stored in directory: /root/.cache/pip/wheels/19/77/49/c9c2c8dc5848502e606e8579d0bbda18b850fb056a6c62239d\n",
            "  Building wheel for unlzw3 (PEP 517) ... \u001b[?25l\u001b[?25hdone\n",
            "  Created wheel for unlzw3: filename=unlzw3-0.2.1-py3-none-any.whl size=6082 sha256=f1398f30e6908e1ab1c26dd75d05948c5e1b3d49e826f822e0c323e19805ecfa\n",
            "  Stored in directory: /root/.cache/pip/wheels/e1/3c/d9/e33962c8aad8999dc5560b6e71baafa2335c269f532f5e176a\n",
            "  Building wheel for warc3-wet-clueweb09 (setup.py) ... \u001b[?25l\u001b[?25hdone\n",
            "  Created wheel for warc3-wet-clueweb09: filename=warc3_wet_clueweb09-0.2.5-py3-none-any.whl size=18922 sha256=7034d9016db4b7cd41bdd207d2a76ef3d9823259c7910dcd2f707bf91e8609b7\n",
            "  Stored in directory: /root/.cache/pip/wheels/42/d4/3c/7c2b0c3d400ad744e4db69f2fde166655da2ed2198bfc02db6\n",
            "  Building wheel for chest (setup.py) ... \u001b[?25l\u001b[?25hdone\n",
            "  Created wheel for chest: filename=chest-0.2.3-py3-none-any.whl size=7634 sha256=00ed866126f64c7237010322c4ed5edad9adfcfc3666520c8ddfe0b0fcbcba79\n",
            "  Stored in directory: /root/.cache/pip/wheels/fc/f5/b9/c436e11300809e6b40d46a5d2592fb0bff89e0712f2e878dc7\n",
            "  Building wheel for sklearn (setup.py) ... \u001b[?25l\u001b[?25hdone\n",
            "  Created wheel for sklearn: filename=sklearn-0.0-py2.py3-none-any.whl size=1310 sha256=388a08381ca18f81745bd27d592db347875d121b2ece79ef91d6a7e6fdb4dd80\n",
            "  Stored in directory: /root/.cache/pip/wheels/46/ef/c3/157e41f5ee1372d1be90b09f74f82b10e391eaacca8f22d33e\n",
            "  Building wheel for wget (setup.py) ... \u001b[?25l\u001b[?25hdone\n",
            "  Created wheel for wget: filename=wget-3.2-py3-none-any.whl size=9675 sha256=24d3596d34e5932e8165137127d0a140c9a35e8407ba427948802f5b2c41dcff\n",
            "  Stored in directory: /root/.cache/pip/wheels/a1/b6/7c/0e63e34eb06634181c63adacca38b79ff8f35c37e3c13e3c02\n",
            "Successfully built python-terrier ir-measures cwl-eval cbor unlzw3 warc3-wet-clueweb09 chest sklearn wget\n",
            "Installing collected packages: cbor, zlib-state, warc3-wet-clueweb09, warc3-wet, unlzw3, typish, trec-car-tools, pytrec-eval-terrier, pyautocorpus, multiset, lz4, ijson, cwl-eval, wget, sklearn, pyjnius, nptyping, matchpy, ir-measures, ir-datasets, deprecation, chest, python-terrier\n",
            "Successfully installed cbor-1.0.0 chest-0.2.3 cwl-eval-1.0.10 deprecation-2.1.0 ijson-3.1.4 ir-datasets-0.5.3 ir-measures-0.3.1 lz4-4.0.2 matchpy-0.5.5 multiset-2.1.1 nptyping-1.4.4 pyautocorpus-0.1.8 pyjnius-1.3.0 python-terrier-0.8.1 pytrec-eval-terrier-0.5.4 sklearn-0.0 trec-car-tools-2.6 typish-1.9.3 unlzw3-0.2.1 warc3-wet-0.2.3 warc3-wet-clueweb09-0.2.5 wget-3.2 zlib-state-0.1.5\n"
          ]
        }
      ],
      "source": [
        "!pip install python-terrier\n",
        "\n",
        "import pandas as pd"
      ]
    },
    {
      "cell_type": "code",
      "source": [
        "import pyterrier as pt\n",
        "pt.init()"
      ],
      "metadata": {
        "colab": {
          "base_uri": "https://localhost:8080/"
        },
        "id": "85g1zmUk6zBR",
        "outputId": "35e14dae-12f8-4073-97a7-bc4c3ff4726e"
      },
      "execution_count": null,
      "outputs": [
        {
          "output_type": "stream",
          "name": "stdout",
          "text": [
            "terrier-assemblies 5.6 jar-with-dependencies not found, downloading to /root/.pyterrier...\n",
            "Done\n",
            "terrier-python-helper 0.0.6 jar not found, downloading to /root/.pyterrier...\n",
            "Done\n"
          ]
        },
        {
          "output_type": "stream",
          "name": "stderr",
          "text": [
            "PyTerrier 0.8.1 has loaded Terrier 5.6 (built by craigmacdonald on 2021-09-17 13:27)\n",
            "\n"
          ]
        }
      ]
    },
    {
      "cell_type": "code",
      "source": [
        "from google.colab import drive\n",
        "drive.mount('/content/drive')\n",
        "import os\n",
        "name_dir=(\"/content/drive/MyDrive/IRDM\")"
      ],
      "metadata": {
        "colab": {
          "base_uri": "https://localhost:8080/"
        },
        "id": "MNxO92wo62bu",
        "outputId": "31e8c3c0-ffa3-4b6c-fd01-015db884acd0"
      },
      "execution_count": null,
      "outputs": [
        {
          "output_type": "stream",
          "name": "stdout",
          "text": [
            "Mounted at /content/drive\n"
          ]
        }
      ]
    },
    {
      "cell_type": "code",
      "source": [
        "index_ref = pt.IndexRef.of(\"/content/drive/MyDrive/IRDM/xml_dir/ind_3/data.properties\")\n",
        "index= pt.IndexFactory.of(index_ref)"
      ],
      "metadata": {
        "id": "kRFJvK0FGXrA"
      },
      "execution_count": null,
      "outputs": []
    },
    {
      "cell_type": "markdown",
      "source": [
        "The template and function are for post processing"
      ],
      "metadata": {
        "id": "ynOOfDVLSpLp"
      }
    },
    {
      "cell_type": "code",
      "source": [
        "id_template = 'spotify:episode:{}_{}'\n",
        "def get_ep(a,b):\n",
        "  return id_template.format(a,b) \n",
        "import pandas as pd"
      ],
      "metadata": {
        "id": "05h99O2NGxQB"
      },
      "execution_count": null,
      "outputs": []
    },
    {
      "cell_type": "markdown",
      "source": [
        "POS TAGGING (Nouns in topics) with PL2 "
      ],
      "metadata": {
        "id": "HuyD6DHkUJap"
      }
    },
    {
      "cell_type": "code",
      "source": [
        "\n",
        "topics = pt.io.read_topics(\"/content/drive/MyDrive/IRDM/only_nouns.xml\",format=\"trecxml\")\n",
        "\n",
        "pl2= pt.BatchRetrieve(index, controls={\"wmodel\": \"PL2\",\"c\":20},metadata=[\"docno\",'text'])\n",
        "\n",
        "\n",
        "\n",
        "\n",
        "\n",
        "res=pl2.transform(topics)\n",
        "\n",
        "df = pd.DataFrame(res, columns=['qid', 'rank', 'docno', 'score'])\n",
        "\n",
        "df[\"ep_id\"]=df[\"docno\"].apply(lambda x: x.split(\"_\")[1].split(\"-\")[0])\n",
        "df[\"episode\"]=df[\"docno\"].apply(lambda x: x.split(\"_\")[0])\n",
        "df[\"docno\"]=df.apply(lambda x: get_ep(x[\"episode\"],x[\"ep_id\"]),axis=1)\n",
        "df[\"docno\"]=df[\"docno\"]+\".0\"\n",
        "rsl=df[[\"qid\",\"docno\",\"rank\",\"score\"]]\n",
        "\n",
        "rsl=df[[\"qid\",\"docno\",\"rank\",\"score\"]]\n",
        "\n",
        "\n",
        "\n",
        "qrels_path=(\"/content/drive/MyDrive/IRDM/podcasts_2020_train.1-8.qrels\")\n",
        "qrels = pt.io.read_qrels(qrels_path)\n",
        "\n",
        "\n",
        "print(\"PL 2 \")\n",
        "print(pt.Utils.evaluate(rsl,qrels,metrics=['map',\"ndcg\",\"ndcg_cut_30\",\"P_10\"]))"
      ],
      "metadata": {
        "colab": {
          "base_uri": "https://localhost:8080/"
        },
        "id": "j_1LULvV7qJL",
        "outputId": "b8873696-87b6-497b-c953-2d6fc3ea9b27"
      },
      "execution_count": null,
      "outputs": [
        {
          "output_type": "stream",
          "name": "stdout",
          "text": [
            "PL 2 \n",
            "{'map': 0.1646699793070074, 'ndcg': 0.419270013930858, 'ndcg_cut_30': 0.2644263695590928, 'P_10': 0.275}\n"
          ]
        }
      ]
    },
    {
      "cell_type": "markdown",
      "source": [
        "Nouns with BM25 + DPH "
      ],
      "metadata": {
        "id": "Ek79SYo0UbtQ"
      }
    },
    {
      "cell_type": "code",
      "source": [
        "topics = pt.io.read_topics(\"/content/drive/MyDrive/IRDM/only_nouns.xml\",format=\"trecxml\")\n",
        "\n",
        "\n",
        "def get_retr(index, param_b, param_k1):\n",
        "    retr = pt.BatchRetrieve(index, controls={'wmodel': \"BM25\", \"c\": param_b},\n",
        "        properties={'bm25.k_1': param_k1})\n",
        "    return retr\n",
        "\n",
        "def get_dph(index):\n",
        "    return pt.BatchRetrieve(index, controls={\"wmodel\": \"DPH\"})\n",
        "\n",
        "\n",
        "bm25 = get_retr(index, 0.75, 1.2) >> \\\n",
        "            pt.pipelines.PerQueryMaxMinScoreTransformer()\n",
        "dph = get_dph(index) >> \\\n",
        "            pt.pipelines.PerQueryMaxMinScoreTransformer()\n",
        "\n",
        "\n",
        "combined = bm25 + dph \n",
        "\n",
        "res=combined.transform(topics)\n",
        "\n",
        "df = pd.DataFrame(res, columns=['qid', 'rank', 'docno', 'score'])\n",
        "\n",
        "df[\"ep_id\"]=df[\"docno\"].apply(lambda x: x.split(\"_\")[1].split(\"-\")[0])\n",
        "df[\"episode\"]=df[\"docno\"].apply(lambda x: x.split(\"_\")[0])\n",
        "df[\"docno\"]=df.apply(lambda x: get_ep(x[\"episode\"],x[\"ep_id\"]),axis=1)\n",
        "df[\"docno\"]=df[\"docno\"]+\".0\"\n",
        "rsl=df[[\"qid\",\"docno\",\"rank\",\"score\"]]\n",
        "\n",
        "rsl=df[[\"qid\",\"docno\",\"rank\",\"score\"]]\n",
        "\n",
        "\n",
        "\n",
        "qrels_path=(\"/content/drive/MyDrive/IRDM/podcasts_2020_train.1-8.qrels\")\n",
        "qrels = pt.io.read_qrels(qrels_path)\n",
        "\n",
        "\n",
        "print(\"DCU Approach\")\n",
        "print(pt.Utils.evaluate(rsl,qrels,metrics=['map',\"ndcg\",\"ndcg_cut_30\",\"P_10\"]))\n"
      ],
      "metadata": {
        "colab": {
          "base_uri": "https://localhost:8080/"
        },
        "id": "NI7pBzE_4KZ7",
        "outputId": "9b3fc1ee-20b4-4a27-ce59-a6e0d68d0d9f"
      },
      "execution_count": null,
      "outputs": [
        {
          "output_type": "stream",
          "name": "stdout",
          "text": [
            "DCU Approach\n",
            "{'map': 0.1899557702382274, 'ndcg': 0.4452750136056026, 'ndcg_cut_30': 0.27400675209389597, 'P_10': 0.3374999999999999}\n"
          ]
        }
      ]
    },
    {
      "cell_type": "markdown",
      "source": [
        "Other Linear Combinations (DPH, PL2 and BM25) on Nouns"
      ],
      "metadata": {
        "id": "5XyucmDHUh_R"
      }
    },
    {
      "cell_type": "code",
      "source": [
        "bm25 = pt.BatchRetrieve(index, controls={\"wmodel\":\"BM25\",\"c\":0.6}, metadata=[\"docno\",'text'],properties={\"bm25.k_1\":0.5})\n",
        "ret= pt.BatchRetrieve(index, controls={\"wmodel\": \"DPH\"})\n",
        "pl2= pt.BatchRetrieve(index, controls={\"wmodel\": \"PL2\",\"c\":20},metadata=[\"docno\",'text'])\n",
        "\n",
        "\n",
        "topics = pt.io.read_topics(\"/content/drive/MyDrive/IRDM/only_nouns.xml\",format=\"trecxml\")\n",
        "\n",
        "mod= bm25+pl2\n",
        "mod2= pl2+dph\n",
        "import pandas as pd\n",
        "id_template = 'spotify:episode:{}_{}'\n",
        "res=mod.transform(topics)\n",
        "res_2=mod2.transform(topics)\n",
        "df = pd.DataFrame(res, columns=['qid', 'rank', 'docno', 'score'])\n",
        "df_2=pd.DataFrame(res_2, columns=['qid', 'rank', 'docno', 'score'])\n",
        "df[\"ep_id\"]=df[\"docno\"].apply(lambda x: x.split(\"_\")[1].split(\"-\")[0])\n",
        "df[\"episode\"]=df[\"docno\"].apply(lambda x: x.split(\"_\")[0])\n",
        "df[\"docno\"]=df.apply(lambda x: get_ep(x[\"episode\"],x[\"ep_id\"]),axis=1)\n",
        "df[\"docno\"]=df[\"docno\"]+\".0\"\n",
        "rsl=df[[\"qid\",\"docno\",\"rank\",\"score\"]]\n",
        "df_2[\"ep_id\"]=df_2[\"docno\"].apply(lambda x: x.split(\"_\")[1].split(\"-\")[0])\n",
        "df_2[\"episode\"]=df_2[\"docno\"].apply(lambda x: x.split(\"_\")[0])\n",
        "df_2[\"docno\"]=df_2.apply(lambda x: get_ep(x[\"episode\"],x[\"ep_id\"]),axis=1)\n",
        "df_2[\"docno\"]=df_2[\"docno\"]+\".0\"\n",
        "rsl=df[[\"qid\",\"docno\",\"rank\",\"score\"]]\n",
        "rsl_2=df_2[[\"qid\",\"docno\",\"rank\",\"score\"]]\n",
        "qrels_path=(\"/content/drive/MyDrive/IRDM/podcasts_2020_train.1-8.qrels\")\n",
        "qrels = pt.io.read_qrels(qrels_path)\n",
        "print(\"BM 25 + PL2\")\n",
        "print(pt.Utils.evaluate(rsl,qrels,metrics=['map',\"ndcg\",\"ndcg_cut_30\",\"P_10\"]))\n",
        "print(\"pl2 + DPH \")\n",
        "print(pt.Utils.evaluate(rsl_2,qrels,metrics=['map',\"ndcg\",\"ndcg_cut_30\",\"P_10\"]))"
      ],
      "metadata": {
        "colab": {
          "base_uri": "https://localhost:8080/"
        },
        "id": "YN20MOS64XXL",
        "outputId": "0cbe282e-48d0-4556-ca63-5b360d78cd6e"
      },
      "execution_count": null,
      "outputs": [
        {
          "output_type": "stream",
          "name": "stdout",
          "text": [
            "BM 25 + PL2\n",
            "{'map': 0.1768791786800509, 'ndcg': 0.43184624515128345, 'ndcg_cut_30': 0.27112592738774033, 'P_10': 0.3125}\n",
            "pl2 + DPH \n",
            "{'map': 0.1656313853097353, 'ndcg': 0.4237350232405159, 'ndcg_cut_30': 0.26392803618423094, 'P_10': 0.275}\n"
          ]
        }
      ]
    },
    {
      "cell_type": "markdown",
      "source": [
        "QE Approach (Best Performing Approach ) on Nouns"
      ],
      "metadata": {
        "id": "Mw1W_sVLUpTo"
      }
    },
    {
      "cell_type": "code",
      "source": [
        "\n",
        "qe = pt.BatchRetrieve(index, controls={'wmodel': \"BM25\"}) >> \\\n",
        "            pt.rewrite.QueryExpansion(index, fb_terms=15, fb_docs=6) >> \\\n",
        "            pt.BatchRetrieve(index, controls={'wmodel': \"PL2\",\"c\":20})\n",
        "\n",
        "\n",
        "topics = pt.io.read_topics(\"/content/drive/MyDrive/IRDM/only_nouns.xml\",format=\"trecxml\")\n",
        "\n",
        "\n",
        "import pandas as pd\n",
        "id_template = 'spotify:episode:{}_{}'\n",
        "res=qe.transform(topics)\n",
        "\n",
        "df = pd.DataFrame(res, columns=['qid', 'rank', 'docno', 'score'])\n",
        "\n",
        "\n",
        "df[\"ep_id\"]=df[\"docno\"].apply(lambda x: x.split(\"_\")[1].split(\"-\")[0])\n",
        "df[\"episode\"]=df[\"docno\"].apply(lambda x: x.split(\"_\")[0])\n",
        "df[\"docno\"]=df.apply(lambda x: get_ep(x[\"episode\"],x[\"ep_id\"]),axis=1)\n",
        "df[\"docno\"]=df[\"docno\"]+\".0\"\n",
        "rsl=df[[\"qid\",\"docno\",\"rank\",\"score\"]]\n",
        "\n",
        "rsl=df[[\"qid\",\"docno\",\"rank\",\"score\"]]\n",
        "\n",
        "\n",
        "qrels_path=(\"/content/drive/MyDrive/IRDM/podcasts_2020_train.1-8.qrels\")\n",
        "qrels = pt.io.read_qrels(qrels_path)\n",
        "print(\"DPH QE \")\n",
        "print(pt.Utils.evaluate(rsl,qrels,metrics=['map',\"ndcg\",\"ndcg_cut_30\",\"P_10\"]))"
      ],
      "metadata": {
        "colab": {
          "base_uri": "https://localhost:8080/"
        },
        "id": "u9pbx5WOHr0u",
        "outputId": "10b1bf9e-d78b-4610-913f-cf501a55bc7a"
      },
      "execution_count": null,
      "outputs": [
        {
          "output_type": "stream",
          "name": "stdout",
          "text": [
            "00:21:30.301 [main] WARN org.terrier.querying.QueryExpansion - qemodel control not set for QueryExpansion post process. Using default model Bo1\n",
            "DPH QE \n",
            "{'map': 0.17440671662192933, 'ndcg': 0.42271493843418184, 'ndcg_cut_30': 0.26936368933047417, 'P_10': 0.3}\n"
          ]
        }
      ]
    },
    {
      "cell_type": "markdown",
      "source": [
        "Entities on Topics + Description on PL2"
      ],
      "metadata": {
        "id": "EyhwAX8xU1Xo"
      }
    },
    {
      "cell_type": "code",
      "source": [
        "\n",
        "topics = pt.io.read_topics(\"/content/drive/MyDrive/IRDM/ent.xml\",format=\"trecxml\")\n",
        "\n",
        "pl2= pt.BatchRetrieve(index, controls={\"wmodel\": \"PL2\",\"c\":20},metadata=[\"docno\",'text'])\n",
        "\n",
        "\n",
        "\n",
        "import pandas as pd\n",
        "\n",
        "res=pl2.transform(topics)\n",
        "\n",
        "df = pd.DataFrame(res, columns=['qid', 'rank', 'docno', 'score'])\n",
        "\n",
        "df[\"ep_id\"]=df[\"docno\"].apply(lambda x: x.split(\"_\")[1].split(\"-\")[0])\n",
        "df[\"episode\"]=df[\"docno\"].apply(lambda x: x.split(\"_\")[0])\n",
        "df[\"docno\"]=df.apply(lambda x: get_ep(x[\"episode\"],x[\"ep_id\"]),axis=1)\n",
        "df[\"docno\"]=df[\"docno\"]+\".0\"\n",
        "rsl=df[[\"qid\",\"docno\",\"rank\",\"score\"]]\n",
        "\n",
        "rsl=df[[\"qid\",\"docno\",\"rank\",\"score\"]]\n",
        "\n",
        "\n",
        "\n",
        "qrels_path=(\"/content/drive/MyDrive/IRDM/podcasts_2020_train.1-8.qrels\")\n",
        "qrels = pt.io.read_qrels(qrels_path)\n",
        "\n",
        "\n",
        "print(\"PL 2 \")\n",
        "print(pt.Utils.evaluate(rsl,qrels,metrics=['map',\"ndcg\",\"ndcg_cut_30\",\"P_10\"]))"
      ],
      "metadata": {
        "colab": {
          "base_uri": "https://localhost:8080/"
        },
        "id": "IzAYUKT3Kvnj",
        "outputId": "6e784d8c-1735-4bae-aed6-512a5c6138d4"
      },
      "execution_count": null,
      "outputs": [
        {
          "output_type": "stream",
          "name": "stdout",
          "text": [
            "PL 2 \n",
            "{'map': 0.1493216771704032, 'ndcg': 0.3844520020405561, 'ndcg_cut_30': 0.23520555281501193, 'P_10': 0.25}\n"
          ]
        }
      ]
    },
    {
      "cell_type": "markdown",
      "source": [
        "Entities on Topics + Description on DCU approach"
      ],
      "metadata": {
        "id": "1VF-Of2_VKM0"
      }
    },
    {
      "cell_type": "code",
      "source": [
        "topics = pt.io.read_topics(\"/content/drive/MyDrive/IRDM/ent.xml\",format=\"trecxml\")\n",
        "\n",
        "\n",
        "def get_retr(index, param_b, param_k1):\n",
        "    retr = pt.BatchRetrieve(index, controls={'wmodel': \"BM25\", \"c\": param_b},\n",
        "        properties={'bm25.k_1': param_k1})\n",
        "    return retr\n",
        "\n",
        "def get_dph(index):\n",
        "    return pt.BatchRetrieve(index, controls={\"wmodel\": \"DPH\"})\n",
        "\n",
        "\n",
        "bm25 = get_retr(index, 0.75, 1.2) >> \\\n",
        "            pt.pipelines.PerQueryMaxMinScoreTransformer()\n",
        "dph = get_dph(index) >> \\\n",
        "            pt.pipelines.PerQueryMaxMinScoreTransformer()\n",
        "\n",
        "\n",
        "combined = bm25 + dph \n",
        "\n",
        "res=combined.transform(topics)\n",
        "\n",
        "df = pd.DataFrame(res, columns=['qid', 'rank', 'docno', 'score'])\n",
        "\n",
        "df[\"ep_id\"]=df[\"docno\"].apply(lambda x: x.split(\"_\")[1].split(\"-\")[0])\n",
        "df[\"episode\"]=df[\"docno\"].apply(lambda x: x.split(\"_\")[0])\n",
        "df[\"docno\"]=df.apply(lambda x: get_ep(x[\"episode\"],x[\"ep_id\"]),axis=1)\n",
        "df[\"docno\"]=df[\"docno\"]+\".0\"\n",
        "rsl=df[[\"qid\",\"docno\",\"rank\",\"score\"]]\n",
        "\n",
        "rsl=df[[\"qid\",\"docno\",\"rank\",\"score\"]]\n",
        "\n",
        "\n",
        "\n",
        "qrels_path=(\"/content/drive/MyDrive/IRDM/podcasts_2020_train.1-8.qrels\")\n",
        "qrels = pt.io.read_qrels(qrels_path)\n",
        "\n",
        "\n",
        "print(\"DCU Approach\")\n",
        "print(pt.Utils.evaluate(rsl,qrels,metrics=['map',\"ndcg\",\"ndcg_cut_30\",\"P_10\"]))\n"
      ],
      "metadata": {
        "colab": {
          "base_uri": "https://localhost:8080/"
        },
        "id": "p_ZDSUFH40NT",
        "outputId": "6f3761f7-644e-42cd-9dee-02b828f5f880"
      },
      "execution_count": null,
      "outputs": [
        {
          "output_type": "stream",
          "name": "stdout",
          "text": [
            "DCU Approach\n",
            "{'map': 0.17610555622448715, 'ndcg': 0.4177186993166014, 'ndcg_cut_30': 0.2501800528171108, 'P_10': 0.2625}\n"
          ]
        }
      ]
    },
    {
      "cell_type": "markdown",
      "source": [
        "Entities on Topics + Description on Linear Combinations"
      ],
      "metadata": {
        "id": "P5jrJ-JXVNew"
      }
    },
    {
      "cell_type": "code",
      "source": [
        "bm25 = pt.BatchRetrieve(index, controls={\"wmodel\":\"BM25\",\"c\":0.6}, metadata=[\"docno\",'text'],properties={\"bm25.k_1\":0.5})\n",
        "ret= pt.BatchRetrieve(index, controls={\"wmodel\": \"DPH\"})\n",
        "pl2= pt.BatchRetrieve(index, controls={\"wmodel\": \"PL2\",\"c\":20},metadata=[\"docno\",'text'])\n",
        "\n",
        "\n",
        "topics = pt.io.read_topics(\"/content/drive/MyDrive/IRDM/ent.xml\",format=\"trecxml\")\n",
        "\n",
        "mod= bm25+pl2\n",
        "mod2= pl2+dph\n",
        "import pandas as pd\n",
        "id_template = 'spotify:episode:{}_{}'\n",
        "res=mod.transform(topics)\n",
        "res_2=mod2.transform(topics)\n",
        "df = pd.DataFrame(res, columns=['qid', 'rank', 'docno', 'score'])\n",
        "df_2=pd.DataFrame(res_2, columns=['qid', 'rank', 'docno', 'score'])\n",
        "df[\"ep_id\"]=df[\"docno\"].apply(lambda x: x.split(\"_\")[1].split(\"-\")[0])\n",
        "df[\"episode\"]=df[\"docno\"].apply(lambda x: x.split(\"_\")[0])\n",
        "df[\"docno\"]=df.apply(lambda x: get_ep(x[\"episode\"],x[\"ep_id\"]),axis=1)\n",
        "df[\"docno\"]=df[\"docno\"]+\".0\"\n",
        "rsl=df[[\"qid\",\"docno\",\"rank\",\"score\"]]\n",
        "df_2[\"ep_id\"]=df_2[\"docno\"].apply(lambda x: x.split(\"_\")[1].split(\"-\")[0])\n",
        "df_2[\"episode\"]=df_2[\"docno\"].apply(lambda x: x.split(\"_\")[0])\n",
        "df_2[\"docno\"]=df_2.apply(lambda x: get_ep(x[\"episode\"],x[\"ep_id\"]),axis=1)\n",
        "df_2[\"docno\"]=df_2[\"docno\"]+\".0\"\n",
        "rsl=df[[\"qid\",\"docno\",\"rank\",\"score\"]]\n",
        "rsl_2=df_2[[\"qid\",\"docno\",\"rank\",\"score\"]]\n",
        "qrels_path=(\"/content/drive/MyDrive/IRDM/podcasts_2020_train.1-8.qrels\")\n",
        "qrels = pt.io.read_qrels(qrels_path)\n",
        "print(\"BM 25 + PL2\")\n",
        "print(pt.Utils.evaluate(rsl,qrels,metrics=['map',\"ndcg\",\"ndcg_cut_30\",\"P_10\"]))\n",
        "print(\"pl2 + DPH \")\n",
        "print(pt.Utils.evaluate(rsl_2,qrels,metrics=['map',\"ndcg\",\"ndcg_cut_30\",\"P_10\"]))"
      ],
      "metadata": {
        "colab": {
          "base_uri": "https://localhost:8080/"
        },
        "id": "hU5edvrj_1dl",
        "outputId": "8f2f7a7a-4d74-4259-ea73-d449b148d1e2"
      },
      "execution_count": null,
      "outputs": [
        {
          "output_type": "stream",
          "name": "stdout",
          "text": [
            "BM 25 + PL2\n",
            "{'map': 0.1677451259801503, 'ndcg': 0.4154473711832167, 'ndcg_cut_30': 0.2486505281844029, 'P_10': 0.2625}\n",
            "pl2 + DPH \n",
            "{'map': 0.15068870897475908, 'ndcg': 0.39529835713260403, 'ndcg_cut_30': 0.2343969973090611, 'P_10': 0.25}\n"
          ]
        }
      ]
    },
    {
      "cell_type": "markdown",
      "source": [
        "Entities on Topics + Description on QE Approach  (Our approach)"
      ],
      "metadata": {
        "id": "YxnXjEmZVSkm"
      }
    },
    {
      "cell_type": "code",
      "source": [
        "\n",
        "qe = pt.BatchRetrieve(index, controls={'wmodel': \"BM25\"}) >> \\\n",
        "            pt.rewrite.QueryExpansion(index, fb_terms=15, fb_docs=6) >> \\\n",
        "            pt.BatchRetrieve(index, controls={'wmodel': \"PL2\",\"c\":20})\n",
        "\n",
        "\n",
        "topics = pt.io.read_topics(\"/content/drive/MyDrive/IRDM/ent.xml\",format=\"trecxml\")\n",
        "\n",
        "\n",
        "import pandas as pd\n",
        "id_template = 'spotify:episode:{}_{}'\n",
        "res=qe.transform(topics)\n",
        "\n",
        "df = pd.DataFrame(res, columns=['qid', 'rank', 'docno', 'score'])\n",
        "\n",
        "\n",
        "df[\"ep_id\"]=df[\"docno\"].apply(lambda x: x.split(\"_\")[1].split(\"-\")[0])\n",
        "df[\"episode\"]=df[\"docno\"].apply(lambda x: x.split(\"_\")[0])\n",
        "df[\"docno\"]=df.apply(lambda x: get_ep(x[\"episode\"],x[\"ep_id\"]),axis=1)\n",
        "df[\"docno\"]=df[\"docno\"]+\".0\"\n",
        "rsl=df[[\"qid\",\"docno\",\"rank\",\"score\"]]\n",
        "\n",
        "rsl=df[[\"qid\",\"docno\",\"rank\",\"score\"]]\n",
        "\n",
        "\n",
        "qrels_path=(\"/content/drive/MyDrive/IRDM/podcasts_2020_train.1-8.qrels\")\n",
        "qrels = pt.io.read_qrels(qrels_path)\n",
        "print(\"DPH QE \")\n",
        "print(pt.Utils.evaluate(rsl,qrels,metrics=['map',\"ndcg\",\"ndcg_cut_30\",\"P_10\"]))"
      ],
      "metadata": {
        "colab": {
          "base_uri": "https://localhost:8080/"
        },
        "id": "5fddsCm4K7G8",
        "outputId": "49c6cabd-9b84-4dd0-c1b8-b381c0ad9ed3"
      },
      "execution_count": null,
      "outputs": [
        {
          "output_type": "stream",
          "name": "stdout",
          "text": [
            "00:35:29.688 [main] WARN org.terrier.querying.QueryExpansion - qemodel control not set for QueryExpansion post process. Using default model Bo1\n",
            "DPH QE \n",
            "{'map': 0.17750900827021465, 'ndcg': 0.39024570386384133, 'ndcg_cut_30': 0.24856738572971832, 'P_10': 0.28750000000000003}\n"
          ]
        }
      ]
    },
    {
      "cell_type": "markdown",
      "source": [
        "Nouns + Entities on Topics + Description on PL2\n",
        "\n",
        "\n"
      ],
      "metadata": {
        "id": "l965-rCGVYhf"
      }
    },
    {
      "cell_type": "code",
      "source": [
        "\n",
        "topics = pt.io.read_topics(\"/content/drive/MyDrive/IRDM/noun_ent_bth.xml\",format=\"trecxml\")\n",
        "\n",
        "pl2= pt.BatchRetrieve(index, controls={\"wmodel\": \"PL2\",\"c\":20},metadata=[\"docno\",'text'])\n",
        "\n",
        "\n",
        "\n",
        "import pandas as pd\n",
        "\n",
        "res=pl2.transform(topics)\n",
        "\n",
        "df = pd.DataFrame(res, columns=['qid', 'rank', 'docno', 'score'])\n",
        "\n",
        "df[\"ep_id\"]=df[\"docno\"].apply(lambda x: x.split(\"_\")[1].split(\"-\")[0])\n",
        "df[\"episode\"]=df[\"docno\"].apply(lambda x: x.split(\"_\")[0])\n",
        "df[\"docno\"]=df.apply(lambda x: get_ep(x[\"episode\"],x[\"ep_id\"]),axis=1)\n",
        "df[\"docno\"]=df[\"docno\"]+\".0\"\n",
        "rsl=df[[\"qid\",\"docno\",\"rank\",\"score\"]]\n",
        "\n",
        "rsl=df[[\"qid\",\"docno\",\"rank\",\"score\"]]\n",
        "\n",
        "\n",
        "\n",
        "qrels_path=(\"/content/drive/MyDrive/IRDM/podcasts_2020_train.1-8.qrels\")\n",
        "qrels = pt.io.read_qrels(qrels_path)\n",
        "\n",
        "\n",
        "print(\"PL 2 \")\n",
        "print(pt.Utils.evaluate(rsl,qrels,metrics=['map',\"ndcg\",\"ndcg_cut_30\",\"P_10\"]))"
      ],
      "metadata": {
        "colab": {
          "base_uri": "https://localhost:8080/"
        },
        "id": "p1Thuyh8LZO5",
        "outputId": "ad459b1a-52bf-4cea-aef6-4ebb7352c141"
      },
      "execution_count": null,
      "outputs": [
        {
          "output_type": "stream",
          "name": "stdout",
          "text": [
            "PL 2 \n",
            "{'map': 0.16588236521052296, 'ndcg': 0.4287557226690556, 'ndcg_cut_30': 0.2637884879143669, 'P_10': 0.275}\n"
          ]
        }
      ]
    },
    {
      "cell_type": "markdown",
      "source": [
        "Nouns + Entities on Topics + Description on DCU Approach\n",
        "\n",
        "\n"
      ],
      "metadata": {
        "id": "hQnY-SO9VfaQ"
      }
    },
    {
      "cell_type": "code",
      "source": [
        "topics = pt.io.read_topics(\"/content/drive/MyDrive/IRDM/noun_ent_bth.xml\",format=\"trecxml\")\n",
        "\n",
        "\n",
        "def get_retr(index, param_b, param_k1):\n",
        "    retr = pt.BatchRetrieve(index, controls={'wmodel': \"BM25\", \"c\": param_b},\n",
        "        properties={'bm25.k_1': param_k1})\n",
        "    return retr\n",
        "\n",
        "def get_dph(index):\n",
        "    return pt.BatchRetrieve(index, controls={\"wmodel\": \"DPH\"})\n",
        "\n",
        "\n",
        "bm25 = get_retr(index, 0.75, 1.2) >> \\\n",
        "            pt.pipelines.PerQueryMaxMinScoreTransformer()\n",
        "dph = get_dph(index) >> \\\n",
        "            pt.pipelines.PerQueryMaxMinScoreTransformer()\n",
        "\n",
        "\n",
        "combined = bm25 + dph \n",
        "\n",
        "res=combined.transform(topics)\n",
        "\n",
        "df = pd.DataFrame(res, columns=['qid', 'rank', 'docno', 'score'])\n",
        "\n",
        "df[\"ep_id\"]=df[\"docno\"].apply(lambda x: x.split(\"_\")[1].split(\"-\")[0])\n",
        "df[\"episode\"]=df[\"docno\"].apply(lambda x: x.split(\"_\")[0])\n",
        "df[\"docno\"]=df.apply(lambda x: get_ep(x[\"episode\"],x[\"ep_id\"]),axis=1)\n",
        "df[\"docno\"]=df[\"docno\"]+\".0\"\n",
        "rsl=df[[\"qid\",\"docno\",\"rank\",\"score\"]]\n",
        "\n",
        "rsl=df[[\"qid\",\"docno\",\"rank\",\"score\"]]\n",
        "\n",
        "\n",
        "\n",
        "qrels_path=(\"/content/drive/MyDrive/IRDM/podcasts_2020_train.1-8.qrels\")\n",
        "qrels = pt.io.read_qrels(qrels_path)\n",
        "\n",
        "\n",
        "print(\"DCU Approach\")\n",
        "print(pt.Utils.evaluate(rsl,qrels,metrics=['map',\"ndcg\",\"ndcg_cut_30\",\"P_10\"]))\n"
      ],
      "metadata": {
        "colab": {
          "base_uri": "https://localhost:8080/"
        },
        "id": "_Wmxt-2y48Xo",
        "outputId": "8c5ec606-4dcf-47fd-c0cf-df0fbb59c2e2"
      },
      "execution_count": null,
      "outputs": [
        {
          "output_type": "stream",
          "name": "stdout",
          "text": [
            "DCU Approach\n",
            "{'map': 0.19802980927172356, 'ndcg': 0.4513034016532414, 'ndcg_cut_30': 0.2907901220161729, 'P_10': 0.3625}\n"
          ]
        }
      ]
    },
    {
      "cell_type": "markdown",
      "source": [
        "Nouns + Entities on Topics + Description on Linear Combinations\n",
        "\n",
        "\n"
      ],
      "metadata": {
        "id": "hZF12XZcVjI_"
      }
    },
    {
      "cell_type": "code",
      "source": [
        "bm25 = pt.BatchRetrieve(index, controls={\"wmodel\":\"BM25\",\"c\":0.6}, metadata=[\"docno\",'text'],properties={\"bm25.k_1\":0.5})\n",
        "ret= pt.BatchRetrieve(index, controls={\"wmodel\": \"DPH\"})\n",
        "pl2= pt.BatchRetrieve(index, controls={\"wmodel\": \"PL2\",\"c\":20},metadata=[\"docno\",'text'])\n",
        "\n",
        "\n",
        "topics = pt.io.read_topics(\"/content/drive/MyDrive/IRDM/noun_ent_bth.xml\",format=\"trecxml\")\n",
        "\n",
        "mod= bm25+pl2\n",
        "mod2= pl2+dph\n",
        "import pandas as pd\n",
        "id_template = 'spotify:episode:{}_{}'\n",
        "res=mod.transform(topics)\n",
        "res_2=mod2.transform(topics)\n",
        "df = pd.DataFrame(res, columns=['qid', 'rank', 'docno', 'score'])\n",
        "df_2=pd.DataFrame(res_2, columns=['qid', 'rank', 'docno', 'score'])\n",
        "df[\"ep_id\"]=df[\"docno\"].apply(lambda x: x.split(\"_\")[1].split(\"-\")[0])\n",
        "df[\"episode\"]=df[\"docno\"].apply(lambda x: x.split(\"_\")[0])\n",
        "df[\"docno\"]=df.apply(lambda x: get_ep(x[\"episode\"],x[\"ep_id\"]),axis=1)\n",
        "df[\"docno\"]=df[\"docno\"]+\".0\"\n",
        "rsl=df[[\"qid\",\"docno\",\"rank\",\"score\"]]\n",
        "df_2[\"ep_id\"]=df_2[\"docno\"].apply(lambda x: x.split(\"_\")[1].split(\"-\")[0])\n",
        "df_2[\"episode\"]=df_2[\"docno\"].apply(lambda x: x.split(\"_\")[0])\n",
        "df_2[\"docno\"]=df_2.apply(lambda x: get_ep(x[\"episode\"],x[\"ep_id\"]),axis=1)\n",
        "df_2[\"docno\"]=df_2[\"docno\"]+\".0\"\n",
        "rsl=df[[\"qid\",\"docno\",\"rank\",\"score\"]]\n",
        "rsl_2=df_2[[\"qid\",\"docno\",\"rank\",\"score\"]]\n",
        "qrels_path=(\"/content/drive/MyDrive/IRDM/podcasts_2020_train.1-8.qrels\")\n",
        "qrels = pt.io.read_qrels(qrels_path)\n",
        "print(\"BM 25 + PL2\")\n",
        "print(pt.Utils.evaluate(rsl,qrels,metrics=['map',\"ndcg\",\"ndcg_cut_30\",\"P_10\"]))\n",
        "print(\"pl2 + DPH \")\n",
        "print(pt.Utils.evaluate(rsl_2,qrels,metrics=['map',\"ndcg\",\"ndcg_cut_30\",\"P_10\"]))"
      ],
      "metadata": {
        "colab": {
          "base_uri": "https://localhost:8080/"
        },
        "id": "rrxl_N_E_6uX",
        "outputId": "3dec4106-8ecd-48af-bcb7-eac43682110d"
      },
      "execution_count": null,
      "outputs": [
        {
          "output_type": "stream",
          "name": "stdout",
          "text": [
            "BM 25 + PL2\n",
            "{'map': 0.1811215955248267, 'ndcg': 0.43439482643667493, 'ndcg_cut_30': 0.28348686319061817, 'P_10': 0.325}\n",
            "pl2 + DPH \n",
            "{'map': 0.16869076737438068, 'ndcg': 0.43465317639622963, 'ndcg_cut_30': 0.26473234152257946, 'P_10': 0.28750000000000003}\n"
          ]
        }
      ]
    },
    {
      "cell_type": "markdown",
      "source": [
        "Nouns + Entities on Topics + Description on QE approach (Our approach)"
      ],
      "metadata": {
        "id": "qoI2KJEHVng0"
      }
    },
    {
      "cell_type": "code",
      "source": [
        "\n",
        "qe = pt.BatchRetrieve(index, controls={'wmodel': \"BM25\"}) >> \\\n",
        "            pt.rewrite.QueryExpansion(index, fb_terms=15, fb_docs=6) >> \\\n",
        "            pt.BatchRetrieve(index, controls={'wmodel': \"PL2\",\"c\":20})\n",
        "\n",
        "\n",
        "topics = pt.io.read_topics(\"/content/drive/MyDrive/IRDM/noun_ent_bth.xml\",format=\"trecxml\")\n",
        "\n",
        "\n",
        "import pandas as pd\n",
        "id_template = 'spotify:episode:{}_{}'\n",
        "res=qe.transform(topics)\n",
        "\n",
        "df = pd.DataFrame(res, columns=['qid', 'rank', 'docno', 'score'])\n",
        "\n",
        "\n",
        "df[\"ep_id\"]=df[\"docno\"].apply(lambda x: x.split(\"_\")[1].split(\"-\")[0])\n",
        "df[\"episode\"]=df[\"docno\"].apply(lambda x: x.split(\"_\")[0])\n",
        "df[\"docno\"]=df.apply(lambda x: get_ep(x[\"episode\"],x[\"ep_id\"]),axis=1)\n",
        "df[\"docno\"]=df[\"docno\"]+\".0\"\n",
        "rsl=df[[\"qid\",\"docno\",\"rank\",\"score\"]]\n",
        "\n",
        "rsl=df[[\"qid\",\"docno\",\"rank\",\"score\"]]\n",
        "\n",
        "\n",
        "qrels_path=(\"/content/drive/MyDrive/IRDM/podcasts_2020_train.1-8.qrels\")\n",
        "qrels = pt.io.read_qrels(qrels_path)\n",
        "print(\"BM25+PL2 QE \")\n",
        "print(pt.Utils.evaluate(rsl,qrels,metrics=['map',\"ndcg\",\"ndcg_cut_30\",\"P_10\"]))"
      ],
      "metadata": {
        "colab": {
          "base_uri": "https://localhost:8080/"
        },
        "id": "wEKkThDiLj0O",
        "outputId": "13a5232a-4477-4e07-de48-aca7150bdc43"
      },
      "execution_count": null,
      "outputs": [
        {
          "output_type": "stream",
          "name": "stdout",
          "text": [
            "13:59:32.756 [main] WARN org.terrier.querying.QueryExpansion - qemodel control not set for QueryExpansion post process. Using default model Bo1\n",
            "BM25+PL2 QE \n",
            "{'map': 0.20147971588703406, 'ndcg': 0.4315828164855843, 'ndcg_cut_30': 0.2850036598688787, 'P_10': 0.35}\n"
          ]
        }
      ]
    },
    {
      "cell_type": "markdown",
      "source": [
        "Nouns on Test topics QE Approach"
      ],
      "metadata": {
        "id": "Ah_vRpaXVtuq"
      }
    },
    {
      "cell_type": "code",
      "source": [
        "\n",
        "topics = pt.io.read_topics(\"/content/drive/MyDrive/IRDM/only_nouns_test_2.xml\",format=\"trecxml\")\n",
        "\n",
        "qe = pt.BatchRetrieve(index, controls={'wmodel': \"BM25\"}) >> \\\n",
        "            pt.rewrite.QueryExpansion(index, fb_terms=15, fb_docs=6) >> \\\n",
        "            pt.BatchRetrieve(index, controls={'wmodel': \"PL2\",\"c\":20})\n",
        "\n",
        "\n",
        "\n",
        "\n",
        "import pandas as pd\n",
        "\n",
        "res=qe.transform(topics)\n",
        "\n",
        "df = pd.DataFrame(res, columns=['qid', 'rank', 'docno', 'score'])\n",
        "\n",
        "df[\"ep_id\"]=df[\"docno\"].apply(lambda x: x.split(\"_\")[1].split(\"-\")[0])\n",
        "df[\"episode\"]=df[\"docno\"].apply(lambda x: x.split(\"_\")[0])\n",
        "df[\"docno\"]=df.apply(lambda x: get_ep(x[\"episode\"],x[\"ep_id\"]),axis=1)\n",
        "df[\"docno\"]=df[\"docno\"]+\".0\"\n",
        "rsl=df[[\"qid\",\"docno\",\"rank\",\"score\"]]\n",
        "\n",
        "rsl=df[[\"qid\",\"docno\",\"rank\",\"score\"]]\n",
        "\n",
        "\n",
        "\n",
        "qrels_path=(\"/content/drive/MyDrive/IRDM/podcasts_2020_test.qrels\")\n",
        "qrels = pt.io.read_qrels(qrels_path)\n",
        "\n",
        "\n",
        "print(\"QE BM25+PL2 \")\n",
        "print(pt.Utils.evaluate(rsl,qrels,metrics=['map',\"ndcg\",\"ndcg_cut_30\",\"P_10\"]))"
      ],
      "metadata": {
        "colab": {
          "base_uri": "https://localhost:8080/"
        },
        "id": "mPgu0O3oL1it",
        "outputId": "7bcdeed0-f252-4412-e63b-7ad10ef1e8ee"
      },
      "execution_count": null,
      "outputs": [
        {
          "output_type": "stream",
          "name": "stdout",
          "text": [
            "14:17:47.139 [main] WARN org.terrier.querying.QueryExpansion - qemodel control not set for QueryExpansion post process. Using default model Bo1\n",
            "QE BM25+PL2 \n",
            "{'map': 0.3226206462745758, 'ndcg': 0.549864429604345, 'ndcg_cut_30': 0.3806985987868705, 'P_10': 0.44791666666666674}\n"
          ]
        }
      ]
    },
    {
      "cell_type": "markdown",
      "source": [
        "Nouns on Test topics BM25 + DPH"
      ],
      "metadata": {
        "id": "y0RN_HqHV0r2"
      }
    },
    {
      "cell_type": "code",
      "source": [
        "topics = pt.io.read_topics(\"/content/drive/MyDrive/IRDM/only_nouns_test_2.xml\",format=\"trecxml\")\n",
        "\n",
        "\n",
        "def get_retr(index, param_b, param_k1):\n",
        "    retr = pt.BatchRetrieve(index, controls={'wmodel': \"BM25\", \"c\": param_b},\n",
        "        properties={'bm25.k_1': param_k1})\n",
        "    return retr\n",
        "\n",
        "def get_dph(index):\n",
        "    return pt.BatchRetrieve(index, controls={\"wmodel\": \"DPH\"})\n",
        "\n",
        "\n",
        "bm25 = get_retr(index, 0.75, 1.2) >> \\\n",
        "            pt.pipelines.PerQueryMaxMinScoreTransformer()\n",
        "dph = get_dph(index) >> \\\n",
        "            pt.pipelines.PerQueryMaxMinScoreTransformer()\n",
        "\n",
        "\n",
        "combined = bm25 + dph \n",
        "\n",
        "res=combined.transform(topics)\n",
        "\n",
        "df = pd.DataFrame(res, columns=['qid', 'rank', 'docno', 'score'])\n",
        "\n",
        "df[\"ep_id\"]=df[\"docno\"].apply(lambda x: x.split(\"_\")[1].split(\"-\")[0])\n",
        "df[\"episode\"]=df[\"docno\"].apply(lambda x: x.split(\"_\")[0])\n",
        "df[\"docno\"]=df.apply(lambda x: get_ep(x[\"episode\"],x[\"ep_id\"]),axis=1)\n",
        "df[\"docno\"]=df[\"docno\"]+\".0\"\n",
        "rsl=df[[\"qid\",\"docno\",\"rank\",\"score\"]]\n",
        "\n",
        "rsl=df[[\"qid\",\"docno\",\"rank\",\"score\"]]\n",
        "\n",
        "\n",
        "\n",
        "qrels_path=(\"/content/drive/MyDrive/IRDM/podcasts_2020_test.qrels\")\n",
        "qrels = pt.io.read_qrels(qrels_path)\n",
        "\n",
        "\n",
        "print(\"DCU Approach\")\n",
        "print(pt.Utils.evaluate(rsl,qrels,metrics=['map',\"ndcg\",\"ndcg_cut_30\",\"P_10\"]))\n"
      ],
      "metadata": {
        "colab": {
          "base_uri": "https://localhost:8080/"
        },
        "id": "elpdAB8a5F6z",
        "outputId": "a0d22ef8-f3aa-439c-8075-b5cf7e4bea64"
      },
      "execution_count": null,
      "outputs": [
        {
          "output_type": "stream",
          "name": "stdout",
          "text": [
            "DCU Approach\n",
            "{'map': 0.2882486024424547, 'ndcg': 0.5324078298678572, 'ndcg_cut_30': 0.35981465137176033, 'P_10': 0.44166666666666665}\n"
          ]
        }
      ]
    },
    {
      "cell_type": "markdown",
      "source": [
        "Nouns on Test topics PL2"
      ],
      "metadata": {
        "id": "6LA3zcskV5Yy"
      }
    },
    {
      "cell_type": "code",
      "source": [
        "\n",
        "topics = pt.io.read_topics(\"/content/drive/MyDrive/IRDM/only_nouns_test_2.xml\",format=\"trecxml\")\n",
        "\n",
        "pl2= pt.BatchRetrieve(index, controls={\"wmodel\": \"PL2\",\"c\":20},metadata=[\"docno\",'text'])\n",
        "\n",
        "\n",
        "\n",
        "import pandas as pd\n",
        "\n",
        "res=pl2.transform(topics)\n",
        "\n",
        "df = pd.DataFrame(res, columns=['qid', 'rank', 'docno', 'score'])\n",
        "\n",
        "df[\"ep_id\"]=df[\"docno\"].apply(lambda x: x.split(\"_\")[1].split(\"-\")[0])\n",
        "df[\"episode\"]=df[\"docno\"].apply(lambda x: x.split(\"_\")[0])\n",
        "df[\"docno\"]=df.apply(lambda x: get_ep(x[\"episode\"],x[\"ep_id\"]),axis=1)\n",
        "df[\"docno\"]=df[\"docno\"]+\".0\"\n",
        "rsl=df[[\"qid\",\"docno\",\"rank\",\"score\"]]\n",
        "\n",
        "rsl=df[[\"qid\",\"docno\",\"rank\",\"score\"]]\n",
        "\n",
        "\n",
        "\n",
        "qrels_path=(\"/content/drive/MyDrive/IRDM/podcasts_2020_test.qrels\")\n",
        "qrels = pt.io.read_qrels(qrels_path)\n",
        "\n",
        "\n",
        "print(\"PL 2 \")\n",
        "print(pt.Utils.evaluate(rsl,qrels,metrics=['map',\"ndcg\",\"ndcg_cut_30\",\"P_10\"]))"
      ],
      "metadata": {
        "colab": {
          "base_uri": "https://localhost:8080/"
        },
        "id": "erDP7l0hNFBO",
        "outputId": "1825166a-bd5f-4f8d-fb86-a4bcbc7a291c"
      },
      "execution_count": null,
      "outputs": [
        {
          "output_type": "stream",
          "name": "stdout",
          "text": [
            "PL 2 \n",
            "{'map': 0.2496039089398373, 'ndcg': 0.4910747877346389, 'ndcg_cut_30': 0.31773733439910223, 'P_10': 0.39166666666666666}\n"
          ]
        }
      ]
    },
    {
      "cell_type": "markdown",
      "source": [
        "Nouns on Test topics Linear Combinations"
      ],
      "metadata": {
        "id": "DrrJij77WHWm"
      }
    },
    {
      "cell_type": "code",
      "source": [
        "bm25 = pt.BatchRetrieve(index, controls={\"wmodel\":\"BM25\",\"c\":0.6}, metadata=[\"docno\",'text'],properties={\"bm25.k_1\":0.5})\n",
        "ret= pt.BatchRetrieve(index, controls={\"wmodel\": \"DPH\"})\n",
        "pl2= pt.BatchRetrieve(index, controls={\"wmodel\": \"PL2\",\"c\":20},metadata=[\"docno\",'text'])\n",
        "\n",
        "\n",
        "topics = pt.io.read_topics(\"/content/drive/MyDrive/IRDM/only_nouns_test_2.xml\",format=\"trecxml\")\n",
        "\n",
        "mod= bm25+pl2\n",
        "mod2= pl2+dph\n",
        "import pandas as pd\n",
        "id_template = 'spotify:episode:{}_{}'\n",
        "res=mod.transform(topics)\n",
        "res_2=mod2.transform(topics)\n",
        "df = pd.DataFrame(res, columns=['qid', 'rank', 'docno', 'score'])\n",
        "df_2=pd.DataFrame(res_2, columns=['qid', 'rank', 'docno', 'score'])\n",
        "df[\"ep_id\"]=df[\"docno\"].apply(lambda x: x.split(\"_\")[1].split(\"-\")[0])\n",
        "df[\"episode\"]=df[\"docno\"].apply(lambda x: x.split(\"_\")[0])\n",
        "df[\"docno\"]=df.apply(lambda x: get_ep(x[\"episode\"],x[\"ep_id\"]),axis=1)\n",
        "df[\"docno\"]=df[\"docno\"]+\".0\"\n",
        "rsl=df[[\"qid\",\"docno\",\"rank\",\"score\"]]\n",
        "df_2[\"ep_id\"]=df_2[\"docno\"].apply(lambda x: x.split(\"_\")[1].split(\"-\")[0])\n",
        "df_2[\"episode\"]=df_2[\"docno\"].apply(lambda x: x.split(\"_\")[0])\n",
        "df_2[\"docno\"]=df_2.apply(lambda x: get_ep(x[\"episode\"],x[\"ep_id\"]),axis=1)\n",
        "df_2[\"docno\"]=df_2[\"docno\"]+\".0\"\n",
        "rsl=df[[\"qid\",\"docno\",\"rank\",\"score\"]]\n",
        "rsl_2=df_2[[\"qid\",\"docno\",\"rank\",\"score\"]]\n",
        "qrels_path=(\"/content/drive/MyDrive/IRDM/podcasts_2020_test.qrels\")\n",
        "qrels = pt.io.read_qrels(qrels_path)\n",
        "print(\"BM 25 + PL2\")\n",
        "print(pt.Utils.evaluate(rsl,qrels,metrics=['map',\"ndcg\",\"ndcg_cut_30\",\"P_10\"]))\n",
        "print(\"pl2 + DPH \")\n",
        "print(pt.Utils.evaluate(rsl_2,qrels,metrics=['map',\"ndcg\",\"ndcg_cut_30\",\"P_10\"]))"
      ],
      "metadata": {
        "colab": {
          "base_uri": "https://localhost:8080/"
        },
        "id": "yIZzdXYHI0Fv",
        "outputId": "93b5d9a5-e1de-476f-be17-29513eb623c6"
      },
      "execution_count": null,
      "outputs": [
        {
          "output_type": "stream",
          "name": "stdout",
          "text": [
            "BM 25 + PL2\n",
            "{'map': 0.2808048776912048, 'ndcg': 0.5264384399002774, 'ndcg_cut_30': 0.3524291202316769, 'P_10': 0.43124999999999997}\n",
            "pl2 + DPH \n",
            "{'map': 0.25401955873895504, 'ndcg': 0.502952424578475, 'ndcg_cut_30': 0.3218429323468661, 'P_10': 0.39166666666666666}\n"
          ]
        }
      ]
    },
    {
      "cell_type": "code",
      "source": [],
      "metadata": {
        "id": "h9Wak-HvCvp4"
      },
      "execution_count": null,
      "outputs": []
    },
    {
      "cell_type": "markdown",
      "source": [
        "Entities on Test topics PL2"
      ],
      "metadata": {
        "id": "C0uzeyKhWLvp"
      }
    },
    {
      "cell_type": "code",
      "source": [
        "\n",
        "topics = pt.io.read_topics(\"/content/drive/MyDrive/IRDM/ent_test.xml\",format=\"trecxml\")\n",
        "\n",
        "pl2= pt.BatchRetrieve(index, controls={\"wmodel\": \"PL2\",\"c\":20},metadata=[\"docno\",'text'])\n",
        "\n",
        "\n",
        "\n",
        "import pandas as pd\n",
        "\n",
        "res=pl2.transform(topics)\n",
        "\n",
        "df = pd.DataFrame(res, columns=['qid', 'rank', 'docno', 'score'])\n",
        "\n",
        "df[\"ep_id\"]=df[\"docno\"].apply(lambda x: x.split(\"_\")[1].split(\"-\")[0])\n",
        "df[\"episode\"]=df[\"docno\"].apply(lambda x: x.split(\"_\")[0])\n",
        "df[\"docno\"]=df.apply(lambda x: get_ep(x[\"episode\"],x[\"ep_id\"]),axis=1)\n",
        "df[\"docno\"]=df[\"docno\"]+\".0\"\n",
        "rsl=df[[\"qid\",\"docno\",\"rank\",\"score\"]]\n",
        "\n",
        "rsl=df[[\"qid\",\"docno\",\"rank\",\"score\"]]\n",
        "\n",
        "\n",
        "\n",
        "qrels_path=(\"/content/drive/MyDrive/IRDM/podcasts_2020_test.qrels\")\n",
        "qrels = pt.io.read_qrels(qrels_path)\n",
        "\n",
        "\n",
        "print(\"PL 2 \")\n",
        "print(pt.Utils.evaluate(rsl,qrels,metrics=['map',\"ndcg\",\"ndcg_cut_30\",\"P_10\"]))"
      ],
      "metadata": {
        "colab": {
          "base_uri": "https://localhost:8080/"
        },
        "id": "j0NHca2iNyiN",
        "outputId": "da24950d-7802-4a19-deb7-a2239bb0e429"
      },
      "execution_count": null,
      "outputs": [
        {
          "output_type": "stream",
          "name": "stdout",
          "text": [
            "PL 2 \n",
            "{'map': 0.3412250742253425, 'ndcg': 0.5694572963534915, 'ndcg_cut_30': 0.41006235614097647, 'P_10': 0.4937500000000001}\n"
          ]
        }
      ]
    },
    {
      "cell_type": "markdown",
      "source": [
        "Entities on Test topics DCU Approach"
      ],
      "metadata": {
        "id": "UJSNKOUHWPWB"
      }
    },
    {
      "cell_type": "code",
      "source": [
        "topics = pt.io.read_topics(\"/content/drive/MyDrive/IRDM/ent_test.xml\",format=\"trecxml\")\n",
        "\n",
        "\n",
        "def get_retr(index, param_b, param_k1):\n",
        "    retr = pt.BatchRetrieve(index, controls={'wmodel': \"BM25\", \"c\": param_b},\n",
        "        properties={'bm25.k_1': param_k1})\n",
        "    return retr\n",
        "\n",
        "def get_dph(index):\n",
        "    return pt.BatchRetrieve(index, controls={\"wmodel\": \"DPH\"})\n",
        "\n",
        "\n",
        "bm25 = get_retr(index, 0.75, 1.2) >> \\\n",
        "            pt.pipelines.PerQueryMaxMinScoreTransformer()\n",
        "dph = get_dph(index) >> \\\n",
        "            pt.pipelines.PerQueryMaxMinScoreTransformer()\n",
        "\n",
        "\n",
        "combined = bm25 + dph \n",
        "\n",
        "res=combined.transform(topics)\n",
        "\n",
        "df = pd.DataFrame(res, columns=['qid', 'rank', 'docno', 'score'])\n",
        "\n",
        "df[\"ep_id\"]=df[\"docno\"].apply(lambda x: x.split(\"_\")[1].split(\"-\")[0])\n",
        "df[\"episode\"]=df[\"docno\"].apply(lambda x: x.split(\"_\")[0])\n",
        "df[\"docno\"]=df.apply(lambda x: get_ep(x[\"episode\"],x[\"ep_id\"]),axis=1)\n",
        "df[\"docno\"]=df[\"docno\"]+\".0\"\n",
        "rsl=df[[\"qid\",\"docno\",\"rank\",\"score\"]]\n",
        "\n",
        "rsl=df[[\"qid\",\"docno\",\"rank\",\"score\"]]\n",
        "\n",
        "\n",
        "\n",
        "qrels_path=(\"/content/drive/MyDrive/IRDM/podcasts_2020_test.qrels\")\n",
        "qrels = pt.io.read_qrels(qrels_path)\n",
        "\n",
        "\n",
        "print(\"DCU Approach\")\n",
        "print(pt.Utils.evaluate(rsl,qrels,metrics=['map',\"ndcg\",\"ndcg_cut_30\",\"P_10\"]))\n"
      ],
      "metadata": {
        "colab": {
          "base_uri": "https://localhost:8080/"
        },
        "id": "fjT5AvRQ5i5I",
        "outputId": "a9da2020-9f43-4cb6-8783-74de7f35c3b6"
      },
      "execution_count": null,
      "outputs": [
        {
          "output_type": "stream",
          "name": "stdout",
          "text": [
            "DCU Approach\n",
            "{'map': 0.3400495145455171, 'ndcg': 0.5701210917975766, 'ndcg_cut_30': 0.4001228859940739, 'P_10': 0.4854166666666668}\n"
          ]
        }
      ]
    },
    {
      "cell_type": "markdown",
      "source": [
        "Entities on Test topics QE approach "
      ],
      "metadata": {
        "id": "zQiRa6_SWU5K"
      }
    },
    {
      "cell_type": "code",
      "source": [
        "\n",
        "topics = pt.io.read_topics(\"/content/drive/MyDrive/IRDM/ent_test.xml\",format=\"trecxml\")\n",
        "\n",
        "qe = pt.BatchRetrieve(index, controls={'wmodel': \"BM25\"}) >> \\\n",
        "            pt.rewrite.QueryExpansion(index, fb_terms=15, fb_docs=6) >> \\\n",
        "            pt.BatchRetrieve(index, controls={'wmodel': \"PL2\",\"c\":20})\n",
        "\n",
        "\n",
        "\n",
        "\n",
        "import pandas as pd\n",
        "\n",
        "res=qe.transform(topics)\n",
        "\n",
        "df = pd.DataFrame(res, columns=['qid', 'rank', 'docno', 'score'])\n",
        "\n",
        "df[\"ep_id\"]=df[\"docno\"].apply(lambda x: x.split(\"_\")[1].split(\"-\")[0])\n",
        "df[\"episode\"]=df[\"docno\"].apply(lambda x: x.split(\"_\")[0])\n",
        "df[\"docno\"]=df.apply(lambda x: get_ep(x[\"episode\"],x[\"ep_id\"]),axis=1)\n",
        "df[\"docno\"]=df[\"docno\"]+\".0\"\n",
        "rsl=df[[\"qid\",\"docno\",\"rank\",\"score\"]]\n",
        "\n",
        "rsl=df[[\"qid\",\"docno\",\"rank\",\"score\"]]\n",
        "\n",
        "\n",
        "\n",
        "qrels_path=(\"/content/drive/MyDrive/IRDM/podcasts_2020_test.qrels\")\n",
        "qrels = pt.io.read_qrels(qrels_path)\n",
        "\n",
        "\n",
        "print(\"Qe \")\n",
        "print(pt.Utils.evaluate(rsl,qrels,metrics=['map',\"ndcg\",\"ndcg_cut_30\",\"P_10\"]))"
      ],
      "metadata": {
        "colab": {
          "base_uri": "https://localhost:8080/"
        },
        "id": "HUmATnQTONJB",
        "outputId": "761f02ef-70ee-4f68-ccb2-cd56132fc0d7"
      },
      "execution_count": null,
      "outputs": [
        {
          "output_type": "stream",
          "name": "stdout",
          "text": [
            "00:49:57.338 [main] WARN org.terrier.querying.QueryExpansion - qemodel control not set for QueryExpansion post process. Using default model Bo1\n",
            "Qe \n",
            "{'map': 0.36030288372643104, 'ndcg': 0.5794349022351173, 'ndcg_cut_30': 0.4225895615765222, 'P_10': 0.5104166666666669}\n"
          ]
        }
      ]
    },
    {
      "cell_type": "markdown",
      "source": [
        "Entities on Test topics Linear Combinations"
      ],
      "metadata": {
        "id": "reFrcbCEWbA7"
      }
    },
    {
      "cell_type": "code",
      "source": [
        "bm25 = pt.BatchRetrieve(index, controls={\"wmodel\":\"BM25\",\"c\":0.6}, metadata=[\"docno\",'text'],properties={\"bm25.k_1\":0.5})\n",
        "ret= pt.BatchRetrieve(index, controls={\"wmodel\": \"DPH\"})\n",
        "pl2= pt.BatchRetrieve(index, controls={\"wmodel\": \"PL2\",\"c\":20},metadata=[\"docno\",'text'])\n",
        "\n",
        "\n",
        "topics = pt.io.read_topics(\"/content/drive/MyDrive/IRDM/ent_test.xml\",format=\"trecxml\")\n",
        "\n",
        "mod= bm25+pl2\n",
        "mod2= pl2+dph\n",
        "import pandas as pd\n",
        "id_template = 'spotify:episode:{}_{}'\n",
        "res=mod.transform(topics)\n",
        "res_2=mod2.transform(topics)\n",
        "df = pd.DataFrame(res, columns=['qid', 'rank', 'docno', 'score'])\n",
        "df_2=pd.DataFrame(res_2, columns=['qid', 'rank', 'docno', 'score'])\n",
        "df[\"ep_id\"]=df[\"docno\"].apply(lambda x: x.split(\"_\")[1].split(\"-\")[0])\n",
        "df[\"episode\"]=df[\"docno\"].apply(lambda x: x.split(\"_\")[0])\n",
        "df[\"docno\"]=df.apply(lambda x: get_ep(x[\"episode\"],x[\"ep_id\"]),axis=1)\n",
        "df[\"docno\"]=df[\"docno\"]+\".0\"\n",
        "rsl=df[[\"qid\",\"docno\",\"rank\",\"score\"]]\n",
        "df_2[\"ep_id\"]=df_2[\"docno\"].apply(lambda x: x.split(\"_\")[1].split(\"-\")[0])\n",
        "df_2[\"episode\"]=df_2[\"docno\"].apply(lambda x: x.split(\"_\")[0])\n",
        "df_2[\"docno\"]=df_2.apply(lambda x: get_ep(x[\"episode\"],x[\"ep_id\"]),axis=1)\n",
        "df_2[\"docno\"]=df_2[\"docno\"]+\".0\"\n",
        "rsl=df[[\"qid\",\"docno\",\"rank\",\"score\"]]\n",
        "rsl_2=df_2[[\"qid\",\"docno\",\"rank\",\"score\"]]\n",
        "qrels_path=(\"/content/drive/MyDrive/IRDM/podcasts_2020_test.qrels\")\n",
        "qrels = pt.io.read_qrels(qrels_path)\n",
        "print(\"BM 25 + PL2\")\n",
        "print(pt.Utils.evaluate(rsl,qrels,metrics=['map',\"ndcg\",\"ndcg_cut_30\",\"P_10\"]))\n",
        "print(\"pl2 + DPH \")\n",
        "print(pt.Utils.evaluate(rsl_2,qrels,metrics=['map',\"ndcg\",\"ndcg_cut_30\",\"P_10\"]))"
      ],
      "metadata": {
        "colab": {
          "base_uri": "https://localhost:8080/"
        },
        "id": "bsYvM3qTJyws",
        "outputId": "a8765d64-b6f2-4450-c468-d219842da6e8"
      },
      "execution_count": null,
      "outputs": [
        {
          "output_type": "stream",
          "name": "stdout",
          "text": [
            "BM 25 + PL2\n",
            "{'map': 0.3451331814415975, 'ndcg': 0.5748776004691046, 'ndcg_cut_30': 0.4124837168703032, 'P_10': 0.5020833333333335}\n",
            "pl2 + DPH \n",
            "{'map': 0.33836542026941974, 'ndcg': 0.5693647989443454, 'ndcg_cut_30': 0.40230140920518426, 'P_10': 0.48125}\n"
          ]
        }
      ]
    },
    {
      "cell_type": "markdown",
      "source": [
        "Nouns + Entities on Test topics PL2 "
      ],
      "metadata": {
        "id": "eezWqqstWljY"
      }
    },
    {
      "cell_type": "code",
      "source": [
        "\n",
        "topics = pt.io.read_topics(\"/content/drive/MyDrive/IRDM/noun_ent_bth_test.xml\",format=\"trecxml\")\n",
        "\n",
        "pl2= pt.BatchRetrieve(index, controls={\"wmodel\": \"PL2\",\"c\":20},metadata=[\"docno\",'text'])\n",
        "\n",
        "\n",
        "\n",
        "import pandas as pd\n",
        "\n",
        "res=pl2.transform(topics)\n",
        "\n",
        "df = pd.DataFrame(res, columns=['qid', 'rank', 'docno', 'score'])\n",
        "\n",
        "df[\"ep_id\"]=df[\"docno\"].apply(lambda x: x.split(\"_\")[1].split(\"-\")[0])\n",
        "df[\"episode\"]=df[\"docno\"].apply(lambda x: x.split(\"_\")[0])\n",
        "df[\"docno\"]=df.apply(lambda x: get_ep(x[\"episode\"],x[\"ep_id\"]),axis=1)\n",
        "df[\"docno\"]=df[\"docno\"]+\".0\"\n",
        "rsl=df[[\"qid\",\"docno\",\"rank\",\"score\"]]\n",
        "\n",
        "rsl=df[[\"qid\",\"docno\",\"rank\",\"score\"]]\n",
        "\n",
        "\n",
        "\n",
        "qrels_path=(\"/content/drive/MyDrive/IRDM/podcasts_2020_test.qrels\")\n",
        "qrels = pt.io.read_qrels(qrels_path)\n",
        "\n",
        "\n",
        "print(\"PL 2 \")\n",
        "print(pt.Utils.evaluate(rsl,qrels,metrics=['map',\"ndcg\",\"ndcg_cut_30\",\"P_10\"]))"
      ],
      "metadata": {
        "colab": {
          "base_uri": "https://localhost:8080/"
        },
        "id": "xdOy9fDQOn66",
        "outputId": "4febc80b-5690-4e11-a739-b73a11f508e0"
      },
      "execution_count": null,
      "outputs": [
        {
          "output_type": "stream",
          "name": "stdout",
          "text": [
            "PL 2 \n",
            "{'map': 0.25054312355139485, 'ndcg': 0.4943986322009808, 'ndcg_cut_30': 0.32195789559831783, 'P_10': 0.39375}\n"
          ]
        }
      ]
    },
    {
      "cell_type": "markdown",
      "source": [
        "Entities on Test topics BM25 +  DPH"
      ],
      "metadata": {
        "id": "YNrg86vWWsPi"
      }
    },
    {
      "cell_type": "code",
      "source": [
        "topics = pt.io.read_topics(\"/content/drive/MyDrive/IRDM/noun_ent_bth_test.xml\",format=\"trecxml\")\n",
        "\n",
        "\n",
        "def get_retr(index, param_b, param_k1):\n",
        "    retr = pt.BatchRetrieve(index, controls={'wmodel': \"BM25\", \"c\": param_b},\n",
        "        properties={'bm25.k_1': param_k1})\n",
        "    return retr\n",
        "\n",
        "def get_dph(index):\n",
        "    return pt.BatchRetrieve(index, controls={\"wmodel\": \"DPH\"})\n",
        "\n",
        "\n",
        "bm25 = get_retr(index, 0.75, 1.2) >> \\\n",
        "            pt.pipelines.PerQueryMaxMinScoreTransformer()\n",
        "dph = get_dph(index) >> \\\n",
        "            pt.pipelines.PerQueryMaxMinScoreTransformer()\n",
        "\n",
        "\n",
        "combined = bm25 + dph \n",
        "\n",
        "res=combined.transform(topics)\n",
        "\n",
        "df = pd.DataFrame(res, columns=['qid', 'rank', 'docno', 'score'])\n",
        "\n",
        "df[\"ep_id\"]=df[\"docno\"].apply(lambda x: x.split(\"_\")[1].split(\"-\")[0])\n",
        "df[\"episode\"]=df[\"docno\"].apply(lambda x: x.split(\"_\")[0])\n",
        "df[\"docno\"]=df.apply(lambda x: get_ep(x[\"episode\"],x[\"ep_id\"]),axis=1)\n",
        "df[\"docno\"]=df[\"docno\"]+\".0\"\n",
        "rsl=df[[\"qid\",\"docno\",\"rank\",\"score\"]]\n",
        "\n",
        "rsl=df[[\"qid\",\"docno\",\"rank\",\"score\"]]\n",
        "\n",
        "\n",
        "\n",
        "qrels_path=(\"/content/drive/MyDrive/IRDM/podcasts_2020_test.qrels\")\n",
        "qrels = pt.io.read_qrels(qrels_path)\n",
        "\n",
        "\n",
        "print(\"DCU Approach\")\n",
        "print(pt.Utils.evaluate(rsl,qrels,metrics=['map',\"ndcg\",\"ndcg_cut_30\",\"P_10\"]))\n"
      ],
      "metadata": {
        "colab": {
          "base_uri": "https://localhost:8080/"
        },
        "id": "pXmBjcFt5z4l",
        "outputId": "fa05f4a5-ae2c-4309-c0b8-974fabeee0fc"
      },
      "execution_count": null,
      "outputs": [
        {
          "output_type": "stream",
          "name": "stdout",
          "text": [
            "DCU Approach\n",
            "{'map': 0.2898803384726501, 'ndcg': 0.5365128210402591, 'ndcg_cut_30': 0.3652135534757588, 'P_10': 0.4541666666666666}\n"
          ]
        }
      ]
    },
    {
      "cell_type": "markdown",
      "source": [
        "Nouns + Entities on Test topics QE approach "
      ],
      "metadata": {
        "id": "-b5ahPkfWwt9"
      }
    },
    {
      "cell_type": "code",
      "source": [
        "\n",
        "topics = pt.io.read_topics(\"/content/drive/MyDrive/IRDM/noun_ent_bth_test.xml\",format=\"trecxml\")\n",
        "\n",
        "qe = pt.BatchRetrieve(index, controls={'wmodel': \"BM25\"}) >> \\\n",
        "            pt.rewrite.QueryExpansion(index, fb_terms=15, fb_docs=6) >> \\\n",
        "            pt.BatchRetrieve(index, controls={'wmodel': \"PL2\",\"c\":20})\n",
        "\n",
        "\n",
        "\n",
        "\n",
        "import pandas as pd\n",
        "\n",
        "res=qe.transform(topics)\n",
        "\n",
        "df = pd.DataFrame(res, columns=['qid', 'rank', 'docno', 'score'])\n",
        "\n",
        "df[\"ep_id\"]=df[\"docno\"].apply(lambda x: x.split(\"_\")[1].split(\"-\")[0])\n",
        "df[\"episode\"]=df[\"docno\"].apply(lambda x: x.split(\"_\")[0])\n",
        "df[\"docno\"]=df.apply(lambda x: get_ep(x[\"episode\"],x[\"ep_id\"]),axis=1)\n",
        "df[\"docno\"]=df[\"docno\"]+\".0\"\n",
        "rsl=df[[\"qid\",\"docno\",\"rank\",\"score\"]]\n",
        "\n",
        "rsl=df[[\"qid\",\"docno\",\"rank\",\"score\"]]\n",
        "\n",
        "\n",
        "\n",
        "qrels_path=(\"/content/drive/MyDrive/IRDM/podcasts_2020_test.qrels\")\n",
        "qrels = pt.io.read_qrels(qrels_path)\n",
        "\n",
        "\n",
        "print(\"Qe \")\n",
        "print(pt.Utils.evaluate(rsl,qrels,metrics=['map',\"ndcg\",\"ndcg_cut_30\",\"P_10\"]))"
      ],
      "metadata": {
        "colab": {
          "base_uri": "https://localhost:8080/"
        },
        "id": "otFr7gY8O5Nq",
        "outputId": "f2c207e1-9b5c-4501-f4fa-4ba2e5971a3e"
      },
      "execution_count": null,
      "outputs": [
        {
          "output_type": "stream",
          "name": "stdout",
          "text": [
            "00:53:25.603 [main] WARN org.terrier.querying.QueryExpansion - qemodel control not set for QueryExpansion post process. Using default model Bo1\n",
            "Qe \n",
            "{'map': 0.3227009562267826, 'ndcg': 0.5511497833569156, 'ndcg_cut_30': 0.38245059216522725, 'P_10': 0.45208333333333345}\n"
          ]
        }
      ]
    },
    {
      "cell_type": "markdown",
      "source": [
        "Nouns + Entities on Linear Combinations"
      ],
      "metadata": {
        "id": "u5H8izD4W0s2"
      }
    },
    {
      "cell_type": "code",
      "source": [
        "bm25 = pt.BatchRetrieve(index, controls={\"wmodel\":\"BM25\",\"c\":0.6}, metadata=[\"docno\",'text'],properties={\"bm25.k_1\":0.5})\n",
        "ret= pt.BatchRetrieve(index, controls={\"wmodel\": \"DPH\"})\n",
        "pl2= pt.BatchRetrieve(index, controls={\"wmodel\": \"PL2\",\"c\":20},metadata=[\"docno\",'text'])\n",
        "\n",
        "\n",
        "topics = pt.io.read_topics(\"/content/drive/MyDrive/IRDM/noun_ent_bth_test.xml\",format=\"trecxml\")\n",
        "\n",
        "mod= bm25+pl2\n",
        "mod2= pl2+dph\n",
        "import pandas as pd\n",
        "id_template = 'spotify:episode:{}_{}'\n",
        "res=mod.transform(topics)\n",
        "res_2=mod2.transform(topics)\n",
        "df = pd.DataFrame(res, columns=['qid', 'rank', 'docno', 'score'])\n",
        "df_2=pd.DataFrame(res_2, columns=['qid', 'rank', 'docno', 'score'])\n",
        "df[\"ep_id\"]=df[\"docno\"].apply(lambda x: x.split(\"_\")[1].split(\"-\")[0])\n",
        "df[\"episode\"]=df[\"docno\"].apply(lambda x: x.split(\"_\")[0])\n",
        "df[\"docno\"]=df.apply(lambda x: get_ep(x[\"episode\"],x[\"ep_id\"]),axis=1)\n",
        "df[\"docno\"]=df[\"docno\"]+\".0\"\n",
        "rsl=df[[\"qid\",\"docno\",\"rank\",\"score\"]]\n",
        "df_2[\"ep_id\"]=df_2[\"docno\"].apply(lambda x: x.split(\"_\")[1].split(\"-\")[0])\n",
        "df_2[\"episode\"]=df_2[\"docno\"].apply(lambda x: x.split(\"_\")[0])\n",
        "df_2[\"docno\"]=df_2.apply(lambda x: get_ep(x[\"episode\"],x[\"ep_id\"]),axis=1)\n",
        "df_2[\"docno\"]=df_2[\"docno\"]+\".0\"\n",
        "rsl=df[[\"qid\",\"docno\",\"rank\",\"score\"]]\n",
        "rsl_2=df_2[[\"qid\",\"docno\",\"rank\",\"score\"]]\n",
        "qrels_path=(\"/content/drive/MyDrive/IRDM/podcasts_2020_test.qrels\")\n",
        "qrels = pt.io.read_qrels(qrels_path)\n",
        "print(\"BM 25 + PL2\")\n",
        "print(pt.Utils.evaluate(rsl,qrels,metrics=['map',\"ndcg\",\"ndcg_cut_30\",\"P_10\"]))\n",
        "print(\"pl2 + DPH \")\n",
        "print(pt.Utils.evaluate(rsl_2,qrels,metrics=['map',\"ndcg\",\"ndcg_cut_30\",\"P_10\"]))"
      ],
      "metadata": {
        "colab": {
          "base_uri": "https://localhost:8080/"
        },
        "id": "yRruE4K8KqnZ",
        "outputId": "ef20c7c6-6ee0-4ffd-c613-8d87a1bb61b3"
      },
      "execution_count": null,
      "outputs": [
        {
          "output_type": "stream",
          "name": "stdout",
          "text": [
            "BM 25 + PL2\n",
            "{'map': 0.28206831342035726, 'ndcg': 0.5301961316031978, 'ndcg_cut_30': 0.35821210001536535, 'P_10': 0.44166666666666665}\n",
            "pl2 + DPH \n",
            "{'map': 0.25524317920162215, 'ndcg': 0.5059805883504825, 'ndcg_cut_30': 0.32666473522597866, 'P_10': 0.3958333333333333}\n"
          ]
        }
      ]
    },
    {
      "cell_type": "code",
      "source": [],
      "metadata": {
        "id": "31ZCeA8dFdb_"
      },
      "execution_count": null,
      "outputs": []
    },
    {
      "cell_type": "code",
      "source": [],
      "metadata": {
        "id": "pFRMIFahFUNm"
      },
      "execution_count": null,
      "outputs": []
    }
  ]
}